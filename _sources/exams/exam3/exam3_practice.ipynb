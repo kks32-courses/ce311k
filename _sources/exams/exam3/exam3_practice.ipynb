{
 "cells": [
  {
   "cell_type": "markdown",
   "metadata": {},
   "source": [
    "# CE 311K\n",
    "## Exam 3: Practice questions"
   ]
  },
  {
   "cell_type": "markdown",
   "metadata": {},
   "source": [
    "### 1. Functions as Arguments\n",
    "\n",
    "What does the code below print?"
   ]
  },
  {
   "cell_type": "code",
   "execution_count": null,
   "metadata": {},
   "outputs": [],
   "source": [
    "def sq(func, x):\n",
    "    y = x**2\n",
    "    return func(y)\n",
    "\n",
    "def f(x):\n",
    "    return x**2\n",
    "\n",
    "calc = sq(f, 2)\n",
    "print(calc)"
   ]
  },
  {
   "cell_type": "markdown",
   "metadata": {},
   "source": [
    "### 2. Data structures: Identify the output of the following code\n",
    "\n",
    "Change it to a tuple and explain how the results will change."
   ]
  },
  {
   "cell_type": "code",
   "execution_count": null,
   "metadata": {},
   "outputs": [],
   "source": [
    "list = [\"Sarah\", \"Joe\", \"Jane\"]\n",
    "list[1] = \"Ken\"\n",
    "print(list)"
   ]
  },
  {
   "cell_type": "markdown",
   "metadata": {},
   "source": [
    "### 3. Tuples\n",
    "\n",
    "Examine the code below. What does `always_sunny(('cloudy'), ('cold',))` evaluate to? Please pay close attention to initialization of a tuple using `,` operator."
   ]
  },
  {
   "cell_type": "code",
   "execution_count": null,
   "metadata": {},
   "outputs": [],
   "source": [
    "def always_sunny(t1, t2):\n",
    "    \"\"\" t1, t2 are non empty \"\"\"\n",
    "    sun = (\"sunny\",\"sun\")\n",
    "    first = t1[0] + t2[0]\n",
    "    print(t1[0], t2[0])\n",
    "    return (sun[0], first)\n",
    "\n",
    "print(always_sunny(('cloudy'), ('cold',)))"
   ]
  },
  {
   "cell_type": "markdown",
   "metadata": {},
   "source": [
    "### 4. List Operations\n",
    "\n",
    "What is the value of `L3` after you execute all the operations in the code below?"
   ]
  },
  {
   "cell_type": "code",
   "execution_count": null,
   "metadata": {},
   "outputs": [],
   "source": [
    "L1 = ['re']\n",
    "L2 = ['mi']\n",
    "L3 = ['do']\n",
    "L4 = L1 + L2\n",
    "L3 = L3 + L4\n",
    "L3.sort()\n",
    "L3.pop(0)\n",
    "L3.append(['fa','la'])\n",
    "print(L3)"
   ]
  },
  {
   "cell_type": "markdown",
   "metadata": {},
   "source": [
    "- [ ] ['mi', 're', ['fa', 'la']]\n",
    "- [ ] ['mi', 're', 'fa', 'la']\n",
    "- [ ] ['re', 'mi', ['fa', 'la']]\n",
    "- [ ] ['do', 'mi', ['fa', 'la']]"
   ]
  },
  {
   "cell_type": "markdown",
   "metadata": {},
   "source": [
    "### 5. List Aliasing/Mutation\n",
    "\n",
    "What is the value of brunch after you execute all the operations in the code below?"
   ]
  },
  {
   "cell_type": "code",
   "execution_count": null,
   "metadata": {},
   "outputs": [],
   "source": [
    "L1 = [\"bacon\", \"eggs\"]\n",
    "L2 = [\"toast\", \"jam\"]\n",
    "brunch = L1\n",
    "L1.append(\"juice\")\n",
    "brunch.extend(L2)\n",
    "print(brunch)"
   ]
  },
  {
   "cell_type": "markdown",
   "metadata": {},
   "source": [
    "- [ ] ['bacon', 'eggs', 'toast', 'jam']\n",
    "- [ ] ['bacon', 'eggs', 'juice', 'toast', 'jam']\n",
    "- [ ] ['bacon', 'eggs', 'juice', ['toast', 'jam']]\n",
    "- [ ] ['bacon', 'eggs', ['toast', 'jam']]\n"
   ]
  },
  {
   "cell_type": "markdown",
   "metadata": {},
   "source": [
    "### 6. Taylor Series\n",
    "\n",
    "Develop a Python code to solve for an approximate value of $x \\sin(x)$, near $x = 0$ to a tolerance of 1e-6"
   ]
  },
  {
   "cell_type": "code",
   "execution_count": null,
   "metadata": {},
   "outputs": [],
   "source": []
  },
  {
   "cell_type": "markdown",
   "metadata": {},
   "source": [
    "### 7. List comprehension\n",
    "\n",
    "Using list comprehension, create a list of numbers using `range(10)`, which are not divisible by 3."
   ]
  },
  {
   "cell_type": "code",
   "execution_count": null,
   "metadata": {},
   "outputs": [],
   "source": [
    "ln3 = [x for x in range(10) if x%3 != 0]\n",
    "print(ln3)"
   ]
  },
  {
   "cell_type": "markdown",
   "metadata": {},
   "source": [
    "### 8. List Manipulation:\n",
    "\n",
    "Manipulate the following two lists using list functions in Python to generate the following outputs.~\\hfill [\\textbf{4 points}]\n",
    "\n",
    "```python\n",
    "lang1 = ['Python', 'C++', 'Go', 'Java', 'Rust']\n",
    "lang2 = ['FORTRAN', 'JavaScript', 'PERL', 'Swift']\n",
    "```\n",
    "\n",
    "1. \t\n",
    "    [['Python', 'C++', 'Go', 'Java', 'Rust'], ['FORTRAN', 'JavaScript', 'PERL', 'Swift']]`\n",
    "\n",
    "2. \n",
    "    `['Python', 'C++', 'Go', 'Java', 'Rust', 'FORTRAN', 'JavaScript', 'PERL', 'Swift']`\n",
    "\t\n",
    "\n",
    "3. \n",
    "    [`FORTRAN', `PHP', `PERL', `Swift', `COBOL']\n",
    "\t[`Python', `C++', `Java', `Rust']"
   ]
  },
  {
   "cell_type": "code",
   "execution_count": null,
   "metadata": {},
   "outputs": [],
   "source": []
  },
  {
   "cell_type": "markdown",
   "metadata": {},
   "source": [
    "### 9. Given a matrix $A$ of size 3x3 and a vector $b$ of size 3x1. Compute the shape/output of the following operations are valid."
   ]
  },
  {
   "cell_type": "code",
   "execution_count": null,
   "metadata": {},
   "outputs": [],
   "source": [
    "import numpy as np\n",
    "A = np.array(np.random.rand(3, 3))\n",
    "print(\"A: \\n{}\".format(A))\n",
    "\n",
    "b = np.random.rand(3)\n",
    "print(\"\\nb: = {} and has the shape: {}\".format(b, np.transpose(b).shape))"
   ]
  },
  {
   "cell_type": "markdown",
   "metadata": {},
   "source": [
    "- [ ] $A^T \\cdot A$\n",
    "- [ ] $b^T \\times b$\n",
    "- [ ] $A^T \\cdot A \\cdot b^T$\n",
    "- [ ] $A^T \\cdot b$"
   ]
  },
  {
   "cell_type": "markdown",
   "metadata": {},
   "source": [
    "### 10: Newton Raphson\n",
    "\n",
    "Consider the following code Newton Raphson code to compute the roots of a function. Fix the errors in the code below. The correct function call should be: `newton_raphson(x0, fx, dfx, tol)`. Please satisfy the following conditions:\n",
    "\n",
    "*  The function should `return` the value of $x$ and the error. \n",
    "*  Newton Raphson should exit the calculation once the error at each iteration $f(x)/f^\\prime(x)$ is below the _default_ tolerance of $1e-6$.\n",
    "*  If the Newton Raphson doesn't converge in 30 steps, print an error message\n",
    "\n",
    "```python\n",
    "# Function to find the root \n",
    "def newton_raphson(x): \n",
    "    for i in range(50):\n",
    "        h = fn(x) / dfn(x) \n",
    "        x += h \n",
    "        if abs(h) < 0.0001:\n",
    "           break   \n",
    "           return x\n",
    "\n",
    "\n",
    "\n",
    "\n",
    "# The code below is correct, please don't fix this part\n",
    "x0 = 0.5\n",
    "x, error = newton_raphson(x0, fn, dfn, 1e-6)\n",
    "print(\"The root of fn is: {} and an error of {}\".format(x, error))\n",
    "\n",
    "```"
   ]
  },
  {
   "cell_type": "code",
   "execution_count": null,
   "metadata": {},
   "outputs": [],
   "source": []
  }
 ],
 "metadata": {
  "kernelspec": {
   "display_name": "Python 3.10.8 64-bit",
   "language": "python",
   "name": "python3"
  },
  "language_info": {
   "codemirror_mode": {
    "name": "ipython",
    "version": 3
   },
   "file_extension": ".py",
   "mimetype": "text/x-python",
   "name": "python",
   "nbconvert_exporter": "python",
   "pygments_lexer": "ipython3",
   "version": "3.10.8"
  },
  "vscode": {
   "interpreter": {
    "hash": "b0fa6594d8f4cbf19f97940f81e996739fb7646882a419484c72d19e05852a7e"
   }
  }
 },
 "nbformat": 4,
 "nbformat_minor": 2
}
