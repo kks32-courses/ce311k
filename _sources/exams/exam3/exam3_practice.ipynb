{
 "cells": [
  {
   "cell_type": "markdown",
   "metadata": {},
   "source": [
    "# CE 311K\n",
    "## Exam 3: Practice questions"
   ]
  },
  {
   "cell_type": "markdown",
   "metadata": {},
   "source": [
    "### 1. Functions as Arguments\n",
    "\n",
    "What does the code below print?"
   ]
  },
  {
   "cell_type": "code",
   "execution_count": null,
   "metadata": {},
   "outputs": [],
   "source": [
    "def sq(func, x):\n",
    "    y = x**2\n",
    "    return func(y)\n",
    "\n",
    "def f(x):\n",
    "    return x**2\n",
    "\n",
    "calc = sq(f, 2)\n",
    "print(calc)"
   ]
  },
  {
   "cell_type": "markdown",
   "metadata": {},
   "source": [
    "### 2. Data structures: Identify the output of the following code\n",
    "\n",
    "Change it to a tuple and explain how the results will change."
   ]
  },
  {
   "cell_type": "code",
   "execution_count": null,
   "metadata": {},
   "outputs": [],
   "source": [
    "list = [\"Sarah\", \"Joe\", \"Jane\"]\n",
    "list[1] = \"Ken\"\n",
    "print(list)"
   ]
  },
  {
   "cell_type": "markdown",
   "metadata": {},
   "source": [
    "### 3. Tuples\n",
    "\n",
    "Examine the code below. What does `always_sunny(('cloudy'), ('cold',))` evaluate to? Please pay close attention to initialization of a tuple using `,` operator."
   ]
  },
  {
   "cell_type": "code",
   "execution_count": null,
   "metadata": {},
   "outputs": [],
   "source": [
    "def always_sunny(t1, t2):\n",
    "    \"\"\" t1, t2 are non empty \"\"\"\n",
    "    sun = (\"sunny\",\"sun\")\n",
    "    first = t1[0] + t2[0]\n",
    "    print(t1[0], t2[0])\n",
    "    return (sun[0], first)\n",
    "\n",
    "print(always_sunny(('cloudy'), ('cold',)))"
   ]
  },
  {
   "cell_type": "markdown",
   "metadata": {},
   "source": [
    "### 4. List Operations\n",
    "\n",
    "What is the value of `L3` after you execute all the operations in the code below?"
   ]
  },
  {
   "cell_type": "code",
   "execution_count": null,
   "metadata": {},
   "outputs": [],
   "source": [
    "L1 = ['re']\n",
    "L2 = ['mi']\n",
    "L3 = ['do']\n",
    "L4 = L1 + L2\n",
    "L3 = L3 + L4\n",
    "L3.sort()\n",
    "L3.pop(0)\n",
    "L3.append(['fa','la'])\n",
    "print(L3)"
   ]
  },
  {
   "cell_type": "markdown",
   "metadata": {},
   "source": [
    "- [ ] ['mi', 're', ['fa', 'la']]\n",
    "- [ ] ['mi', 're', 'fa', 'la']\n",
    "- [ ] ['re', 'mi', ['fa', 'la']]\n",
    "- [ ] ['do', 'mi', ['fa', 'la']]"
   ]
  },
  {
   "cell_type": "markdown",
   "metadata": {},
   "source": [
    "### 5. List Aliasing/Mutation\n",
    "\n",
    "What is the value of brunch after you execute all the operations in the code below?"
   ]
  },
  {
   "cell_type": "code",
   "execution_count": null,
   "metadata": {},
   "outputs": [],
   "source": [
    "L1 = [\"bacon\", \"eggs\"]\n",
    "L2 = [\"toast\", \"jam\"]\n",
    "brunch = L1\n",
    "L1.append(\"juice\")\n",
    "brunch.extend(L2)\n",
    "print(brunch)"
   ]
  },
  {
   "cell_type": "markdown",
   "metadata": {},
   "source": [
    "- [ ] ['bacon', 'eggs', 'toast', 'jam']\n",
    "- [ ] ['bacon', 'eggs', 'juice', 'toast', 'jam']\n",
    "- [ ] ['bacon', 'eggs', 'juice', ['toast', 'jam']]\n",
    "- [ ] ['bacon', 'eggs', ['toast', 'jam']]\n"
   ]
  },
  {
   "cell_type": "markdown",
   "metadata": {},
   "source": [
    "### 6. Taylor Series\n",
    "\n",
    "Develop a Python code to solve for an approximate value of $x \\sin(x)$, near $x = 0$ to a tolerance of 1e-6"
   ]
  },
  {
   "cell_type": "code",
   "execution_count": null,
   "metadata": {},
   "outputs": [],
   "source": []
  },
  {
   "cell_type": "markdown",
   "metadata": {},
   "source": [
    "### 7. List comprehension\n",
    "\n",
    "Using list comprehension, create a list of numbers using `range(10)`, which are not divisible by 3."
   ]
  },
  {
   "cell_type": "code",
   "execution_count": null,
   "metadata": {},
   "outputs": [],
   "source": [
    "ln3 = [x for x in range(10) if x%3 != 0]\n",
    "print(ln3)"
   ]
  }
 ],
 "metadata": {
  "kernelspec": {
   "display_name": "Python 3.10.8 64-bit",
   "language": "python",
   "name": "python3"
  },
  "language_info": {
   "codemirror_mode": {
    "name": "ipython",
    "version": 3
   },
   "file_extension": ".py",
   "mimetype": "text/x-python",
   "name": "python",
   "nbconvert_exporter": "python",
   "pygments_lexer": "ipython3",
   "version": "3.10.8"
  },
  "vscode": {
   "interpreter": {
    "hash": "b0fa6594d8f4cbf19f97940f81e996739fb7646882a419484c72d19e05852a7e"
   }
  }
 },
 "nbformat": 4,
 "nbformat_minor": 2
}
