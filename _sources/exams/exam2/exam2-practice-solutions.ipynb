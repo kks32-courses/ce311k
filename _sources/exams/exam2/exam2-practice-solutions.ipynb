{
  "cells": [
    {
      "cell_type": "markdown",
      "metadata": {
        "id": "eRrOyas2nPLT"
      },
      "source": [
        "## **Q2 Errors**\n",
        "# Q2.1 Absolute & relative errors"
      ]
    },
    {
      "cell_type": "markdown",
      "metadata": {
        "id": "pbRlZZWaoMLy"
      },
      "source": [
        "The absolute error has the same units as the measurement. Relative error is defined as the absolute error relative to the size of the measurement\n",
        "\n",
        "(you can have other reasonable answer)"
      ]
    },
    {
      "cell_type": "markdown",
      "metadata": {
        "id": "vlbbIyuCn46C"
      },
      "source": [
        "# Q2.2 absolute and relative errors x+y\n",
        "\n",
        "Given $x = 9.0$ and $y = 10.0$ and are stored to two significant figures, so the error in x and y is $\\pm 0.05$.\n",
        "\n",
        "Compute the absolute error and relative errors in computing: $x + y$"
      ]
    },
    {
      "cell_type": "code",
      "execution_count": null,
      "metadata": {
        "id": "Q7hSHjjap9vq"
      },
      "outputs": [],
      "source": [
        "x=9.0\n",
        "y=10.0\n",
        "e_x=0.05\n",
        "e_y=0.05\n",
        "\n",
        "e_abs=e_x+e_y\n",
        "e_abs==0.1 # 0.05 + 0.05\n",
        "e_rel=e_abs/(x+y)\n",
        "e_rel==0.00526 # 0.1 / (9+10)"
      ]
    },
    {
      "cell_type": "markdown",
      "metadata": {
        "id": "aCtcpZHlqlmx"
      },
      "source": [
        "# Q2.3  $\\frac{1}{x + y}$\n",
        "\n",
        "Given $x = 9.0$ and $y = 10.0$ and are stored to two significant figures, so the error in x and y is $\\pm 0.05$.\n",
        "\n",
        "What is the absolute error range in calculating $\\frac{1}{x + y}$\n",
        "\n"
      ]
    },
    {
      "cell_type": "code",
      "execution_count": 2,
      "metadata": {
        "id": "LOy7drBOqyQK"
      },
      "outputs": [],
      "source": [
        "x=9.0\n",
        "y=10.0\n",
        "e_x=0.05\n",
        "e_y=0.05\n",
        "\n",
        "\n",
        "e_abs=1/(e_x+e_y) # 1/0.1\n",
        "e_abs==10.0 # 1/0.1"
      ]
    },
    {
      "cell_type": "markdown",
      "metadata": {
        "id": "5-lW0llBubvA"
      },
      "source": [
        "## **Q3 Function & errors**\n",
        "The power series expansion for the sine function is:\n",
        "\n",
        "$$\n",
        "\\sin(x) = \\sum_{n = 0}^{\\infty} (-1)^n \\frac{x^{2n +1}}{(2n+1)!}\n",
        "$$\n",
        "\n",
        "(See mathematics data book for a less compact version; this compact version is preferred here as it is simpler to program.)\n",
        "\n",
        "Using a `for` statement, compute how many terms in the series are required to approximate $\\sin(3\\pi/2)$ to within $1 \\times 10^{-8}$. **Set the default number of iterations as 1000 and default tolerance as $1.0e-8$** Fix the following code:\n",
        "\n",
        "```python\n",
        "# Import the math module to access math.sin and math.factorial\n",
        "import math\n",
        "\n",
        "let approximate_sin(x, max_iterations)\n",
        "    # Value at which to approximate sine\n",
        "    x = math.pi\n",
        "\n",
        "    # Tolerance and initial error\n",
        "    error = 1.0e-8\n",
        "    tol = error + 1.0\n",
        "\n",
        "    # Intialise approximation of sine\n",
        "    approx_sin = 1.0\n",
        "\n",
        "    # Initialise counter\n",
        "    n = 0\n",
        "\n",
        "    # Loop until error satisfies tolerance\n",
        "    for i in range(max_iterations):\n",
        "    \n",
        "          # This sin calculation is correct\n",
        "          approx_sin = approx_sin + (-1)**i*x**(2*i+1)/math.factorial(2*i+1)\n",
        "\n",
        "    error = approx_sin - math.sin(x)\n",
        "    if error > tol:\n",
        "        continue\n",
        "\n",
        "return approx_sin\n",
        "    \n",
        "\n",
        "# Function call\n",
        "appsin = approximate_sin(1.5*math.pi)\n",
        "\n",
        "print(\"approximate value of sin: {}\", appsin)\n"
      ]
    },
    {
      "cell_type": "code",
      "execution_count": 1,
      "metadata": {
        "colab": {
          "base_uri": "https://localhost:8080/"
        },
        "id": "K7ND9eWBvBKl",
        "outputId": "de7cb7e3-ebfe-40bb-80c7-a1a3cbb24377"
      },
      "outputs": [
        {
          "name": "stdout",
          "output_type": "stream",
          "text": [
            "approximate value of sin: -1.0000000042344912, and numbers of iteration :12 exact value of sin: -1.0\n"
          ]
        }
      ],
      "source": [
        "import math\n",
        "\n",
        "def approximate_sin(x, max_iterations=1000,tol = 1.0e-8):\n",
        "    # Value at which to approximate sine\n",
        "\n",
        "\n",
        "    # Tolerance and initial error\n",
        "    error = tol + 1.0\n",
        "\n",
        "    # Intialise approximation of sine\n",
        "    approx_sin = 0\n",
        "\n",
        "    # Initialise counter\n",
        "    n = 0\n",
        "\n",
        "    # Loop until error satisfies tolerance\n",
        "    for i in range(max_iterations):\n",
        "          n+=1\n",
        "          # This sin calculation is correct\n",
        "          approx_sin = approx_sin + (-1)**i*x**(2*i+1)/math.factorial(2*i+1)\n",
        "\n",
        "          error = abs(approx_sin - math.sin(x))\n",
        "          if error < tol:\n",
        "              break\n",
        "\n",
        "    return approx_sin,n\n",
        "\n",
        "\n",
        "# Function call\n",
        "appsin,n = approximate_sin(1.5*math.pi)\n",
        "\n",
        "print(f\"approximate value of sin: {appsin}, and numbers of iteration :{n} exact value of sin: {math.sin(1.5*math.pi)}\")"
      ]
    },
    {
      "cell_type": "markdown",
      "metadata": {
        "id": "08rHLwcMxCsO"
      },
      "source": [
        "## **Q4 Write a function for calculating derivatives**\n",
        "\n",
        "Write a function that calculates the first or the second derivative of a function at a specific point x. The function should take 4 arguments: the function $fn$, $x$ (location), $h$ (increment), and $n$ (derivative). The default arguments are $h=1e-6$ and $n=1$. If $n=1$ the function should return the first derivative, if $n=2$ the function should return the second derivative, if an invalid $n$ is passed, the function should print an error message and return 0.\n",
        "\n",
        "**Hints**:\n",
        "\n",
        "* Use if-else condition to return either the first derivative or second derivative or error.\n",
        "* The function `derivative` should take 4 arguments, 2 of which are default arguments. Default arguments are listed at the end of the function.\n",
        "* The first derivative is calculated as $f^\\prime(x) = \\frac{f(x+h) - f(x)}{h}$\n",
        "* The second derivative is calculated as $f^{\\prime\\prime}(x) = \\frac{f(x+h) - 2 f(x) + f(x-h)}{h^2}$\n",
        "* Use keyword `def` to define a function.\n",
        "\n",
        "\n",
        "```python\n",
        "# Return the first or second derivative of a given function at x.\n",
        "\n",
        "```\n",
        "\n",
        "Your code should pass the following assertions:\n",
        "\n",
        "```python\n",
        "# Test functions\n",
        "# A function f(x) = x^2 + 3x\n",
        "def f(x):\n",
        "    return x**2 + 3*x\n",
        "\n",
        "\n",
        "assert round(derivative(f, x=1, h=1e-5, 1) - 5.00000, 5) == 0.0\n",
        "assert round(derivative(f, 0.5) - 4.00000000, 5) == 0.0\n",
        "assert round(derivative(f, 0.5, n=2) - 1.99995, 4) == 0.0\n",
        "```"
      ]
    },
    {
      "cell_type": "code",
      "execution_count": 7,
      "metadata": {
        "colab": {
          "base_uri": "https://localhost:8080/"
        },
        "id": "ViDFsKEZxdqM",
        "outputId": "9861268b-b3b9-47c4-b531-1763144b86d7"
      },
      "outputs": [],
      "source": [
        "def derivative(fn,x,h=1e-6,n=1):\n",
        "  if n==1:\n",
        "    ret=(fn(x+h)-fn(x))/h\n",
        "  elif n==2:\n",
        "    ret=(fn(x+h)-2*fn(x)+fn(x-h))/h**2\n",
        "  else:\n",
        "    print(\"error: invalid n\")\n",
        "    return 0\n",
        "  return ret"
      ]
    },
    {
      "cell_type": "code",
      "execution_count": 8,
      "metadata": {
        "colab": {
          "base_uri": "https://localhost:8080/",
          "height": 210
        },
        "id": "VQXokR4JybFD",
        "outputId": "2f23fdcc-062c-48d6-88ce-6062ff168f4f"
      },
      "outputs": [],
      "source": [
        "def f(x):\n",
        "    return x**2 + 3*x\n",
        "\n",
        "assert round(derivative(f, x=1, h=1e-5, n=1) - 5.00000, 4) == 0.0\n",
        "assert round(derivative(f, 0.5) - 4.00000000, 5) == 0.0\n",
        "assert round(derivative(f, 0.5, n=2) - 1.99995, 4) == 0.0"
      ]
    },
    {
      "cell_type": "markdown",
      "metadata": {
        "id": "S9rbfuQ_zpzL"
      },
      "source": [
        "## Q5 Functions"
      ]
    },
    {
      "cell_type": "markdown",
      "metadata": {
        "id": "W2P99BOAzscb"
      },
      "source": [
        "# Q5.1 Which of the following statements are true?\n",
        "\n",
        "\n",
        "( ) A function needs at least one argument\n",
        "\n",
        "( ) There is no limit on the maximum number of arguments\n",
        "\n",
        "(X) A function can have multiple return values"
      ]
    },
    {
      "cell_type": "markdown",
      "metadata": {
        "id": "ZGN-Mn0_0KEq"
      },
      "source": [
        "# Q5.2 Default values in a function\n",
        "\n",
        "What is the value of $x$ on line #4 inside the function?\n",
        "\n",
        "( ) 2\n",
        "\n",
        "( ) 8\n",
        "\n",
        "(X) 5\n",
        "\n",
        "( ) 3\n"
      ]
    },
    {
      "cell_type": "markdown",
      "metadata": {
        "id": "_Vqfn6U20Xai"
      },
      "source": [
        "# Q5.3 Which of the following function calls returns a value of 8?\n",
        "```\n",
        "def fn(a, b=0, c=2):\n",
        "    return (a*2)-b+c\n",
        "```\n",
        "\n",
        "[ ] `fn(2, 4)`\n",
        "\n",
        "[X] `fn(2, 0, 4)`\n",
        "\n",
        "[X] `fn(2, c=4)`\n",
        "\n",
        "[ ] `fn(2, b=0, 4)`\n",
        "\n",
        "[X] `fn(2, b=0, c=4)`"
      ]
    },
    {
      "cell_type": "markdown",
      "metadata": {
        "id": "XAxRWkd_1AVc"
      },
      "source": [
        "# Q5.4 What is the output of the **print** statement in the following code and explain your reasoning?\n",
        "\n",
        "```\n",
        "def fn(num):\n",
        "   return num+25\n",
        "\n",
        "fun(5)\n",
        "print(num)\n",
        "```\n",
        "\n",
        "(X) Error\n",
        "\n",
        "( ) 5\n",
        "\n",
        "( ) 25\n",
        "\n",
        "( ) 30\n",
        "\n",
        "\n",
        "Explain your reasoning"
      ]
    },
    {
      "cell_type": "markdown",
      "metadata": {
        "id": "EGJv-L-J1JpU"
      },
      "source": [
        "num is a argument of the function, which serve as a placeholder, since it is not defined outside of the function, this is a undefined variable name, thus error occur when try to print it"
      ]
    }
  ],
  "metadata": {
    "colab": {
      "provenance": []
    },
    "kernelspec": {
      "display_name": "Python 3",
      "name": "python3"
    },
    "language_info": {
      "codemirror_mode": {
        "name": "ipython",
        "version": 3
      },
      "file_extension": ".py",
      "mimetype": "text/x-python",
      "name": "python",
      "nbconvert_exporter": "python",
      "pygments_lexer": "ipython3",
      "version": "3.11.4"
    }
  },
  "nbformat": 4,
  "nbformat_minor": 0
}
