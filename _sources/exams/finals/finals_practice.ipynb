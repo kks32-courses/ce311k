{
 "cells": [
  {
   "cell_type": "markdown",
   "metadata": {},
   "source": [
    "# CE 311K\n",
    "## Finals: Practice questions"
   ]
  },
  {
   "cell_type": "markdown",
   "metadata": {},
   "source": [
    "### 1. Given a matrix $A$ of size 3x3 and a vector $b$ of size 3x1. Compute the shape/output of the following operations are valid."
   ]
  },
  {
   "cell_type": "code",
   "execution_count": 31,
   "metadata": {},
   "outputs": [
    {
     "name": "stdout",
     "output_type": "stream",
     "text": [
      "A: \n",
      "[[0.49411095 0.61577988 0.41847147]\n",
      " [0.28290876 0.30578587 0.50453613]\n",
      " [0.09619464 0.12541684 0.1393357 ]]\n",
      "\n",
      "b: = [0.73845409 0.30067213 0.9553534 ] and has the shape: (3,)\n"
     ]
    }
   ],
   "source": [
    "import numpy as np\n",
    "A = np.array(np.random.rand(3, 3))\n",
    "print(\"A: \\n{}\".format(A))\n",
    "\n",
    "b = np.random.rand(3)\n",
    "print(\"\\nb: = {} and has the shape: {}\".format(b, np.transpose(b).shape))"
   ]
  },
  {
   "cell_type": "markdown",
   "metadata": {},
   "source": [
    "- [ ] $A^T \\cdot A$\n",
    "- [ ] $b^T \\times b$\n",
    "- [ ] $A^T \\cdot A \\cdot b^T$\n",
    "- [ ] $A^T \\cdot b$"
   ]
  },
  {
   "cell_type": "code",
   "execution_count": 36,
   "metadata": {},
   "outputs": [],
   "source": [
    "# Solution\n",
    "#print(\"A^T . T : {}\".format(np.dot(np.transpose(A), A).shape))\n",
    "#print(\"b^T . b : {}\".format(np.outer(np.transpose(b), b).shape))\n",
    "#print(\"A^T \\cdot A \\cdot b^T: {}\".format(np.dot(np.dot(np.transpose(A), A), b).shape))\n",
    "#print(\"A^T . b : {}\".format(np.dot(np.transpose(A), b).shape))"
   ]
  },
  {
   "cell_type": "markdown",
   "metadata": {},
   "source": [
    "### 2. Can the following matrix be solved using Gauss Seidel?\n",
    "\n",
    "a) $$\n",
    "\\begin{bmatrix}\n",
    "    5 & 2 & 3 \\\\\n",
    "    1 & 2 & 1 \\\\\n",
    "    4 & 3 & 7 \\\\\n",
    "\\end{bmatrix}\n",
    "$$\n",
    "\n",
    "b) $$\n",
    "\\begin{bmatrix}\n",
    "    7 & -5 & 8 \\\\\n",
    "    3 & 7 & -6 \\\\\n",
    "    7 & 4 & 4 \\\\\n",
    "\\end{bmatrix}\n",
    "$$\n",
    "\n",
    "Solve the first three steps of Gauss Seidel for matrix in (a)"
   ]
  },
  {
   "cell_type": "code",
   "execution_count": 51,
   "metadata": {},
   "outputs": [
    {
     "name": "stdout",
     "output_type": "stream",
     "text": [
      "\n",
      "Problem (a)\n",
      "Gauss-Seidel iterations 19,\n",
      "x: [-21.41176468  37.29411767  18.82352939],\n",
      "error: [1.04229478e-07 4.17435615e-08 0.00000000e+00]\n",
      "\n",
      "Problem (b)\n"
     ]
    },
    {
     "ename": "RuntimeError",
     "evalue": "Insufficient number of iterations",
     "output_type": "error",
     "traceback": [
      "\u001b[0;31m---------------------------------------------------------------------------\u001b[0m",
      "\u001b[0;31mRuntimeError\u001b[0m                              Traceback (most recent call last)",
      "\u001b[0;32m<ipython-input-51-a30b99dbefc5>\u001b[0m in \u001b[0;36m<module>\u001b[0;34m()\u001b[0m\n\u001b[1;32m     41\u001b[0m \u001b[0mb\u001b[0m \u001b[0;34m=\u001b[0m \u001b[0mnp\u001b[0m\u001b[0;34m.\u001b[0m\u001b[0marray\u001b[0m\u001b[0;34m(\u001b[0m\u001b[0;34m[\u001b[0m\u001b[0;36m24\u001b[0m\u001b[0;34m,\u001b[0m \u001b[0;36m72\u001b[0m\u001b[0;34m,\u001b[0m \u001b[0;36m158\u001b[0m\u001b[0;34m]\u001b[0m\u001b[0;34m)\u001b[0m\u001b[0;34m\u001b[0m\u001b[0;34m\u001b[0m\u001b[0m\n\u001b[1;32m     42\u001b[0m \u001b[0;34m\u001b[0m\u001b[0m\n\u001b[0;32m---> 43\u001b[0;31m \u001b[0mx\u001b[0m\u001b[0;34m,\u001b[0m \u001b[0merror\u001b[0m\u001b[0;34m,\u001b[0m \u001b[0miter\u001b[0m \u001b[0;34m=\u001b[0m \u001b[0mseidel\u001b[0m\u001b[0;34m(\u001b[0m\u001b[0mA\u001b[0m\u001b[0;34m,\u001b[0m \u001b[0mb\u001b[0m\u001b[0;34m)\u001b[0m\u001b[0;34m\u001b[0m\u001b[0;34m\u001b[0m\u001b[0m\n\u001b[0m\u001b[1;32m     44\u001b[0m \u001b[0mprint\u001b[0m\u001b[0;34m(\u001b[0m\u001b[0;34m\"Gauss-Seidel iterations {},\\nx: {},\\nerror: {}\"\u001b[0m\u001b[0;34m.\u001b[0m\u001b[0mformat\u001b[0m\u001b[0;34m(\u001b[0m\u001b[0miter\u001b[0m\u001b[0;34m,\u001b[0m \u001b[0mx\u001b[0m\u001b[0;34m,\u001b[0m \u001b[0merror\u001b[0m\u001b[0;34m)\u001b[0m\u001b[0;34m)\u001b[0m\u001b[0;34m\u001b[0m\u001b[0;34m\u001b[0m\u001b[0m\n",
      "\u001b[0;32m<ipython-input-51-a30b99dbefc5>\u001b[0m in \u001b[0;36mseidel\u001b[0;34m(A, b, max_iter)\u001b[0m\n\u001b[1;32m     18\u001b[0m \u001b[0;34m\u001b[0m\u001b[0m\n\u001b[1;32m     19\u001b[0m     \u001b[0;32melse\u001b[0m\u001b[0;34m:\u001b[0m \u001b[0;31m# no break\u001b[0m\u001b[0;34m\u001b[0m\u001b[0;34m\u001b[0m\u001b[0m\n\u001b[0;32m---> 20\u001b[0;31m         \u001b[0;32mraise\u001b[0m \u001b[0mRuntimeError\u001b[0m\u001b[0;34m(\u001b[0m\u001b[0;34m\"Insufficient number of iterations\"\u001b[0m\u001b[0;34m)\u001b[0m\u001b[0;34m\u001b[0m\u001b[0;34m\u001b[0m\u001b[0m\n\u001b[0m\u001b[1;32m     21\u001b[0m \u001b[0;34m\u001b[0m\u001b[0m\n\u001b[1;32m     22\u001b[0m     \u001b[0merror\u001b[0m \u001b[0;34m=\u001b[0m \u001b[0mnp\u001b[0m\u001b[0;34m.\u001b[0m\u001b[0mdot\u001b[0m\u001b[0;34m(\u001b[0m\u001b[0mA\u001b[0m\u001b[0;34m,\u001b[0m \u001b[0mx\u001b[0m\u001b[0;34m)\u001b[0m \u001b[0;34m-\u001b[0m \u001b[0mb\u001b[0m\u001b[0;34m\u001b[0m\u001b[0;34m\u001b[0m\u001b[0m\n",
      "\u001b[0;31mRuntimeError\u001b[0m: Insufficient number of iterations"
     ]
    }
   ],
   "source": [
    "import numpy as np\n",
    "def seidel(A, b, max_iter = 1000):    \n",
    "    x = np.zeros(b.shape[0])\n",
    "    for iter in range(max_iter): \n",
    "        # Loop through each row\n",
    "        for i in range(A.shape[0]):         \n",
    "            # temp variable d to store b[j] \n",
    "            d = b[i]\n",
    "            # Iterate through the columns\n",
    "            for j in range(A.shape[1]):      \n",
    "                if(i != j): \n",
    "                    d-=A[i][j] * x[j] \n",
    "            # updating the value of our solution         \n",
    "            x[i] = d / A[i][i] \n",
    "        \n",
    "        if np.allclose(np.dot(A, x), b, rtol=1e-8):\n",
    "            break\n",
    "\n",
    "    else: # no break\n",
    "        raise RuntimeError(\"Insufficient number of iterations\")\n",
    "        \n",
    "    error = np.dot(A, x) - b\n",
    "    # returning our updated solution            \n",
    "    return x, error, iter\n",
    "\n",
    "\n",
    "print(\"\\nProblem (a)\")\n",
    "A = np.array([[5, 2, 3], [1, 2, 1], [4, 3, 7]])\n",
    "\n",
    "b = np.array([24, 72, 158])\n",
    "\n",
    "x, error, iter = seidel(A, b)\n",
    "print(\"Gauss-Seidel iterations {},\\nx: {},\\nerror: {}\".format(iter, x, error))\n",
    "\n",
    "\n",
    "\n",
    "\n",
    "print(\"\\nProblem (b)\")\n",
    "A = np.array([[7, -5, 8], [3, 7, -6], [7, 4, 4]])\n",
    "\n",
    "b = np.array([24, 72, 158])\n",
    "\n",
    "x, error, iter = seidel(A, b)\n",
    "print(\"Gauss-Seidel iterations {},\\nx: {},\\nerror: {}\".format(iter, x, error))"
   ]
  },
  {
   "cell_type": "markdown",
   "metadata": {},
   "source": [
    "### 3. Solve the following set of linear equations by hand\n",
    "\n",
    "$$\n",
    "\\begin{bmatrix}\n",
    "    1 & 2 & 1 \\\\\n",
    "    5 & 2 & 3 \\\\\n",
    "    4 & 3 & 7 \\\\\n",
    "\\end{bmatrix} \n",
    "\\begin{bmatrix}\n",
    "    x_1 \\\\\n",
    "    x_2 \\\\\n",
    "    x_3 \\\\\n",
    "\\end{bmatrix} =\n",
    "\\begin{bmatrix}\n",
    "    16 \\\\\n",
    "    38 \\\\\n",
    "    59 \\\\\n",
    "\\end{bmatrix} \n",
    "$$"
   ]
  },
  {
   "cell_type": "code",
   "execution_count": 56,
   "metadata": {},
   "outputs": [
    {
     "name": "stdout",
     "output_type": "stream",
     "text": [
      "[3. 4. 5.]\n"
     ]
    }
   ],
   "source": [
    "A = np.array([[1, 2, 1], [5, 2, 3], [4, 3, 7]])\n",
    "b = np.array([16, 38, 59])\n",
    "\n",
    "x = np.linalg.solve(A, b)\n",
    "print(x)"
   ]
  }
 ],
 "metadata": {
  "kernelspec": {
   "display_name": "Python 3",
   "language": "python",
   "name": "python3"
  },
  "language_info": {
   "codemirror_mode": {
    "name": "ipython",
    "version": 3
   },
   "file_extension": ".py",
   "mimetype": "text/x-python",
   "name": "python",
   "nbconvert_exporter": "python",
   "pygments_lexer": "ipython3",
   "version": "3.7.5"
  }
 },
 "nbformat": 4,
 "nbformat_minor": 2
}
