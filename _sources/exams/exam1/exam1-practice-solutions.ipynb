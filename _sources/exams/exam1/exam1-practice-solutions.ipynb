{
 "cells": [
  {
   "cell_type": "markdown",
   "metadata": {},
   "source": [
    "## Q1. Prime factors\n",
    "\n",
    "* The variable n is not defined. I assume it's meant to be number.\n",
    "* The condition n % factor == 2 is incorrect. If you're trying to find factors of a number, you should check if n % factor == 0.\n",
    "* The inner loop checks if factor is divisible by numbers in the range 2 to factor - 1 to determine if factor is prime. But the logic here has a couple of issues:\n",
    "    * Instead of breaking the loop when a divisor is found, you continue to the next iteration. This means your current code will add non-prime factors to the list.\n",
    "    * The outer loop starts from 1, but 1 is not a prime number. The outer loop should start from 2.\n",
    "* Instead of prime_factors.add(factor), you should use prime_factors.append(factor) since prime_factors is a list, not a set.\n",
    "\n",
    "Let's correct the code:"
   ]
  },
  {
   "cell_type": "code",
   "execution_count": 6,
   "metadata": {},
   "outputs": [
    {
     "name": "stdout",
     "output_type": "stream",
     "text": [
      "[]\n"
     ]
    }
   ],
   "source": [
    "number = 1330\n",
    "\n",
    "# Prime factors\n",
    "prime_factors = []\n",
    "\n",
    "for factor in range(2, number + 1):  # Start from 2 as 1 is not prime\n",
    "    if number % factor == 0:  # Check if factor divides the number\n",
    "        is_prime = True\n",
    "        for i in range(2, int(factor**0.5) + 1):  # Checking up to the square root is efficient\n",
    "            if factor % i == 0:  # factor is not prime\n",
    "                is_prime = False\n",
    "                break\n",
    "        if is_prime:\n",
    "            prime_factors.append(factor)\n",
    "\n",
    "print(prime_factors)"
   ]
  },
  {
   "cell_type": "markdown",
   "metadata": {},
   "source": [
    "## Q Circles:\n",
    "\n",
    " Relationship Between Two Circles\n",
    "\n",
    "Given two circles with centers $(cx1, cy1)$ and $(cx2, cy2)$ and radii $r1$ and $r2$ respectively, we can determine their relationship based on the distance between their centers. This distance, denoted as $d$, can be computed using the formula:\n",
    "\n",
    "$$ d = \\sqrt{(cx2 - cx1)^2 + (cy2 - cy1)^2} $$\n",
    "\n",
    "Given $d$, the radii $r1$ and $r2$ of the circles:\n",
    "\n",
    "1. If $d = 0$ and $r1 = r2$:\n",
    "    - The circles are concentric.\n",
    "    $ d = 0 \\text{ and } r1 = r2 $\n",
    "    \n",
    "2. If $d < |r1 - r2|$:\n",
    "    - The circles are disjoint and one circle is entirely inside the other.\n",
    "    $ d < |r1 - r2| $\n",
    "    \n",
    "3. If $d = |r1 - r2|$:\n",
    "    - The circles touch each other internally.\n",
    "    $ d = |r1 - r2| $\n",
    "    \n",
    "4. If $d = r1 + r2$:\n",
    "    - The circles touch each other externally.\n",
    "    $ d = r1 + r2 $\n",
    "    \n",
    "5. If $d > r1 + r2$:\n",
    "    - The circles are disjoint.\n",
    "    $ d > r1 + r2 $\n",
    "    \n",
    "6. If $|r1 - r2| < d < r1 + r2$:\n",
    "    - The circles intersect (overlap).\n",
    "    $ |r1 - r2| < d < r1 + r2 $"
   ]
  },
  {
   "cell_type": "code",
   "execution_count": 1,
   "metadata": {},
   "outputs": [
    {
     "name": "stdout",
     "output_type": "stream",
     "text": [
      "The circles intersect (overlap).\n"
     ]
    }
   ],
   "source": [
    "import math\n",
    "\n",
    "# Circle 1\n",
    "cx1 = 2\n",
    "cy1 = 3\n",
    "r1 = 5\n",
    "\n",
    "# Circle 2\n",
    "cx2 = 4\n",
    "cy2 = 4\n",
    "r2 = 3\n",
    "\n",
    "# Calculate the distance between the centers of the circles\n",
    "d = math.sqrt((cx2 - cx1)**2 + (cy2 - cy1)**2)\n",
    "\n",
    "# Check conditions\n",
    "if d == 0 and r1 == r2:\n",
    "    print(\"The circles are concentric.\")\n",
    "elif d < abs(r1 - r2):\n",
    "    print(\"The circles are disjoint and one circle is entirely inside the other.\")\n",
    "elif d == abs(r1 - r2):\n",
    "    print(\"The circles touch each other internally.\")\n",
    "elif d == r1 + r2:\n",
    "    print(\"The circles touch each other externally.\")\n",
    "elif d > r1 + r2:\n",
    "    print(\"The circles are disjoint.\")\n",
    "else:\n",
    "    print(\"The circles intersect (overlap).\")"
   ]
  },
  {
   "cell_type": "markdown",
   "metadata": {},
   "source": [
    "## Infinite series\n",
    "\n",
    "$$ 5 - \\frac{5}{2} + \\frac{5}{3} - \\frac{5}{4} + \\frac{5}{5} - \\frac{5}{6} + \\frac{5}{7}  \\cdots $$\n",
    "\n",
    "* The series is alternating in sign, so we'll use a multiplier that alternates between -1 and 1.\n",
    "* We'll compute the value of 5×ln⁡(2) using Python's math module.\n",
    "* Using a for loop, we'll calculate the sum of the series up to n terms and then check the absolute difference with the actual value. If the difference is below 1×10−3, we'll break the loop.\n",
    "* If after n iterations, we don't reach the required tolerance, we'll print an error message.\n",
    "\n",
    "Here's how to implement the code:\n"
   ]
  },
  {
   "cell_type": "code",
   "execution_count": 3,
   "metadata": {},
   "outputs": [
    {
     "name": "stdout",
     "output_type": "stream",
     "text": [
      "Reached the required tolerance after 2500 terms.\n"
     ]
    }
   ],
   "source": [
    "import math\n",
    "\n",
    "# Exact value\n",
    "exact = 5 * math.log(2)\n",
    "\n",
    "# Summation of infinite series\n",
    "sum = 0\n",
    "\n",
    "# Set a maximum number of terms\n",
    "max_terms = 10000  # You can change this to a suitable value\n",
    "\n",
    "for i in range(1, max_terms + 1):\n",
    "    sum += 5 / i * (-1)**(i+1)\n",
    "    \n",
    "    # Check the difference\n",
    "    if abs(sum - exact) < 1e-3:\n",
    "        print(f\"Reached the required tolerance after {i} terms.\")\n",
    "        break\n",
    "else:\n",
    "    print(\"Error: Specified number of iterations not sufficient to reach the tolerance.\")\n"
   ]
  },
  {
   "cell_type": "markdown",
   "metadata": {},
   "source": [
    "## Bisection\n",
    "\n",
    "* The syntax error in the for loop (using a semicolon).\n",
    "* The equation for f(x) is incorrect in terms of signs.\n",
    "* The mid-point formula is wrong. It should be x = (x1 + x2) / 2.\n",
    "* The logic for bisection is incorrect. If the product of the signs of the function at x1 and x is negative, we should replace x2 with x. If it's positive, we should replace x1 with x.\n",
    "* The break condition inside the loop is wrong. The loop should break when the solution converges, i.e., when abs(delta) < tolerance.\n",
    "* The print statement at the end is confusing in terms of the variables it's printing."
   ]
  },
  {
   "cell_type": "code",
   "execution_count": 4,
   "metadata": {},
   "outputs": [
    {
     "name": "stdout",
     "output_type": "stream",
     "text": [
      "After 17 iterations, the root of f(x) is approximately 2.73205.\n"
     ]
    }
   ],
   "source": [
    "import math\n",
    "import numpy as np\n",
    "\n",
    "# y = f(x) = x^2 - 2x - 2\n",
    "def f(x):\n",
    "    return x**2 - 2*x - 2\n",
    "\n",
    "# Initial guess\n",
    "x1 = 2\n",
    "x2 = 3\n",
    "\n",
    "# Set a tolerance\n",
    "tolerance = 1e-5\n",
    "\n",
    "# Iterate to a maximum of 1000 iterations\n",
    "max_iterations = 1000\n",
    "\n",
    "iterations = 0\n",
    "converged = False\n",
    "\n",
    "for i in range(max_iterations):\n",
    "\n",
    "    # Calculate f(x) values for x1 and x2\n",
    "    delta1 = f(x1)\n",
    "    delta2 = f(x2)\n",
    "\n",
    "    # Compute the mid-point\n",
    "    x = (x1 + x2) / 2\n",
    "    delta = f(x)\n",
    "    \n",
    "    # Update the interval\n",
    "    if delta1 * delta < 0:\n",
    "        x2 = x\n",
    "    else:\n",
    "        x1 = x\n",
    "    \n",
    "    iterations += 1\n",
    "    \n",
    "    # Check for convergence\n",
    "    if abs(delta) < tolerance:\n",
    "        converged = True\n",
    "        break\n",
    "\n",
    "if converged:\n",
    "    print(f'After {iterations} iterations, the root of f(x) is approximately {x:.5f}.')\n",
    "else:\n",
    "    print(\"Solution did not converge!\")\n"
   ]
  },
  {
   "cell_type": "code",
   "execution_count": null,
   "metadata": {},
   "outputs": [],
   "source": []
  }
 ],
 "metadata": {
  "kernelspec": {
   "display_name": "Python 3",
   "language": "python",
   "name": "python3"
  },
  "language_info": {
   "codemirror_mode": {
    "name": "ipython",
    "version": 3
   },
   "file_extension": ".py",
   "mimetype": "text/x-python",
   "name": "python",
   "nbconvert_exporter": "python",
   "pygments_lexer": "ipython3",
   "version": "3.11.4"
  }
 },
 "nbformat": 4,
 "nbformat_minor": 4
}
