{
 "cells": [
  {
   "cell_type": "markdown",
   "metadata": {},
   "source": [
    "# CE 311K\n",
    "## Exam1: Practice questions"
   ]
  },
  {
   "cell_type": "markdown",
   "metadata": {},
   "source": [
    "### 1. Variables\n",
    "\n",
    "What is allowed in Python?\n",
    "\n",
    "- [ ] $x + y = 2$\n",
    "- [ ] $x*x = 2$\n",
    "- [ ] $2 = x$\n",
    "- [ ] $xy = 2$\n",
    "- [ ] None of the Above"
   ]
  },
  {
   "cell_type": "markdown",
   "metadata": {},
   "source": [
    "### 2. Bindings: What is the output of the program?"
   ]
  },
  {
   "cell_type": "code",
   "execution_count": null,
   "metadata": {},
   "outputs": [],
   "source": [
    "usa_gold = 46\n",
    "uk_gold = 27\n",
    "romania_gold = 1\n",
    "\n",
    "total_gold = usa_gold + uk_gold + romania_gold\n",
    "print(total_gold)\n",
    "\n",
    "romania_gold += 1\n",
    "print(total_gold)\n",
    "print(romania_gold)"
   ]
  },
  {
   "cell_type": "markdown",
   "metadata": {},
   "source": [
    "### 3. Comparisons: What is the output of the program?"
   ]
  },
  {
   "cell_type": "code",
   "execution_count": null,
   "metadata": {},
   "outputs": [],
   "source": [
    "current_time = 15\n",
    "sleep_time = 8\n",
    "print(sleep_time > current_time)"
   ]
  },
  {
   "cell_type": "markdown",
   "metadata": {},
   "source": [
    "### 4. Fix the error in this comparison code"
   ]
  },
  {
   "cell_type": "code",
   "execution_count": 1,
   "metadata": {},
   "outputs": [
    {
     "ename": "NameError",
     "evalue": "name 'true' is not defined",
     "output_type": "error",
     "traceback": [
      "\u001b[0;31m---------------------------------------------------------------------------\u001b[0m",
      "\u001b[0;31mNameError\u001b[0m                                 Traceback (most recent call last)",
      "\u001b[0;32m<ipython-input-1-ff0419fb5644>\u001b[0m in \u001b[0;36m<module>\u001b[0;34m()\u001b[0m\n\u001b[0;32m----> 1\u001b[0;31m \u001b[0mdrive\u001b[0m \u001b[0;34m=\u001b[0m \u001b[0mtrue\u001b[0m\u001b[0;34m\u001b[0m\u001b[0;34m\u001b[0m\u001b[0m\n\u001b[0m\u001b[1;32m      2\u001b[0m \u001b[0mdrink\u001b[0m \u001b[0;34m=\u001b[0m \u001b[0mfalse\u001b[0m\u001b[0;34m\u001b[0m\u001b[0;34m\u001b[0m\u001b[0m\n\u001b[1;32m      3\u001b[0m \u001b[0mboth\u001b[0m \u001b[0;34m=\u001b[0m \u001b[0mdrink\u001b[0m \u001b[0;32mand\u001b[0m \u001b[0mdrive\u001b[0m\u001b[0;34m\u001b[0m\u001b[0;34m\u001b[0m\u001b[0m\n\u001b[1;32m      4\u001b[0m \u001b[0mprint\u001b[0m\u001b[0;34m(\u001b[0m\u001b[0mboth\u001b[0m\u001b[0;34m)\u001b[0m\u001b[0;34m\u001b[0m\u001b[0;34m\u001b[0m\u001b[0m\n",
      "\u001b[0;31mNameError\u001b[0m: name 'true' is not defined"
     ]
    }
   ],
   "source": [
    "drive = true\n",
    "drink = false\n",
    "both = drink and drive\n",
    "print(both)"
   ]
  },
  {
   "cell_type": "markdown",
   "metadata": {},
   "source": [
    "### 5. Branching: What is the output?"
   ]
  },
  {
   "cell_type": "code",
   "execution_count": null,
   "metadata": {},
   "outputs": [],
   "source": [
    "x = 0.0\n",
    "y = 5.0\n",
    "if x == y:\n",
    "    if y != 0:\n",
    "        print(\"x/y is\", x/y)\n",
    "elif x < y:\n",
    "    print(\"x is smaller\")\n",
    "else:\n",
    "    print(\"y is smaller\")"
   ]
  },
  {
   "cell_type": "markdown",
   "metadata": {},
   "source": [
    "### 6. Iterations and control: What is printed when the below code is run?\n",
    "\n",
    "- [ ] 5\n",
    "- [ ] 6\n",
    "- [ ] 21\n",
    "- [ ] 24\n",
    "\n",
    "How would the result change if the `break` was changed to `continue`?"
   ]
  },
  {
   "cell_type": "code",
   "execution_count": null,
   "metadata": {},
   "outputs": [],
   "source": [
    "mysum = 0\n",
    "for i in range(5, 11, 2):\n",
    "    mysum += i\n",
    "    if mysum == 5:\n",
    "        break\n",
    "        mysum += 1\n",
    "print(mysum)"
   ]
  },
  {
   "cell_type": "markdown",
   "metadata": {},
   "source": [
    "### 7. Type deduction: What is the type of the following statements\n"
   ]
  },
  {
   "cell_type": "code",
   "execution_count": null,
   "metadata": {},
   "outputs": [],
   "source": [
    "type(5 - 3.0)"
   ]
  },
  {
   "cell_type": "code",
   "execution_count": null,
   "metadata": {},
   "outputs": [],
   "source": [
    "x = 7\n",
    "y = 2\n",
    "type(x%y)"
   ]
  },
  {
   "cell_type": "markdown",
   "metadata": {},
   "source": [
    "### 8. Identify errors and fix\n",
    "\n",
    "The beam deflection equation has been implemented incorrectly, but the results are incorrect. Could you fix the error(s)?\n",
    "\n",
    "For the given loading, the deflection $\\delta(x)$ is:\n",
    "\t\n",
    "$$\\delta(x) = \\frac{q x}{384EI}(9L^3 - 24Lx^2 + 16x^3) \\qquad 0 \\le x \\le \\frac{L}{2}$$\n",
    "\n",
    "and \n",
    "\n",
    "$$\\delta(x) = \\frac{q L}{384EI}(8x^3 - 24Lx^2 + 17L^2x -L^3) \\qquad \\frac{L}{2} \\le x \\le L$$"
   ]
  },
  {
   "cell_type": "code",
   "execution_count": null,
   "metadata": {},
   "outputs": [],
   "source": [
    "x = 5.0\n",
    "q = 2000\n",
    "L = 20\n",
    "EI = 1.2e8\n",
    "\n",
    "deflection = []\n",
    "# Increment of every 2 feet\n",
    "for x in range(L+1,2):\n",
    "    if 0 <= i <= L/2:\n",
    "        deflection = (q*x/384*EI)*(9*L**3 - (24*L*x**2 + 16*x**3))\n",
    "    else (i > L/2)\n",
    "        deflection = (q*L/384*EI)*(8*x**3 - 24*L*x**2 + 17*L**2*x - L**3)\n",
    "    print(x, deflection)"
   ]
  },
  {
   "cell_type": "markdown",
   "metadata": {},
   "source": [
    "### 9. Errors\n",
    "\n",
    "Define absolute and relative errors, and compute the errors for the following code.\n"
   ]
  },
  {
   "cell_type": "code",
   "execution_count": 2,
   "metadata": {},
   "outputs": [
    {
     "name": "stdout",
     "output_type": "stream",
     "text": [
      "0.5990461991998045\n",
      "0.5984721441039565\n"
     ]
    }
   ],
   "source": [
    "import math\n",
    "n = 10\n",
    "x = 2.5\n",
    "sinx = 0\n",
    "\n",
    "for i in range(1,n,2):\n",
    "    sign = (-1)**((i-1)/2)\n",
    "    sinx += sign * (x**i / math.factorial(i))\n",
    "\n",
    "print(sinx)\n",
    "print(math.sin(x))"
   ]
  }
 ],
 "metadata": {
  "kernelspec": {
   "display_name": "Python 3",
   "language": "python",
   "name": "python3"
  },
  "language_info": {
   "codemirror_mode": {
    "name": "ipython",
    "version": 3
   },
   "file_extension": ".py",
   "mimetype": "text/x-python",
   "name": "python",
   "nbconvert_exporter": "python",
   "pygments_lexer": "ipython3",
   "version": "3.8.5"
  }
 },
 "nbformat": 4,
 "nbformat_minor": 2
}
