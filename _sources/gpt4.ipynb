{
  "cells": [
    {
      "cell_type": "markdown",
      "metadata": {
        "id": "zuryMUfKVIHm"
      },
      "source": [
        "# GPT4 Notebook"
      ]
    },
    {
      "cell_type": "code",
      "execution_count": 1,
      "metadata": {
        "colab": {
          "base_uri": "https://localhost:8080/"
        },
        "id": "GJ445y6oR4SQ",
        "outputId": "dfeb75d1-9b6d-46c2-894c-427e06f2edd4"
      },
      "outputs": [
        {
          "name": "stdout",
          "output_type": "stream",
          "text": [
            "Collecting openai\n",
            "  Downloading openai-1.1.2-py3-none-any.whl (217 kB)\n",
            "\u001b[?25l     \u001b[90m━━━━━━━━━━━━━━━━━━━━━━━━━━━━━━━━━━━━━━━━\u001b[0m \u001b[32m0.0/217.9 kB\u001b[0m \u001b[31m?\u001b[0m eta \u001b[36m-:--:--\u001b[0m\r\u001b[2K     \u001b[91m━━━━━━━━━━━━━━━━━━━━━━━━━━━━━━━\u001b[0m\u001b[91m╸\u001b[0m\u001b[90m━━━━━━━━\u001b[0m \u001b[32m174.1/217.9 kB\u001b[0m \u001b[31m5.0 MB/s\u001b[0m eta \u001b[36m0:00:01\u001b[0m\r\u001b[2K     \u001b[90m━━━━━━━━━━━━━━━━━━━━━━━━━━━━━━━━━━━━━━━━\u001b[0m \u001b[32m217.9/217.9 kB\u001b[0m \u001b[31m4.5 MB/s\u001b[0m eta \u001b[36m0:00:00\u001b[0m\n",
            "\u001b[?25hRequirement already satisfied: anyio<4,>=3.5.0 in /usr/local/lib/python3.10/dist-packages (from openai) (3.7.1)\n",
            "Requirement already satisfied: distro<2,>=1.7.0 in /usr/lib/python3/dist-packages (from openai) (1.7.0)\n",
            "Collecting httpx<1,>=0.23.0 (from openai)\n",
            "  Downloading httpx-0.25.1-py3-none-any.whl (75 kB)\n",
            "\u001b[2K     \u001b[90m━━━━━━━━━━━━━━━━━━━━━━━━━━━━━━━━━━━━━━━━\u001b[0m \u001b[32m75.0/75.0 kB\u001b[0m \u001b[31m7.9 MB/s\u001b[0m eta \u001b[36m0:00:00\u001b[0m\n",
            "\u001b[?25hRequirement already satisfied: pydantic<3,>=1.9.0 in /usr/local/lib/python3.10/dist-packages (from openai) (1.10.13)\n",
            "Requirement already satisfied: tqdm>4 in /usr/local/lib/python3.10/dist-packages (from openai) (4.66.1)\n",
            "Requirement already satisfied: typing-extensions<5,>=4.5 in /usr/local/lib/python3.10/dist-packages (from openai) (4.5.0)\n",
            "Requirement already satisfied: idna>=2.8 in /usr/local/lib/python3.10/dist-packages (from anyio<4,>=3.5.0->openai) (3.4)\n",
            "Requirement already satisfied: sniffio>=1.1 in /usr/local/lib/python3.10/dist-packages (from anyio<4,>=3.5.0->openai) (1.3.0)\n",
            "Requirement already satisfied: exceptiongroup in /usr/local/lib/python3.10/dist-packages (from anyio<4,>=3.5.0->openai) (1.1.3)\n",
            "Requirement already satisfied: certifi in /usr/local/lib/python3.10/dist-packages (from httpx<1,>=0.23.0->openai) (2023.7.22)\n",
            "Collecting httpcore (from httpx<1,>=0.23.0->openai)\n",
            "  Downloading httpcore-1.0.1-py3-none-any.whl (76 kB)\n",
            "\u001b[2K     \u001b[90m━━━━━━━━━━━━━━━━━━━━━━━━━━━━━━━━━━━━━━━━\u001b[0m \u001b[32m76.9/76.9 kB\u001b[0m \u001b[31m7.0 MB/s\u001b[0m eta \u001b[36m0:00:00\u001b[0m\n",
            "\u001b[?25hCollecting h11<0.15,>=0.13 (from httpcore->httpx<1,>=0.23.0->openai)\n",
            "  Downloading h11-0.14.0-py3-none-any.whl (58 kB)\n",
            "\u001b[2K     \u001b[90m━━━━━━━━━━━━━━━━━━━━━━━━━━━━━━━━━━━━━━━━\u001b[0m \u001b[32m58.3/58.3 kB\u001b[0m \u001b[31m5.3 MB/s\u001b[0m eta \u001b[36m0:00:00\u001b[0m\n",
            "\u001b[?25hInstalling collected packages: h11, httpcore, httpx, openai\n",
            "\u001b[31mERROR: pip's dependency resolver does not currently take into account all the packages that are installed. This behaviour is the source of the following dependency conflicts.\n",
            "llmx 0.0.15a0 requires cohere, which is not installed.\n",
            "llmx 0.0.15a0 requires tiktoken, which is not installed.\u001b[0m\u001b[31m\n",
            "\u001b[0mSuccessfully installed h11-0.14.0 httpcore-1.0.1 httpx-0.25.1 openai-1.1.2\n"
          ]
        }
      ],
      "source": [
        "# Install OpenAI library\n",
        "!pip install openai"
      ]
    },
    {
      "cell_type": "code",
      "execution_count": 12,
      "metadata": {
        "id": "HJhazfXbR4Mk"
      },
      "outputs": [],
      "source": [
        "import openai\n",
        "import json\n",
        "# Enter the API Key provided in Canvas here as a string 'sk-'\n",
        "OPENAI_API_KEY='sk-'"
      ]
    },
    {
      "cell_type": "code",
      "execution_count": 13,
      "metadata": {
        "id": "EblP36aodjYj"
      },
      "outputs": [],
      "source": [
        "from openai import OpenAI\n",
        "client = OpenAI(api_key=OPENAI_API_KEY)"
      ]
    },
    {
      "cell_type": "markdown",
      "metadata": {
        "id": "MfXILyD9VUrh"
      },
      "source": [
        "## GPT4 Function\n",
        "\n",
        "The following function enables you to ask a question and format the output nicely. Don't change anything unless you know what you are doing."
      ]
    },
    {
      "cell_type": "code",
      "execution_count": 34,
      "metadata": {
        "id": "y2a8zAc2T5zv"
      },
      "outputs": [],
      "source": [
        "def gpt4(question, tokens=500):\n",
        "    messages=[{\"role\": \"user\", \"content\": question}]\n",
        "\n",
        "    response = client.chat.completions.create(model=\"gpt-4\",\n",
        "                                             max_tokens=tokens,\n",
        "                                             temperature=0,\n",
        "                                             messages=messages)\n",
        "\n",
        "    # Extract the content\n",
        "    content = response.choices[0].message.content\n",
        "\n",
        "    # Split the content into text and code\n",
        "    text_parts = []\n",
        "    code_parts = []\n",
        "    in_code_block = False\n",
        "\n",
        "    for line in content.split(\"\\n\"):\n",
        "        if line.startswith(\"```\"):\n",
        "            in_code_block = not in_code_block\n",
        "            continue\n",
        "        if in_code_block:\n",
        "            code_parts.append(line)\n",
        "        else:\n",
        "            text_parts.append(line)\n",
        "\n",
        "    # Print the text parts\n",
        "    for line in text_parts:\n",
        "        print(line)\n",
        "\n",
        "    # Print a separator\n",
        "    print(\"\\n\" + \"-\"*50 + \"\\n\")\n",
        "\n",
        "    # Print the code parts\n",
        "    for line in code_parts:\n",
        "        print(line)"
      ]
    },
    {
      "cell_type": "markdown",
      "metadata": {
        "id": "LZHSCZRddPLV"
      },
      "source": [
        "## Ask your question here\n",
        "\n",
        "> Note: It may take 10 - 20s to answer."
      ]
    },
    {
      "cell_type": "code",
      "execution_count": 35,
      "metadata": {
        "colab": {
          "base_uri": "https://localhost:8080/"
        },
        "id": "UxZCI6s4UQW8",
        "outputId": "46184e8e-d30e-4b11-d5cd-d3f323dbed46"
      },
      "outputs": [
        {
          "name": "stdout",
          "output_type": "stream",
          "text": [
            "In order to compute the deflection of a simply supported beam with a uniformly distributed load, we can use the formula:\n",
            "\n",
            "    y_max = (5/384) * (w*l^4) / (E*I)\n",
            "\n",
            "where:\n",
            "- y_max is the maximum deflection,\n",
            "- w is the load per unit length,\n",
            "- l is the length of the beam,\n",
            "- E is the modulus of elasticity, and\n",
            "- I is the moment of inertia.\n",
            "\n",
            "Here is a Python function that computes the deflection:\n",
            "\n",
            "\n",
            "This function takes as input the load per unit length, the length of the beam, the modulus of elasticity, and the moment of inertia, and returns the maximum deflection of the beam.\n",
            "\n",
            "--------------------------------------------------\n",
            "\n",
            "def compute_deflection(w, l, E, I):\n",
            "    y_max = (5/384) * (w*l**4) / (E*I)\n",
            "    return y_max\n",
            "\n",
            "# Example usage:\n",
            "w = 10  # load per unit length\n",
            "l = 5   # length of the beam\n",
            "E = 200 # modulus of elasticity\n",
            "I = 50  # moment of inertia\n",
            "\n",
            "print(\"Maximum deflection: \", compute_deflection(w, l, E, I))\n"
          ]
        }
      ],
      "source": [
        "gpt4('Write a Python code for computing deflection of a simply supported beam with a uniformly distributed load.')"
      ]
    }
  ],
  "metadata": {
    "colab": {
      "provenance": []
    },
    "kernelspec": {
      "display_name": "Python 3",
      "name": "python3"
    },
    "language_info": {
      "name": "python"
    }
  },
  "nbformat": 4,
  "nbformat_minor": 0
}
