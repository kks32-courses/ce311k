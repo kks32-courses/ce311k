{
  "cells": [
    {
      "cell_type": "markdown",
      "metadata": {
        "id": "zuryMUfKVIHm"
      },
      "source": [
        "# GPT4 Notebook"
      ]
    },
    {
      "cell_type": "code",
      "execution_count": null,
      "metadata": {
        "colab": {
          "base_uri": "https://localhost:8080/"
        },
        "id": "GJ445y6oR4SQ",
        "outputId": "e40a6822-e2f9-4f3a-e0e0-85837861b653"
      },
      "outputs": [],
      "source": [
        "# Install OpenAI library\n",
        "!pip install openai"
      ]
    },
    {
      "cell_type": "code",
      "execution_count": null,
      "metadata": {
        "id": "HJhazfXbR4Mk"
      },
      "outputs": [],
      "source": [
        "import openai\n",
        "import json\n",
        "# Enter the API Key provided in Canvas here as a string 'sk-'\n",
        "openai.api_key = 'sk-'"
      ]
    },
    {
      "cell_type": "markdown",
      "metadata": {
        "id": "MfXILyD9VUrh"
      },
      "source": [
        "## GPT4 Function\n",
        "\n",
        "The following function enables you to ask a question and format the output nicely. Don't change anything unless you know what you are doing."
      ]
    },
    {
      "cell_type": "code",
      "execution_count": null,
      "metadata": {
        "id": "y2a8zAc2T5zv"
      },
      "outputs": [],
      "source": [
        "def gpt4(question, tokens=500):\n",
        "    messages=[{\"role\": \"user\", \"content\": question}]\n",
        "\n",
        "    response = openai.ChatCompletion.create(model=\"gpt-4\",\n",
        "                                        max_tokens=tokens,\n",
        "                                        temperature=0,\n",
        "                                        messages=messages)\n",
        "\n",
        "    # Extract the content\n",
        "    content = response.get(\"choices\", [{}])[0].get(\"message\", {}).get(\"content\", \"\")\n",
        "\n",
        "    # Split the content into text and code\n",
        "    text_parts = []\n",
        "    code_parts = []\n",
        "    in_code_block = False\n",
        "\n",
        "    for line in content.split(\"\\n\"):\n",
        "        if line.startswith(\"```\"):\n",
        "            in_code_block = not in_code_block\n",
        "            continue\n",
        "        if in_code_block:\n",
        "            code_parts.append(line)\n",
        "        else:\n",
        "            text_parts.append(line)\n",
        "\n",
        "    # Print the text parts\n",
        "    for line in text_parts:\n",
        "        print(line)\n",
        "\n",
        "    # Print a separator\n",
        "    print(\"\\n\" + \"-\"*50 + \"\\n\")\n",
        "\n",
        "    # Print the code parts\n",
        "    for line in code_parts:\n",
        "        print(line)"
      ]
    },
    {
      "cell_type": "markdown",
      "metadata": {},
      "source": [
        "## Ask your question here\n",
        "\n",
        "> Note: It may take 10 - 20s to answer."
      ]
    },
    {
      "cell_type": "code",
      "execution_count": null,
      "metadata": {
        "colab": {
          "base_uri": "https://localhost:8080/"
        },
        "id": "UxZCI6s4UQW8",
        "outputId": "4e0ac59c-8d60-44e9-ea09-83e5146ca8e3"
      },
      "outputs": [],
      "source": [
        "gpt4('Write a Python code for computing deflection of a simply supported beam with a uniformly distributed load.')"
      ]
    }
  ],
  "metadata": {
    "colab": {
      "provenance": []
    },
    "kernelspec": {
      "display_name": "Python 3",
      "name": "python3"
    },
    "language_info": {
      "name": "python"
    }
  },
  "nbformat": 4,
  "nbformat_minor": 0
}
