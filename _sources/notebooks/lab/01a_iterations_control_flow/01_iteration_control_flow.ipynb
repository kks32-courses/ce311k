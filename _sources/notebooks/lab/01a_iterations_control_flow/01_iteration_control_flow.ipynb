{
 "cells": [
  {
   "cell_type": "code",
   "execution_count": null,
   "metadata": {
    "deletable": false,
    "editable": false
   },
   "outputs": [],
   "source": [
    "# Initialize Otter\n",
    "import otter\n",
    "grader = otter.Notebook(\"01_iteration_control_flow.ipynb\")"
   ]
  },
  {
   "cell_type": "markdown",
   "metadata": {
    "deletable": false,
    "editable": false,
    "tags": []
   },
   "source": [
    "## Exercise 01.0 (if-else)\n",
    "\n",
    "Consider the following assessment criteria which map a score out of 100 to an assessment grade for CE311K:\n",
    "\n",
    "| Grade            | Raw score  (/100)      |\n",
    "| ---------------- | ---------------------- |\n",
    "| A                | $\\ge 90$               |\n",
    "| A-               | $\\ge 87$ and $< 90$    |\n",
    "| B+               | $\\ge 84$ and $< 87$    |\n",
    "| B                | $\\ge 80$ and $< 84$    |\n",
    "| B-               | $\\ge 77$ and $< 80$    |\n",
    "| C+               | $\\ge 74$ and $< 77$    |\n",
    "| C                | $\\ge 70$ and $< 74$    |\n",
    "| C-               | $\\ge 67$ and $< 70$    |\n",
    "| D+               | $\\ge 64$ and $< 67$    |\n",
    "| D                | $\\ge 60$ and $< 64$    |\n",
    "| F                | $< 60$                 |\n",
    "\n",
    "Step 1: Write a program that finds the grade for a score of 76 and print out the grade."
   ]
  },
  {
   "cell_type": "markdown",
   "metadata": {},
   "source": [
    "_Type your answer here, replacing this text._"
   ]
  },
  {
   "cell_type": "code",
   "execution_count": null,
   "metadata": {
    "tags": []
   },
   "outputs": [],
   "source": [
    "score = 76\n",
    "\n",
    "# Write your code here \n"
   ]
  },
  {
   "cell_type": "code",
   "execution_count": null,
   "metadata": {
    "editable": false,
    "tags": []
   },
   "outputs": [],
   "source": [
    "grade_check = 'C+'\n",
    "assert grade == grade_check"
   ]
  },
  {
   "cell_type": "code",
   "execution_count": null,
   "metadata": {
    "tags": []
   },
   "outputs": [],
   "source": [
    "scores = [79, 75, 59, 60, -5, 100, 101]\n",
    "\n",
    "# Output grades as a string list\n",
    "grades = []\n",
    "\n",
    "# Write your code here\n"
   ]
  },
  {
   "cell_type": "code",
   "execution_count": null,
   "metadata": {
    "editable": false,
    "tags": []
   },
   "outputs": [],
   "source": [
    "grades_check = ['B-', 'C+', 'F', 'D', 'Score error', 'A', 'Score error']\n",
    "assert grades == grades_check"
   ]
  },
  {
   "cell_type": "code",
   "execution_count": null,
   "metadata": {
    "deletable": false,
    "editable": false
   },
   "outputs": [],
   "source": [
    "grader.check(\"q0\")"
   ]
  },
  {
   "cell_type": "markdown",
   "metadata": {
    "deletable": false,
    "editable": false
   },
   "source": [
    "## Exercise 01.1 (for and if-else)\n",
    "\n",
    "Consider a list of numbers shown below. Classify the list into the following separate lists allowing for a number to appear on multiple lists (e.g., 9 could be on odd and squares): even numbers, odd numbers, and squares.\n",
    "\n",
    "`numbers = [0, 2, 5, 7, 9, 11, 4, 6, 25, 16, 39, 43]`"
   ]
  },
  {
   "cell_type": "code",
   "execution_count": null,
   "metadata": {
    "deletable": false,
    "tags": []
   },
   "outputs": [],
   "source": [
    "numbers = [0, 2, 5, 7, 9, 11, 4, 6, 25, 16, 39, 43]\n",
    "\n",
    "# Create empty list of sequences\n",
    "even = []\n",
    "odd = []\n",
    "squares = []\n",
    "primes = []\n",
    "# Write your code here\n"
   ]
  },
  {
   "cell_type": "code",
   "execution_count": null,
   "metadata": {
    "tags": []
   },
   "outputs": [],
   "source": [
    "assert even == [0, 2, 4, 6, 16]\n",
    "assert odd == [5, 7, 9, 11, 25, 39, 43]\n",
    "assert primes == [2, 5, 7, 11, 43]\n",
    "assert squares == [0, 9, 4, 25, 16]"
   ]
  },
  {
   "cell_type": "code",
   "execution_count": null,
   "metadata": {
    "deletable": false,
    "editable": false
   },
   "outputs": [],
   "source": [
    "grader.check(\"q1\")"
   ]
  },
  {
   "cell_type": "markdown",
   "metadata": {
    "deletable": false,
    "editable": false
   },
   "source": [
    "## Exercise 01.2: Cartesian to polar coordinates\n",
    "\n",
    "Convert the x and y coordinates of a point in a plane to polar coordinates (r, φ) in which φ is measured from\n",
    "(-π, π) with φ = 0 defined as the x-axis. To function correctly, the calculations must appropriately evaluate which quadrant the point is in and it must prevent division by zero, otherwise the program will experience an error. The expressions required to compute the appropriate φ are:\n",
    "\n",
    "$r = \\sqrt(x^2 + y^2)$\n",
    "\n",
    "$\\theta = \\tan^{-1}(y/x) \\quad  \\quad \\quad$  if $ x > 0 $\n",
    "\n",
    "$\\theta = \\tan^{-1}(y/x) + \\pi \\quad$ if $ x < 0 $ and $y \\ge 0$\n",
    "\n",
    "$\\theta = \\tan^{-1}(y/x) - \\pi \\quad$ if $ x < 0 $ and $y < 0$\n",
    "\n",
    "$\\theta = \\pi/2  \\quad \\quad  \\quad \\quad$ if $ x = 0 $ and $y > 0$\n",
    "\n",
    "$\\theta = -\\pi/2 \\quad \\quad  \\quad \\quad$ if $ x = 0 $ and $y < 0$\n",
    "\n",
    "$\\theta = 0 \\quad \\quad \\quad  \\quad$ if $ x = 0 $ and $y = 0$\n",
    "\n",
    "![Cartesian to polar coordinates](https://upload.wikimedia.org/wikipedia/commons/7/78/Polar_to_cartesian.svg)"
   ]
  },
  {
   "cell_type": "code",
   "execution_count": null,
   "metadata": {
    "deletable": false,
    "tags": []
   },
   "outputs": [],
   "source": [
    "x = -3.2\n",
    "y = 4.5\n",
    "\n",
    "# Define variables r and θ (to define \\theta and hit tab)\n",
    "# Write your code here\n"
   ]
  },
  {
   "cell_type": "code",
   "execution_count": null,
   "metadata": {
    "deletable": false,
    "editable": false,
    "tags": []
   },
   "outputs": [],
   "source": [
    "assert round(r - 5.5217750769114, 8) == 0\n",
    "assert round(θ - 2.1889405527301, 8) == 0"
   ]
  },
  {
   "cell_type": "code",
   "execution_count": null,
   "metadata": {
    "deletable": false,
    "editable": false
   },
   "outputs": [],
   "source": [
    "grader.check(\"q2\")"
   ]
  },
  {
   "cell_type": "raw",
   "metadata": {},
   "source": []
  },
  {
   "cell_type": "markdown",
   "metadata": {
    "deletable": false,
    "editable": false
   },
   "source": [
    "## Submission\n",
    "\n",
    "Make sure you have run all cells in your notebook in order before running the cell below, so that all images/graphs appear in the output. The cell below will generate a zip file for you to submit. **Please save before exporting!**\n",
    "\n",
    "These are some submission instructions."
   ]
  },
  {
   "cell_type": "code",
   "execution_count": null,
   "metadata": {
    "deletable": false,
    "editable": false
   },
   "outputs": [],
   "source": [
    "# Save your notebook first, then run this cell to export your submission.\n",
    "grader.export(run_tests=True)"
   ]
  },
  {
   "cell_type": "markdown",
   "metadata": {},
   "source": [
    " "
   ]
  }
 ],
 "metadata": {
  "IMAGE_NAME": "taccsciapps/ds-nb-img:base-0.1.0",
  "UUID": "56a0e97e-2ce4-11ed-b026-264036ec9795",
  "kernelspec": {
   "display_name": "Python 3 (ipykernel)",
   "language": "python",
   "name": "python3"
  },
  "language_info": {
   "codemirror_mode": {
    "name": "ipython",
    "version": 3
   },
   "file_extension": ".py",
   "mimetype": "text/x-python",
   "name": "python",
   "nbconvert_exporter": "python",
   "pygments_lexer": "ipython3",
   "version": "3.9.16"
  },
  "otter": {
   "OK_FORMAT": true,
   "tests": {
    "q0": {
     "name": "q0",
     "points": null,
     "suites": [
      {
       "cases": [
        {
         "code": ">>> assert grade == grade_check\n",
         "hidden": false,
         "locked": false
        },
        {
         "code": ">>> assert grades == grades_check\n",
         "hidden": false,
         "locked": false
        }
       ],
       "scored": true,
       "setup": "",
       "teardown": "",
       "type": "doctest"
      }
     ]
    },
    "q1": {
     "name": "q1",
     "points": null,
     "suites": [
      {
       "cases": [
        {
         "code": ">>> assert even == [0, 2, 4, 6, 16]\n",
         "hidden": false,
         "locked": false
        },
        {
         "code": ">>> assert odd == [5, 7, 9, 11, 25, 39, 43]\n",
         "hidden": false,
         "locked": false
        },
        {
         "code": ">>> assert primes == [2, 5, 7, 11, 43]\n",
         "hidden": false,
         "locked": false
        },
        {
         "code": ">>> assert squares == [0, 9, 4, 25, 16]\n",
         "hidden": false,
         "locked": false
        }
       ],
       "scored": true,
       "setup": "",
       "teardown": "",
       "type": "doctest"
      }
     ]
    },
    "q2": {
     "name": "q2",
     "points": null,
     "suites": [
      {
       "cases": [
        {
         "code": ">>> assert round(r - 5.5217750769114, 8) == 0\n>>> assert round(θ - 2.1889405527301, 8) == 0\n",
         "hidden": false,
         "locked": false
        }
       ],
       "scored": true,
       "setup": "",
       "teardown": "",
       "type": "doctest"
      }
     ]
    }
   }
  },
  "toc-autonumbering": false,
  "toc-showcode": false,
  "toc-showmarkdowntxt": false,
  "toc-showtags": false
 },
 "nbformat": 4,
 "nbformat_minor": 4
}
