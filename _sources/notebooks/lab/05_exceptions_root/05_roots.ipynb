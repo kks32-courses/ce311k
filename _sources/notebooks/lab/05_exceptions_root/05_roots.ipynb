{
 "cells": [
  {
   "cell_type": "code",
   "execution_count": null,
   "metadata": {
    "deletable": false,
    "editable": false
   },
   "outputs": [],
   "source": [
    "# Initialize Otter\n",
    "import otter\n",
    "grader = otter.Notebook(\"05_roots.ipynb\")"
   ]
  },
  {
   "cell_type": "markdown",
   "metadata": {
    "deletable": false,
    "editable": false,
    "id": "CsUa5hpSMDUB"
   },
   "source": [
    "## Exercise 05.1\n",
    "\n",
    "Write root finding functions using (bisection method, Newton Raphson and fixed point iteration) to raise an error if the maximum number of iterations is exceeded. Reduce the maximum allowed iterations to test that an exception is raised.\n",
    "\n",
    "Add any other checks on the input data that you think are appropriate.\n",
    "\n",
    "Compute the roots of the following Polynomial function $ x^3 - 6x^2 + 4x + 12$  using:\n",
    "* Bisection method\n",
    "* Newton Raphson iterations\n",
    "* Fixed point iteration\n",
    "\n"
   ]
  },
  {
   "cell_type": "markdown",
   "metadata": {
    "deletable": false,
    "editable": false
   },
   "source": [
    "*HINT* <br>\n",
    "raise ValueError for invalid initial guess(x0,x1) of bisection method<br>\n",
    "raise RuntimeError for max iteration exceeded"
   ]
  },
  {
   "cell_type": "code",
   "execution_count": null,
   "metadata": {
    "tags": []
   },
   "outputs": [],
   "source": [
    "def fn(x):\n",
    "    ...\n",
    "\n",
    "# biscection\n",
    "def bisection(f, x0, x1, tol, max_it):\n",
    "    ...\n",
    "\n",
    "# Newton-Raphson\n",
    "def dfn(x):\n",
    "    ...\n",
    "\n",
    "def newton_raphson(f, df, x0, tol, max_it):\n",
    "    ...\n",
    "\n",
    "    \n",
    "bisection(fn,4, 6,1e-6,100)"
   ]
  },
  {
   "cell_type": "code",
   "execution_count": null,
   "metadata": {
    "tags": []
   },
   "outputs": [],
   "source": [
    "# bisection\n",
    "# Test with max_it = 30\n",
    "x, error, num_it = bisection(fn, x0=3, x1=6, tol=1.0e-6, max_it=30)\n",
    "assert round(x-4.5340702, 5) == 0\n",
    "assert num_it > 20"
   ]
  },
  {
   "cell_type": "code",
   "execution_count": null,
   "metadata": {
    "tags": []
   },
   "outputs": [],
   "source": [
    "# Newton-Raphson\n",
    "# Test with max_it = 30\n",
    "x, error, num_it = newton_raphson(fn, dfn, x0=3, tol=1.0e-6, max_it=30)\n",
    "assert round(x-2.51730405, 5) == 0\n",
    "assert num_it > 4"
   ]
  },
  {
   "cell_type": "code",
   "execution_count": null,
   "metadata": {
    "deletable": false,
    "editable": false
   },
   "outputs": [],
   "source": [
    "grader.check(\"q1\")"
   ]
  },
  {
   "cell_type": "markdown",
   "metadata": {
    "deletable": false,
    "editable": false,
    "id": "X1Eeyy44MDUd"
   },
   "source": [
    "### Fixed-point iteration\n",
    "\n",
    "Usually a formula for finding the root of an equation can be found by rearranging $f(x) = 0$ to be: $x = g(x)$ and then using the computation formula: $$ x_{i+1} = g(x_i)$$ to solve for succesively more accurate approximations of the root. \n",
    "\n",
    "Consider: $f(x) = x^2 - 4\\sin(x) =0 $ can be rearranged as $x = g(x) = 4\\frac{\\sin(x)}{x}$. So the computational formula is $$ x_{i+1} = g(x_i) = 4\\frac{\\sin(x_i)}{x_i}$$\n",
    "\n",
    "We could solve the equations for $x$ stating at an initial guess of $x = x_0$. The relative approximation error is computed as:\n",
    "\n",
    "$$\\eta = \\left|\\frac{x_{i+1} - x_i}{x_{i+1}}\\right| < \\varepsilon$$.\n"
   ]
  },
  {
   "cell_type": "code",
   "execution_count": null,
   "metadata": {
    "tags": []
   },
   "outputs": [],
   "source": [
    "def fixed_point(f, x0, tol, max_it):\n",
    "    ...\n",
    "# find 1 of 3 roots with fixed point method\n",
    "# you may try different x0 and max iterations to find the root\n",
    "x, error, num_it = fixed_point(fn, x0=..., tol=1.0e-6, max_it=...)\n",
    "root = ... # store the root in this variable"
   ]
  },
  {
   "cell_type": "code",
   "execution_count": null,
   "metadata": {
    "tags": []
   },
   "outputs": [],
   "source": [
    "import numpy as np\n",
    "assert ((np.roots([1,-6,4,12])-root).round(4)==0).any()"
   ]
  },
  {
   "cell_type": "code",
   "execution_count": null,
   "metadata": {
    "deletable": false,
    "editable": false
   },
   "outputs": [],
   "source": [
    "grader.check(\"q2\")"
   ]
  },
  {
   "cell_type": "markdown",
   "metadata": {
    "deletable": false,
    "editable": false
   },
   "source": [
    "## Submission\n",
    "\n",
    "Make sure you have run all cells in your notebook in order before running the cell below, so that all images/graphs appear in the output. The cell below will generate a zip file for you to submit. **Please save before exporting!**\n",
    "\n",
    "These are some submission instructions."
   ]
  },
  {
   "cell_type": "code",
   "execution_count": null,
   "metadata": {
    "deletable": false,
    "editable": false
   },
   "outputs": [],
   "source": [
    "# Save your notebook first, then run this cell to export your submission.\n",
    "grader.export(run_tests=True)"
   ]
  },
  {
   "cell_type": "markdown",
   "metadata": {},
   "source": [
    " "
   ]
  }
 ],
 "metadata": {
  "IMAGE_NAME": "taccsciapps/ds-nb-img:base-0.1.0",
  "UUID": "12ced790-5d3d-11ed-8e23-de68c61c1d2c",
  "kernelspec": {
   "display_name": "Python 3 (ipykernel)",
   "language": "python",
   "name": "python3"
  },
  "language_info": {
   "codemirror_mode": {
    "name": "ipython",
    "version": 3
   },
   "file_extension": ".py",
   "mimetype": "text/x-python",
   "name": "python",
   "nbconvert_exporter": "python",
   "pygments_lexer": "ipython3",
   "version": "3.9.10"
  },
  "otter": {
   "OK_FORMAT": true,
   "tests": {
    "q1": {
     "name": "q1",
     "points": null,
     "suites": [
      {
       "cases": [
        {
         "code": ">>> # bisection\n>>> # Test with max_it = 30\n>>> x, error, num_it = bisection(fn, x0=3, x1=6, tol=1.0e-6, max_it=30)\n>>> assert round(x-4.5340702, 5) == 0\n>>> assert num_it > 20\n",
         "hidden": false,
         "locked": false
        },
        {
         "code": ">>> # Newton-Raphson\n>>> # Test with max_it = 30\n>>> x, error, num_it = newton_raphson(fn, dfn, x0=3, tol=1.0e-6, max_it=30)\n>>> assert round(x-2.51730405, 5) == 0\n>>> assert num_it > 4\n",
         "hidden": false,
         "locked": false
        }
       ],
       "scored": true,
       "setup": "",
       "teardown": "",
       "type": "doctest"
      }
     ]
    },
    "q2": {
     "name": "q2",
     "points": null,
     "suites": [
      {
       "cases": [
        {
         "code": ">>> import numpy as np\n>>> assert ((np.roots([1,-6,4,12])-root).round(4)==0).any()\n",
         "hidden": false,
         "locked": false
        }
       ],
       "scored": true,
       "setup": "",
       "teardown": "",
       "type": "doctest"
      }
     ]
    }
   }
  },
  "varInspector": {
   "cols": {
    "lenName": 16,
    "lenType": 16,
    "lenVar": 40
   },
   "kernels_config": {
    "python": {
     "delete_cmd_postfix": "",
     "delete_cmd_prefix": "del ",
     "library": "var_list.py",
     "varRefreshCmd": "print(var_dic_list())"
    },
    "r": {
     "delete_cmd_postfix": ") ",
     "delete_cmd_prefix": "rm(",
     "library": "var_list.r",
     "varRefreshCmd": "cat(var_dic_list()) "
    }
   },
   "types_to_exclude": [
    "module",
    "function",
    "builtin_function_or_method",
    "instance",
    "_Feature"
   ],
   "window_display": false
  }
 },
 "nbformat": 4,
 "nbformat_minor": 4
}
