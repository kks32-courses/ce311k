{
 "cells": [
  {
   "attachments": {},
   "cell_type": "markdown",
   "metadata": {
    "deletable": false,
    "editable": false
   },
   "source": [
    "## Lab 05 Error checking\n",
    "\n",
    "### Lab 05.0 (checking data validity)\n",
    "\n",
    "The Fibonacci series is valid only for $n \\ge 0$. Add to the Fibonacci function in this notebook a check that raises an exception if $n < 0$. Try some invalid data cases to check that an exception is raised.\n",
    "\n",
    "*Optional:* Use `pytest` to test that an exception *is* raised for some $n < 0$ cases.\n"
   ]
  },
  {
   "cell_type": "code",
   "execution_count": null,
   "metadata": {
    "deletable": false
   },
   "outputs": [],
   "source": [
    "def fibonacci(n): \n",
    "    \"\"\"Compute the nth Fibonacci number using recursion\"\"\"\n",
    "    # YOUR CODE HERE\n",
    "    raise NotImplementedError()"
   ]
  },
  {
   "cell_type": "code",
   "execution_count": null,
   "metadata": {
    "deletable": false,
    "editable": false
   },
   "outputs": [],
   "source": [
    "# Perform some tests    \n",
    "assert fibonacci(0) == 0\n",
    "assert fibonacci(1) == 1\n",
    "assert fibonacci(2) == 1\n",
    "assert fibonacci(3) == 2\n",
    "assert fibonacci(10) == 55\n",
    "assert fibonacci(15) == 610\n",
    "\n",
    "# Check that ValueError is raised for n < 0\n",
    "import pytest\n",
    "with pytest.raises(ValueError):\n",
    "    fibonacci(-1)\n",
    "with pytest.raises(ValueError):\n",
    "    fibonacci(-2)"
   ]
  },
  {
   "attachments": {},
   "cell_type": "markdown",
   "metadata": {
    "deletable": false,
    "editable": false
   },
   "source": [
    "## Exercise 05.1 (raising exceptions)\n",
    "\n",
    "Write root finding functions using (bisection method, Newton Raphson and fixed point iteration) to raise an error if the maximum number of iterations is exceeded. Reduce the maximum allowed iterations to test that an exception is raised.\n",
    "\n",
    "Add any other checks on the input data that you think are appropriate.\n",
    "\n",
    "Compute the roots of the following Polynomial function $ x^3 - 6x^2 + 4x + 12$  using:\n",
    "* Bisection method\n",
    "* Newton Raphson iterations\n",
    "* Fixed point iteration\n",
    "\n"
   ]
  },
  {
   "cell_type": "code",
   "execution_count": null,
   "metadata": {},
   "outputs": [],
   "source": [
    "def fn(x):\n",
    "    \"\"\"Evaluate polynomial function\"\"\"\n",
    "    \n",
    "\n",
    "def bisection(f, x0, x1, tol, max_it):\n",
    "    # YOUR CODE HERE\n",
    "    raise NotImplementedError()"
   ]
  },
  {
   "cell_type": "code",
   "execution_count": null,
   "metadata": {
    "deletable": false,
    "editable": false
   },
   "outputs": [],
   "source": [
    "# Test with max_it = 30\n",
    "x, error, num_it = bisection(fn, x0=3, x1=6, tol=1.0e-6, max_it=30)\n",
    "\n",
    "# Test with max_it = 20\n",
    "with pytest.raises(RuntimeError):\n",
    "    x, error, num_it = bisection(fn, x0=3, x1=6, tol=1.0e-6, max_it=20)"
   ]
  },
  {
   "attachments": {},
   "cell_type": "markdown",
   "metadata": {},
   "source": [
    "#### Newton-Raphson"
   ]
  },
  {
   "cell_type": "code",
   "execution_count": null,
   "metadata": {},
   "outputs": [],
   "source": [
    "def dfn(x):\n",
    "    \"\"\"Evaluate the derivation of the function\"\"\"\n",
    "    \n",
    "def newton_raphson(f, df, x0, tol, max_it):\n",
    "    \"\"\"Newton Raphson iterations\"\"\"\n",
    "    # YOUR CODE HERE\n",
    "    raise NotImplementedError()"
   ]
  },
  {
   "cell_type": "code",
   "execution_count": null,
   "metadata": {},
   "outputs": [],
   "source": [
    "# Test with max_it = 30\n",
    "x, error, num_it = newton_raphson(fn, dfn, x0=3, tol=1.0e-6, max_it=30)\n",
    "\n",
    "# Test with max_it to fail\n",
    "with pytest.raises(RuntimeError):\n",
    "    x, error, num_it = newton_raphson(fn, dfn, x0=3, tol=1.0e-6, max_it=30)"
   ]
  },
  {
   "attachments": {},
   "cell_type": "markdown",
   "metadata": {
    "deletable": false,
    "editable": false
   },
   "source": [
    "### Fixed-point iteration\n",
    "\n",
    "Usually a formula for finding the root of an equation can be found by rearranging $f(x) = 0$ to be: $x = g(x)$ and then using the computation formula: $$ x_{i+1} = g(x_i)$$ to solve for succesively more accurate approximations of the root. \n",
    "\n",
    "Consider: $f(x) = x^2 - 4\\sin(x) =0 $ can be rearranged as $x = g(x) = 4\\frac{\\sin(x)}{x}$. So the computational formula is $$ x_{i+1} = g(x_i) = 4\\frac{\\sin(x_i)}{x_i}$$\n",
    "\n",
    "We could solve the equations for $x$ stating at an initial guess of $x = x_0$. The relative approximation error is computed as:\n",
    "\n",
    "$$\\eta = \\left|\\frac{x_{i+1} - x_i}{x_{i+1}}\\right| < \\varepsilon$$.\n"
   ]
  },
  {
   "cell_type": "code",
   "execution_count": null,
   "metadata": {},
   "outputs": [],
   "source": [
    "def fixed_point(f, x0, tol, max_it):\n",
    "    \"\"\"Fixed point iterations\"\"\"\n",
    "    # YOUR CODE HERE\n",
    "    raise NotImplementedError()"
   ]
  },
  {
   "cell_type": "code",
   "execution_count": null,
   "metadata": {},
   "outputs": [],
   "source": [
    "# Test with max_it = 30\n",
    "x, error, num_it = fixed_point(fn, x0=3, tol=1.0e-6, max_it=30)\n",
    "\n",
    "# Test with max_it to fail\n",
    "with pytest.raises(RuntimeError):\n",
    "    x, error, num_it = fixed_point(fn, x0=3, tol=1.0e-6, max_it=20)"
   ]
  }
 ],
 "metadata": {
  "kernelspec": {
   "display_name": "Python 3",
   "language": "python",
   "name": "python3"
  },
  "language_info": {
   "codemirror_mode": {
    "name": "ipython",
    "version": 3
   },
   "file_extension": ".py",
   "mimetype": "text/x-python",
   "name": "python",
   "nbconvert_exporter": "python",
   "pygments_lexer": "ipython3",
   "version": "3.9.0"
  }
 },
 "nbformat": 4,
 "nbformat_minor": 1
}
