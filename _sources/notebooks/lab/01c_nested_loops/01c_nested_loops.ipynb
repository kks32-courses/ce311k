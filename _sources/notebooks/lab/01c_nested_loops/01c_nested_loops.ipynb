{
 "cells": [
  {
   "attachments": {},
   "cell_type": "markdown",
   "metadata": {
    "deletable": false
   },
   "source": [
    "# Lab 1c: Lists\n",
    "\n",
    "You want to eliminate the duplicate values in a sequence, but preserve the order of the\n",
    "remaining items"
   ]
  },
  {
   "cell_type": "code",
   "execution_count": null,
   "metadata": {
    "deletable": false
   },
   "outputs": [],
   "source": [
    "# List of sequence with duplicate values\n",
    "\n",
    "duplicates = [1, 4, 5, 7, 5, 3, 2, 1, 11, 6, 6, 6, 7, 5]\n",
    "\n",
    "# Unique\n",
    "unique = []"
   ]
  },
  {
   "cell_type": "code",
   "execution_count": null,
   "metadata": {
    "deletable": false,
    "editable": false
   },
   "outputs": [],
   "source": [
    "assert unique == [1, 4, 5, 7, 3, 2, 11, 6]"
   ]
  },
  {
   "attachments": {},
   "cell_type": "markdown",
   "metadata": {
    "deletable": false
   },
   "source": [
    "## 01c.1 How to train your dragon party\n",
    "\n",
    "A few cheeky real dinosaurs have sneaked into our `How to train your dragon` party pretending to be dragons.\n",
    "\n",
    "> a. Check if a real dinosaur has sneaked into our dragon party.\n",
    "\n",
    "![How to train your dragon](https://i.pinimg.com/originals/88/cf/43/88cf43867c30db6b1ec9c98788429bc0.jpg)"
   ]
  },
  {
   "cell_type": "code",
   "execution_count": null,
   "metadata": {
    "deletable": false
   },
   "outputs": [],
   "source": [
    "guests = [\"Night fury\", \"Stegosaurus\", \"Stormfly\", \"Velociraptor\", \n",
    "          \"Cloudjumper\", \"Tryannosaurus\", \"Triceratops\", \"Gronckle\", \"Zippleback\"]\n",
    "\n",
    "approved_dragons = [\"Stormfly\", \"Nadder\", \"Night fury\", \"Meatlug\", \"Skrill\", \n",
    "                    \"Zippleback\", \"Gronckle\", \"Cloudjumper\"]\n",
    "\n",
    "sneaky_dinosaur = False\n",
    "\n",
    "# Write your code below and remove the exception\n",
    "raise NotImplementedError()"
   ]
  },
  {
   "cell_type": "code",
   "execution_count": null,
   "metadata": {
    "deletable": false,
    "editable": false
   },
   "outputs": [],
   "source": [
    "assert sneaky_dinosaur == True"
   ]
  },
  {
   "attachments": {},
   "cell_type": "markdown",
   "metadata": {
    "deletable": false
   },
   "source": [
    " > b. Create a new list of dinosaurs and preserve the order in which they appear, who do not appear in our approved guest lists of dragons."
   ]
  },
  {
   "cell_type": "code",
   "execution_count": null,
   "metadata": {
    "deletable": false
   },
   "outputs": [],
   "source": [
    "dinosaurs = []\n",
    "\n",
    "# Write your code below and remove the exception\n",
    "raise NotImplementedError()"
   ]
  },
  {
   "cell_type": "code",
   "execution_count": null,
   "metadata": {
    "deletable": false,
    "editable": false
   },
   "outputs": [],
   "source": [
    "assert dinosaurs == [\"Stegosaurus\", \"Velociraptor\", \"Tryannosaurus\", \"Triceratops\"]"
   ]
  },
  {
   "attachments": {},
   "cell_type": "markdown",
   "metadata": {
    "deletable": false
   },
   "source": [
    "### 01c.3 Using a for-loop plot the following sin curve with of increments [0.01, 0.05, 0.1, 0.2]\n",
    "\n",
    "\n",
    "![sin curve](https://raw.githubusercontent.com/kks32-courses/ce311k/master/notebooks/lab/01c_nested_loops/sinx.png)\n",
    "\n",
    "> x is in the range of 0 to 1.0\n",
    "\n",
    "\n",
    "> y is given as: $y = sin(2 * \\pi * x)$\n",
    "\n",
    "Hint: Use `plt.legend(labels)` to create a list of labels in the plot"
   ]
  },
  {
   "cell_type": "code",
   "execution_count": null,
   "metadata": {
    "deletable": false
   },
   "outputs": [],
   "source": [
    "# Import required libraries\n",
    "\n",
    "\n",
    "# Plot labels\n",
    "labels = [0.01, 0.05, 0.1, 0.2]\n",
    "\n",
    "\n",
    "# Write your code below and remove the exception\n",
    "raise NotImplementedError()"
   ]
  }
 ],
 "metadata": {
  "kernelspec": {
   "display_name": "Python 3",
   "language": "python",
   "name": "python3"
  },
  "language_info": {
   "codemirror_mode": {
    "name": "ipython",
    "version": 3
   },
   "file_extension": ".py",
   "mimetype": "text/x-python",
   "name": "python",
   "nbconvert_exporter": "python",
   "pygments_lexer": "ipython3",
   "version": "3.9.0"
  }
 },
 "nbformat": 4,
 "nbformat_minor": 2
}
