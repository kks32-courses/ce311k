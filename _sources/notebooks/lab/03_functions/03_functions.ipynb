{
 "cells": [
  {
   "cell_type": "code",
   "execution_count": null,
   "metadata": {
    "deletable": false,
    "editable": false
   },
   "outputs": [],
   "source": [
    "# Initialize Otter\n",
    "import otter\n",
    "grader = otter.Notebook(\"03_functions.ipynb\")"
   ]
  },
  {
   "cell_type": "markdown",
   "metadata": {
    "id": "QQ-ty8ZMZ_ts"
   },
   "source": [
    "## Exercise 03 functions\n",
    "\n",
    "The objective of the lab is to familiarize with writing and calling custom functions in Python\n",
    "\n",
    "### 03.0 interger multiple\n",
    "\n",
    "Write a function called `multiple` to determine whether an integer `b` is a multiple of `a`. Your function should return `True` if `b` is a multiple of a, and `False` otherwise. "
   ]
  },
  {
   "cell_type": "code",
   "execution_count": null,
   "metadata": {
    "tags": []
   },
   "outputs": [],
   "source": [
    "def multiple(...):"
   ]
  },
  {
   "cell_type": "code",
   "execution_count": null,
   "metadata": {
    "tags": []
   },
   "outputs": [],
   "source": [
    "assert multiple(b=15, a=5) == True\n",
    "assert multiple(b=17, a=7) == False"
   ]
  },
  {
   "cell_type": "code",
   "execution_count": null,
   "metadata": {
    "deletable": false,
    "editable": false
   },
   "outputs": [],
   "source": [
    "grader.check(\"q1\")"
   ]
  },
  {
   "cell_type": "markdown",
   "metadata": {
    "deletable": false,
    "editable": false,
    "id": "z4fWQjv8Z_uA"
   },
   "source": [
    "### 03.1 Max of 3 numbers\n",
    "\n",
    "Write a function called `max3` that takes 3 numbers, and returns the maximum of the 3.\n"
   ]
  },
  {
   "cell_type": "code",
   "execution_count": null,
   "metadata": {
    "tags": []
   },
   "outputs": [],
   "source": [
    "def ..."
   ]
  },
  {
   "cell_type": "code",
   "execution_count": null,
   "metadata": {
    "tags": []
   },
   "outputs": [],
   "source": [
    "assert max3(-5.3, 2.5, 7.3) == 7.3"
   ]
  },
  {
   "cell_type": "code",
   "execution_count": null,
   "metadata": {
    "deletable": false,
    "editable": false
   },
   "outputs": [],
   "source": [
    "grader.check(\"q2\")"
   ]
  },
  {
   "cell_type": "markdown",
   "metadata": {
    "deletable": false,
    "editable": false,
    "id": "i5WcqxpUZ_uO"
   },
   "source": [
    "### 03.2 Stats from a list of numbers\n",
    "\n",
    "Write a function called `stats` that takes a list as an argument and return the `max`, `min`, `mean`, and `sum` of the list. Please write custom code to compute the value of sum and mean rather than using the default functions for a Python list. You may use `len` to find the length of a list."
   ]
  },
  {
   "cell_type": "code",
   "execution_count": null,
   "metadata": {
    "tags": []
   },
   "outputs": [],
   "source": [
    "# you are not allowed to use any other python module or functions to finish this question.\n",
    "def ..."
   ]
  },
  {
   "cell_type": "code",
   "execution_count": null,
   "metadata": {
    "tags": []
   },
   "outputs": [],
   "source": [
    "# Check results of stats\n",
    "numbers = [7, 5, 2, -3, 11, 17]\n",
    "\n",
    "max, min, mean, sum = stats(numbers)\n",
    "assert max == 17\n",
    "assert min == -3\n",
    "assert round(mean, 1) == 6.5\n",
    "assert sum == 39"
   ]
  },
  {
   "cell_type": "code",
   "execution_count": null,
   "metadata": {
    "deletable": false,
    "editable": false
   },
   "outputs": [],
   "source": [
    "grader.check(\"q3\")"
   ]
  },
  {
   "cell_type": "markdown",
   "metadata": {
    "deletable": false,
    "editable": false,
    "id": "b4CqO01hZ_ub"
   },
   "source": [
    "### 03.3 State of stress\n",
    "\n",
    "The state of stress at an interior point in a solid is defined by three stress components $\\sigma_{xx}$, $\\sigma_{yy}$, and $\\sigma_{xy}$. Given the three components, the principal stresses (maximum and minimum normal stresses) $\\sigma_1$ and $\\sigma_2$ can be computed from:\n",
    "\n",
    "$$ \\sigma_1 = \\frac{\\sigma_{xx} + \\sigma_{yy}}{2} + \\sqrt{\\left(\\frac{\\sigma_{xx} - \\sigma_{yy}}{2}\\right)^2 + \\sigma_{xy}^2}$$\n",
    "\n",
    "$$ \\sigma_2 = \\frac{\\sigma_{xx} + \\sigma_{yy}}{2} - \\sqrt{\\left(\\frac{\\sigma_{xx} - \\sigma_{yy}}{2}\\right)^2 + \\sigma_{xy}^2}$$\n",
    "\n",
    "Write a function called `principal_stresses` that takes the 3 stress components as the arguments and returns `sigma_1` and `sigma_2` as the maximum and minimum principal stresses."
   ]
  },
  {
   "cell_type": "code",
   "execution_count": null,
   "metadata": {
    "tags": []
   },
   "outputs": [],
   "source": [
    "def principal_stresses(sigma_xx, sigma_yy, sigma_xy):\n",
    "    ...\n",
    "    return sigma_1, sigma_2"
   ]
  },
  {
   "cell_type": "code",
   "execution_count": null,
   "metadata": {
    "tags": []
   },
   "outputs": [],
   "source": [
    "# Check state of stress\n",
    "sigma_xx = 50\n",
    "sigma_yy = -20\n",
    "sigma_xy = 30\n",
    "sigma_1, sigma_2 = principal_stresses(sigma_xx, sigma_yy, sigma_xy)\n",
    "assert round(sigma_1, 1) == 61.1\n",
    "assert round(sigma_2, 1) == -31.1"
   ]
  },
  {
   "cell_type": "code",
   "execution_count": null,
   "metadata": {
    "deletable": false,
    "editable": false
   },
   "outputs": [],
   "source": [
    "grader.check(\"q4\")"
   ]
  },
  {
   "cell_type": "markdown",
   "metadata": {
    "deletable": false,
    "editable": false,
    "id": "ZpbjE4t8Z_uk"
   },
   "source": [
    "### 03.4 Function as an argument\n",
    "\n",
    "Write a function `is_fn_positive` that takes another function as an argument and a range and an increment, to check if a given function is always positive in the given range."
   ]
  },
  {
   "cell_type": "code",
   "execution_count": null,
   "metadata": {
    "tags": []
   },
   "outputs": [],
   "source": [
    "\n",
    "def is_fn_positive(fn, min, max):\n",
    "    ..."
   ]
  },
  {
   "cell_type": "code",
   "execution_count": null,
   "metadata": {
    "tags": []
   },
   "outputs": [],
   "source": [
    "import numpy as np\n",
    "assert is_fn_positive(np.sin, -1, 1) == False\n",
    "assert is_fn_positive(np.sin, 0.1, 1) == True\n",
    "assert is_fn_positive(np.cos, -1, 1) == True"
   ]
  },
  {
   "cell_type": "code",
   "execution_count": null,
   "metadata": {
    "deletable": false,
    "editable": false
   },
   "outputs": [],
   "source": [
    "grader.check(\"q5\")"
   ]
  },
  {
   "cell_type": "markdown",
   "metadata": {
    "deletable": false,
    "editable": false
   },
   "source": [
    "## Submission\n",
    "\n",
    "Make sure you have run all cells in your notebook in order before running the cell below, so that all images/graphs appear in the output. The cell below will generate a zip file for you to submit. **Please save before exporting!**\n",
    "\n",
    "These are some submission instructions."
   ]
  },
  {
   "cell_type": "code",
   "execution_count": null,
   "metadata": {
    "deletable": false,
    "editable": false
   },
   "outputs": [],
   "source": [
    "# Save your notebook first, then run this cell to export your submission.\n",
    "grader.export(run_tests=True)"
   ]
  },
  {
   "cell_type": "markdown",
   "metadata": {},
   "source": [
    " "
   ]
  }
 ],
 "metadata": {
  "IMAGE_NAME": "taccsciapps/ds-nb-img:base-0.1.0",
  "UUID": "d3712b52-1fed-11ed-8eb1-126c2491d9f9",
  "kernelspec": {
   "display_name": "Python 3 (ipykernel)",
   "language": "python",
   "name": "python3"
  },
  "language_info": {
   "codemirror_mode": {
    "name": "ipython",
    "version": 3
   },
   "file_extension": ".py",
   "mimetype": "text/x-python",
   "name": "python",
   "nbconvert_exporter": "python",
   "pygments_lexer": "ipython3",
   "version": "3.9.10"
  },
  "otter": {
   "OK_FORMAT": true,
   "tests": {
    "q1": {
     "name": "q1",
     "points": null,
     "suites": [
      {
       "cases": [
        {
         "code": ">>> assert multiple(b=15, a=5) == True\n>>> assert multiple(b=17, a=7) == False\n",
         "hidden": false,
         "locked": false
        }
       ],
       "scored": true,
       "setup": "",
       "teardown": "",
       "type": "doctest"
      }
     ]
    },
    "q2": {
     "name": "q2",
     "points": null,
     "suites": [
      {
       "cases": [
        {
         "code": ">>> assert max3(-5.3, 2.5, 7.3) == 7.3\n",
         "hidden": false,
         "locked": false
        }
       ],
       "scored": true,
       "setup": "",
       "teardown": "",
       "type": "doctest"
      }
     ]
    },
    "q3": {
     "name": "q3",
     "points": null,
     "suites": [
      {
       "cases": [
        {
         "code": ">>> # Check results of stats\n>>> numbers = [7, 5, 2, -3, 11, 17]\n>>> \n>>> max, min, mean, sum = stats(numbers)\n>>> assert max == 17\n>>> assert min == -3\n>>> assert round(mean, 1) == 6.5\n>>> assert sum == 39\n",
         "hidden": false,
         "locked": false
        }
       ],
       "scored": true,
       "setup": "",
       "teardown": "",
       "type": "doctest"
      }
     ]
    },
    "q4": {
     "name": "q4",
     "points": null,
     "suites": [
      {
       "cases": [
        {
         "code": ">>> # Check state of stress\n>>> sigma_xx = 50\n>>> sigma_yy = -20\n>>> sigma_xy = 30\n>>> sigma_1, sigma_2 = principal_stresses(sigma_xx, sigma_yy, sigma_xy)\n>>> assert round(sigma_1, 1) == 61.1\n>>> assert round(sigma_2, 1) == -31.1\n",
         "hidden": false,
         "locked": false
        }
       ],
       "scored": true,
       "setup": "",
       "teardown": "",
       "type": "doctest"
      }
     ]
    },
    "q5": {
     "name": "q5",
     "points": null,
     "suites": [
      {
       "cases": [
        {
         "code": ">>> import numpy as np\n>>> assert is_fn_positive(np.sin, -1, 1) == False\n>>> assert is_fn_positive(np.sin, 0.1, 1) == True\n>>> assert is_fn_positive(np.cos, -1, 1) == True\n",
         "hidden": false,
         "locked": false
        }
       ],
       "scored": true,
       "setup": "",
       "teardown": "",
       "type": "doctest"
      }
     ]
    }
   }
  },
  "varInspector": {
   "cols": {
    "lenName": 16,
    "lenType": 16,
    "lenVar": 40
   },
   "kernels_config": {
    "python": {
     "delete_cmd_postfix": "",
     "delete_cmd_prefix": "del ",
     "library": "var_list.py",
     "varRefreshCmd": "print(var_dic_list())"
    },
    "r": {
     "delete_cmd_postfix": ") ",
     "delete_cmd_prefix": "rm(",
     "library": "var_list.r",
     "varRefreshCmd": "cat(var_dic_list()) "
    }
   },
   "types_to_exclude": [
    "module",
    "function",
    "builtin_function_or_method",
    "instance",
    "_Feature"
   ],
   "window_display": false
  }
 },
 "nbformat": 4,
 "nbformat_minor": 4
}
