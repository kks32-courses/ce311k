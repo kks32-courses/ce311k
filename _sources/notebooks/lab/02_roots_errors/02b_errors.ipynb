{
 "cells": [
  {
   "cell_type": "code",
   "execution_count": null,
   "metadata": {
    "deletable": false,
    "editable": false
   },
   "outputs": [],
   "source": [
    "# Initialize Otter\n",
    "import otter\n",
    "grader = otter.Notebook(\"02b_errors.ipynb\")"
   ]
  },
  {
   "cell_type": "markdown",
   "metadata": {
    "deletable": false,
    "editable": false,
    "id": "OBGSp3jqOkWO",
    "nbgrader": {
     "checksum": "8ceeabcb46de5ad626384fc60e218d16",
     "grade": false,
     "grade_id": "cell-bccc9a5624d0e0f9",
     "locked": true,
     "schema_version": 1,
     "solution": false
    }
   },
   "source": [
    "## Exercise 02b.0\n",
    "\n",
    "Compare the computed values of \n",
    "\n",
    "$$ \n",
    "d_0 = a \\cdot b + a  \\cdot  c\n",
    "$$\n",
    "\n",
    "and \n",
    "\n",
    "$$ \n",
    "d_1 = a \\cdot (b + c)\n",
    "$$\n",
    "\n",
    "when $a = 100$, $b = 0.1$ and $c = 0.2$. Store $d_{0}$ in the variable `d0` and $d_{1}$ in the variable `d1`.\n",
    "\n",
    "\n",
    "Try checking for equality, e.g. `print(d0 == d1)`. "
   ]
  },
  {
   "cell_type": "code",
   "execution_count": null,
   "metadata": {
    "tags": []
   },
   "outputs": [],
   "source": [
    "# YOUR CODE HERE\n"
   ]
  },
  {
   "cell_type": "code",
   "execution_count": null,
   "metadata": {
    "editable": false,
    "id": "IPxma3mbOkWZ",
    "nbgrader": {
     "checksum": "56a58c181d43d8dbad56dff6ed45377a",
     "grade": true,
     "grade_id": "cell-91f2d89d88ea86c0",
     "locked": true,
     "points": 0,
     "schema_version": 1,
     "solution": false
    },
    "tags": []
   },
   "outputs": [],
   "source": [
    "assert d0 == 30.0\n",
    "assert d1 != 30.0\n",
    "assert d0 != d1"
   ]
  },
  {
   "cell_type": "code",
   "execution_count": null,
   "metadata": {
    "deletable": false,
    "editable": false
   },
   "outputs": [],
   "source": [
    "grader.check(\"q1\")"
   ]
  },
  {
   "cell_type": "markdown",
   "metadata": {
    "deletable": false,
    "editable": false
   },
   "source": [
    "## Exercise 02b.1\n",
    "\n",
    "For the polynomial \n",
    "\\begin{align}\n",
    "f(x, y) &= (x + y)^{6} \n",
    "\\\\\n",
    "&=  x^6 + 6x^{5}y + 15x^{4}y^{2} + 20x^{3}y^{3} + 15x^{2}y^{4} + 6xy^{5} + y^{6}\n",
    "\\end{align}\n",
    "compute $f$ using: (i) the compact form $(x + y)^{6}$; and (ii) the expanded form for:\n",
    "\n",
    "(a) $x = 10$ and $y = 10.1$\n",
    "\n",
    "(b) $x = 10$ and $y = -10.1$\n",
    "\n",
    "and compare the number of significant digits for which the answers are the same.\n",
    "Store the answer for the compact version using the variable `f0`, and using the variable `f1` for the expanded version.\n",
    "\n",
    "For case (b), compare the computed and analytical solutions and consider the relative error.\n",
    "Which approach would you recommend for computing this expression?"
   ]
  },
  {
   "cell_type": "markdown",
   "metadata": {},
   "source": [
    "_Type your answer here, replacing this text._"
   ]
  },
  {
   "cell_type": "code",
   "execution_count": null,
   "metadata": {
    "tags": []
   },
   "outputs": [],
   "source": [
    "# x = 10 and y = 10.1\n",
    "x = 10.0\n",
    "y = 10.1\n",
    "\n",
    "# YOUR CODE HERE\n",
    "raise NotImplementedError()"
   ]
  },
  {
   "cell_type": "code",
   "execution_count": null,
   "metadata": {
    "tags": []
   },
   "outputs": [],
   "source": [
    "import math\n",
    "ans1 = [f0, f1]\n",
    "assert math.isclose(ans1[0], 65944160.60120103, rel_tol=1e-10)\n",
    "assert math.isclose(ans1[1], 65944160.601201, rel_tol=1e-10)"
   ]
  },
  {
   "cell_type": "code",
   "execution_count": null,
   "metadata": {
    "nbgrader": {
     "checksum": "e36a4f376b117817ad05ca02c2bda3c6",
     "grade": false,
     "grade_id": "cell-1561d20281ff67f6",
     "locked": false,
     "schema_version": 1,
     "solution": true
    },
    "tags": []
   },
   "outputs": [],
   "source": [
    "# x = 10 and y = -10.1\n",
    "x = 10.0\n",
    "y = -10.1\n",
    "\n",
    "# YOUR CODE HERE\n",
    "raise NotImplementedError()"
   ]
  },
  {
   "cell_type": "code",
   "execution_count": null,
   "metadata": {
    "tags": []
   },
   "outputs": [],
   "source": [
    "import math\n",
    "ans2 = [f0, f1]\n",
    "assert math.isclose(ans2[0], 1.0e-6, rel_tol=1e-10)\n",
    "assert math.isclose(ans2[1], 1.0e-6, rel_tol=1e-2)"
   ]
  },
  {
   "cell_type": "code",
   "execution_count": null,
   "metadata": {
    "nbgrader": {
     "checksum": "908f40d0d9b9a84a5daeb5f1d2a18a3c",
     "grade": false,
     "grade_id": "cell-e8428e3de87d5500",
     "locked": false,
     "schema_version": 1,
     "solution": true
    },
    "tags": []
   },
   "outputs": [],
   "source": [
    "#Using 16 bit floating points with numpy for (a) x=10 and y=10.1\n",
    "x = 10.0\n",
    "y = 10.1\n",
    "\n",
    "# YOUR CODE HERE\n",
    "raise NotImplementedError()"
   ]
  },
  {
   "cell_type": "code",
   "execution_count": null,
   "metadata": {
    "tags": []
   },
   "outputs": [],
   "source": [
    "import math\n",
    "ans3 = [f0, f1]\n",
    "assert math.isclose(ans3[0], 65821226.05029293, rel_tol=1e-10)\n",
    "assert math.isclose(ans3[1], 65974924.11685877, rel_tol=1e-10)"
   ]
  },
  {
   "cell_type": "code",
   "execution_count": null,
   "metadata": {
    "nbgrader": {
     "checksum": "e36a4f376b117817ad05ca02c2bda3c6",
     "grade": false,
     "grade_id": "cell-1561d20281ff67f6",
     "locked": false,
     "schema_version": 1,
     "solution": true
    },
    "tags": []
   },
   "outputs": [],
   "source": [
    "#Using 16 bit floating points with numpy for (b) x=10 and y=-10.1\n",
    "x = 10.0\n",
    "y = -10.1\n",
    "\n",
    "# YOUR CODE HERE\n",
    "raise NotImplementedError()"
   ]
  },
  {
   "cell_type": "code",
   "execution_count": null,
   "metadata": {
    "tags": []
   },
   "outputs": [],
   "source": [
    "import math\n",
    "ans4 = [f0, f1]\n",
    "assert math.isclose(ans4[0], 1.0974893029924715e-06, rel_tol=1e-10)\n",
    "assert math.isclose(ans4[1], 1.0977964848279953e-06, rel_tol=1e-2)"
   ]
  },
  {
   "cell_type": "code",
   "execution_count": null,
   "metadata": {
    "deletable": false,
    "editable": false
   },
   "outputs": [],
   "source": [
    "grader.check(\"q2\")"
   ]
  },
  {
   "cell_type": "markdown",
   "metadata": {
    "deletable": false,
    "editable": false,
    "id": "fAu1IdPfOkXP"
   },
   "source": [
    "<!-- BEGIN QUESTION -->\n",
    "\n",
    "## Exercise 02b.2\n",
    "\n",
    "Consider the expression\n",
    "\n",
    "$$\n",
    "f = \\frac{1}{\\sqrt{x^2 - 1} - x}\n",
    "$$\n",
    "\n",
    "When $x$ is very large, the denominator approaches zero, which can cause problems.\n",
    "\n",
    "Try rephrasing the problem and eliminating the fraction by multiplying the numerator and denominator by $\\sqrt{x^2 - 1} + x$ and evaluate the two versions of the expression when:\n",
    "\n",
    "(a) $x = 1 \\times 10^{7}$\n",
    "\n",
    "(b) $x = 1 \\times 10^{9}$ (You may get a Python error for this case. Why?)\n",
    "\n",
    "Store the answer for the original version using the variable `f0`, and using the variable `f1` for the rephrased version."
   ]
  },
  {
   "cell_type": "markdown",
   "metadata": {
    "deletable": false,
    "editable": false,
    "nbgrader": {
     "checksum": "c09b66f37bdee28ed52c52b6017f2cf2",
     "grade": false,
     "grade_id": "cell-53e1abf388eedabe",
     "locked": true,
     "schema_version": 1,
     "solution": false
    },
    "tags": []
   },
   "source": [
    "#### (a) $x = 1 \\times 10^{7}$"
   ]
  },
  {
   "cell_type": "code",
   "execution_count": null,
   "metadata": {
    "deletable": false,
    "editable": false,
    "nbgrader": {
     "checksum": "07ff77b706b18c392edfb815685a3bc3",
     "grade": true,
     "grade_id": "cell-149ac8791e7ff020",
     "locked": false,
     "points": 0,
     "schema_version": 1,
     "solution": true
    }
   },
   "outputs": [],
   "source": [
    "# YOUR CODE HERE\n",
    "raise NotImplementedError()"
   ]
  },
  {
   "cell_type": "code",
   "execution_count": null,
   "metadata": {
    "deletable": false,
    "editable": false
   },
   "outputs": [],
   "source": [
    "print(f0,f1)"
   ]
  },
  {
   "cell_type": "markdown",
   "metadata": {
    "deletable": false,
    "editable": false,
    "nbgrader": {
     "checksum": "c2132f7f9da6593c6536e19435aeeab7",
     "grade": false,
     "grade_id": "cell-bcc863a1c5c8a6f8",
     "locked": true,
     "schema_version": 1,
     "solution": false
    }
   },
   "source": [
    "#### (b) $x = 1 \\times 10^{9}$"
   ]
  },
  {
   "cell_type": "code",
   "execution_count": null,
   "metadata": {
    "deletable": false,
    "editable": false,
    "nbgrader": {
     "checksum": "c2e05e9fd5ffdd3901355b52c90169ba",
     "grade": true,
     "grade_id": "cell-4ef986ef1f5838ba",
     "locked": false,
     "points": 0,
     "schema_version": 1,
     "solution": true
    }
   },
   "outputs": [],
   "source": [
    "# YOUR CODE HERE\n",
    "raise NotImplementedError()"
   ]
  },
  {
   "cell_type": "code",
   "execution_count": null,
   "metadata": {
    "deletable": false,
    "editable": false
   },
   "outputs": [],
   "source": [
    "print(f1)"
   ]
  },
  {
   "cell_type": "markdown",
   "metadata": {
    "deletable": false,
    "editable": false,
    "nbgrader": {
     "checksum": "c09b66f37bdee28ed52c52b6017f2cf2",
     "grade": false,
     "grade_id": "cell-53e1abf388eedabe",
     "locked": true,
     "schema_version": 1,
     "solution": false
    }
   },
   "source": [
    "#### Using 32 bit floating points compute (a) $x = 1 \\times 10^{7}$"
   ]
  },
  {
   "cell_type": "code",
   "execution_count": null,
   "metadata": {
    "deletable": false,
    "editable": false,
    "nbgrader": {
     "checksum": "07ff77b706b18c392edfb815685a3bc3",
     "grade": true,
     "grade_id": "cell-149ac8791e7ff020",
     "locked": false,
     "points": 0,
     "schema_version": 1,
     "solution": true
    }
   },
   "outputs": [],
   "source": [
    "# YOUR CODE HERE\n",
    "raise NotImplementedError()"
   ]
  },
  {
   "cell_type": "code",
   "execution_count": null,
   "metadata": {
    "deletable": false,
    "editable": false
   },
   "outputs": [],
   "source": [
    "print(f0,f1)"
   ]
  },
  {
   "cell_type": "markdown",
   "metadata": {
    "deletable": false,
    "editable": false,
    "nbgrader": {
     "checksum": "c09b66f37bdee28ed52c52b6017f2cf2",
     "grade": false,
     "grade_id": "cell-53e1abf388eedabe",
     "locked": true,
     "schema_version": 1,
     "solution": false
    }
   },
   "source": [
    "#### Using 16 bit floating points compute (a) $x = 1 \\times 10^{7}$"
   ]
  },
  {
   "cell_type": "code",
   "execution_count": null,
   "metadata": {
    "deletable": false,
    "editable": false,
    "nbgrader": {
     "checksum": "07ff77b706b18c392edfb815685a3bc3",
     "grade": true,
     "grade_id": "cell-149ac8791e7ff020",
     "locked": false,
     "points": 0,
     "schema_version": 1,
     "solution": true
    }
   },
   "outputs": [],
   "source": [
    "# YOUR CODE HERE\n",
    "raise NotImplementedError()"
   ]
  },
  {
   "cell_type": "code",
   "execution_count": null,
   "metadata": {
    "deletable": false,
    "editable": false
   },
   "outputs": [],
   "source": [
    "print(f0,f1)"
   ]
  },
  {
   "cell_type": "markdown",
   "metadata": {
    "deletable": false,
    "editable": false
   },
   "source": [
    "<!-- END QUESTION -->\n",
    "\n"
   ]
  },
  {
   "cell_type": "markdown",
   "metadata": {
    "deletable": false,
    "editable": false
   },
   "source": [
    "## Submission\n",
    "\n",
    "Make sure you have run all cells in your notebook in order before running the cell below, so that all images/graphs appear in the output. The cell below will generate a zip file for you to submit. **Please save before exporting!**\n",
    "\n",
    "These are some submission instructions."
   ]
  },
  {
   "cell_type": "code",
   "execution_count": null,
   "metadata": {
    "deletable": false,
    "editable": false
   },
   "outputs": [],
   "source": [
    "# Save your notebook first, then run this cell to export your submission.\n",
    "grader.export(run_tests=True)"
   ]
  },
  {
   "cell_type": "markdown",
   "metadata": {},
   "source": [
    " "
   ]
  }
 ],
 "metadata": {
  "IMAGE_NAME": "taccsciapps/ds-nb-img:base-0.1.0",
  "UUID": "d3712b52-1fed-11ed-8eb1-126c2491d9f9",
  "kernelspec": {
   "display_name": "Python 3 (ipykernel)",
   "language": "python",
   "name": "python3"
  },
  "language_info": {
   "codemirror_mode": {
    "name": "ipython",
    "version": 3
   },
   "file_extension": ".py",
   "mimetype": "text/x-python",
   "name": "python",
   "nbconvert_exporter": "python",
   "pygments_lexer": "ipython3",
   "version": "3.9.16"
  },
  "otter": {
   "OK_FORMAT": true,
   "tests": {
    "q1": {
     "name": "q1",
     "points": null,
     "suites": [
      {
       "cases": [
        {
         "code": ">>> assert d0 == 30.0\n",
         "hidden": false,
         "locked": false
        },
        {
         "code": ">>> assert d1 != 30.0\n",
         "hidden": false,
         "locked": false
        },
        {
         "code": ">>> assert d0 != d1\n",
         "hidden": false,
         "locked": false
        }
       ],
       "scored": true,
       "setup": "",
       "teardown": "",
       "type": "doctest"
      }
     ]
    },
    "q2": {
     "name": "q2",
     "points": null,
     "suites": [
      {
       "cases": [
        {
         "code": ">>> assert math.isclose(ans1[0], 65944160.60120103, rel_tol=1e-10)\n>>> assert math.isclose(ans1[1], 65944160.601201, rel_tol=1e-10)\n",
         "hidden": false,
         "locked": false
        },
        {
         "code": ">>> assert math.isclose(ans2[0], 1.0e-6, rel_tol=1e-10)\n>>> assert math.isclose(ans2[1], 1.0e-6, rel_tol=1e-2)\n",
         "hidden": false,
         "locked": false
        },
        {
         "code": ">>> assert math.isclose(ans3[0], 65821226.05029293, rel_tol=1e-10)\n>>> assert math.isclose(ans3[1], 65974924.11685877, rel_tol=1e-10)\n",
         "hidden": false,
         "locked": false
        },
        {
         "code": ">>> assert math.isclose(ans4[0], 1.0974893029924715e-06, rel_tol=1e-10)\n>>> assert math.isclose(ans4[1], 1.0977964848279953e-06, rel_tol=1e-2)\n",
         "hidden": false,
         "locked": false
        }
       ],
       "scored": true,
       "setup": "",
       "teardown": "",
       "type": "doctest"
      }
     ]
    }
   }
  },
  "varInspector": {
   "cols": {
    "lenName": 16,
    "lenType": 16,
    "lenVar": 40
   },
   "kernels_config": {
    "python": {
     "delete_cmd_postfix": "",
     "delete_cmd_prefix": "del ",
     "library": "var_list.py",
     "varRefreshCmd": "print(var_dic_list())"
    },
    "r": {
     "delete_cmd_postfix": ") ",
     "delete_cmd_prefix": "rm(",
     "library": "var_list.r",
     "varRefreshCmd": "cat(var_dic_list()) "
    }
   },
   "types_to_exclude": [
    "module",
    "function",
    "builtin_function_or_method",
    "instance",
    "_Feature"
   ],
   "window_display": false
  }
 },
 "nbformat": 4,
 "nbformat_minor": 4
}
