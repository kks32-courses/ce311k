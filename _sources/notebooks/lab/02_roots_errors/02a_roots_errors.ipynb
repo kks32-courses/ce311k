{
 "cells": [
  {
   "cell_type": "code",
   "execution_count": null,
   "metadata": {
    "deletable": false,
    "editable": false
   },
   "outputs": [],
   "source": [
    "# Initialize Otter\n",
    "import otter\n",
    "grader = otter.Notebook(\"02a_roots_errors.ipynb\")"
   ]
  },
  {
   "cell_type": "markdown",
   "metadata": {},
   "source": [
    "## Exercise 02a.1 (bisection)\n",
    "\n",
    "Bisection is an iterative method for finding approximate roots of a function. Say we know that the function $f(x)$ has one root between $x_{0}$ and $x_{1}$ ($x_{0} < x_{1}$). We then:\n",
    "\n",
    "- Evaluate $f$ at the midpoint $x_{\\rm mid} = (x_0 + x_1)/2$, i.e. compute\n",
    "   $f_{\\rm mid} = f(x_{\\rm mid})$\n",
    "- Evaluate $f(x_0) \\cdot f(x_{\\rm mid})$\n",
    "\n",
    "  - If $f(x_0) \\cdot f(x_{\\rm mid}) < 0$: \n",
    "\n",
    "    $f$ must change sign somewhere between $x_0$ and $x_{\\rm mid}$, hence the root must lie between \n",
    "    $x_0$ and $x_{\\rm mid}$, so set $x_1 = x_{\\rm mid}$.\n",
    "   \n",
    "  - Else\n",
    "\n",
    "    $f$ must change sign somewhere between $x_{\\rm mid}$ and $x_1$, so set\n",
    "    $x_0 = x_{\\rm mid}$.\n",
    "\n",
    "The above steps can be repeated a specified number of times, or until $|f_{\\rm mid}|$\n",
    "is below a tolerance, with $x_{\\rm mid}$ being the approximate root.\n",
    "\n",
    "\n",
    "### Task\n",
    "\n",
    "The function\n",
    "\n",
    "$$\n",
    "f(x) = x^3 - 6x^2 + 4x + 12\n",
    "$$\n",
    "\n",
    "has one root somewhere between $x_0 = 3$ and $x_1 = 6$.\n",
    "\n",
    "1. Use the bisection method to find an approximate root $x_{r}$ using 15 iterations \n",
    "   (use a `for` loop).\n",
    "2. Use the bisection method to find an approximate root $x_{r}$ such that \n",
    "   $\\left| f(x_{r}) \\right| < 1 \\times 10^{-6}$ and report the number of iterations \n",
    "   required (use a `for` loop with a large number of iterations).\n",
    "\n",
    "Store the approximate root using the variable `x_mid`, and store $f(x_{\\rm mid})$ using the variable `f`. And store them in the list `ans`= [`x_mid`, `f`]\n",
    "\n",
    "*Hint:* Use  `abs` to compute the absolute value of a number, e.g. `y = abs(x)` assigns the absolute value of `x` to `y`. "
   ]
  },
  {
   "cell_type": "code",
   "execution_count": null,
   "metadata": {
    "tags": []
   },
   "outputs": [],
   "source": [
    "# Task 1: For loop with a defined number of iterations\n",
    "# Initial end points\n",
    "x0 = 3.0\n",
    "x1 = 6.0\n",
    "\n",
    "for n in range(...):\n",
    "    ...\n",
    "ans1 = [x_mid, f] # store answers in the list\n",
    "# Print the number of iterations, final x and final f value\n",
    "print(n, ans1[0], ans1[1])"
   ]
  },
  {
   "cell_type": "code",
   "execution_count": null,
   "metadata": {
    "tags": []
   },
   "outputs": [],
   "source": [
    "assert round(ans1[0] - 4.534149169921875, 10) == 0.0\n",
    "assert abs(ans1[1]) < 0.0009"
   ]
  },
  {
   "cell_type": "code",
   "execution_count": null,
   "metadata": {
    "tags": []
   },
   "outputs": [],
   "source": [
    "# Task 2: For loop with a defined tolerance\n",
    "# Initial end points\n",
    "x0 = 3.0\n",
    "x1 = 6.0\n",
    "tol = 1.0e-6\n",
    "\n",
    "counter = ... #number of iteration\n",
    "ans2 = [x_mid, f] # store answers in the list\n",
    "print(counter, ans2[0], ans2[1]) \n"
   ]
  },
  {
   "cell_type": "code",
   "execution_count": null,
   "metadata": {
    "tags": []
   },
   "outputs": [],
   "source": [
    "assert counter == 23\n",
    "assert round(ans2[0] - 4.534149169921875, 3) == 0.0\n",
    "assert abs(ans2[1]) < 1.0e-6"
   ]
  },
  {
   "cell_type": "code",
   "execution_count": null,
   "metadata": {
    "deletable": false,
    "editable": false
   },
   "outputs": [],
   "source": [
    "grader.check(\"q1\")"
   ]
  },
  {
   "cell_type": "markdown",
   "metadata": {
    "deletable": false,
    "editable": false
   },
   "source": [
    "## Exercise 02a.2 (series expansion)\n",
    "\n",
    "The power series expansion for the sine function is: \n",
    "\n",
    "$$\n",
    "\\sin(x) = \\sum_{n = 0}^{\\infty} (-1)^n \\frac{x^{2n +1}}{(2n+1)!}\n",
    "$$\n",
    "\n",
    "(See mathematics data book for a less compact version; this compact version is preferred here as it is simpler to program.)\n",
    "\n",
    "1. Using a `for` statement, approximate $\\sin(3\\pi/2)$ using 15 terms in the series expansion and report the absolute error.\n",
    "\n",
    "1. Using a `for` statement, compute how many terms in the series are required to approximate $\\sin(3\\pi/2)$ to within $1 \\times 10^{-8}$. \n",
    "\n",
    "Store the absolute value of the error in the variable `error`.\n",
    "\n",
    "*Note:* Calculators and computers use iterative or series expansions to compute trigonometric functions, similar to the one above (although they use more efficient formulations than the above series).\n",
    "\n",
    "### Hints\n",
    "\n",
    "To compute the factorial and to get a good approximation of $\\pi$, use the Python `math` module:\n",
    "```python\n",
    "import math\n",
    "nfact = math.factorial(10)\n",
    "pi = math.pi\n",
    "```\n",
    "You only need '`import math`' once at the top of your program. Standard modules, like `math`, will be explained in a later. If you want to test for angles for which sine is not simple, you can use \n",
    "```python\n",
    "a = 1.3\n",
    "s = math.sin(a)\n",
    "```    \n",
    "to get an accurate computation of sine to check the absolute error."
   ]
  },
  {
   "cell_type": "markdown",
   "metadata": {},
   "source": [
    "_Type your answer here, replacing this text._"
   ]
  },
  {
   "cell_type": "code",
   "execution_count": null,
   "metadata": {
    "tags": []
   },
   "outputs": [],
   "source": [
    "# Import the math module to access math.sin and math.factorial\n",
    "import math\n",
    "\n",
    "# Value at which to approximate sine\n",
    "x = 1.5*math.pi\n",
    "\n",
    "# Initialise approximation of sine\n",
    "approx_sin = 0.0\n",
    "\n",
    "# YOUR CODE HERE\n",
    "raise NotImplementedError()\n",
    "    \n",
    "print(\"The error is:\")\n",
    "print(error_2)"
   ]
  },
  {
   "cell_type": "code",
   "execution_count": null,
   "metadata": {
    "tags": []
   },
   "outputs": [],
   "source": [
    "assert error_2 < 1.0e-12"
   ]
  },
  {
   "cell_type": "code",
   "execution_count": null,
   "metadata": {
    "tags": []
   },
   "outputs": [],
   "source": [
    "# Import the math module to access math.sin and math.factorial\n",
    "import math\n",
    "\n",
    "# Value at which to approximate sine\n",
    "x = 1.5*math.pi\n",
    "\n",
    "# Tolerance and initial error (this just needs to be larger than tol)\n",
    "tol = 1.0e-8\n",
    "error_3 = tol + 1.0\n",
    "\n",
    "# Intialise approximation of sine\n",
    "approx_sin = 0.0\n",
    "\n",
    "# Initialise counter\n",
    "n_term = 0\n",
    "\n",
    "# Loop until error satisfies tolerance or a fixed number of iterations is reached\n",
    "for i in range(1001):\n",
    "    \n",
    "    # YOUR CODE HERE\n",
    "    raise NotImplementedError()\n",
    "    \n",
    "    \n",
    "print(\"The error is:\")\n",
    "print(error_3)\n",
    "\n",
    "print(\"Number of terms in series:\")\n",
    "print(n_term)"
   ]
  },
  {
   "cell_type": "code",
   "execution_count": null,
   "metadata": {
    "tags": []
   },
   "outputs": [],
   "source": [
    "assert error_3 <= 1.0e-8\n",
    "assert n_term == 12"
   ]
  },
  {
   "cell_type": "code",
   "execution_count": null,
   "metadata": {
    "deletable": false,
    "editable": false
   },
   "outputs": [],
   "source": [
    "grader.check(\"q2\")"
   ]
  },
  {
   "cell_type": "markdown",
   "metadata": {
    "deletable": false,
    "editable": false
   },
   "source": [
    "## Submission\n",
    "\n",
    "Make sure you have run all cells in your notebook in order before running the cell below, so that all images/graphs appear in the output. The cell below will generate a zip file for you to submit. **Please save before exporting!**\n",
    "\n",
    "These are some submission instructions."
   ]
  },
  {
   "cell_type": "code",
   "execution_count": null,
   "metadata": {
    "deletable": false,
    "editable": false
   },
   "outputs": [],
   "source": [
    "# Save your notebook first, then run this cell to export your submission.\n",
    "grader.export(run_tests=True)"
   ]
  },
  {
   "cell_type": "markdown",
   "metadata": {},
   "source": [
    " "
   ]
  }
 ],
 "metadata": {
  "IMAGE_NAME": "taccsciapps/ds-nb-img:base-0.1.0",
  "UUID": "d3712b52-1fed-11ed-8eb1-126c2491d9f9",
  "kernelspec": {
   "display_name": "Python 3 (ipykernel)",
   "language": "python",
   "name": "python3"
  },
  "language_info": {
   "codemirror_mode": {
    "name": "ipython",
    "version": 3
   },
   "file_extension": ".py",
   "mimetype": "text/x-python",
   "name": "python",
   "nbconvert_exporter": "python",
   "pygments_lexer": "ipython3",
   "version": "3.9.16"
  },
  "otter": {
   "OK_FORMAT": true,
   "tests": {
    "q1": {
     "name": "q1",
     "points": null,
     "suites": [
      {
       "cases": [
        {
         "code": ">>> assert round(ans1[0] - 4.534149169921875, 10) == 0.0\n",
         "hidden": false,
         "locked": false
        },
        {
         "code": ">>> assert abs(ans1[1]) < 0.0009\n",
         "hidden": false,
         "locked": false
        },
        {
         "code": ">>> assert counter == 23\n",
         "hidden": false,
         "locked": false
        },
        {
         "code": ">>> assert round(ans2[0] - 4.534149169921875, 3) == 0.0\n",
         "hidden": false,
         "locked": false
        },
        {
         "code": ">>> assert abs(ans2[1]) < 1.0e-6\n",
         "hidden": false,
         "locked": false
        }
       ],
       "scored": true,
       "setup": "",
       "teardown": "",
       "type": "doctest"
      }
     ]
    },
    "q2": {
     "name": "q2",
     "points": null,
     "suites": [
      {
       "cases": [
        {
         "code": ">>> assert error_2 < 1.0e-12\n",
         "hidden": false,
         "locked": false
        },
        {
         "code": ">>> assert error_3 <= 1.0e-8\n",
         "hidden": false,
         "locked": false
        },
        {
         "code": ">>> assert n_term == 12\n",
         "hidden": false,
         "locked": false
        }
       ],
       "scored": true,
       "setup": "",
       "teardown": "",
       "type": "doctest"
      }
     ]
    }
   }
  },
  "varInspector": {
   "cols": {
    "lenName": 16,
    "lenType": 16,
    "lenVar": 40
   },
   "kernels_config": {
    "python": {
     "delete_cmd_postfix": "",
     "delete_cmd_prefix": "del ",
     "library": "var_list.py",
     "varRefreshCmd": "print(var_dic_list())"
    },
    "r": {
     "delete_cmd_postfix": ") ",
     "delete_cmd_prefix": "rm(",
     "library": "var_list.r",
     "varRefreshCmd": "cat(var_dic_list()) "
    }
   },
   "types_to_exclude": [
    "module",
    "function",
    "builtin_function_or_method",
    "instance",
    "_Feature"
   ],
   "window_display": false
  }
 },
 "nbformat": 4,
 "nbformat_minor": 4
}
