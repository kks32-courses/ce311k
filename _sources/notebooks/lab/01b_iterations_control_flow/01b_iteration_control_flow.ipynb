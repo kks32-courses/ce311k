{
 "cells": [
  {
   "attachments": {},
   "cell_type": "markdown",
   "metadata": {},
   "source": [
    "# Lab 1b: Roots"
   ]
  },
  {
   "cell_type": "code",
   "execution_count": null,
   "metadata": {},
   "outputs": [],
   "source": [
    "# Initialize Otter\n",
    "import otter\n",
    "grader = otter.Notebook(\"02a_roots_errors.ipynb\")"
   ]
  },
  {
   "attachments": {},
   "cell_type": "markdown",
   "metadata": {},
   "source": [
    "The purpose of this lab is to develop your skills in writing iterations (for) and control flow (if/else).\n",
    " \n",
    "Write a python code to calculate the sum of first $n$ elements for the following series. Use $n = 100$.\n",
    "\n",
    "a. Arithmetic sum: $arithmetic =  1 + 2 + 3 + 4 + 5 + 6 + 7 + \\dots + n$"
   ]
  },
  {
   "cell_type": "code",
   "execution_count": null,
   "metadata": {
    "deletable": false
   },
   "outputs": [],
   "source": [
    "sum = 0\n",
    "\n",
    "# remove the exception below\n",
    "raise NotImplementedError()"
   ]
  },
  {
   "cell_type": "code",
   "execution_count": null,
   "metadata": {
    "deletable": false,
    "editable": false
   },
   "outputs": [],
   "source": [
    "assert sum == 5050"
   ]
  },
  {
   "attachments": {},
   "cell_type": "markdown",
   "metadata": {
    "deletable": false
   },
   "source": [
    "b. Sum: $val = 1 - 2 + 3 - 4 + 5 - 6 + \\dots + n$\n"
   ]
  },
  {
   "cell_type": "code",
   "execution_count": null,
   "metadata": {
    "deletable": false
   },
   "outputs": [],
   "source": [
    "val = 0\n",
    "\n",
    "# remove the exception below\n",
    "raise NotImplementedError()"
   ]
  },
  {
   "cell_type": "code",
   "execution_count": null,
   "metadata": {
    "deletable": false,
    "editable": false
   },
   "outputs": [],
   "source": [
    "assert val == -50"
   ]
  },
  {
   "attachments": {},
   "cell_type": "markdown",
   "metadata": {},
   "source": [
    "c. Compute the sum for up to **10 elements** in the series: $$fractions = 1 + \\frac{1}{2} + \\frac{1}{4} + \\frac{1}{8} + \\frac{1}{16} + \\frac{1}{32}+ \\frac{1}{64} \\dots$$"
   ]
  },
  {
   "cell_type": "code",
   "execution_count": null,
   "metadata": {},
   "outputs": [],
   "source": [
    "fractions = 0\n",
    "\n",
    "# remove the exception below\n",
    "raise NotImplementedError()"
   ]
  },
  {
   "cell_type": "code",
   "execution_count": null,
   "metadata": {},
   "outputs": [],
   "source": [
    "assert round(fractions - 1.998046875, 8) == 0.0"
   ]
  },
  {
   "attachments": {},
   "cell_type": "markdown",
   "metadata": {
    "deletable": false
   },
   "source": [
    "## Exercise 01b.2: Compute the prime factors for a number `n`\n",
    "\n",
    "When checking if a number is prime, it is sufficient to check if it is divisble by numbers between 2 and it's square root. Use `math.sqrt(x)` to get the square root of the number `x`. \n",
    "\n",
    "Hint: You may need to use a nested for-loop and use `break` to exit the code earlier, when a condition is not met."
   ]
  },
  {
   "cell_type": "code",
   "execution_count": null,
   "metadata": {},
   "outputs": [],
   "source": [
    "n = 1330\n",
    "\n",
    "# Prime factors\n",
    "prime_factors = []\n",
    "\n",
    "# Write your code here and remove the exception below\n",
    "raise NotImplementedError()"
   ]
  },
  {
   "cell_type": "code",
   "execution_count": null,
   "metadata": {
    "deletable": false,
    "editable": false
   },
   "outputs": [],
   "source": [
    "assert prime_factors == [2, 5, 7, 19]"
   ]
  },
  {
   "attachments": {},
   "cell_type": "markdown",
   "metadata": {},
   "source": [
    "## Exercise 01b.3: Shipping costs\n",
    "\n",
    "Write a Python code to compute the cost of shipping a package according to the following price schedule:\n",
    "\n",
    "![Shipping costs](https://raw.githubusercontent.com/kks32-courses/ce311k/master/notebooks/lab/01b_iterations_control_flow/shipping-costs.png)\n",
    "\n",
    "\n",
    "**Write the code for all possible cases**"
   ]
  },
  {
   "cell_type": "code",
   "execution_count": null,
   "metadata": {
    "deletable": false
   },
   "outputs": [],
   "source": [
    "shipping = \"Express\"\n",
    "weight = 3.75\n",
    "cost = 0\n",
    "\n",
    "# Write your code here and remove the exception below\n",
    "raise NotImplementedError()"
   ]
  },
  {
   "cell_type": "code",
   "execution_count": null,
   "metadata": {
    "deletable": false,
    "editable": false
   },
   "outputs": [],
   "source": [
    "assert round(cost - 12.20, 2) == 0"
   ]
  },
  {
   "attachments": {},
   "cell_type": "markdown",
   "metadata": {},
   "source": [
    "# Exercise 01b.4: Bisection approach\n",
    "Using bisection approach find the roots of the following function $f(x)=x^6 -x -1$ accurate upto 5 decimal places."
   ]
  },
  {
   "cell_type": "code",
   "execution_count": null,
   "metadata": {},
   "outputs": [],
   "source": []
  },
  {
   "cell_type": "code",
   "execution_count": null,
   "metadata": {
    "deletable": false,
    "editable": false
   },
   "outputs": [],
   "source": [
    "assert round(x - -0.7780914306640625, 5) == 0"
   ]
  }
 ],
 "metadata": {
  "kernelspec": {
   "display_name": "Python 3",
   "language": "python",
   "name": "python3"
  },
  "language_info": {
   "codemirror_mode": {
    "name": "ipython",
    "version": 3
   },
   "file_extension": ".py",
   "mimetype": "text/x-python",
   "name": "python",
   "nbconvert_exporter": "python",
   "pygments_lexer": "ipython3",
   "version": "3.9.0"
  }
 },
 "nbformat": 4,
 "nbformat_minor": 1
}
