{
 "cells": [
  {
   "cell_type": "code",
   "execution_count": null,
   "metadata": {
    "deletable": false,
    "editable": false
   },
   "outputs": [],
   "source": [
    "# Initialize Otter\n",
    "import otter\n",
    "grader = otter.Notebook(\"04_data_structures.ipynb\")"
   ]
  },
  {
   "cell_type": "markdown",
   "metadata": {
    "deletable": false,
    "editable": false,
    "id": "DiqM4ceNhLzN",
    "nbgrader": {
     "checksum": "8969a6543eebd1c7db89a71bb75e61ee",
     "grade": false,
     "grade_id": "cell-7b3313f25bceb7a2",
     "locked": true,
     "schema_version": 1,
     "solution": false
    }
   },
   "source": [
    "## Exercise 04.1 (selecting and passing data structures)\n",
    "\n",
    "Given the coordinates of the vertices of a triangle, $(x_0, y_0)$, $(x_1, y_1)$ and $(x_2, y_2)$, the area $A$ of the triangle is given by:\n",
    "$$\n",
    "A = \\left| \\frac{x_0(y_1  - y_2) + x_1(y_2 - y_0) + x_2(y_0 - y_1)}{2} \\right|\n",
    "$$\n",
    "There is an old function named `area` that computes the area of a triangle given the coordinates of the vertices as six arguments ($x$ and $y$ components of each vertex). The order of the function arguments must be (`x0, y0, x1, y1, x2, y2)`. With six arguments, the likelihood of a user passing arguments in the wrong order is high. \n",
    "\n",
    "You have been hired as a Python consultant to rewrite the function for computing the area of a triangle.\n",
    "\n",
    "Use an appropriate data structure, e.g. a `list`, `tuple`, `dict`, etc,  to develop a new version of the function with a simpler interface (the interface is the arguments that are passed to the function). Add appropriate checks inside your function to validate the input data.<br>\n",
    "**HINT:** <li>if the number of input coordinates is not 3, print \"incorrect number of coordinates\"</li>\n",
    "<li>if the calculated area is 0, print \"invalid coordinates for a triangle\"</li>"
   ]
  },
  {
   "cell_type": "code",
   "execution_count": null,
   "metadata": {
    "tags": []
   },
   "outputs": [],
   "source": [
    "# input format\n",
    "# coord = [(x0,y0),(x1,y1),(x2,y2)]\n",
    "# area_triangle(coord)\n",
    "# YOUR CODE HERE\n",
    "def area_triangle(...):\n",
    "    ..."
   ]
  },
  {
   "cell_type": "code",
   "execution_count": null,
   "metadata": {
    "tags": []
   },
   "outputs": [],
   "source": [
    "a = [(1,1),(2,5),(3,1)]\n",
    "area_triangle(a)"
   ]
  },
  {
   "cell_type": "code",
   "execution_count": null,
   "metadata": {
    "tags": []
   },
   "outputs": [],
   "source": [
    "a = [(1,1),(2,5)]\n",
    "area_triangle(a)"
   ]
  },
  {
   "cell_type": "code",
   "execution_count": null,
   "metadata": {
    "tags": []
   },
   "outputs": [],
   "source": [
    "a = [(1,1),(2,5),(3,1),(2,0)]\n",
    "area_triangle(a)"
   ]
  },
  {
   "cell_type": "code",
   "execution_count": null,
   "metadata": {
    "tags": []
   },
   "outputs": [],
   "source": [
    "a = [(1,1),(2,5),(2,5)]\n",
    "area_triangle(a)"
   ]
  },
  {
   "cell_type": "code",
   "execution_count": null,
   "metadata": {
    "deletable": false,
    "editable": false
   },
   "outputs": [],
   "source": [
    "grader.check(\"q1\")"
   ]
  },
  {
   "cell_type": "markdown",
   "metadata": {
    "deletable": false,
    "editable": false,
    "id": "muI2dTuthLzZ",
    "nbgrader": {
     "checksum": "538793e1776653182d193a7700588461",
     "grade": false,
     "grade_id": "cell-5065052af9989fdf",
     "locked": true,
     "schema_version": 1,
     "solution": false
    }
   },
   "source": [
    "## Exercise 04.2 (selecting data structures)\n",
    "\n",
    "For a simple (non-intersecting) polygon with $n$ vertices, $(x_0, y_0)$, $(x_1, y_1)$, . . , $(x_{n-1}, y_{n-1})$, the area $A$ is given by\n",
    "$$\n",
    "A = \\left| \\frac{1}{2} \\sum_{i=0}^{n-1} \\left(x_{i} y _{i+1} - x_{i+1} y_{i} \\right) \\right|\n",
    "$$\n",
    "and where $(x_n, y_n) = (x_0, y_0)$. The vertices should be ordered as you move around the polygon.\n",
    "\n",
    "Write a function that computes the area of a simple polygon with an arbitrary number of vertices. Test your function for some simple shapes. Pay careful attention to the range of any loops."
   ]
  },
  {
   "cell_type": "code",
   "execution_count": null,
   "metadata": {
    "tags": []
   },
   "outputs": [],
   "source": [
    "def polygon_area"
   ]
  },
  {
   "cell_type": "code",
   "execution_count": null,
   "metadata": {
    "tags": []
   },
   "outputs": [],
   "source": [
    "vertices = [(1,1),(2,5),(3,1)]\n",
    "polygon_area(vertices)"
   ]
  },
  {
   "cell_type": "code",
   "execution_count": null,
   "metadata": {
    "tags": []
   },
   "outputs": [],
   "source": [
    "vertices=[(1,1),(2,5),(5,5),(6,1)]\n",
    "polygon_area(vertices)"
   ]
  },
  {
   "cell_type": "code",
   "execution_count": null,
   "metadata": {
    "deletable": false,
    "editable": false
   },
   "outputs": [],
   "source": [
    "grader.check(\"q2\")"
   ]
  },
  {
   "cell_type": "markdown",
   "metadata": {
    "deletable": false,
    "editable": false,
    "id": "nlhwJcR5hLzj",
    "nbgrader": {
     "checksum": "31a71dcd54f996f2f798df30114b9faf",
     "grade": false,
     "grade_id": "cell-ced99a38c7bbe7a0",
     "locked": true,
     "schema_version": 1,
     "solution": false
    }
   },
   "source": [
    "## Exercise 04.3 (indexing)\n",
    "\n",
    "Write a function that uses list indexing to add two vectors of arbitrary length, and returns the new vector. Include a check that the vector sizes match, and print a warning message if there is a size mismatch. The more error information you provide, the easier it would be for someone using your function to debug their code.\n",
    "\n",
    "Add some tests of your code.\n",
    "\n",
    "#### Hint: You can create a list of zeros of length `n` by\n",
    "\n",
    "    z = [0]*n\n",
    "    \n",
    "#### Optional (advanced) \n",
    "\n",
    "Try writing a one-line version of this operation using list comprehension and the built-in function [`zip`](https://docs.python.org/3/library/functions.html#zip)."
   ]
  },
  {
   "cell_type": "code",
   "execution_count": null,
   "metadata": {
    "tags": []
   },
   "outputs": [],
   "source": [
    "a = [0, 4.3, -5, 7]\n",
    "b = [-2, 7, -15, 1]\n",
    "def sum_vector(...):\n",
    "    ..."
   ]
  },
  {
   "cell_type": "code",
   "execution_count": null,
   "metadata": {
    "tags": []
   },
   "outputs": [],
   "source": [
    "a = [0, 4.3, -5, 7]\n",
    "b = [-2, 7, -15, 1]\n",
    "sum_vector(a,b)"
   ]
  },
  {
   "cell_type": "code",
   "execution_count": null,
   "metadata": {
    "deletable": false,
    "editable": false
   },
   "outputs": [],
   "source": [
    "grader.check(\"q3\")"
   ]
  },
  {
   "cell_type": "markdown",
   "metadata": {
    "deletable": false,
    "editable": false,
    "id": "v-AO_xfyhLz4"
   },
   "source": [
    "## Exercise 04.4 (dictionaries)\n",
    "\n",
    "Create a dictionary that maps build names (the key) to building abbreviations for at least 5 buildings\n",
    "(you can find abbreviations at https://utdirect.utexas.edu/apps/campus/buildings/nlogon/facilities/UTM/).\n",
    "From the dictionary, produce and print\n",
    "\n",
    "1. A dictionary from building abbreviation to name; and\n",
    "1. A list of building abbreviations sorted into alphabetical order.\n",
    "\n",
    "*Optional extension:* Create a dictionary that maps building names (the key) to dictionaries of:\n",
    "\n",
    "- Building abbreviation\n",
    "- Year occupied\n",
    "- Zones\n",
    " \n",
    "for at least 5 building. Take the data from https://utdirect.utexas.edu/apps/campus/buildings/nlogon/facilities/UTM/. Using this dictionary, \n",
    "\n",
    "1. Find the oldest occupied building, and print the zone and the abbreviation for this building\n",
    "2. Find the oldest building in a given zone."
   ]
  },
  {
   "cell_type": "code",
   "execution_count": null,
   "metadata": {
    "tags": []
   },
   "outputs": [],
   "source": [
    "# find the abbreviations for the buildings\n",
    "buildings = [\"ATHLETIC FIELDS PAVILION (EASTSIDE)\", \n",
    "            \"ALMETRIS DUREN RESIDENCE HALL\",\n",
    "            \"ATHLETIC FIELDS PAVILION (REHAB)\",\n",
    "            \"ATHLETIC FIELDS PAVILION\",\n",
    "            \"ANNA HISS GYMNASIUM\"]\n",
    "# make a dictionary that maps building names (key) to building abbreviations (value)\n",
    "building_abv = ...\n",
    "\n",
    "# make a dictionary that maps building abbreviations (key) to building names (value)\n",
    "# Hint: use building_abv to create the this dictionary. Don't manually type keys and values...\n",
    "abv_building = ...\n",
    "\n",
    "# make a list of building abbreviations and sort them into alphabetical order\n",
    "# Hint: use the dictionary functions .values() or .keys() to list the values or keys, and then use the function 'sorted' to sort the list.\n",
    "sorted_abv = ...\n",
    "\n",
    "# make a dictionary that maps building names to the years occupied\n",
    "building_year = ...\n",
    "\n",
    "# make a dictionary that maps building names to zones\n",
    "building_zone = ...\n",
    "\n",
    "# use the dictionaries above to find the oldest building in the dictionary\n",
    "old_building = ...\n",
    "old_zone = ...\n",
    "old_abv = ...\n",
    "\n",
    "# use the dictionaries above to find the oldest building in zone 3\n",
    "old_building2 = ..."
   ]
  },
  {
   "cell_type": "code",
   "execution_count": null,
   "metadata": {
    "tags": []
   },
   "outputs": [],
   "source": [
    "sorted_abv"
   ]
  },
  {
   "cell_type": "code",
   "execution_count": null,
   "metadata": {
    "tags": []
   },
   "outputs": [],
   "source": [
    "old_building"
   ]
  },
  {
   "cell_type": "code",
   "execution_count": null,
   "metadata": {
    "tags": []
   },
   "outputs": [],
   "source": [
    "old_abv"
   ]
  },
  {
   "cell_type": "code",
   "execution_count": null,
   "metadata": {
    "tags": []
   },
   "outputs": [],
   "source": [
    "old_zone"
   ]
  },
  {
   "cell_type": "code",
   "execution_count": null,
   "metadata": {
    "tags": []
   },
   "outputs": [],
   "source": [
    "old_building2"
   ]
  },
  {
   "cell_type": "code",
   "execution_count": null,
   "metadata": {
    "deletable": false,
    "editable": false
   },
   "outputs": [],
   "source": [
    "grader.check(\"q4\")"
   ]
  },
  {
   "cell_type": "markdown",
   "metadata": {
    "deletable": false,
    "editable": false
   },
   "source": [
    "## Submission\n",
    "\n",
    "Make sure you have run all cells in your notebook in order before running the cell below, so that all images/graphs appear in the output. The cell below will generate a zip file for you to submit. **Please save before exporting!**\n",
    "\n",
    "These are some submission instructions."
   ]
  },
  {
   "cell_type": "code",
   "execution_count": null,
   "metadata": {
    "deletable": false,
    "editable": false
   },
   "outputs": [],
   "source": [
    "# Save your notebook first, then run this cell to export your submission.\n",
    "grader.export(run_tests=True)"
   ]
  },
  {
   "cell_type": "markdown",
   "metadata": {},
   "source": [
    " "
   ]
  }
 ],
 "metadata": {
  "IMAGE_NAME": "taccsciapps/ds-nb-img:base-0.1.0",
  "UUID": "d3712b52-1fed-11ed-8eb1-126c2491d9f9",
  "kernelspec": {
   "display_name": "Python 3 (ipykernel)",
   "language": "python",
   "name": "python3"
  },
  "language_info": {
   "codemirror_mode": {
    "name": "ipython",
    "version": 3
   },
   "file_extension": ".py",
   "mimetype": "text/x-python",
   "name": "python",
   "nbconvert_exporter": "python",
   "pygments_lexer": "ipython3",
   "version": "3.9.10"
  },
  "otter": {
   "OK_FORMAT": true,
   "tests": {
    "q1": {
     "name": "q1",
     "points": null,
     "suites": [
      {
       "cases": [
        {
         "code": ">>> a = [(1,1),(2,5),(3,1)]\n>>> area_triangle(a)\n4.0",
         "hidden": false,
         "locked": false
        },
        {
         "code": ">>> a = [(1,1),(2,5)]\n>>> area_triangle(a)\nincorrect number of coordinates\n",
         "hidden": false,
         "locked": false
        },
        {
         "code": ">>> a = [(1,1),(2,5),(3,1),(2,0)]\n>>> area_triangle(a)\nincorrect number of coordinates\n",
         "hidden": false,
         "locked": false
        },
        {
         "code": ">>> a = [(1,1),(2,5),(2,5)]\n>>> area_triangle(a)\ninvalid coordinates for a triangle\n",
         "hidden": false,
         "locked": false
        }
       ],
       "scored": true,
       "setup": "",
       "teardown": "",
       "type": "doctest"
      }
     ]
    },
    "q2": {
     "name": "q2",
     "points": null,
     "suites": [
      {
       "cases": [
        {
         "code": ">>> vertices = [(1,1),(2,5),(3,1)]\n>>> polygon_area(vertices)\n4.0",
         "hidden": false,
         "locked": false
        },
        {
         "code": ">>> vertices=[(1,1),(2,5),(5,5),(6,1)]\n>>> polygon_area(vertices)\n16.0",
         "hidden": false,
         "locked": false
        }
       ],
       "scored": true,
       "setup": "",
       "teardown": "",
       "type": "doctest"
      }
     ]
    },
    "q3": {
     "name": "q3",
     "points": null,
     "suites": [
      {
       "cases": [
        {
         "code": ">>> a = [0, 4.3, -5, 7]\n>>> b = [-2, 7, -15, 1]\n>>> sum_vector(a,b)\n[-2, 11.3, -20, 8]",
         "hidden": false,
         "locked": false
        }
       ],
       "scored": true,
       "setup": "",
       "teardown": "",
       "type": "doctest"
      }
     ]
    },
    "q4": {
     "name": "q4",
     "points": null,
     "suites": [
      {
       "cases": [
        {
         "code": ">>> sorted_abv\n['ADH', 'AF1', 'AF2', 'AFP', 'AHG']",
         "hidden": false,
         "locked": false
        },
        {
         "code": ">>> old_building\n'ANNA HISS GYMNASIUM'",
         "hidden": false,
         "locked": false
        },
        {
         "code": ">>> old_abv\n'AHG'",
         "hidden": false,
         "locked": false
        },
        {
         "code": ">>> old_zone\n1",
         "hidden": false,
         "locked": false
        },
        {
         "code": ">>> old_building2\n'ATHLETIC FIELDS PAVILION'",
         "hidden": false,
         "locked": false
        }
       ],
       "scored": true,
       "setup": "",
       "teardown": "",
       "type": "doctest"
      }
     ]
    }
   }
  },
  "varInspector": {
   "cols": {
    "lenName": 16,
    "lenType": 16,
    "lenVar": 40
   },
   "kernels_config": {
    "python": {
     "delete_cmd_postfix": "",
     "delete_cmd_prefix": "del ",
     "library": "var_list.py",
     "varRefreshCmd": "print(var_dic_list())"
    },
    "r": {
     "delete_cmd_postfix": ") ",
     "delete_cmd_prefix": "rm(",
     "library": "var_list.r",
     "varRefreshCmd": "cat(var_dic_list()) "
    }
   },
   "types_to_exclude": [
    "module",
    "function",
    "builtin_function_or_method",
    "instance",
    "_Feature"
   ],
   "window_display": false
  }
 },
 "nbformat": 4,
 "nbformat_minor": 4
}
