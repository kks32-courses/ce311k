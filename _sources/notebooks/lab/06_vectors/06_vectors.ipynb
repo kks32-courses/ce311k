{
 "cells": [
  {
   "cell_type": "code",
   "execution_count": null,
   "metadata": {
    "deletable": false,
    "editable": false
   },
   "outputs": [],
   "source": [
    "# Initialize Otter\n",
    "import otter\n",
    "grader = otter.Notebook(\"06_vectors.ipynb\")"
   ]
  },
  {
   "cell_type": "code",
   "execution_count": null,
   "metadata": {},
   "outputs": [],
   "source": [
    "import numpy as np\n",
    "import math"
   ]
  },
  {
   "cell_type": "markdown",
   "metadata": {
    "deletable": false,
    "editable": false,
    "id": "3orw09Me5cB9"
   },
   "source": [
    "<!-- BEGIN QUESTION -->\n",
    "\n",
    "## Exercise 07.1 (indexing and timing)\n",
    "\n",
    "Create two very long NumPy arrays `x` and `y` and sum the arrays using:\n",
    "\n",
    "1. The NumPy addition syntax, `z = x + y`; and\n",
    "2. A `for` loop that computes the sum entry-by-entry\n",
    "\n",
    "Compare the time required for the two approaches for vectors of different lengths (use a very long vector for \n",
    "the timing). The values of the array entries are not important for this test. Use `%time` to report the time.\n",
    "\n",
    "*Hint:* To loop over an array using indices, try a construction like:"
   ]
  },
  {
   "cell_type": "code",
   "execution_count": null,
   "metadata": {
    "deletable": false,
    "editable": false,
    "id": "eGYdo4kf5cB9"
   },
   "outputs": [],
   "source": [
    "x = np.ones(10)\n",
    "y = np.ones(len(x))\n",
    "for i in range(len(x)):\n",
    "    print(x[i]*y[i])"
   ]
  },
  {
   "cell_type": "code",
   "execution_count": null,
   "metadata": {
    "tags": []
   },
   "outputs": [],
   "source": [
    "## Add two vectors using built-in addition operator and test using a random vector of size 1,000,000:\n",
    "# generate two 'random' vectors of size 1,000,000:\n",
    "x = ...\n",
    "y = ...\n",
    "# report time\n",
    "%time ..."
   ]
  },
  {
   "cell_type": "code",
   "execution_count": null,
   "metadata": {
    "tags": []
   },
   "outputs": [],
   "source": [
    "## Add two vectors using own implementation:\n",
    "x = ...\n",
    "y = ...\n",
    "def adder(x,y):\n",
    "    ...\n",
    "%time adder(x, y)"
   ]
  },
  {
   "cell_type": "markdown",
   "metadata": {
    "deletable": false,
    "editable": false,
    "id": "TXiNOUCU5cB-"
   },
   "source": [
    "<!-- END QUESTION -->\n",
    "\n",
    "<!-- BEGIN QUESTION -->\n",
    "\n",
    "### Optional extension: just-in-time (JIT) compilation\n",
    "\n",
    "You will see a large difference in the time required between your NumPy and 'plain' Python implementations. This is due to Python being an *interpreted* language as opposed to a *compiled* language. A way to speed up plain Python implementions is to convert the interpreted Python code into compiled code. A tool for doing this is [Numba](https://numba.pydata.org/).\n",
    "\n",
    "Below is an example using Numba and JIT to accelerate a computation:"
   ]
  },
  {
   "cell_type": "code",
   "execution_count": null,
   "metadata": {
    "deletable": false,
    "editable": false
   },
   "outputs": [],
   "source": [
    "!pip -q install numba \n",
    "import numba"
   ]
  },
  {
   "cell_type": "code",
   "execution_count": null,
   "metadata": {
    "deletable": false,
    "editable": false
   },
   "outputs": [],
   "source": [
    "# Using an index operator using math.sin and return a vector\n",
    "def compute_sine_native(x):\n",
    "  z = np.zeros(len(x))\n",
    "  for i in range(len(x)):\n",
    "    z[i] = math.sin(x[i])\n",
    "  return z\n",
    "\n",
    "\n",
    "# Using an index operator using math.sin and return a vector\n",
    "# The only difference is the addition of `@numba.jit` at the top\n",
    "@numba.jit\n",
    "def compute_sine_jit(x):\n",
    "  z = np.zeros(len(x))\n",
    "  for i in range(len(x)):\n",
    "    z[i] = math.sin(x[i])\n",
    "  return z    \n",
    "    \n",
    "\n",
    "# Try using numpy sin value\n",
    "def compute_sine_np(x):\n",
    "  z = np.sin(x)\n",
    "  return z"
   ]
  },
  {
   "cell_type": "code",
   "execution_count": null,
   "metadata": {
    "deletable": false,
    "editable": false
   },
   "outputs": [],
   "source": [
    "x = np.ones(10000000)"
   ]
  },
  {
   "cell_type": "code",
   "execution_count": null,
   "metadata": {
    "deletable": false,
    "editable": false
   },
   "outputs": [],
   "source": [
    "%time z = compute_sine_native(x)"
   ]
  },
  {
   "cell_type": "code",
   "execution_count": null,
   "metadata": {
    "deletable": false,
    "editable": false
   },
   "outputs": [],
   "source": [
    "%time z = compute_sine_jit(x)"
   ]
  },
  {
   "cell_type": "code",
   "execution_count": null,
   "metadata": {
    "colab": {
     "base_uri": "https://localhost:8080/"
    },
    "deletable": false,
    "editable": false,
    "executionInfo": {
     "elapsed": 7407,
     "status": "ok",
     "timestamp": 1605735923546,
     "user": {
      "displayName": "Reihaneh Hosseini",
      "photoUrl": "",
      "userId": "08192101969204587730"
     },
     "user_tz": 360
    },
    "id": "QorsO5zd5cB-",
    "outputId": "f544beaf-3c2c-450c-df8b-42c898edd2b5"
   },
   "outputs": [],
   "source": [
    "%time z = compute_sine_np(x)"
   ]
  },
  {
   "cell_type": "code",
   "execution_count": null,
   "metadata": {
    "tags": []
   },
   "outputs": [],
   "source": [
    "# use your adder function with jit compilation\n",
    "@numba.jit\n",
    "def adder_jit(x,y):\n",
    "    ...\n",
    "x = ...\n",
    "y = ..."
   ]
  },
  {
   "cell_type": "code",
   "execution_count": null,
   "metadata": {
    "tags": []
   },
   "outputs": [],
   "source": [
    "%time z = adder_jit(x,y)"
   ]
  },
  {
   "cell_type": "markdown",
   "metadata": {
    "deletable": false,
    "editable": false,
    "id": "PAyCw9mb5cB-"
   },
   "source": [
    "<!-- END QUESTION -->\n",
    "\n",
    "## Exercise 07.2 (member functions)\n",
    "\n",
    "Anonymised scores (out of 60) for an examination are stored in a NumPy array. Write:\n",
    "\n",
    "1. A function that takes a NumPy array of the raw scores and returns the scores as percentages(60 will returns 100; 30 will return 50), sorted from \n",
    "   lowest to highest (try using `scores.sort()`, where `scores` is a NumPy array holding the scores).\n",
    "1. A function that returns the maximum, minimum and mean of the raw scores as a dictionary with the \n",
    "   keys '`min`', '`max`' and '`mean`'. Use the NumPy array functions `min()`, `max()` and `mean()` to do the \n",
    "   computation, e.g. `max = scores.max()`.  \n",
    "   \n",
    "1. Define a function `statistics_naive` without using the predefined NumPy array functions.\n",
    "   \n",
    "   Design your function for the min, max and mean to optionally exclude the highest and lowest scores from the \n",
    "   computation of the min, max and mean. \n",
    "   \n",
    "   *Hint:* sort the array of scores and use array slicing to exclude\n",
    "   the first and the last entries.\n",
    "\n",
    "Use the scores \n",
    "```python\n",
    "scores = np.array([58.0, 35.0, 24.0, 42, 7.8])\n",
    "```\n",
    "to test your functions."
   ]
  },
  {
   "cell_type": "code",
   "execution_count": null,
   "metadata": {
    "tags": []
   },
   "outputs": [],
   "source": [
    "def to_percentage_and_sort(scores):\n",
    "    ...\n",
    "def statistics(scores, exclude=False):\n",
    "    ...\n",
    "def statistics_naive(scores, exclude=False):\n",
    "    ..."
   ]
  },
  {
   "cell_type": "code",
   "execution_count": null,
   "metadata": {
    "tags": []
   },
   "outputs": [],
   "source": [
    "scores = np.array([58.0, 35.0, 24.0, 42, 7.8])\n",
    "assert np.isclose(to_percentage_and_sort(scores), [ 13.0, 40.0, 58.33333333,  70.0, 96.66666667]).all()\n",
    "\n",
    "s0 = statistics(scores)\n",
    "assert round(s0[\"min\"] - 7.8, 10) == 0.0\n",
    "assert round(s0[\"mean\"] - 33.36, 10) == 0.0\n",
    "assert round(s0[\"max\"] - 58.0, 10) == 0.0\n",
    "\n",
    "s1 = statistics(scores, True)\n",
    "assert round(s1[\"min\"] - 24.0, 10) == 0.0\n",
    "assert round(s1[\"mean\"] - 33.666666666666666667, 10) == 0.0\n",
    "assert round(s1[\"max\"] - 42.0, 10) == 0.0\n",
    "\n",
    "s2 = statistics_naive(scores)\n",
    "assert round(s2[\"min\"] - 7.8, 10) == 0.0\n",
    "assert round(s2[\"mean\"] - 33.36, 10) == 0.0\n",
    "assert round(s2[\"max\"] - 58.0, 10) == 0.0\n",
    "\n",
    "s3 = statistics_naive(scores, True)\n",
    "assert round(s3[\"min\"] - 24.0, 10) == 0.0\n",
    "assert round(s3[\"mean\"] - 33.666666666666666667, 10) == 0.0\n",
    "assert round(s3[\"max\"] - 42.0, 10) == 0.0"
   ]
  },
  {
   "cell_type": "code",
   "execution_count": null,
   "metadata": {
    "deletable": false,
    "editable": false
   },
   "outputs": [],
   "source": [
    "grader.check(\"q2\")"
   ]
  },
  {
   "cell_type": "markdown",
   "metadata": {
    "deletable": false,
    "editable": false,
    "id": "2kCHbhUN5cB-"
   },
   "source": [
    "## Exercise 07.3 (angle between two vectors)\n",
    "\n",
    "Compute the angle between two vectors $a$ and $b$. Using:\n",
    "    $$\\alpha = \\cos^{-1}\\left( \\frac{a \\cdot b}{|a| \\cdot |b|} \\right)$$\n",
    "    \n",
    "    \n",
    "Where $|a|$ is the magnitude of the vector.\n"
   ]
  },
  {
   "cell_type": "code",
   "execution_count": null,
   "metadata": {
    "tags": []
   },
   "outputs": [],
   "source": [
    "# Your CODE HERE\n",
    "def angle_between_vectors(a,b):\n",
    "    ...\n",
    "    return ... # in radians\n",
    "a = np.array([3., 4., 0.])\n",
    "b = np.array([4., 4., 2.])\n",
    "angle_between_vectors(a, b)"
   ]
  },
  {
   "cell_type": "code",
   "execution_count": null,
   "metadata": {
    "deletable": false,
    "editable": false
   },
   "outputs": [],
   "source": [
    "grader.check(\"q3\")"
   ]
  },
  {
   "cell_type": "markdown",
   "metadata": {
    "deletable": false,
    "editable": false
   },
   "source": [
    "## Submission\n",
    "\n",
    "Make sure you have run all cells in your notebook in order before running the cell below, so that all images/graphs appear in the output. The cell below will generate a zip file for you to submit. **Please save before exporting!**\n",
    "\n",
    "These are some submission instructions."
   ]
  },
  {
   "cell_type": "code",
   "execution_count": null,
   "metadata": {
    "deletable": false,
    "editable": false
   },
   "outputs": [],
   "source": [
    "# Save your notebook first, then run this cell to export your submission.\n",
    "grader.export(run_tests=True)"
   ]
  },
  {
   "cell_type": "markdown",
   "metadata": {},
   "source": [
    " "
   ]
  }
 ],
 "metadata": {
  "IMAGE_NAME": "taccsciapps/ds-nb-img:base-0.1.0",
  "UUID": "85d35804-5d53-11ed-8e23-de68c61c1d2c",
  "kernelspec": {
   "display_name": "Python 3 (ipykernel)",
   "language": "python",
   "name": "python3"
  },
  "language_info": {
   "codemirror_mode": {
    "name": "ipython",
    "version": 3
   },
   "file_extension": ".py",
   "mimetype": "text/x-python",
   "name": "python",
   "nbconvert_exporter": "python",
   "pygments_lexer": "ipython3",
   "version": "3.9.10"
  },
  "otter": {
   "OK_FORMAT": true,
   "tests": {
    "q2": {
     "name": "q2",
     "points": null,
     "suites": [
      {
       "cases": [
        {
         "code": ">>> scores = np.array([58.0, 35.0, 24.0, 42, 7.8])\n>>> assert np.isclose(to_percentage_and_sort(scores), [ 13.0, 40.0, 58.33333333,  70.0, 96.66666667]).all()\n>>> \n>>> s0 = statistics(scores)\n>>> assert round(s0[\"min\"] - 7.8, 10) == 0.0\n>>> assert round(s0[\"mean\"] - 33.36, 10) == 0.0\n>>> assert round(s0[\"max\"] - 58.0, 10) == 0.0\n>>> \n>>> s1 = statistics(scores, True)\n>>> assert round(s1[\"min\"] - 24.0, 10) == 0.0\n>>> assert round(s1[\"mean\"] - 33.666666666666666667, 10) == 0.0\n>>> assert round(s1[\"max\"] - 42.0, 10) == 0.0\n>>> \n>>> s2 = statistics_naive(scores)\n>>> assert round(s2[\"min\"] - 7.8, 10) == 0.0\n>>> assert round(s2[\"mean\"] - 33.36, 10) == 0.0\n>>> assert round(s2[\"max\"] - 58.0, 10) == 0.0\n>>> \n>>> s3 = statistics_naive(scores, True)\n>>> assert round(s3[\"min\"] - 24.0, 10) == 0.0\n>>> assert round(s3[\"mean\"] - 33.666666666666666667, 10) == 0.0\n>>> assert round(s3[\"max\"] - 42.0, 10) == 0.0\n",
         "hidden": false,
         "locked": false
        }
       ],
       "scored": true,
       "setup": "",
       "teardown": "",
       "type": "doctest"
      }
     ]
    },
    "q3": {
     "name": "q3",
     "points": null,
     "suites": [
      {
       "cases": [
        {
         "code": ">>> a = np.array([3., 4., 0.])\n>>> b = np.array([4., 4., 2.])\n>>> \n>>> angle = angle_between_vectors(a, b)\n>>> assert round(angle - 0.367208, 5) == 0.0\n",
         "hidden": false,
         "locked": false
        }
       ],
       "scored": true,
       "setup": "",
       "teardown": "",
       "type": "doctest"
      }
     ]
    }
   }
  },
  "varInspector": {
   "cols": {
    "lenName": 16,
    "lenType": 16,
    "lenVar": 40
   },
   "kernels_config": {
    "python": {
     "delete_cmd_postfix": "",
     "delete_cmd_prefix": "del ",
     "library": "var_list.py",
     "varRefreshCmd": "print(var_dic_list())"
    },
    "r": {
     "delete_cmd_postfix": ") ",
     "delete_cmd_prefix": "rm(",
     "library": "var_list.r",
     "varRefreshCmd": "cat(var_dic_list()) "
    }
   },
   "types_to_exclude": [
    "module",
    "function",
    "builtin_function_or_method",
    "instance",
    "_Feature"
   ],
   "window_display": false
  }
 },
 "nbformat": 4,
 "nbformat_minor": 4
}
