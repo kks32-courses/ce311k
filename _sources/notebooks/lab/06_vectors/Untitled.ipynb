{
 "cells": [
  {
   "cell_type": "code",
   "execution_count": 15,
   "metadata": {},
   "outputs": [
    {
     "name": "stdout",
     "output_type": "stream",
     "text": [
      "[[100   1   0]\n",
      " [ 50  -1   1]\n",
      " [ 15   0  -1]]\n"
     ]
    }
   ],
   "source": [
    "import numpy as np\n",
    "\n",
    "A = np.array([[100, 1, 0], [50, -1, 1], [15, 0, -1]])\n",
    "print(A)"
   ]
  },
  {
   "cell_type": "code",
   "execution_count": 16,
   "metadata": {},
   "outputs": [
    {
     "name": "stdout",
     "output_type": "stream",
     "text": [
      "[750 475 100]\n"
     ]
    }
   ],
   "source": [
    "b = np.array([800, 500-25, 100])\n",
    "print(b)"
   ]
  },
  {
   "cell_type": "code",
   "execution_count": 17,
   "metadata": {},
   "outputs": [
    {
     "data": {
      "text/plain": [
       "array([  8.03030303, -53.03030303,  20.45454545])"
      ]
     },
     "execution_count": 17,
     "metadata": {},
     "output_type": "execute_result"
    }
   ],
   "source": [
    "np.linalg.solve(A, b)"
   ]
  },
  {
   "cell_type": "code",
   "execution_count": 28,
   "metadata": {},
   "outputs": [
    {
     "name": "stdout",
     "output_type": "stream",
     "text": [
      "[[100   1   0]\n",
      " [ 60  -1   1]\n",
      " [ 15   0  -1]]\n",
      "[800 475 100]\n",
      "[ 7.85714286 14.28571429 17.85714286]\n"
     ]
    }
   ],
   "source": [
    "import numpy as np\n",
    "\n",
    "A = np.array([[100, 1, 0], [60, -1, 1], [15, 0, -1]])\n",
    "print(A)\n",
    "b = np.array([800, 475, 100])\n",
    "print(b)\n",
    "print(np.linalg.solve(A,b))"
   ]
  },
  {
   "cell_type": "code",
   "execution_count": 29,
   "metadata": {},
   "outputs": [
    {
     "name": "stdout",
     "output_type": "stream",
     "text": [
      "[[100   1   0]\n",
      " [ 60  -1   1]\n",
      " [ 15   0  -1]]\n",
      "Gauss-Seidel iterations 17,\n",
      "x: [ 7.8571428  14.28571324 17.85714207],\n",
      "error: [-6.29043939e-06 -2.89344086e-06  0.00000000e+00]\n"
     ]
    }
   ],
   "source": [
    "import numpy as np\n",
    "def seidel(A, b, max_iter = 1000):    \n",
    "    x = np.zeros(b.shape[0])\n",
    "    for iter in range(max_iter): \n",
    "        # Loop through each row\n",
    "        for i in range(A.shape[0]):         \n",
    "            # temp variable d to store b[j] \n",
    "            d = b[i]\n",
    "            # Iterate through the columns\n",
    "            for j in range(A.shape[1]):      \n",
    "                if(i != j): \n",
    "                    d-=A[i][j] * x[j] \n",
    "            # updating the value of our solution         \n",
    "            x[i] = d / A[i][i] \n",
    "        \n",
    "        if np.allclose(np.dot(A, x), b, rtol=1e-8):\n",
    "            break\n",
    "\n",
    "    else: # no break\n",
    "        raise RuntimeError(\"Insufficient number of iterations\")\n",
    "        \n",
    "    error = np.dot(A, x) - b\n",
    "    # returning our updated solution            \n",
    "    return x, error, iter\n",
    "\n",
    "A = np.array([[100, 1, 0], [60, -1, 1], [15, 0, -1]])\n",
    "print(A)\n",
    "b = np.array([800, 475, 100])\n",
    "\n",
    "x, error, iter = seidel(A, b)\n",
    "print(\"Gauss-Seidel iterations {},\\nx: {},\\nerror: {}\".format(iter, x, error))"
   ]
  },
  {
   "cell_type": "code",
   "execution_count": null,
   "metadata": {},
   "outputs": [],
   "source": []
  }
 ],
 "metadata": {
  "kernelspec": {
   "display_name": "Python 3",
   "language": "python",
   "name": "python3"
  },
  "language_info": {
   "codemirror_mode": {
    "name": "ipython",
    "version": 3
   },
   "file_extension": ".py",
   "mimetype": "text/x-python",
   "name": "python",
   "nbconvert_exporter": "python",
   "pygments_lexer": "ipython3",
   "version": "3.9.0"
  }
 },
 "nbformat": 4,
 "nbformat_minor": 4
}
