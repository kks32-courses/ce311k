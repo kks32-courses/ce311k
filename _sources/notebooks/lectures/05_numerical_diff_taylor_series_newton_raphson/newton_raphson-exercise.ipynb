{
  "cells": [
    {
      "cell_type": "markdown",
      "metadata": {
        "id": "O5-BMD3BPvfg"
      },
      "source": [
        "## Forces on a sliding block\n",
        "\n",
        "![forces on a sliding block](https://raw.githubusercontent.com/kks32-courses/ce311k/master/notebooks/lectures/01_control_flow/block-forces.png)\n",
        "\n",
        "\n",
        "Given a weight $W = 25 kN$, friction coefficient $\\mu = 0.75$, and angle of inclination $\\theta = 45^o$, calculate the force required to pull the block.\n",
        "\n",
        "$$\n",
        "F = \\frac{\\mu W}{\\cos \\theta + \\mu \\sin \\theta} = \\frac{\\mu mg}{\\cos \\theta + \\mu \\sin \\theta}\n",
        "$$\n",
        "\n",
        "\n",
        "Python has a lot of useful standard library functions which are defined in modules. A Python code can gain access to the code in another module by the process of importing it. The import statement is the most common way of invoking the import machinery, but it is not the only way. We need to import a module called `math`, which has predefined trignometric functions using `import math`, this makes available all the functions in `math` module. To use the `cos` function in `math` module, we do `math.cos(angle)`"
      ]
    },
    {
      "cell_type": "code",
      "execution_count": null,
      "metadata": {
        "colab": {
          "base_uri": "https://localhost:8080/"
        },
        "id": "wpXWEgcRbS2X",
        "outputId": "6de2db42-85d2-451c-fd7c-fefa5f991146"
      },
      "outputs": [],
      "source": [
        "import math\n",
        "mu = 0.75\n",
        "angle = 45\n",
        "theta = math.radians(angle)\n",
        "W = 25\n"
      ]
    },
    {
      "cell_type": "markdown",
      "metadata": {
        "id": "ZdfzzJF7QNig"
      },
      "source": [
        "# Bisection approach\n",
        "\n",
        "$$\n",
        "G(\\theta) =  \\frac{\\mu mg}{\\cos \\theta + \\mu \\sin \\theta} - F\n",
        "$$"
      ]
    },
    {
      "cell_type": "code",
      "execution_count": null,
      "metadata": {
        "colab": {
          "base_uri": "https://localhost:8080/"
        },
        "id": "J0hxiszIbBj5",
        "outputId": "c37a8fe6-8bcd-4d41-cb4b-7364dedf5685"
      },
      "outputs": [],
      "source": [
        "def gfn(angle, mu = 0.75, W = 25, F = 17.5):\n",
        "  theta = math.radians(angle)\n",
        "  return (mu * W / (math.cos(theta) + mu * math.sin(theta))) - F\n",
        "\n",
        "gfn(angle = 80)"
      ]
    },
    {
      "cell_type": "code",
      "execution_count": null,
      "metadata": {
        "id": "57tAgFV5-Kwm"
      },
      "outputs": [],
      "source": [
        "import numpy as np\n",
        "# Define bisection\n"
      ]
    },
    {
      "cell_type": "code",
      "execution_count": null,
      "metadata": {
        "colab": {
          "base_uri": "https://localhost:8080/"
        },
        "id": "EvLw_R5KQPn2",
        "outputId": "7a27f0a0-8d68-4442-97fc-c629d0668ec3"
      },
      "outputs": [],
      "source": [
        "theta, iter = bisection(gfn, 45, 80)\n",
        "print(\"After {} iterations, the angle is {} \".format(iter, theta))"
      ]
    },
    {
      "cell_type": "markdown",
      "metadata": {
        "id": "htGjcg3iQQAf"
      },
      "source": [
        "# Newton Raphson Method\n",
        "\n",
        "The general form of Taylor series is given by the following equation.\n",
        "\n",
        "$$\n",
        "P(x) = f(a) + \\frac{df(a)}{dx}\\frac{(x-a)^1}{1!} + \\frac{d^2f(a)}{dx^2}\\frac{(x-a)^2}{2!} + \\cdots\n",
        "$$\n",
        "\n",
        "If x = $\\theta_{n+1}$ = $\\theta_n$ + $\\epsilon_n$ and a = $\\theta_n$, then G($\\theta$)=0 can be approximately as follows.\n",
        "\n",
        "$$\n",
        "G(\\theta_{n+1}) = G(\\theta_n + \\epsilon_n) = 0 = G(\\theta_n) + \\frac{dG(\\theta_n)}{d\\theta}\\frac{(\\epsilon_n)^1}{1!} + \\frac{d^2G(\\theta_n)}{d\\theta^2}\\frac{(\\epsilon_n)^2}{2!} + \\cdots\n",
        "$$ \n",
        "\n",
        "By only using the first derivative term,\n",
        "\n",
        "$$\n",
        "G(\\theta_n + \\epsilon_n) = 0 \\approx G(\\theta_n)+ \\frac{dG(\\theta_n)}{d\\theta}\\epsilon_n\n",
        "$$\n",
        "\n",
        "$$\n",
        "\\epsilon_n = - \\frac{G(\\theta_n)}{dG(\\theta_n)/d\\theta}\n",
        "$$\n",
        "\n",
        "Hence \n",
        "\n",
        "$$\n",
        "\\theta_{n+1} = \\theta_n + \\epsilon_n = \\theta_n - \\frac{G(\\theta_n)}{dG(\\theta_n)/d\\theta}\n",
        "$$\n",
        "\n",
        "If the gradient dG($\\theta$)/dx is known, then the above equation can be used iteratively from an initial guess $\\theta_0$ to find $\\theta$ that satisfies G($\\theta$)=0. The iteration can stop when $|\\epsilon_n|$ becomes smaller than the predefined tolarance. \n",
        "\n",
        "The first derivate of G($\\theta$) is given as follpws.\n",
        "\n",
        "$$\n",
        "dG(\\theta)/d(\\theta) = \\frac{\\mu mg (\\sin \\theta - \\mu \\cos \\theta)}{(\\cos \\theta + \\mu \\sin \\theta)^2}\n",
        "$$\n",
        "\n",
        "Taylor's series is used for the cosin and sin functions.\n",
        "\n",
        "$$\n",
        "\\cos(\\theta) \\approx cos(0) - cos(0)\\frac{\\theta^2}{2!} + cos(0)\\frac{\\theta^4}{4!} + \\cdots\n",
        "$$\n",
        "\n",
        "$$\n",
        "\\sin(\\theta) \\approx cos(0)\\frac{\\theta}{1!} - cos(0)\\frac{\\theta^3}{3!} + \\cdots\n",
        "$$"
      ]
    },
    {
      "cell_type": "markdown",
      "metadata": {
        "id": "b1_LV8IogOZx"
      },
      "source": [
        "# Differentiation\n",
        "\n",
        "$$\n",
        "G(\\theta) =  \\frac{\\mu W}{\\cos \\theta + \\mu \\sin \\theta} - F\n",
        "$$\n",
        "\n",
        "\n",
        "$$G'(\\theta) = \\frac{\\mu W (\\sin \\theta - \\mu \\cos \\theta)}{(\\cos \\theta + \\mu \\sin \\theta)^2}$$"
      ]
    },
    {
      "cell_type": "code",
      "execution_count": null,
      "metadata": {
        "colab": {
          "base_uri": "https://localhost:8080/",
          "height": 60
        },
        "id": "wVWrk7fcgN-d",
        "outputId": "67b82338-676c-42ae-b95a-08783ba6568e"
      },
      "outputs": [],
      "source": [
        "import sympy as sym\n",
        "# Symbolic differentiation\n"
      ]
    },
    {
      "cell_type": "code",
      "execution_count": null,
      "metadata": {
        "id": "T1YnEiLVg0JH"
      },
      "outputs": [],
      "source": [
        "def dgn(angle, W = 25, mu = 0.75):\n",
        "  theta = math.radians(angle)\n",
        "  return (W * mu * (-mu * math.cos(theta) + math.sin(theta))/(mu * math.sin(theta) + math.cos(theta))**2)"
      ]
    },
    {
      "cell_type": "code",
      "execution_count": null,
      "metadata": {
        "colab": {
          "base_uri": "https://localhost:8080/"
        },
        "id": "hNRWpK_5hlDz",
        "outputId": "23959fe3-37c3-4936-edaf-c1fb2b4b91de"
      },
      "outputs": [],
      "source": []
    },
    {
      "cell_type": "code",
      "execution_count": null,
      "metadata": {
        "id": "_1vmLqhMnhsU"
      },
      "outputs": [],
      "source": [
        "def gfn(theta, mu = 0.75, W = 25, F = 17.5):\n",
        "  return (mu * W / (math.cos(theta) + mu * math.sin(theta))) - F"
      ]
    },
    {
      "cell_type": "code",
      "execution_count": null,
      "metadata": {
        "colab": {
          "base_uri": "https://localhost:8080/"
        },
        "id": "xvofv9KMhmOG",
        "outputId": "5346fae4-7e78-4895-d7f5-55dda0c54f03"
      },
      "outputs": [],
      "source": [
        "from scipy.misc import derivative\n",
        "\n",
        "derivative(gfn, math.radians(45), dx=1e-6, n=1)"
      ]
    },
    {
      "cell_type": "code",
      "execution_count": null,
      "metadata": {
        "id": "ERVhM4CSh6sm"
      },
      "outputs": [],
      "source": [
        "def newton(fn, x, tol=1e-5):\n"
      ]
    },
    {
      "cell_type": "code",
      "execution_count": null,
      "metadata": {
        "colab": {
          "base_uri": "https://localhost:8080/"
        },
        "id": "YIGPGdgRix7f",
        "outputId": "1a162272-7627-4f5b-9db7-92f45821be4e"
      },
      "outputs": [],
      "source": [
        "angle, iter = newton(gfn, math.radians(60))\n",
        "print(\"After {} iterations the solution is {}\".format(iter, math.degrees(angle)))"
      ]
    }
  ],
  "metadata": {
    "colab": {
      "collapsed_sections": [],
      "provenance": []
    },
    "kernelspec": {
      "display_name": "Python 3",
      "name": "python3"
    },
    "language_info": {
      "name": "python"
    }
  },
  "nbformat": 4,
  "nbformat_minor": 0
}
