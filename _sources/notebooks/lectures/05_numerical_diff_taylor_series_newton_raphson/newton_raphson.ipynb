{
  "nbformat": 4,
  "nbformat_minor": 0,
  "metadata": {
    "colab": {
      "provenance": [],
      "collapsed_sections": []
    },
    "kernelspec": {
      "name": "python3",
      "display_name": "Python 3"
    },
    "language_info": {
      "name": "python"
    }
  },
  "cells": [
    {
      "cell_type": "markdown",
      "source": [
        "## Forces on a sliding block\n",
        "\n",
        "![forces on a sliding block](https://raw.githubusercontent.com/kks32-courses/ce311k/master/notebooks/lectures/01_control_flow/block-forces.png)\n",
        "\n",
        "\n",
        "Given a weight $W = 25 kN$, friction coefficient $\\mu = 0.75$, and angle of inclination $\\theta = 45^o$, calculate the force required to pull the block.\n",
        "\n",
        "$$\n",
        "F = \\frac{\\mu W}{\\cos \\theta + \\mu \\sin \\theta} = \\frac{\\mu mg}{\\cos \\theta + \\mu \\sin \\theta}\n",
        "$$\n",
        "\n",
        "\n",
        "Python has a lot of useful standard library functions which are defined in modules. A Python code can gain access to the code in another module by the process of importing it. The import statement is the most common way of invoking the import machinery, but it is not the only way. We need to import a module called `math`, which has predefined trignometric functions using `import math`, this makes available all the functions in `math` module. To use the `cos` function in `math` module, we do `math.cos(angle)`"
      ],
      "metadata": {
        "id": "O5-BMD3BPvfg"
      }
    },
    {
      "cell_type": "code",
      "source": [
        "import math\n",
        "mu = 0.75\n",
        "angle = 45\n",
        "theta = math.radians(angle)\n",
        "W = 25\n",
        "F = mu * W / (math.cos(theta) + mu * math.sin(theta))\n",
        "print(F)"
      ],
      "metadata": {
        "colab": {
          "base_uri": "https://localhost:8080/"
        },
        "id": "wpXWEgcRbS2X",
        "outputId": "6de2db42-85d2-451c-fd7c-fefa5f991146"
      },
      "execution_count": 8,
      "outputs": [
        {
          "output_type": "stream",
          "name": "stdout",
          "text": [
            "15.152288168283162\n"
          ]
        }
      ]
    },
    {
      "cell_type": "markdown",
      "source": [
        "# Bisection approach\n",
        "\n",
        "$$\n",
        "G(\\theta) =  \\frac{\\mu mg}{\\cos \\theta + \\mu \\sin \\theta} - F\n",
        "$$"
      ],
      "metadata": {
        "id": "ZdfzzJF7QNig"
      }
    },
    {
      "cell_type": "code",
      "source": [
        "def gfn(angle, mu = 0.75, W = 25, F = 17.5):\n",
        "  theta = math.radians(angle)\n",
        "  return (mu * W / (math.cos(theta) + mu * math.sin(theta))) - F\n",
        "\n",
        "gfn(angle = 80)"
      ],
      "metadata": {
        "colab": {
          "base_uri": "https://localhost:8080/"
        },
        "id": "J0hxiszIbBj5",
        "outputId": "c37a8fe6-8bcd-4d41-cb4b-7364dedf5685"
      },
      "execution_count": 36,
      "outputs": [
        {
          "output_type": "execute_result",
          "data": {
            "text/plain": [
              "20.553486370758943"
            ]
          },
          "metadata": {},
          "execution_count": 36
        }
      ]
    },
    {
      "cell_type": "code",
      "execution_count": 13,
      "metadata": {
        "id": "57tAgFV5-Kwm"
      },
      "outputs": [],
      "source": [
        "import numpy as np\n",
        "def bisection(fn, x0, x1, tol=1e-5):\n",
        "  for i in np.arange(100):\n",
        "    y0 = fn(x0)\n",
        "    y1 = fn(x1)\n",
        "    xm = (x0 + x1)/2\n",
        "    ym = fn(xm)\n",
        "\n",
        "    if y0 * ym < 0:\n",
        "      x1 = xm\n",
        "    else:\n",
        "      x0 = xm\n",
        "\n",
        "    if abs(ym) < tol:\n",
        "      return xm, i + 1"
      ]
    },
    {
      "cell_type": "code",
      "source": [
        "theta, iter = bisection(gfn, 45, 80)\n",
        "print(\"After {} iterations, the angle is {} \".format(iter, theta))"
      ],
      "metadata": {
        "id": "EvLw_R5KQPn2",
        "colab": {
          "base_uri": "https://localhost:8080/"
        },
        "outputId": "7a27f0a0-8d68-4442-97fc-c629d0668ec3"
      },
      "execution_count": 18,
      "outputs": [
        {
          "output_type": "stream",
          "name": "stdout",
          "text": [
            "After 14 iterations, the angle is 67.87261962890625 \n"
          ]
        }
      ]
    },
    {
      "cell_type": "markdown",
      "source": [
        "# Newton Raphson Method\n",
        "\n",
        "The general form of Taylor series is given by the following equation.\n",
        "\n",
        "$$\n",
        "P(x) = f(a) + \\frac{df(a)}{dx}\\frac{(x-a)^1}{1!} + \\frac{d^2f(a)}{dx^2}\\frac{(x-a)^2}{2!} + \\cdots\n",
        "$$\n",
        "\n",
        "If x = $\\theta_{n+1}$ = $\\theta_n$ + $\\epsilon_n$ and a = $\\theta_n$, then G($\\theta$)=0 can be approximately as follows.\n",
        "\n",
        "$$\n",
        "G(\\theta_{n+1}) = G(\\theta_n + \\epsilon_n) = 0 = G(\\theta_n) + \\frac{dG(\\theta_n)}{d\\theta}\\frac{(\\epsilon_n)^1}{1!} + \\frac{d^2G(\\theta_n)}{d\\theta^2}\\frac{(\\epsilon_n)^2}{2!} + \\cdots\n",
        "$$ \n",
        "\n",
        "By only using the first derivative term,\n",
        "\n",
        "$$\n",
        "G(\\theta_n + \\epsilon_n) = 0 \\approx G(\\theta_n)+ \\frac{dG(\\theta_n)}{d\\theta}\\epsilon_n\n",
        "$$\n",
        "\n",
        "$$\n",
        "\\epsilon_n = - \\frac{G(\\theta_n)}{dG(\\theta_n)/d\\theta}\n",
        "$$\n",
        "\n",
        "Hence \n",
        "\n",
        "$$\n",
        "\\theta_{n+1} = \\theta_n + \\epsilon_n = \\theta_n - \\frac{G(\\theta_n)}{dG(\\theta_n)/d\\theta}\n",
        "$$\n",
        "\n",
        "If the gradient dG($\\theta$)/dx is known, then the above equation can be used iteratively from an initial guess $\\theta_0$ to find $\\theta$ that satisfies G($\\theta$)=0. The iteration can stop when $|\\epsilon_n|$ becomes smaller than the predefined tolarance. \n",
        "\n",
        "The first derivate of G($\\theta$) is given as follpws.\n",
        "\n",
        "$$\n",
        "dG(\\theta)/d(\\theta) = \\frac{\\mu mg (\\sin \\theta - \\mu \\cos \\theta)}{(\\cos \\theta + \\mu \\sin \\theta)^2}\n",
        "$$\n",
        "\n",
        "Taylor's series is used for the cosin and sin functions.\n",
        "\n",
        "$$\n",
        "\\cos(\\theta) \\approx cos(0) - cos(0)\\frac{\\theta^2}{2!} + cos(0)\\frac{\\theta^4}{4!} + \\cdots\n",
        "$$\n",
        "\n",
        "$$\n",
        "\\sin(\\theta) \\approx cos(0)\\frac{\\theta}{1!} - cos(0)\\frac{\\theta^3}{3!} + \\cdots\n",
        "$$"
      ],
      "metadata": {
        "id": "htGjcg3iQQAf"
      }
    },
    {
      "cell_type": "markdown",
      "source": [
        "# Differentiation\n",
        "\n",
        "$$\n",
        "G(\\theta) =  \\frac{\\mu W}{\\cos \\theta + \\mu \\sin \\theta} - F\n",
        "$$\n",
        "\n",
        "\n",
        "$$G'(\\theta) = \\frac{\\mu W (\\sin \\theta - \\mu \\cos \\theta)}{(\\cos \\theta + \\mu \\sin \\theta)^2}$$"
      ],
      "metadata": {
        "id": "b1_LV8IogOZx"
      }
    },
    {
      "cell_type": "code",
      "source": [
        "import sympy as sym\n",
        "\n",
        "mu = sym.Symbol('mu')\n",
        "W = sym.Symbol('W')\n",
        "theta = sym.Symbol('theta')\n",
        "\n",
        "g = mu * W / (sym.cos(theta) + mu * sym.sin(theta))\n",
        "dg = sym.diff(g, theta)\n",
        "dg"
      ],
      "metadata": {
        "colab": {
          "base_uri": "https://localhost:8080/",
          "height": 60
        },
        "id": "wVWrk7fcgN-d",
        "outputId": "67b82338-676c-42ae-b95a-08783ba6568e"
      },
      "execution_count": 21,
      "outputs": [
        {
          "output_type": "execute_result",
          "data": {
            "text/plain": [
              "W*mu*(-mu*cos(theta) + sin(theta))/(mu*sin(theta) + cos(theta))**2"
            ],
            "text/latex": "$\\displaystyle \\frac{W \\mu \\left(- \\mu \\cos{\\left(\\theta \\right)} + \\sin{\\left(\\theta \\right)}\\right)}{\\left(\\mu \\sin{\\left(\\theta \\right)} + \\cos{\\left(\\theta \\right)}\\right)^{2}}$"
          },
          "metadata": {},
          "execution_count": 21
        }
      ]
    },
    {
      "cell_type": "code",
      "source": [
        "def dgn(angle, W = 25, mu = 0.75):\n",
        "  theta = math.radians(angle)\n",
        "  return (W * mu * (-mu * math.cos(theta) + math.sin(theta))/(mu * math.sin(theta) + math.cos(theta))**2)"
      ],
      "metadata": {
        "id": "T1YnEiLVg0JH"
      },
      "execution_count": 31,
      "outputs": []
    },
    {
      "cell_type": "code",
      "source": [
        "dgn(45)"
      ],
      "metadata": {
        "colab": {
          "base_uri": "https://localhost:8080/"
        },
        "id": "hNRWpK_5hlDz",
        "outputId": "23959fe3-37c3-4936-edaf-c1fb2b4b91de"
      },
      "execution_count": 32,
      "outputs": [
        {
          "output_type": "execute_result",
          "data": {
            "text/plain": [
              "2.164612595469021"
            ]
          },
          "metadata": {},
          "execution_count": 32
        }
      ]
    },
    {
      "cell_type": "code",
      "source": [
        "def gfn(theta, mu = 0.75, W = 25, F = 17.5):\n",
        "  return (mu * W / (math.cos(theta) + mu * math.sin(theta))) - F"
      ],
      "metadata": {
        "id": "_1vmLqhMnhsU"
      },
      "execution_count": 51,
      "outputs": []
    },
    {
      "cell_type": "code",
      "source": [
        "from scipy.misc import derivative\n",
        "\n",
        "derivative(gfn, math.radians(45), dx=1e-6, n=1)"
      ],
      "metadata": {
        "colab": {
          "base_uri": "https://localhost:8080/"
        },
        "id": "xvofv9KMhmOG",
        "outputId": "5346fae4-7e78-4895-d7f5-55dda0c54f03"
      },
      "execution_count": 52,
      "outputs": [
        {
          "output_type": "execute_result",
          "data": {
            "text/plain": [
              "2.1646125958341145"
            ]
          },
          "metadata": {},
          "execution_count": 52
        }
      ]
    },
    {
      "cell_type": "code",
      "source": [
        "def newton(fn, x, tol=1e-5):\n",
        "  for i in np.arange(100):\n",
        "    fx = fn(x)\n",
        "    dfx = derivative(fn, x, dx=1e-6, n=1)\n",
        "    h = fx / dfx\n",
        "    x = x - h\n",
        "    if abs(h) < tol:\n",
        "      break\n",
        "  return x, i"
      ],
      "metadata": {
        "id": "ERVhM4CSh6sm"
      },
      "execution_count": 34,
      "outputs": []
    },
    {
      "cell_type": "code",
      "source": [
        "angle, iter = newton(gfn, math.radians(60))\n",
        "print(\"After {} iterations the solution is {}\".format(iter, math.degrees(angle)))"
      ],
      "metadata": {
        "colab": {
          "base_uri": "https://localhost:8080/"
        },
        "id": "YIGPGdgRix7f",
        "outputId": "1a162272-7627-4f5b-9db7-92f45821be4e"
      },
      "execution_count": 53,
      "outputs": [
        {
          "output_type": "stream",
          "name": "stdout",
          "text": [
            "After 3 iterations the solution is 67.87261678062136\n"
          ]
        }
      ]
    }
  ]
}