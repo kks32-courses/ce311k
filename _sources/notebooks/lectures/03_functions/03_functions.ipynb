{
 "cells": [
  {
   "attachments": {},
   "cell_type": "markdown",
   "metadata": {},
   "source": [
    "# Lecture 03: Functions\n",
    "\n",
    "**Exercise:** [![Open in Colab](https://colab.research.google.com/assets/colab-badge.svg)](https://colab.research.google.com/github/kks32-courses/ce311k/blob/main/notebooks/lectures/03_functions/03_functions.ipynb)\n",
    "**Solution:** [![Open in Colab](https://colab.research.google.com/assets/colab-badge.svg)](https://colab.research.google.com/github/kks32-courses/ce311k/blob/main/notebooks/lectures/03_functions/03_functions_solutions.ipynb)\n",
    "\n",
    "Functions are one of the most important concepts in computing.  Similar to mathematical functions, they take input data and return an output(s). Functions are ideal for repetitive tasks that perform a particular operation\n",
    "on different input data and return a result. A simple function might take the coordinates of the vertices of a triangle and return the area. Any non-trivial program will use functions, and in many cases will have many functions.\n",
    "\n",
    "## Objectives\n",
    "\n",
    "- Introduce construction and use of user functions\n",
    "- Returning from functions\n",
    "- Default arguments\n",
    "- Modules\n",
    "\n",
    "![functions](https://raw.githubusercontent.com/kks32-courses/ce311k/master/notebooks/lectures/03_functions/functions.png)\n",
    "\n",
    "<iframe width=\"560\" height=\"315\" src=\"https://www.youtube.com/embed/Zr7GkuD1Jsk\" title=\"YouTube video player\" frameborder=\"0\" allow=\"accelerometer; autoplay; clipboard-write; encrypted-media; gyroscope; picture-in-picture; web-share\" allowfullscreen></iframe>\n",
    "\n",
    "<iframe width=\"560\" height=\"315\" src=\"https://www.youtube.com/embed/nCjTpuCqyUg\" title=\"YouTube video player\" frameborder=\"0\" allow=\"accelerometer; autoplay; clipboard-write; encrypted-media; gyroscope; picture-in-picture; web-share\" allowfullscreen></iframe>"
   ]
  },
  {
   "attachments": {},
   "cell_type": "markdown",
   "metadata": {},
   "source": [
    "# Purpose\n",
    "\n",
    "Functions allow computer code to be re-used multiple times with different input data. It is good to re-use code as much as possible because we then focus testing and debugging efforts, and maybe also optimisations, on small pieces of code that are then re-used. The more code that is written, the less frequently sections of code are used, and as a consequence the greater the likelihood of errors.\n",
    "\n",
    "Functions can also enhance the readability of a program, and make it easier to collaborate with others. Functions allow us to focus on *what* a program does at a high level \n",
    "rather than the details of *how* it does it. Low-level implementation details are *encapsulated* in functions. To understand at a high level what a program does, we usually just need to know what data is passed into a function and what the function returns. It is not necessary to know the precise details of how a function is implemented to grasp the structure of a program and how it works. For example, we might need to know that a function computes and returns $\\sin(x)$; we don't usually need to know *how* it computes sine.\n",
    "\n",
    "Below is a simple example of a function being 'called' numerous times from inside a `for` loop."
   ]
  },
  {
   "cell_type": "code",
   "execution_count": null,
   "metadata": {},
   "outputs": [],
   "source": [
    "import math\n",
    "\n",
    "# Specify x and tolerance\n",
    "x = 1.5\n",
    "tol = 1e-6\n",
    "\n",
    "# \"Return an approximate sin value that depends on the input value x and tolerance\"\n",
    "# Intialise approximation of sine\n",
    "sin = 0.0\n",
    "\n",
    "# Loop until error satisfies tolerance or a fixed number of iterations is reached\n",
    "for i in range(1001):\n",
    "    sin+=(-1)**i*x**(2*i+1)/math.factorial(2*i+1)\n",
    "    error=abs(sin-math.sin(x))\n",
    "    if error<tol:\n",
    "        print(sin)\n",
    "        break\n",
    "else: #nobreak\n",
    "    print(\"Error, sin(x) did not converge\")\n",
    "\n",
    "print(math.sin(x))"
   ]
  },
  {
   "cell_type": "code",
   "execution_count": null,
   "metadata": {},
   "outputs": [],
   "source": []
  },
  {
   "attachments": {},
   "cell_type": "markdown",
   "metadata": {},
   "source": [
    "Using a function, we did not have to duplicate the `sin` computation inside each loop\n",
    "we re-used it. With a function we only have to change the way in which we calculate the sin of `x` in one place."
   ]
  },
  {
   "attachments": {},
   "cell_type": "markdown",
   "metadata": {},
   "source": [
    "# What is a function?\n",
    "\n",
    "Below is a Python function that takes two arguments (`a` and `b`), and returns `a + b`:"
   ]
  },
  {
   "cell_type": "code",
   "execution_count": null,
   "metadata": {},
   "outputs": [],
   "source": [
    "\n",
    "# Call the function\n",
    "\n",
    "# Call the function\n"
   ]
  },
  {
   "attachments": {},
   "cell_type": "markdown",
   "metadata": {},
   "source": [
    "Using the above example as a model, we can examine the anatomy of a Python function.\n",
    "\n",
    "- A function is declared using `def`, followed by the function name, `sum`, followed by the list \n",
    "  of arguments to be passed to the function between brackets, `(a, b)`, and ended with a colon:\n",
    "  ```python\n",
    "  def sum(a, b):\n",
    "  ```\n",
    "\n",
    "- Next comes the body of the function. The first part of the body is indented four spaces. \n",
    "  Everything that makes \n",
    "  up  the body of the function is indented at least four spaces relative to `def`. \n",
    "  In Python, the first part of the body is an optional documentation string that describes in words what the   \n",
    "  function does \n",
    "  ```python  \n",
    "      \"Return the sum of a and b\"\n",
    "  ```\n",
    "\n",
    "- It is good practice to include a 'docstring'.  What comes after the documentation string \n",
    "  is the code that the function executes. At the end of a function is usually a `return` statement; this defines   what\n",
    "  result the function should return:\n",
    "  ```python\n",
    "      return a + b\n",
    "  ```\n",
    "Anything indented to the same level (or less) as `def` falls outside of the function body.\n",
    "\n",
    "Most functions will take arguments and return something, but this is not strictly required.\n",
    "Below is an example of a function that does not take any arguments or return any variables."
   ]
  },
  {
   "cell_type": "code",
   "execution_count": null,
   "metadata": {},
   "outputs": [],
   "source": [
    "#\"The function 'print_message' has been called.\"\n"
   ]
  },
  {
   "attachments": {},
   "cell_type": "markdown",
   "metadata": {},
   "source": [
    "# Function arguments\n",
    "\n",
    "The order in which function arguments are listed in the function declaration is in general the order in which arguments should be passed to a function. \n",
    "\n",
    "For the function `sum` that was declared above, we could switch the order of the arguments and the result would not change because we are simply summing the input arguments. But, if we were to subtract one argument from the other, the result would depend on the input order:"
   ]
  },
  {
   "cell_type": "code",
   "execution_count": null,
   "metadata": {},
   "outputs": [],
   "source": [
    "#\"Return a minus b\"\n",
    "\n",
    "alpha, beta = 3, 5  # This is short hand notation for alpha = 3\n",
    "                    #                                 beta = 5\n",
    "\n",
    "# Call the function and print the return value\n",
    "print(subtract(alpha, beta))  # Expect -2\n",
    "print(subtract(beta, alpha))  # Expect 2"
   ]
  },
  {
   "attachments": {},
   "cell_type": "markdown",
   "metadata": {},
   "source": [
    "For more complicated functions we might have numerous arguments. Consequently, it becomes easier to get the wrong order by accident when calling the function (which results in a bug). In Python, we can reduce the likelihood of an error by using *named* arguments, in which case order will not matter, e.g.:"
   ]
  },
  {
   "cell_type": "code",
   "execution_count": null,
   "metadata": {},
   "outputs": [],
   "source": [
    "print(subtract(a=alpha, b=beta))  # Expect -2\n",
    "print(subtract(b=beta, a=alpha))  # Expect -2"
   ]
  },
  {
   "attachments": {},
   "cell_type": "markdown",
   "metadata": {},
   "source": [
    "Using named arguments can often enhance program readability and reduce errors."
   ]
  },
  {
   "attachments": {},
   "cell_type": "markdown",
   "metadata": {},
   "source": [
    "## What can be passed as a function argument?\n",
    "\n",
    "Many object types can be passed as arguments to functions, including other functions. Below\n",
    "is a function, `is_positive`, that checks if the value of a function $f$ evaluated at $x$ is positive:"
   ]
  },
  {
   "cell_type": "code",
   "execution_count": null,
   "metadata": {},
   "outputs": [],
   "source": [
    "def f0(x):\n",
    "    \"Compute x^2 - 1\"\n",
    "    return x*x - 1\n",
    "\n",
    "\n",
    "def f1(x):\n",
    "    \"Compute -x^2 + 2x + 1\"\n",
    "    return -x*x + 2*x + 1\n",
    "\n",
    "    \n",
    "# Value of x for which we want to test a function sign\n",
    "x = 4.5\n",
    "\n",
    "# Test function f0\n",
    "#print(is_positive(f0, x))\n",
    "\n",
    "# Test function f1\n",
    "# print(is_positive(f1, x))"
   ]
  },
  {
   "attachments": {},
   "cell_type": "markdown",
   "metadata": {},
   "source": [
    "## Default arguments\n",
    "\n",
    "It can sometimes be helpful for functions to have 'default' argument values which can be overridden. In some cases it just saves the programmer effort - they can write less code. In other cases it can allow us to use a function for a wider range of problems. For example, we could use the same function for vectors of length 2 and 3 if the default value for the third component is zero.\n",
    "\n",
    "As an example we consider the position $r$ of a particle with initial position $r_{0}$ and initial velocity $v_{0}$, and subject to an acceleration $a$. The position $r$ is given by:  \n",
    "\n",
    "$$\n",
    "r = r_0 + v_0 t + \\frac{1}{2} a t^{2}\n",
    "$$\n",
    "\n",
    "Say for a particular application the acceleration is almost always due to gravity ($g$), and $g = 9.81$ m s$^{-1}$ is sufficiently accurate in most cases. Moreover, the initial velocity is usually zero. We might therefore implement a function as:"
   ]
  },
  {
   "cell_type": "code",
   "execution_count": null,
   "metadata": {},
   "outputs": [],
   "source": [
    "# \"Compute position of an accelerating particle.\"\n",
    "\n",
    "\n",
    "# Position after 0.2 s (t) when dropped from a height of 1 m (r0) \n",
    "# with v0=0.0 and a=-9.81\n"
   ]
  },
  {
   "attachments": {},
   "cell_type": "markdown",
   "metadata": {},
   "source": [
    "At the equator, the acceleration due to gravity is slightly less, and for a case where this difference is important we can call the function with the acceleration due to gravity at the equator:"
   ]
  },
  {
   "cell_type": "code",
   "execution_count": null,
   "metadata": {},
   "outputs": [],
   "source": [
    "# Position after 0.2 s (t) when dropped from a height of  1 m (r0)\n"
   ]
  },
  {
   "cell_type": "code",
   "execution_count": null,
   "metadata": {},
   "outputs": [],
   "source": [
    "# Position after 0.2 s (t) when dropped from a height of  1 m (r0)\n"
   ]
  },
  {
   "attachments": {},
   "cell_type": "markdown",
   "metadata": {},
   "source": [
    "Note that we have also passed the initial velocity - otherwise the program might assume that our acceleration was in fact the velocity. We can use the default velocity and specify the acceleration by using named arguments: "
   ]
  },
  {
   "cell_type": "code",
   "execution_count": null,
   "metadata": {},
   "outputs": [],
   "source": [
    "# Position after 0.2 s (t) when dropped from a height of  1 m (r0)\n"
   ]
  },
  {
   "attachments": {},
   "cell_type": "markdown",
   "metadata": {},
   "source": [
    "# Return arguments\n",
    "\n",
    "Most functions, but not all, return data. Above are examples that return a single value (object), and one case where there is no return value. Python functions can have more than one return value. For example, we could have a function that takes three values and returns the maximum, the minimum and the mean, e.g."
   ]
  },
  {
   "cell_type": "code",
   "execution_count": null,
   "metadata": {},
   "outputs": [],
   "source": [
    "def compute_max_min_mean(x0, x1, x2):\n",
    "    \"Return maximum, minimum and mean values\"\n",
    "    \n",
    "    x_min = x0\n",
    "    if x1 < x_min:\n",
    "        x_min = x1\n",
    "    if x2 < x_min:\n",
    "        x_min = x2\n",
    "\n",
    "    x_max = x0\n",
    "    if x1 > x_max:\n",
    "        x_max = x1\n",
    "    if x2 > x_max:\n",
    "        x_max = x2\n",
    "\n",
    "    x_mean = (x0 + x1 + x2)/3    \n",
    "        \n",
    "    \n",
    "# \n",
    "print(xmin, xmax, xmean)"
   ]
  },
  {
   "attachments": {},
   "cell_type": "markdown",
   "metadata": {},
   "source": [
    "This function works, but we will see better ways to implement the functionality using lists or tuples \n",
    "in a later notebook."
   ]
  },
  {
   "attachments": {},
   "cell_type": "markdown",
   "metadata": {},
   "source": [
    "# Scope\n",
    "\n",
    "Functions have local scope, which means that variables that are declared inside a function are not visible outside the function. This is a very good thing - it means that we do not have to worry about variables declared inside a function unexpectedly affecting other parts of a program. Here is a simple example:"
   ]
  },
  {
   "cell_type": "code",
   "execution_count": null,
   "metadata": {},
   "outputs": [],
   "source": [
    "def f(x): # name x used as a formal parameter\n",
    "    y = 1\n",
    "    w = 2\n",
    "    x = x + y + w\n",
    "    print(\"x = \", x)\n",
    "    return x\n",
    "\n",
    "# Assign 3.0 to the variable x\n",
    "x = 3.0\n",
    "y = 2.0\n",
    "print(\"x = \", x)\n",
    "print(\"y = \", y)\n",
    "\n",
    "\n",
    "# Check that the function declaration of 'x' has not affected \n",
    "# the variable 'x' outside of the function\n",
    "# print(\"x = \", x)\n",
    "# print(\"y = \", y)\n",
    "\n",
    "# This would throw an error - the variable c is not visible outside of the function\n",
    "# print(w)"
   ]
  },
  {
   "attachments": {},
   "cell_type": "markdown",
   "metadata": {},
   "source": [
    "The variable `x` that is declared outside of the function is unaffected by what is done inside the function.\n",
    "Similarly, the variable `w` in the function is not 'visible' outside of the function. \n",
    "\n",
    "There is more to scoping rules that we can skip over for now."
   ]
  },
  {
   "attachments": {},
   "cell_type": "markdown",
   "metadata": {},
   "source": [
    "# Modules\n",
    "\n",
    "So far, we have operated under the assumption that our entire program is stored in one file. This is perfectly reasonable as long as programs are small. As programs get larger, however, it is typically more convenient to store different parts of them in different files. Imagine, for example, that multiple people are working on the same program. It would be a nightmare if they were all trying to update the same file. Python modules allow us to easily construct a program from code in multiple files.\n",
    "\n",
    "A module is a `.py` file containing Python definitions and statements. We could create, for example, a file `circle.py` containing:\n",
    "\n",
    "```\n",
    "pi = 3.14159\n",
    "\n",
    "def area(radius):\n",
    "    return pi*(radius**2)\n",
    "\n",
    "def circumference(radius):\n",
    "    return 2*pi*radius\n",
    "\n",
    "def sphereSurface(radius):\n",
    "    return 4.0*area(radius)\n",
    "\n",
    "def sphereVolume(radius):\n",
    "    return (4.0/3.0)*pi*(radius**3)\n",
    "```\n",
    "A program gets access to a module through an import statement. So, for\n",
    "example, the code"
   ]
  },
  {
   "cell_type": "code",
   "execution_count": null,
   "metadata": {},
   "outputs": [],
   "source": [
    "# Import Google Drive and mount google drive volume to Jupyter notebook\n",
    "from google.colab import drive\n",
    "drive.mount('/content/gdrive')\n",
    "!ls '/content/gdrive/My Drive/CE311K/lectures/03_functions'\n",
    "# Add Google drive path to locate modules\n",
    "import sys\n",
    "sys.path.append('/content/gdrive/My Drive/CE311K/lectures/03_functions')\n",
    "print(sys.path)"
   ]
  },
  {
   "cell_type": "code",
   "execution_count": null,
   "metadata": {},
   "outputs": [],
   "source": [
    "# Import circle and test circle functions"
   ]
  }
 ],
 "metadata": {
  "kernelspec": {
   "display_name": "Python 3",
   "language": "python",
   "name": "python3"
  },
  "language_info": {
   "codemirror_mode": {
    "name": "ipython",
    "version": 3
   },
   "file_extension": ".py",
   "mimetype": "text/x-python",
   "name": "python",
   "nbconvert_exporter": "python",
   "pygments_lexer": "ipython3",
   "version": "3.8.5"
  }
 },
 "nbformat": 4,
 "nbformat_minor": 1
}
