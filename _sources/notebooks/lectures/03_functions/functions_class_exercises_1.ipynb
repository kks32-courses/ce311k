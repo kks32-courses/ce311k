{
  "nbformat": 4,
  "nbformat_minor": 0,
  "metadata": {
    "colab": {
      "name": "functions_class_exercises_1.ipynb",
      "provenance": [],
      "collapsed_sections": []
    },
    "kernelspec": {
      "name": "python3",
      "display_name": "Python 3"
    }
  },
  "cells": [
    {
      "cell_type": "code",
      "metadata": {
        "id": "2pjtfkWHFncI",
        "outputId": "65754de4-a943-42ad-d1ed-8adb093b77d3",
        "colab": {
          "base_uri": "https://localhost:8080/",
          "height": 34
        }
      },
      "source": [
        "import math\n",
        "math.sin(4)\n",
        "\n",
        "def println():\n",
        "  print([\"Hello world\", \"Hi\", \"Hello\"])\n",
        "\n",
        "println()"
      ],
      "execution_count": null,
      "outputs": [
        {
          "output_type": "stream",
          "text": [
            "['Hello world', 'Hi', 'Hello']\n"
          ],
          "name": "stdout"
        }
      ]
    },
    {
      "cell_type": "markdown",
      "metadata": {
        "id": "yIkqfxAU2kPn"
      },
      "source": [
        "# Multiple returns"
      ]
    },
    {
      "cell_type": "code",
      "metadata": {
        "id": "ir-Jh5uz2IQ1",
        "outputId": "71229920-c0bd-4253-891d-f62995a56079",
        "colab": {
          "base_uri": "https://localhost:8080/",
          "height": 34
        }
      },
      "source": [
        "# definition of a function\n",
        "def is_positive(num):\n",
        "    positive = True\n",
        "    if num > 0:\n",
        "      positive = True\n",
        "    else:\n",
        "      positive = False\n",
        "    return positive\n",
        "    \n",
        "# function call\n",
        "is_positive(5)\n",
        "is_positive(-7)"
      ],
      "execution_count": null,
      "outputs": [
        {
          "output_type": "execute_result",
          "data": {
            "text/plain": [
              "False"
            ]
          },
          "metadata": {
            "tags": []
          },
          "execution_count": 24
        }
      ]
    },
    {
      "cell_type": "code",
      "metadata": {
        "id": "--yaAY4b2W5V",
        "outputId": "f5d63d5d-7c65-4547-d219-5b8c01d97e0b",
        "colab": {
          "base_uri": "https://localhost:8080/",
          "height": 34
        }
      },
      "source": [
        "def is_positive(num):\n",
        "    if num > 0:\n",
        "      return True\n",
        "    else:\n",
        "      return False\n",
        "\n",
        "is_positive(5)\n",
        "#is_positive(-7)"
      ],
      "execution_count": null,
      "outputs": [
        {
          "output_type": "execute_result",
          "data": {
            "text/plain": [
              "True"
            ]
          },
          "metadata": {
            "tags": []
          },
          "execution_count": 41
        }
      ]
    },
    {
      "cell_type": "markdown",
      "metadata": {
        "id": "YqRzWRop2hAx"
      },
      "source": [
        "# Named arguments"
      ]
    },
    {
      "cell_type": "code",
      "metadata": {
        "id": "cA7X0zpI1t0N",
        "outputId": "68a773a2-b6ef-44d0-b926-c46c30323737",
        "colab": {
          "base_uri": "https://localhost:8080/",
          "height": 86
        }
      },
      "source": [
        "def subtract(a, b):\n",
        "    \"Return a minus b\"\n",
        "    return a - b\n",
        "\n",
        "alpha, beta = 3, 5  # This is short hand notation for alpha = 3\n",
        "                    #                                 beta = 5\n",
        "\n",
        "# Call the function and print the return value\n",
        "print(subtract(alpha, beta))  # Expect -2\n",
        "print(subtract(beta, alpha))  # Expect 2\n",
        "print(subtract(a=alpha, b=beta))  # Expect -2\n",
        "print(subtract(b=beta, a=alpha))  # Expect -2"
      ],
      "execution_count": null,
      "outputs": [
        {
          "output_type": "stream",
          "text": [
            "-2\n",
            "2\n",
            "-2\n",
            "-2\n"
          ],
          "name": "stdout"
        }
      ]
    },
    {
      "cell_type": "code",
      "metadata": {
        "id": "B_spwoS736ow",
        "outputId": "d0ea7284-f749-4c48-e292-bf116f3f3122",
        "colab": {
          "base_uri": "https://localhost:8080/",
          "height": 51
        }
      },
      "source": [
        "# Define \n",
        "def subtract(a, b):\n",
        "    \"Return a minus b\"\n",
        "    print(\"a = {}, b = {}\".format(a,b))\n",
        "    return a - b\n",
        "\n",
        "# Outside the fn\n",
        "b1 = 3\n",
        "a1 = 5\n",
        "\n",
        "print(subtract(b = b1, a=  a1))"
      ],
      "execution_count": null,
      "outputs": [
        {
          "output_type": "stream",
          "text": [
            "a = 5, b = 3\n",
            "2\n"
          ],
          "name": "stdout"
        }
      ]
    },
    {
      "cell_type": "markdown",
      "metadata": {
        "id": "skj4C0C942ul"
      },
      "source": [
        ""
      ]
    },
    {
      "cell_type": "code",
      "metadata": {
        "id": "hzcTGfIF43qG",
        "outputId": "c233afb9-aa08-4f31-9f14-328fe20dd205",
        "colab": {
          "base_uri": "https://localhost:8080/",
          "height": 34
        }
      },
      "source": [
        "def fun1(name, age):\n",
        "    print(name, age)\n",
        "\n",
        "#(a) fun1(age=23, name='Emma')\n",
        "#(b) fun1(name=\"Emma\", 23)\n",
        "#(c) fun1(name='Emma', 23)\n",
        "#(d) fun1('Emma', 23)\n",
        "#(e) fun1('Emma', age=23)"
      ],
      "execution_count": null,
      "outputs": [
        {
          "output_type": "stream",
          "text": [
            "Emma 23\n"
          ],
          "name": "stdout"
        }
      ]
    },
    {
      "cell_type": "markdown",
      "metadata": {
        "id": "6NCkTN_exKA9"
      },
      "source": [
        "# Functions arguments and return\n",
        "\n",
        "Write a Python function to sum all the numbers in a list."
      ]
    },
    {
      "cell_type": "code",
      "metadata": {
        "id": "VZG_9wlPJ4-4",
        "outputId": "6c046913-83f8-4484-9e6a-e13d5b003c8e",
        "colab": {
          "base_uri": "https://localhost:8080/",
          "height": 34
        }
      },
      "source": [
        "def list_sum(num):\n",
        "    \"\"\"Sum of all the elements in the list\"\"\"\n",
        "    total = 0\n",
        "    for element in num:\n",
        "      total += element\n",
        "    return total\n",
        "\n",
        "sum = list_sum([5, 4, 7, -9, 12, 15, 6])\n",
        "print(sum)"
      ],
      "execution_count": null,
      "outputs": [
        {
          "output_type": "stream",
          "text": [
            "40\n"
          ],
          "name": "stdout"
        }
      ]
    },
    {
      "cell_type": "code",
      "metadata": {
        "id": "a0V6DO7ZxFh4",
        "outputId": "a4ed47ea-7760-4c31-fb3e-4100fdb6b4ad",
        "colab": {
          "base_uri": "https://localhost:8080/",
          "height": 34
        }
      },
      "source": [
        "def sum(numbers):\n",
        "    \"\"\"Sum of all number in the list\"\"\"\n",
        "    total = 0\n",
        "    for x in numbers:\n",
        "        total += x\n",
        "    return total\n",
        "\n",
        "ls = [8, 2, 3, 0, 7]\n",
        "total = sum(ls)\n",
        "print(\"Sum of all the numbers in the list is \", total)"
      ],
      "execution_count": null,
      "outputs": [
        {
          "output_type": "stream",
          "text": [
            "Sum of all the numbers in the list is  20\n"
          ],
          "name": "stdout"
        }
      ]
    },
    {
      "cell_type": "markdown",
      "metadata": {
        "id": "DaQb6X-Ry8q8"
      },
      "source": [
        "# Function as an argument"
      ]
    },
    {
      "cell_type": "code",
      "metadata": {
        "id": "phWKmAmFXZ73",
        "outputId": "be456284-7704-438c-da94-7f12d21fec0b",
        "colab": {
          "base_uri": "https://localhost:8080/",
          "height": 283
        }
      },
      "source": [
        "import numpy as np\n",
        "import matplotlib.pyplot as plt\n",
        "\n",
        "xl = np.arange(-1, 2.1, 0.1)\n",
        "yl = []\n",
        "\n",
        "for x in xl:\n",
        "  y = x**3 -3 * x + 4\n",
        "  yl.append(y)\n",
        "\n",
        "\n",
        "plt.plot(xl, yl)"
      ],
      "execution_count": null,
      "outputs": [
        {
          "output_type": "execute_result",
          "data": {
            "text/plain": [
              "[<matplotlib.lines.Line2D at 0x7f4556b32358>]"
            ]
          },
          "metadata": {
            "tags": []
          },
          "execution_count": 1
        },
        {
          "output_type": "display_data",
          "data": {
            "image/png": "[encoded data removed]",
            "text/plain": [
              "<Figure size 432x288 with 1 Axes>"
            ]
          },
          "metadata": {
            "tags": [],
            "needs_background": "light"
          }
        }
      ]
    },
    {
      "cell_type": "code",
      "metadata": {
        "id": "Y2ZP0Kz_xCsK",
        "outputId": "7817b994-ca24-46a3-ca1b-5be3d0d9e2fd",
        "colab": {
          "base_uri": "https://localhost:8080/",
          "height": 282
        }
      },
      "source": [
        "import numpy as np\n",
        "import matplotlib.pyplot as plt\n",
        "\n",
        "xl = np.arange(-1, 2.1, 0.1)\n",
        "yl = []\n",
        "\n",
        "for x in xl:\n",
        "  y = 2 * x * (1 - x)\n",
        "  yl.append(y)\n",
        "\n",
        "\n",
        "plt.plot(xl, yl)"
      ],
      "execution_count": null,
      "outputs": [
        {
          "output_type": "execute_result",
          "data": {
            "text/plain": [
              "[<matplotlib.lines.Line2D at 0x7f2752fbff98>]"
            ]
          },
          "metadata": {
            "tags": []
          },
          "execution_count": 6
        },
        {
          "output_type": "display_data",
          "data": {
            "image/png": "[encoded data removed]",
            "text/plain": [
              "<Figure size 432x288 with 1 Axes>"
            ]
          },
          "metadata": {
            "tags": [],
            "needs_background": "light"
          }
        }
      ]
    },
    {
      "cell_type": "code",
      "metadata": {
        "id": "xq3p9ryTzr75",
        "outputId": "93d4fdda-9e96-4616-dcf6-f680e1a8a1c6",
        "colab": {
          "base_uri": "https://localhost:8080/",
          "height": 265
        }
      },
      "source": [
        "import numpy as np\n",
        "import matplotlib.pyplot as plt\n",
        "\n",
        "def f0(x):\n",
        "    \"Function 2x(1-x)\"\n",
        "    return 2*x*(1-x)\n",
        "\n",
        "def f1(x):\n",
        "    \"Function x^2 - 2x + 4\"\n",
        "    return x**2 - 2*x + 4\n",
        "\n",
        "def plotfn(fn, xmin, xmax, inc):\n",
        "    \"Plot a function with xmin, xmax and inc\"\n",
        "    xl = np.arange(xmin, xmax, inc)\n",
        "    yl = []\n",
        "\n",
        "    for x in xl:\n",
        "      fx = fn(x)\n",
        "      yl.append(fx)\n",
        "\n",
        "    plt.plot(xl, yl)\n",
        "\n",
        "#plotfn(f0, -1, 2.1, 0.1)\n",
        "\n",
        "plotfn(f1, -1, 4.1, 0.1)"
      ],
      "execution_count": null,
      "outputs": [
        {
          "output_type": "display_data",
          "data": {
            "image/png": "[encoded data removed]",
            "text/plain": [
              "<Figure size 432x288 with 1 Axes>"
            ]
          },
          "metadata": {
            "tags": [],
            "needs_background": "light"
          }
        }
      ]
    },
    {
      "cell_type": "code",
      "metadata": {
        "id": "Di_DuQ8iz-cZ",
        "outputId": "e1655a64-2caa-43ea-8231-7c8e8de3cbe8",
        "colab": {
          "base_uri": "https://localhost:8080/",
          "height": 34
        }
      },
      "source": [
        ""
      ],
      "execution_count": null,
      "outputs": [
        {
          "output_type": "stream",
          "text": [
            "-2\n"
          ],
          "name": "stdout"
        }
      ]
    },
    {
      "cell_type": "code",
      "metadata": {
        "id": "nUgoBZGu23eC",
        "outputId": "459446f9-654e-4a7b-aaf7-511ceda99d3d",
        "colab": {
          "base_uri": "https://localhost:8080/",
          "height": 282
        }
      },
      "source": [
        "# fn1 y = f(x) = 2* x * (1-x)\n",
        "# fn2 y = f(x) = x^2 - 2x + 4\n",
        "import numpy as np\n",
        "import matplotlib.pyplot as plt\n",
        "\n",
        "xl = np.arange(-2, 2.1, 0.1)\n",
        "#print(xl)\n",
        "# empty list\n",
        "yl = []\n",
        "\n",
        "for x in xl:\n",
        "    y = 2*x*(1-x)\n",
        "    yl.append(y)\n",
        "\n",
        "plt.plot(xl, yl)"
      ],
      "execution_count": null,
      "outputs": [
        {
          "output_type": "execute_result",
          "data": {
            "text/plain": [
              "[<matplotlib.lines.Line2D at 0x7f275269e588>]"
            ]
          },
          "metadata": {
            "tags": []
          },
          "execution_count": 57
        },
        {
          "output_type": "display_data",
          "data": {
            "image/png": "[encoded data removed]",
            "text/plain": [
              "<Figure size 432x288 with 1 Axes>"
            ]
          },
          "metadata": {
            "tags": [],
            "needs_background": "light"
          }
        }
      ]
    },
    {
      "cell_type": "code",
      "metadata": {
        "id": "YAjFDR8PLooz",
        "outputId": "56afd7c1-33c7-4284-9fcb-6137f26663e4",
        "colab": {
          "base_uri": "https://localhost:8080/",
          "height": 265
        }
      },
      "source": [
        "import numpy as np\n",
        "import matplotlib.pyplot as plt\n",
        "\n",
        "# fn1 y = f(x) = 2* x * (1-x)\n",
        "def fn1(x):\n",
        "  return 2*x*(1-x)\n",
        "\n",
        "# fn2 y = f(x) = x^2 - 2x + 4\n",
        "def fn2(x):\n",
        "  return x**2 - 2*x +4\n",
        "\n",
        "def plotfn(fn, xmin, xmax, inc):\n",
        "    \"\"\"Plots a given function\"\"\"\n",
        "    xl = np.arange(xmin, xmax, inc)\n",
        "    yl = []\n",
        "\n",
        "    for x in xl:\n",
        "        y = fn(x)\n",
        "        yl.append(y)\n",
        "\n",
        "    plt.plot(xl, yl)\n",
        "\n",
        "plotfn(fn2, 0, 10.1, 0.1)"
      ],
      "execution_count": null,
      "outputs": [
        {
          "output_type": "display_data",
          "data": {
            "image/png": "[encoded data removed]",
            "text/plain": [
              "<Figure size 432x288 with 1 Axes>"
            ]
          },
          "metadata": {
            "tags": [],
            "needs_background": "light"
          }
        }
      ]
    },
    {
      "cell_type": "code",
      "metadata": {
        "id": "KtUqrgahM-iv",
        "outputId": "799e9a4f-6cb8-4d18-ce0d-a01ecaf0edf4",
        "colab": {
          "base_uri": "https://localhost:8080/",
          "height": 265
        }
      },
      "source": [
        "import numpy as np\n",
        "import math\n",
        "import matplotlib.pyplot as plt\n",
        "# f0\n",
        "def f0(x):\n",
        "  return 2 * x * (1 - x)\n",
        "\n",
        "# f1\n",
        "def f1(x):\n",
        "  return x**3 - 2*x + 4\n",
        "\n",
        "# Create a plotting function\n",
        "def plotfn(fn, xmin, xmax, inc):\n",
        "    \"\"\"generic plotting function\"\"\"\n",
        "    xl = np.arange(xmin, xmax, inc)\n",
        "    yl = []\n",
        "    # Iterating through x\n",
        "    for x in xl:\n",
        "      y = fn(x)\n",
        "      yl.append(y)\n",
        "\n",
        "    plt.plot(xl, yl)\n",
        "\n",
        "# Calling function \n",
        "plotfn(math.cos, -2, 2.1, 0.1)"
      ],
      "execution_count": null,
      "outputs": [
        {
          "output_type": "display_data",
          "data": {
            "image/png": "[encoded data removed]",
            "text/plain": [
              "<Figure size 432x288 with 1 Axes>"
            ]
          },
          "metadata": {
            "tags": [],
            "needs_background": "light"
          }
        }
      ]
    },
    {
      "cell_type": "code",
      "metadata": {
        "id": "CpfcGXugYDcH"
      },
      "source": [
        ""
      ],
      "execution_count": null,
      "outputs": []
    }
  ]
}