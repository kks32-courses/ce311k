{
  "cells": [
    {
      "cell_type": "markdown",
      "metadata": {
        "id": "KqpxfZ3xhJeN"
      },
      "source": [
        "# Lecture 03: Functions (Solutions)\n",
        "\n",
        "**Exercise:** [![Open in Colab](https://colab.research.google.com/assets/colab-badge.svg)](https://colab.research.google.com/github/kks32-courses/ce311k/blob/main/notebooks/lectures/03_functions/03_functions.ipynb)\n",
        "**Solution:** [![Open in Colab](https://colab.research.google.com/assets/colab-badge.svg)](https://colab.research.google.com/github/kks32-courses/ce311k/blob/main/notebooks/lectures/03_functions/03_functions_solutions.ipynb)\n",
        "\n",
        "Functions are one of the most important concepts in computing.  Similar to mathematical functions, they take input data and return an output(s). Functions are ideal for repetitive tasks that perform a particular operation\n",
        "on different input data and return a result. A simple function might take the coordinates of the vertices of a triangle and return the area. Any non-trivial program will use functions, and in many cases will have many functions.\n",
        "\n"
      ]
    },
    {
      "cell_type": "markdown",
      "metadata": {
        "id": "Iw4Mx9lbhIIQ"
      },
      "source": [
        "## Objectives\n",
        "\n",
        "- Introduce construction and use of user functions\n",
        "- Returning from functions\n",
        "- Default arguments\n",
        "- Modules\n",
        "\n",
        "\n",
        "![functions](https://raw.githubusercontent.com/kks32-courses/ce311k/master/notebooks/lectures/03_functions/functions.png)\n",
        "\n",
        "<iframe width=\"560\" height=\"315\" src=\"https://www.youtube.com/embed/Zr7GkuD1Jsk\" title=\"YouTube video player\" frameborder=\"0\" allow=\"accelerometer; autoplay; clipboard-write; encrypted-media; gyroscope; picture-in-picture; web-share\" allowfullscreen></iframe>\n",
        "\n",
        "<iframe width=\"560\" height=\"315\" src=\"https://www.youtube.com/embed/nCjTpuCqyUg\" title=\"YouTube video player\" frameborder=\"0\" allow=\"accelerometer; autoplay; clipboard-write; encrypted-media; gyroscope; picture-in-picture; web-share\" allowfullscreen></iframe>"
      ]
    },
    {
      "cell_type": "markdown",
      "metadata": {
        "id": "iaLSTVKthIIR"
      },
      "source": [
        "# Purpose\n",
        "\n",
        "Functions allow computer code to be re-used multiple times with different input data. It is good to re-use code as much as possible because we then focus testing and debugging efforts, and maybe also optimisations, on small pieces of code that are then re-used. The more code that is written, the less frequently sections of code are used, and as a consequence the greater the likelihood of errors.\n",
        "\n",
        "Functions can also enhance the readability of a program, and make it easier to collaborate with others. Functions allow us to focus on *what* a program does at a high level\n",
        "rather than the details of *how* it does it. Low-level implementation details are *encapsulated* in functions. To understand at a high level what a program does, we usually just need to know what data is passed into a function and what the function returns. It is not necessary to know the precise details of how a function is implemented to grasp the structure of a program and how it works. For example, we might need to know that a function computes and returns $\\sin(x)$; we don't usually need to know *how* it computes sine.\n",
        "\n",
        "Below is a simple example of a function being 'called' numerous times from inside a `for` loop."
      ]
    },
    {
      "cell_type": "code",
      "execution_count": null,
      "metadata": {
        "id": "hCMhIOCbhIIR",
        "outputId": "84ca88ad-34f5-4e27-c435-37be98838ec7"
      },
      "outputs": [
        {
          "name": "stdout",
          "output_type": "stream",
          "text": [
            "Case A: 3 values\n",
            "0 0.0\n",
            "1 0.8416666666666667\n",
            "2 0.909347442680776\n",
            "Case B: 12 values\n",
            "0 0.0\n",
            "1 0.8414710097001764\n",
            "2 0.9092974515196738\n",
            "3 0.14111965434119442\n",
            "4 -0.7568025787396139\n",
            "5 -0.9589238320910018\n",
            "6 -0.27941540821600297\n",
            "7 0.6569862528811284\n",
            "8 0.9893581773748686\n",
            "9 0.412118713523071\n",
            "10 -0.5440217912423688\n",
            "11 -0.9999903459807044\n"
          ]
        }
      ],
      "source": [
        "import math\n",
        "def approx_sin(x, tol):\n",
        "    \"Return an approximate sin value that depends on the input value x and tolerance\"\n",
        "    # Intialise approximation of sine\n",
        "    sin = 0.0\n",
        "\n",
        "    # Loop until error satisfies tolerance or a fixed number of iterations is reached\n",
        "    for i in range(1001):\n",
        "        sin+=(-1)**i*x**(2*i+1)/math.factorial(2*i+1)\n",
        "        error=abs(sin-math.sin(x))\n",
        "        if error<tol:\n",
        "            return sin\n",
        "            break\n",
        "    else: #nobreak\n",
        "        print(\"Error, sin(x) did not converge\")\n",
        "\n",
        "\n",
        "\n",
        "print(\"Case A: 3 values\")\n",
        "for y in range(3):\n",
        "    print(y, approx_sin(y, 1e-3))\n",
        "\n",
        "print(\"Case B: 12 values\")\n",
        "for y in range(12):\n",
        "    print(y, approx_sin(y, 1e-6))"
      ]
    },
    {
      "cell_type": "markdown",
      "metadata": {
        "id": "EJWYCREYhIIS"
      },
      "source": [
        "Using a function, we did not have to duplicate the `sin` computation inside each loop\n",
        "we re-used it. With a function we only have to change the way in which we calculate the sin of `x` in one place."
      ]
    },
    {
      "cell_type": "markdown",
      "metadata": {
        "id": "Vu4UTt_3hIIT"
      },
      "source": [
        "# What is a function?\n",
        "\n",
        "Below is a Python function that takes two arguments (`a` and `b`), and returns `a + b`:"
      ]
    },
    {
      "cell_type": "code",
      "execution_count": null,
      "metadata": {
        "id": "Rn2OkyIChIIT"
      },
      "outputs": [],
      "source": [
        "def sum(a, b):\n",
        "    \"\"\"\"Return the sum of a and b\"\"\"\n",
        "    return a + b\n",
        "\n",
        "# Call the function\n",
        "m = sum(3, 4)\n",
        "print(m)  # Expect 7\n",
        "\n",
        "# Call the function\n",
        "m = 10\n",
        "n = sum(m, m)\n",
        "print(n)  # Expect 20"
      ]
    },
    {
      "cell_type": "markdown",
      "metadata": {
        "id": "hlp3U1bRhIIT"
      },
      "source": [
        "Using the above example as a model, we can examine the anatomy of a Python function.\n",
        "\n",
        "- A function is declared using `def`, followed by the function name, `sum`, followed by the list\n",
        "  of arguments to be passed to the function between brackets, `(a, b)`, and ended with a colon:\n",
        "  ```python\n",
        "  def sum(a, b):\n",
        "  ```\n",
        "\n",
        "- Next comes the body of the function. The first part of the body is indented four spaces.\n",
        "  Everything that makes\n",
        "  up  the body of the function is indented at least four spaces relative to `def`.\n",
        "  In Python, the first part of the body is an optional documentation string that describes in words what the   \n",
        "  function does\n",
        "  ```python  \n",
        "      \"Return the sum of a and b\"\n",
        "  ```\n",
        "\n",
        "- It is good practice to include a 'docstring'.  What comes after the documentation string\n",
        "  is the code that the function executes. At the end of a function is usually a `return` statement; this defines   what\n",
        "  result the function should return:\n",
        "  ```python\n",
        "      return a + b\n",
        "  ```\n",
        "Anything indented to the same level (or less) as `def` falls outside of the function body.\n",
        "\n",
        "Most functions will take arguments and return something, but this is not strictly required.\n",
        "Below is an example of a function that does not take any arguments or return any variables."
      ]
    },
    {
      "cell_type": "code",
      "execution_count": null,
      "metadata": {
        "id": "cov2QpnfhIIT"
      },
      "outputs": [],
      "source": [
        "def print_message():\n",
        "    print(\"The function 'print_message' has been called.\")\n",
        "\n",
        "print_message()"
      ]
    },
    {
      "cell_type": "markdown",
      "metadata": {
        "id": "77hdqLK9hIIT"
      },
      "source": [
        "# Function arguments\n",
        "\n",
        "The order in which function arguments are listed in the function declaration is in general the order in which arguments should be passed to a function.\n",
        "\n",
        "For the function `sum` that was declared above, we could switch the order of the arguments and the result would not change because we are simply summing the input arguments. But, if we were to subtract one argument from the other, the result would depend on the input order:"
      ]
    },
    {
      "cell_type": "code",
      "execution_count": null,
      "metadata": {
        "id": "Z3SXF7mEhIIT"
      },
      "outputs": [],
      "source": [
        "def subtract(a, b):\n",
        "    \"Return a minus b\"\n",
        "    return a - b\n",
        "\n",
        "alpha, beta = 3, 5  # This is short hand notation for alpha = 3\n",
        "                    #                                 beta = 5\n",
        "\n",
        "# Call the function and print the return value\n",
        "print(subtract(alpha, beta))  # Expect -2\n",
        "print(subtract(beta, alpha))  # Expect 2"
      ]
    },
    {
      "cell_type": "markdown",
      "metadata": {
        "id": "-SIaLcnVhIIT"
      },
      "source": [
        "For more complicated functions we might have numerous arguments. Consequently, it becomes easier to get the wrong order by accident when calling the function (which results in a bug). In Python, we can reduce the likelihood of an error by using *named* arguments, in which case order will not matter, e.g.:"
      ]
    },
    {
      "cell_type": "code",
      "execution_count": null,
      "metadata": {
        "id": "L_OvTE1VhIIT",
        "outputId": "ca6c2fd3-cec0-4ac1-eada-3865b8b03d35"
      },
      "outputs": [
        {
          "name": "stdout",
          "output_type": "stream",
          "text": [
            "-2\n",
            "-2\n"
          ]
        }
      ],
      "source": [
        "print(subtract(a=alpha, b=beta))  # Expect -2\n",
        "print(subtract(b=beta, a=alpha))  # Expect -2"
      ]
    },
    {
      "cell_type": "markdown",
      "metadata": {
        "id": "Z4JeRQq4hIIU"
      },
      "source": [
        "Using named arguments can often enhance program readability and reduce errors."
      ]
    },
    {
      "cell_type": "markdown",
      "metadata": {
        "id": "mmM8opdEhIIU"
      },
      "source": [
        "## What can be passed as a function argument?\n",
        "\n",
        "Many object types can be passed as arguments to functions, including other functions. Below\n",
        "is a function, `is_positive`, that checks if the value of a function $f$ evaluated at $x$ is positive:"
      ]
    },
    {
      "cell_type": "code",
      "execution_count": null,
      "metadata": {
        "id": "KFadLxuahIIU",
        "outputId": "a40b7f56-0e65-4322-b02e-70176b64f215"
      },
      "outputs": [
        {
          "name": "stdout",
          "output_type": "stream",
          "text": [
            "True\n",
            "True\n",
            "False\n"
          ]
        }
      ],
      "source": [
        "def f0(x):\n",
        "    \"Compute x^2 - 1\"\n",
        "    return x*x - 1\n",
        "\n",
        "\n",
        "def f1(x):\n",
        "    \"Compute -x^2 + 2x + 1\"\n",
        "    return -x*x + 2*x + 1\n",
        "\n",
        "def is_f_p(f, x):\n",
        "    if f(x) > 0:\n",
        "        return True\n",
        "    else:\n",
        "        return False\n",
        "\n",
        "print(is_f_p(f1, 0.5))\n",
        "\n",
        "def is_positive(f, x):\n",
        "    \"Check if the function value f(x) is positive\"\n",
        "\n",
        "    # Evaluate the function passed into the function for the value of x\n",
        "    # passed into the function\n",
        "    if f(x) > 0:\n",
        "        return True\n",
        "    else:\n",
        "        return False\n",
        "\n",
        "\n",
        "# Value of x for which we want to test a function sign\n",
        "x = 4.5\n",
        "\n",
        "# Test function f0\n",
        "print(is_positive(f0, x))\n",
        "\n",
        "# Test function f1\n",
        "print(is_positive(f1, x))"
      ]
    },
    {
      "cell_type": "markdown",
      "metadata": {
        "id": "DRsZQJdEhIIU"
      },
      "source": [
        "## Default arguments\n",
        "\n",
        "It can sometimes be helpful for functions to have 'default' argument values which can be overridden. In some cases it just saves the programmer effort - they can write less code. In other cases it can allow us to use a function for a wider range of problems. For example, we could use the same function for vectors of length 2 and 3 if the default value for the third component is zero.\n",
        "\n",
        "As an example we consider the position $r$ of a particle with initial position $r_{0}$ and initial velocity $v_{0}$, and subject to an acceleration $a$. The position $r$ is given by:  \n",
        "\n",
        "$$\n",
        "r = r_0 + v_0 t + \\frac{1}{2} a t^{2}\n",
        "$$\n",
        "\n",
        "Say for a particular application the acceleration is almost always due to gravity ($g$), and $g = 9.81$ m s$^{-1}$ is sufficiently accurate in most cases. Moreover, the initial velocity is usually zero. We might therefore implement a function as:"
      ]
    },
    {
      "cell_type": "code",
      "execution_count": null,
      "metadata": {
        "id": "0zXgfXWChIIU",
        "outputId": "68a35fc0-9218-4f6f-c266-db49a760c15d"
      },
      "outputs": [
        {
          "name": "stdout",
          "output_type": "stream",
          "text": [
            "0.8038\n"
          ]
        }
      ],
      "source": [
        "def position(t, r0, v0=0.0, a=-9.81):\n",
        "    \"Compute position of an accelerating particle.\"\n",
        "    return r0 + v0*t + 0.5*a*t*t\n",
        "\n",
        "# Position after 0.2 s (t) when dropped from a height of 1 m (r0)\n",
        "# with v0=0.0 and a=-9.81\n",
        "p = position(0.2, 1.0)\n",
        "print(p)"
      ]
    },
    {
      "cell_type": "markdown",
      "metadata": {
        "id": "Eu3HTHhXhIIU"
      },
      "source": [
        "At the equator, the acceleration due to gravity is slightly less, and for a case where this difference is important we can call the function with the acceleration due to gravity at the equator:"
      ]
    },
    {
      "cell_type": "code",
      "execution_count": null,
      "metadata": {
        "id": "xhjSo4MShIIU",
        "outputId": "f9926812-de4a-45e5-f0c4-52a61331f384"
      },
      "outputs": [
        {
          "name": "stdout",
          "output_type": "stream",
          "text": [
            "0.8044\n"
          ]
        }
      ],
      "source": [
        "# Position after 0.2 s (t) when dropped from a height of  1 m (r0)\n",
        "p = position(0.2, 1, 0.0, -9.78)\n",
        "print(p)"
      ]
    },
    {
      "cell_type": "markdown",
      "metadata": {
        "id": "QtMvi6JuhIIU"
      },
      "source": [
        "Note that we have also passed the initial velocity - otherwise the program might assume that our acceleration was in fact the velocity. We can use the default velocity and specify the acceleration by using named arguments:"
      ]
    },
    {
      "cell_type": "code",
      "execution_count": null,
      "metadata": {
        "id": "FcALirI8hIIU",
        "outputId": "248cae94-e84e-475a-a21b-989e58d282b9"
      },
      "outputs": [
        {
          "name": "stdout",
          "output_type": "stream",
          "text": [
            "0.8044\n"
          ]
        }
      ],
      "source": [
        "# Position after 0.2 s (t) when dropped from a height of  1 m (r0)\n",
        "p = position(0.2, 1, a=-9.78)\n",
        "print(p)"
      ]
    },
    {
      "cell_type": "markdown",
      "metadata": {
        "id": "30b8gv4ehIIU"
      },
      "source": [
        "# Return arguments\n",
        "\n",
        "Most functions, but not all, return data. Above are examples that return a single value (object), and one case where there is no return value. Python functions can have more than one return value. For example, we could have a function that takes three values and returns the maximum, the minimum and the mean, e.g."
      ]
    },
    {
      "cell_type": "code",
      "execution_count": null,
      "metadata": {
        "id": "JPZjrnE9hIIU",
        "outputId": "58fa16a6-71c1-414a-8481-a3863ba0de35"
      },
      "outputs": [
        {
          "name": "stdout",
          "output_type": "stream",
          "text": [
            "-20 0.5 -6.466666666666666\n"
          ]
        }
      ],
      "source": [
        "def compute_max_min_mean(x0, x1, x2):\n",
        "    \"Return maximum, minimum and mean values\"\n",
        "\n",
        "    x_min = x0\n",
        "    if x1 < x_min:\n",
        "        x_min = x1\n",
        "    if x2 < x_min:\n",
        "        x_min = x2\n",
        "\n",
        "    x_max = x0\n",
        "    if x1 > x_max:\n",
        "        x_max = x1\n",
        "    if x2 > x_max:\n",
        "        x_max = x2\n",
        "\n",
        "    x_mean = (x0 + x1 + x2)/3\n",
        "\n",
        "    return x_min, x_max, x_mean\n",
        "\n",
        "\n",
        "xmin, xmax, xmean = compute_max_min_mean(0.5, 0.1, -20)\n",
        "print(xmin, xmax, xmean)"
      ]
    },
    {
      "cell_type": "markdown",
      "metadata": {
        "id": "1-GCFghUhIIV"
      },
      "source": [
        "This function works, but we will see better ways to implement the functionality using lists or tuples\n",
        "in a later notebook."
      ]
    },
    {
      "cell_type": "markdown",
      "metadata": {
        "id": "jUVbVtTkhIIV"
      },
      "source": [
        "# Scope\n",
        "\n",
        "Functions have local scope, which means that variables that are declared inside a function are not visible outside the function. This is a very good thing - it means that we do not have to worry about variables declared inside a function unexpectedly affecting other parts of a program. Here is a simple example:"
      ]
    },
    {
      "cell_type": "code",
      "execution_count": null,
      "metadata": {
        "id": "8SZ703zRhIIV",
        "outputId": "fb0538b4-4be1-4471-9ddc-79607f8e82ae"
      },
      "outputs": [
        {
          "name": "stdout",
          "output_type": "stream",
          "text": [
            "x =  3.0\n",
            "y =  2\n",
            "x =  6.0\n",
            "z =  6.0\n",
            "x =  3.0\n",
            "y =  2\n"
          ]
        }
      ],
      "source": [
        "def f(x): # name x used as a formal parameter\n",
        "    y = 1\n",
        "    w = 2\n",
        "    x = x + y + w\n",
        "    print(\"x = \", x)\n",
        "    return x\n",
        "\n",
        "# Assign 3.0 to the variable x\n",
        "x = 3.0\n",
        "y = 2.0\n",
        "print(\"x = \", x)\n",
        "print(\"y = \", y)\n",
        "\n",
        "z = f(x)\n",
        "print(\"z = \", z)\n",
        "\n",
        "# Check that the function declaration of 'x' has not affected\n",
        "# the variable 'x' outside of the function\n",
        "print(\"x = \", x)\n",
        "print(\"y = \", y)\n",
        "\n",
        "# This would throw an error - the variable c is not visible outside of the function\n",
        "# print(w)"
      ]
    },
    {
      "cell_type": "markdown",
      "metadata": {
        "id": "3aVr3KRWhIIV"
      },
      "source": [
        "The variable `x` that is declared outside of the function is unaffected by what is done inside the function.\n",
        "Similarly, the variable `w` in the function is not 'visible' outside of the function.\n",
        "\n",
        "There is more to scoping rules that we can skip over for now."
      ]
    },
    {
      "cell_type": "markdown",
      "metadata": {
        "id": "6LxHREAQhIIV"
      },
      "source": [
        "# Recursion with functions\n",
        "\n",
        "A classic construction with functions is recursion, which is when a function makes calls to itself.\n",
        "Recursion can be very powerful, and sometimes also quite confusing at first. We demonstrate with a well-known example, the Fibonacci series of numbers."
      ]
    },
    {
      "cell_type": "markdown",
      "metadata": {
        "collapsed": true,
        "id": "cxXo-cH-hIIV"
      },
      "source": [
        "## Fibonacci number\n",
        "\n",
        "The Fibonacci series is defined recursively, i.e. the $n$th term $f_{n}$ is computed from the preceding terms $f_{n-1}$ and $f_{n-2}$:\n",
        "\n",
        "$$\n",
        "f_n = f_{n-1} + f_{n-2}\n",
        "$$\n",
        "\n",
        "for $n > 1$, and with $f_0 = 0$ and $f_1 = 1$."
      ]
    },
    {
      "cell_type": "markdown",
      "metadata": {
        "id": "x7zXA5SAhIIV"
      },
      "source": [
        "Below is a function that computes the $n$th number in the Fibonacci sequence using a `for` loop inside the function."
      ]
    },
    {
      "cell_type": "code",
      "execution_count": null,
      "metadata": {
        "id": "Rc830ryLhIIV",
        "outputId": "ca2abd8e-fb1d-4a61-f04e-c75974fbf106"
      },
      "outputs": [
        {
          "name": "stdout",
          "output_type": "stream",
          "text": [
            "55\n"
          ]
        }
      ],
      "source": [
        "def fib(n):\n",
        "    \"Compute the nth Fibonacci number\"\n",
        "    # Starting values for f0 and f1\n",
        "    f0, f1 = 0, 1\n",
        "\n",
        "    # Handle cases n==0 and n==1\n",
        "    if n == 0:\n",
        "        return 0\n",
        "    elif n == 1:\n",
        "        return 1\n",
        "\n",
        "    # Start loop (from n = 2)\n",
        "    for i in range(2, n + 1):\n",
        "        # Compute next term in sequence\n",
        "        f = f1 + f0\n",
        "\n",
        "        # Update f0 and f1\n",
        "        f0 = f1\n",
        "        f1 = f\n",
        "\n",
        "    # Return Fibonacci number\n",
        "    return f\n",
        "\n",
        "print(fib(10))"
      ]
    },
    {
      "cell_type": "markdown",
      "metadata": {
        "id": "FwtCdC3zhIIV"
      },
      "source": [
        "Since the Fibonacci sequence has a recursive structure, with the $n$th term computed from the $n-1$ and $n-2$ terms, we could write a function that uses this recursive structure:"
      ]
    },
    {
      "cell_type": "code",
      "execution_count": null,
      "metadata": {
        "id": "OohgIbpqhIIV",
        "outputId": "702a9ff3-c7e6-4658-85f8-5673483f6dd0"
      },
      "outputs": [
        {
          "name": "stdout",
          "output_type": "stream",
          "text": [
            "55\n"
          ]
        }
      ],
      "source": [
        "def f(n):\n",
        "    \"Compute the nth Fibonacci number using recursion\"\n",
        "    if n < 2:\n",
        "        return n  # This doesn't call f, so it breaks out of the recursion loop\n",
        "    else:\n",
        "        return f(n - 1) + f(n - 2)  # This calls f for n-1 and n-2 (recursion), and returns the sum\n",
        "\n",
        "print(f(10))"
      ]
    },
    {
      "cell_type": "markdown",
      "metadata": {
        "id": "sHtyg4rJhIIV"
      },
      "source": [
        "As expected (if the implementations are correct) the two implementations return the same result.\n",
        "The recursive version is simple and has a more 'mathematical' structure. It is good that a program which performs a mathematical task closely reflects the mathematical problem. It makes it easier to comprehend at a high level what the program does.\n",
        "\n",
        "Care needs to be taken when using recursion that a program does not enter an infinite recursion loop. There must be a mechanism to 'break out' of the recursion cycle."
      ]
    },
    {
      "cell_type": "markdown",
      "metadata": {
        "id": "nAdmfbsAhIIV"
      },
      "source": [
        "# Modules\n",
        "\n",
        "So far, we have operated under the assumption that our entire program is stored in one file. This is perfectly reasonable as long as programs are small. As programs get larger, however, it is typically more convenient to store different parts of them in different files. Imagine, for example, that multiple people are working on the same program. It would be a nightmare if they were all trying to update the same file. Python modules allow us to easily construct a program from code in multiple files.\n",
        "\n",
        "A module is a `.py` file containing Python definitions and statements. We could create, for example, a file `circle.py` containing:\n",
        "\n",
        "```\n",
        "pi = 3.14159\n",
        "\n",
        "def area(radius):\n",
        "    return pi*(radius**2)\n",
        "\n",
        "def circumference(radius):\n",
        "    return 2*pi*radius\n",
        "\n",
        "def sphereSurface(radius):\n",
        "    return 4.0*area(radius)\n",
        "\n",
        "def sphereVolume(radius):\n",
        "    return (4.0/3.0)*pi*(radius**3)\n",
        "```\n",
        "A program gets access to a module through an import statement. So, for\n",
        "example, the code"
      ]
    },
    {
      "cell_type": "code",
      "execution_count": null,
      "metadata": {
        "id": "wKWyAGkxhIIV"
      },
      "outputs": [],
      "source": [
        "# Import Google Drive and mount google drive volume to Jupyter notebook\n",
        "from google.colab import drive\n",
        "drive.mount('/content/gdrive')\n",
        "!ls '/content/gdrive/My Drive/CE311K/lectures/03_functions'\n",
        "# Add Google drive path to locate modules\n",
        "import sys\n",
        "sys.path.append('/content/gdrive/My Drive/CE311K/lectures/03_functions')\n",
        "print(sys.path)"
      ]
    },
    {
      "cell_type": "code",
      "execution_count": null,
      "metadata": {
        "id": "Q-yq5TK5hIIW",
        "outputId": "61bf1ae8-0780-445b-a145-ca27222bd327"
      },
      "outputs": [
        {
          "name": "stdout",
          "output_type": "stream",
          "text": [
            "3.14159\n",
            "28.27431\n",
            "18.849539999999998\n",
            "113.09724\n"
          ]
        }
      ],
      "source": [
        "import circle\n",
        "print(circle.pi)\n",
        "print(circle.area(3))\n",
        "print(circle.circumference(3))\n",
        "print(circle.sphereSurface(3))"
      ]
    }
  ],
  "metadata": {
    "colab": {
      "provenance": []
    },
    "kernelspec": {
      "display_name": "Python 3",
      "language": "python",
      "name": "python3"
    },
    "language_info": {
      "codemirror_mode": {
        "name": "ipython",
        "version": 3
      },
      "file_extension": ".py",
      "mimetype": "text/x-python",
      "name": "python",
      "nbconvert_exporter": "python",
      "pygments_lexer": "ipython3",
      "version": "3.8.5"
    }
  },
  "nbformat": 4,
  "nbformat_minor": 0
}
