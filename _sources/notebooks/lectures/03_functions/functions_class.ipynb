{
  "cells": [
    {
      "cell_type": "markdown",
      "metadata": {
        "id": "yGsDe2j5wkPz"
      },
      "source": [
        "## Function arguments"
      ]
    },
    {
      "cell_type": "code",
      "execution_count": null,
      "metadata": {
        "colab": {
          "base_uri": "https://localhost:8080/"
        },
        "id": "nkSvNGs3wnMT",
        "outputId": "facc64f8-25e8-4ca7-cc72-6169a635c0a6"
      },
      "outputs": [
        {
          "name": "stdout",
          "output_type": "stream",
          "text": [
            "Hello CE311K\n",
            "Hello CE 311k Class\n"
          ]
        }
      ],
      "source": [
        "# Function with no argument\n",
        "\n",
        "def print_hello_noarg():\n",
        "  print(\"Hello CE311K\")\n",
        "\n",
        "# Defined a function\n",
        "def print_hello(course):\n",
        "  # Body of the function\n",
        "  print(\"Hello \"+ course +\" Class\")\n",
        "\n",
        "print_hello_noarg()\n",
        "# Call function - using\n",
        "a = \"CE \" + \"311K\"\n",
        "print_hello(\"CE \" + \"311k\")"
      ]
    },
    {
      "cell_type": "code",
      "execution_count": null,
      "metadata": {
        "id": "yMJVUfWrwqxg"
      },
      "outputs": [],
      "source": [
        "# Function with no return - print"
      ]
    },
    {
      "cell_type": "code",
      "execution_count": null,
      "metadata": {
        "colab": {
          "base_uri": "https://localhost:8080/"
        },
        "id": "FGLUQTT6wtPa",
        "outputId": "7fe265af-0afe-4c86-9da5-d343c87e5b2a"
      },
      "outputs": [
        {
          "data": {
            "text/plain": [
              "15"
            ]
          },
          "execution_count": 8,
          "metadata": {},
          "output_type": "execute_result"
        }
      ],
      "source": [
        "# Function that returns a sum of all numbers in a list\n",
        "def sum_five_numbers(a, b, c, d, e):\n",
        "  sum = a + b + c + d + e\n",
        "  return sum\n",
        "  # return a + b + c + d + e\n",
        "\n",
        "sum_five_numbers(1, 2, 3, 4, 5)"
      ]
    },
    {
      "cell_type": "code",
      "execution_count": null,
      "metadata": {
        "id": "K-BkaYJnPUBv"
      },
      "outputs": [],
      "source": [
        "import math\n",
        "angle = 50\n",
        "angle_radians = math.radians(angle)\n",
        "math.sin(angle_radians)"
      ]
    },
    {
      "cell_type": "code",
      "execution_count": null,
      "metadata": {
        "colab": {
          "base_uri": "https://localhost:8080/"
        },
        "id": "wttIE2oiN5It",
        "outputId": "18a4f866-3851-4916-8719-b869f6427d90"
      },
      "outputs": [
        {
          "data": {
            "text/plain": [
              "4950"
            ]
          },
          "execution_count": 21,
          "metadata": {},
          "output_type": "execute_result"
        }
      ],
      "source": [
        "import numpy as np\n",
        "values = [1, 2, 3, 4, 5]\n",
        "values2 = [6, 7, 8, 9, 10]\n",
        "\n",
        "# Sum of all numbers in the list\n",
        "def sum_elements_list(element_list):\n",
        "  sum = 0\n",
        "  for element in element_list:\n",
        "    sum = sum + element\n",
        "  return sum\n",
        "\n",
        "# call this function\n",
        "values3 = np.arange(100)\n",
        "sum_elements_list(values3)\n",
        "\n",
        "#a = [\"Hi\", \"Hello\", \"Bonjour\"]\n",
        "#sum_elements_list(a)"
      ]
    },
    {
      "cell_type": "markdown",
      "metadata": {
        "id": "BSLgdzLju2ju"
      },
      "source": [
        "## Named arguments"
      ]
    },
    {
      "cell_type": "code",
      "execution_count": null,
      "metadata": {
        "colab": {
          "base_uri": "https://localhost:8080/"
        },
        "id": "rSqFVhLXu1EO",
        "outputId": "4e243862-b04b-4802-ae37-17486733246f"
      },
      "outputs": [
        {
          "data": {
            "text/plain": [
              "-2"
            ]
          },
          "execution_count": 32,
          "metadata": {},
          "output_type": "execute_result"
        }
      ],
      "source": [
        "# Subtract two numbers\n",
        "\n",
        "def subtract(a, b):\n",
        "  return a - b # 3 - 5\n",
        "\n",
        "b = 3\n",
        "a = 5\n",
        "#subtract(a = b, b = a)\n",
        "subtract(a = 3, b = 5)"
      ]
    },
    {
      "cell_type": "markdown",
      "metadata": {
        "id": "-7eQqKOHu6JZ"
      },
      "source": [
        "## Multiple returns"
      ]
    },
    {
      "cell_type": "code",
      "execution_count": null,
      "metadata": {
        "colab": {
          "base_uri": "https://localhost:8080/"
        },
        "id": "TEqtgFMou7U2",
        "outputId": "67fae751-f114-45e0-9f81-4acb1e4f5a4f"
      },
      "outputs": [
        {
          "data": {
            "text/plain": [
              "False"
            ]
          },
          "execution_count": 54,
          "metadata": {},
          "output_type": "execute_result"
        }
      ],
      "source": [
        "# Is positive function\n",
        "def is_positive(num):\n",
        "  if num < 0:\n",
        "    return False\n",
        "  else:\n",
        "    return True\n",
        "\n",
        "is_positive(-3)"
      ]
    },
    {
      "cell_type": "code",
      "execution_count": null,
      "metadata": {
        "colab": {
          "base_uri": "https://localhost:8080/"
        },
        "id": "WzccfZT3YXRv",
        "outputId": "de9d3eda-4815-4070-fa63-556299615ec9"
      },
      "outputs": [
        {
          "data": {
            "text/plain": [
              "False"
            ]
          },
          "execution_count": 56,
          "metadata": {},
          "output_type": "execute_result"
        }
      ],
      "source": [
        "def is_positive_single_return(num):\n",
        "  if num < 0:\n",
        "    val = False\n",
        "  else:\n",
        "    val = True\n",
        "  return val\n",
        "\n",
        "is_positive_single_return(-3)"
      ]
    },
    {
      "cell_type": "markdown",
      "metadata": {
        "id": "pajmwIJaw_U3"
      },
      "source": [
        "## Function example - Parabolic trajectory\n",
        "\n",
        "At time, $t$, the displacement components are:\n",
        "\n",
        "$$x = u.t.\\cos \\theta$$\n",
        "$$y = v_0 + u.t.\\sin \\theta - \\frac{1}{2}g t^2$$"
      ]
    },
    {
      "cell_type": "code",
      "execution_count": 3,
      "metadata": {
        "colab": {
          "base_uri": "https://localhost:8080/",
          "height": 283
        },
        "id": "SZtjd2R_w-y9",
        "outputId": "7743dbbe-2c93-47fd-c1a1-d2628984d5f5"
      },
      "outputs": [
        {
          "data": {
            "text/plain": [
              "[<matplotlib.lines.Line2D at 0x1325230a0>]"
            ]
          },
          "execution_count": 3,
          "metadata": {},
          "output_type": "execute_result"
        },
        {
          "data": {
            "image/png": "[encoded data removed]",
            "text/plain": [
              "<Figure size 432x288 with 1 Axes>"
            ]
          },
          "metadata": {
            "needs_background": "light"
          },
          "output_type": "display_data"
        }
      ],
      "source": [
        "import math\n",
        "import numpy as np\n",
        "import matplotlib.pyplot as plt\n",
        "\n",
        "def projectile(u, t, theta, v0 = 0, g = 9.81):\n",
        "  y = v0 + u * t * math.sin(math.radians(theta)) - 0.5 * g * t ** 2\n",
        "  if y <= 0:\n",
        "    y = 0\n",
        "  return y\n",
        "\n",
        "projectile(u = 5, t = 0.5, theta = 30, v0 = 5, g = 9.81)\n",
        "#projectile(u = 5, t = 0.5, theta = 30)\n",
        "\n",
        "times = np.arange(0, 1, 0.01)\n",
        "ys = []\n",
        "u = 5\n",
        "angle = 30\n",
        "for time in times:\n",
        "  y = projectile(u=u, t=time, theta=angle, v0=0.1, g=9.81)\n",
        "  # y = projectile(u, time, angle, 0.1, 9.81)\n",
        "  #y = projectile(u, time, angle)\n",
        "  ys.append(y)\n",
        "\n",
        "plt.plot(times, ys)"
      ]
    },
    {
      "cell_type": "markdown",
      "metadata": {
        "id": "MtxCzjhMw0tL"
      },
      "source": [
        "## Function as an argument\n",
        "\n",
        "\n",
        "Central Difference: \n",
        "\n",
        "$$f^\\prime(x) = \\frac{f(x + h) - f(x - h)}{2h}$$\n",
        "\n",
        "Try the following functions:\n",
        "1. $f(x) = x^3 + x^2$\n",
        "2. $f(x) = 2x + 5$\n",
        "3. $f(x) = \\sin (x)$"
      ]
    },
    {
      "cell_type": "code",
      "execution_count": null,
      "metadata": {
        "colab": {
          "base_uri": "https://localhost:8080/"
        },
        "id": "YtCcyAnHlpbR",
        "outputId": "d35b1f3c-8e6d-4b6d-fdfa-5744e85b73ab"
      },
      "outputs": [
        {
          "name": "stdout",
          "output_type": "stream",
          "text": [
            "Derivative using a fn f1:  5.00000000069889\n",
            "Derivative using a fn f2:  2.0000000011677344\n",
            "Derivative using a fn f2 default:  2.0000000000131024\n",
            "Derivative of sin:  0.5403023058569989\n",
            "dsin = cos(x):  0.5403023058681398\n"
          ]
        }
      ],
      "source": [
        "import math\n",
        "\n",
        "x = 1\n",
        "h = 1e-7\n",
        "\n",
        "def f1(x):\n",
        "  return x**3 + x**2\n",
        "\n",
        "def f2(x):\n",
        "  return 2 * x + 5\n",
        "\n",
        "def central_difference(f, x, h = 1e-5):\n",
        "  return (f(x+h) - f(x-h))/(2 * h)\n",
        "\n",
        "print(\"Derivative using a fn f1: \", central_difference(f1, 1, 1e-7))\n",
        "print(\"Derivative using a fn f2: \", central_difference(f2, 1, 1e-7))\n",
        "print(\"Derivative using a fn f2 default: \", central_difference(f2, 1))\n",
        "\n",
        "print(\"Derivative of sin: \", central_difference(math.sin, 1))\n",
        "print(\"dsin = cos(x): \", math.cos(1))"
      ]
    },
    {
      "cell_type": "code",
      "execution_count": null,
      "metadata": {
        "colab": {
          "base_uri": "https://localhost:8080/"
        },
        "id": "rvrnx75Dw1mS",
        "outputId": "b6f6cc1a-5f23-45c1-9941-5e752ba37f9c"
      },
      "outputs": [
        {
          "name": "stdout",
          "output_type": "stream",
          "text": [
            "5.00000000069889\n",
            "Derivative of 2x + 5:  2.0000000011677344\n",
            "Derivative using a fn:  2.0000000011677344\n"
          ]
        }
      ],
      "source": [
        "x = 1\n",
        "h = 1e-7\n",
        "\n",
        "def f1(x):\n",
        "  return x**3 + x**2\n",
        "\n",
        "dfx = (f1(x + h) - f1(x - h))/(2*h)\n",
        "print(dfx)\n",
        "\n",
        "def f2(x):\n",
        "  return 2 * x + 5\n",
        "\n",
        "df2x = (f2(x+h) - f2(x-h))/(2 * h)\n",
        "print(\"Derivative of 2x + 5: \", df2x)\n",
        "\n",
        "def central_difference(f, x, h):\n",
        "  return (f(x+h) - f(x-h))/(2 * h)\n",
        "\n",
        "print(\"Derivative using a fn: \", central_difference(f2, 1, 1e-7))"
      ]
    },
    {
      "cell_type": "code",
      "execution_count": null,
      "metadata": {
        "colab": {
          "base_uri": "https://localhost:8080/"
        },
        "id": "wenGKV7LpEYY",
        "outputId": "26a0ccf5-00d4-474b-e1ec-ec66d7679913"
      },
      "outputs": [
        {
          "name": "stdout",
          "output_type": "stream",
          "text": [
            "Derivative using a fn:  2.0000000011677344\n"
          ]
        }
      ],
      "source": [
        "def central_difference(x, h):\n",
        "  def f2(x):\n",
        "    return 2 * x + 5\n",
        "  return (f2(x+h) - f2(x-h))/(2 * h)\n",
        "\n",
        "print(\"Derivative using a fn: \", central_difference(1, 1e-7))"
      ]
    },
    {
      "cell_type": "markdown",
      "metadata": {
        "id": "WOGtg3PYpXLi"
      },
      "source": [
        "# Sort two numbers"
      ]
    },
    {
      "cell_type": "code",
      "execution_count": null,
      "metadata": {
        "colab": {
          "base_uri": "https://localhost:8080/"
        },
        "id": "1lkaK2rppW9x",
        "outputId": "384f344d-8129-487f-843e-d03df8ea396d"
      },
      "outputs": [
        {
          "name": "stdout",
          "output_type": "stream",
          "text": [
            "5 2\n"
          ]
        }
      ],
      "source": [
        "# 3, 5 => 5, 3\n",
        "a = 3\n",
        "b = 5\n",
        "def sort(a, b):\n",
        "  if a > b:\n",
        "    return a, b\n",
        "  else:\n",
        "    return b, a\n",
        "\n",
        "x, y = sort(2, 5)\n",
        "print(x, y)"
      ]
    },
    {
      "cell_type": "code",
      "execution_count": null,
      "metadata": {
        "id": "IXYh3Pe7joYZ"
      },
      "outputs": [],
      "source": [
        "x = 1\n",
        "h = 1e-7\n",
        "\n",
        "def f1(x):\n",
        "  return x**3 + x**2\n",
        "\n",
        "f_xph = f1(x + h)            # (x + h)**3 + (x+h)**2\n",
        "f_xmh = f1(x - h)            # (x - h)**3 + (x-h)**2\n",
        "\n",
        "dfx = (f_xph - f_xmh)/(2*h)\n",
        "print(dfx)"
      ]
    },
    {
      "cell_type": "code",
      "execution_count": null,
      "metadata": {
        "colab": {
          "base_uri": "https://localhost:8080/"
        },
        "id": "dS4iJdygoBJ0",
        "outputId": "ee983af3-37cf-4d0f-94c4-9b4509c22de2"
      },
      "outputs": [
        {
          "name": "stdout",
          "output_type": "stream",
          "text": [
            "Emma 23 UT\n"
          ]
        }
      ],
      "source": [
        "def fn(name, age, uni):\n",
        "  print(name, age, uni)\n",
        "\n",
        "fn(name = \"Emma\", age = 23, uni=\"UT\")"
      ]
    },
    {
      "cell_type": "code",
      "execution_count": null,
      "metadata": {
        "colab": {
          "base_uri": "https://localhost:8080/"
        },
        "id": "jC68MdySoFLZ",
        "outputId": "f5e604a7-9b64-4751-c91d-7981c9381caa"
      },
      "outputs": [
        {
          "name": "stdout",
          "output_type": "stream",
          "text": [
            "Emma 23\n"
          ]
        }
      ],
      "source": [
        "fn(age = 23, name = \"Emma\")"
      ]
    },
    {
      "cell_type": "code",
      "execution_count": null,
      "metadata": {
        "colab": {
          "base_uri": "https://localhost:8080/",
          "height": 132
        },
        "id": "TqTzmzRUoRO3",
        "outputId": "3622c33e-e2c4-4208-c911-cd5a23fd1725"
      },
      "outputs": [
        {
          "ename": "SyntaxError",
          "evalue": "ignored",
          "output_type": "error",
          "traceback": [
            "\u001b[0;36m  File \u001b[0;32m\"<ipython-input-15-e20ce063dfda>\"\u001b[0;36m, line \u001b[0;32m1\u001b[0m\n\u001b[0;31m    fn(name = \"Emma\", 23)\u001b[0m\n\u001b[0m                     ^\u001b[0m\n\u001b[0;31mSyntaxError\u001b[0m\u001b[0;31m:\u001b[0m positional argument follows keyword argument\n"
          ]
        }
      ],
      "source": [
        "fn(name = \"Emma\", 23)"
      ]
    },
    {
      "cell_type": "code",
      "execution_count": null,
      "metadata": {
        "colab": {
          "base_uri": "https://localhost:8080/"
        },
        "id": "z4pAh1l4od1k",
        "outputId": "b41a09d8-4bc8-4ccb-aeba-3d6006e7c408"
      },
      "outputs": [
        {
          "name": "stdout",
          "output_type": "stream",
          "text": [
            "Emma 23 UT\n"
          ]
        }
      ],
      "source": [
        "fn(\"Emma\", age = 23, uni=\"UT\")"
      ]
    },
    {
      "cell_type": "code",
      "execution_count": null,
      "metadata": {
        "colab": {
          "base_uri": "https://localhost:8080/"
        },
        "id": "S-p8mUJSokAJ",
        "outputId": "d3ddc9af-5187-4ba5-f097-6e1e48ed71d0"
      },
      "outputs": [
        {
          "name": "stdout",
          "output_type": "stream",
          "text": [
            "Emma 23 UT\n"
          ]
        }
      ],
      "source": [
        "fn(\"Emma\", 23, \"UT\")"
      ]
    },
    {
      "cell_type": "code",
      "execution_count": null,
      "metadata": {
        "colab": {
          "base_uri": "https://localhost:8080/"
        },
        "id": "ZNRuVZ5No5EV",
        "outputId": "7689291b-5007-4751-9cbb-8ea2d4d85b1c"
      },
      "outputs": [
        {
          "name": "stdout",
          "output_type": "stream",
          "text": [
            "Emma 23 UT\n"
          ]
        }
      ],
      "source": [
        "fn(name=\"Emma\", age = 23, uni=\"UT\")"
      ]
    },
    {
      "cell_type": "code",
      "execution_count": null,
      "metadata": {
        "id": "A85znfsko6g_"
      },
      "outputs": [],
      "source": []
    }
  ],
  "metadata": {
    "colab": {
      "collapsed_sections": [],
      "provenance": []
    },
    "kernelspec": {
      "display_name": "Python 3",
      "name": "python3"
    },
    "language_info": {
      "codemirror_mode": {
        "name": "ipython",
        "version": 3
      },
      "file_extension": ".py",
      "mimetype": "text/x-python",
      "name": "python",
      "nbconvert_exporter": "python",
      "pygments_lexer": "ipython3",
      "version": "3.10.2"
    }
  },
  "nbformat": 4,
  "nbformat_minor": 0
}
