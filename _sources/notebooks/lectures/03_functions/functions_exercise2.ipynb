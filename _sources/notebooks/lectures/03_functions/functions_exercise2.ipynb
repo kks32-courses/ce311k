{
  "nbformat": 4,
  "nbformat_minor": 0,
  "metadata": {
    "colab": {
      "name": "functions-exercise2.ipynb",
      "provenance": []
    },
    "kernelspec": {
      "name": "python3",
      "display_name": "Python 3"
    }
  },
  "cells": [
    {
      "cell_type": "code",
      "metadata": {
        "id": "wzIkD9Zgv_5C",
        "outputId": "cae653e9-9c8a-4501-f53f-287333b2d391",
        "colab": {
          "base_uri": "https://localhost:8080/",
          "height": 35
        }
      },
      "source": [
        "def add(a, b=2):\n",
        "    return a+5, b+5, 3\n",
        "\n",
        "result = add(3)\n",
        "print(result)"
      ],
      "execution_count": null,
      "outputs": [
        {
          "output_type": "stream",
          "text": [
            "(8, 7, 3)\n"
          ],
          "name": "stdout"
        }
      ]
    },
    {
      "cell_type": "code",
      "metadata": {
        "id": "1ZzVwOmEf4v4"
      },
      "source": [
        ""
      ],
      "execution_count": null,
      "outputs": []
    },
    {
      "cell_type": "code",
      "metadata": {
        "id": "IQRKq_thf4s_"
      },
      "source": [
        ""
      ],
      "execution_count": null,
      "outputs": []
    },
    {
      "cell_type": "code",
      "metadata": {
        "id": "A-MR6jqDf4oa"
      },
      "source": [
        ""
      ],
      "execution_count": null,
      "outputs": []
    },
    {
      "cell_type": "code",
      "metadata": {
        "id": "68fck4iMf4kf"
      },
      "source": [
        ""
      ],
      "execution_count": null,
      "outputs": []
    },
    {
      "cell_type": "code",
      "metadata": {
        "id": "8QMcNYi7f4iP"
      },
      "source": [
        ""
      ],
      "execution_count": null,
      "outputs": []
    },
    {
      "cell_type": "code",
      "metadata": {
        "id": "2mVVLMnsf4dv"
      },
      "source": [
        ""
      ],
      "execution_count": null,
      "outputs": []
    },
    {
      "cell_type": "code",
      "metadata": {
        "id": "S3nCpe1Tf4Z5"
      },
      "source": [
        ""
      ],
      "execution_count": null,
      "outputs": []
    },
    {
      "cell_type": "code",
      "metadata": {
        "id": "tj1KZMIYwFDq",
        "outputId": "0988aaa8-eae7-46cf-e860-15cf16fbb630",
        "colab": {
          "base_uri": "https://localhost:8080/",
          "height": 35
        }
      },
      "source": [
        "def fun1(name, age=20):\n",
        "    print(name, age)\n",
        "\n",
        "fun1('Emma', 21)"
      ],
      "execution_count": null,
      "outputs": [
        {
          "output_type": "stream",
          "text": [
            "Emma 21\n"
          ],
          "name": "stdout"
        }
      ]
    },
    {
      "cell_type": "code",
      "metadata": {
        "id": "kK1ke82Ef6Ml"
      },
      "source": [
        ""
      ],
      "execution_count": null,
      "outputs": []
    },
    {
      "cell_type": "code",
      "metadata": {
        "id": "bmun15d7f6Ij"
      },
      "source": [
        ""
      ],
      "execution_count": null,
      "outputs": []
    },
    {
      "cell_type": "code",
      "metadata": {
        "id": "VC-1FEWTf6ES"
      },
      "source": [
        ""
      ],
      "execution_count": null,
      "outputs": []
    },
    {
      "cell_type": "code",
      "metadata": {
        "id": "htalOzG-f6Ag"
      },
      "source": [
        ""
      ],
      "execution_count": null,
      "outputs": []
    },
    {
      "cell_type": "code",
      "metadata": {
        "id": "_vqrgncAxDLY",
        "outputId": "64f233bb-47f1-491a-9e51-efb5907fdc98",
        "colab": {
          "base_uri": "https://localhost:8080/",
          "height": 203
        }
      },
      "source": [
        "def fun1(num):\n",
        "    return num + 25\n",
        "\n",
        "y = fun1(5)\n",
        "print(num)"
      ],
      "execution_count": null,
      "outputs": [
        {
          "output_type": "error",
          "ename": "NameError",
          "evalue": "ignored",
          "traceback": [
            "\u001b[0;31m---------------------------------------------------------------------------\u001b[0m",
            "\u001b[0;31mNameError\u001b[0m                                 Traceback (most recent call last)",
            "\u001b[0;32m<ipython-input-17-677fdfe66cb7>\u001b[0m in \u001b[0;36m<module>\u001b[0;34m()\u001b[0m\n\u001b[1;32m      3\u001b[0m \u001b[0;34m\u001b[0m\u001b[0m\n\u001b[1;32m      4\u001b[0m \u001b[0my\u001b[0m \u001b[0;34m=\u001b[0m \u001b[0mfun1\u001b[0m\u001b[0;34m(\u001b[0m\u001b[0;36m5\u001b[0m\u001b[0;34m)\u001b[0m\u001b[0;34m\u001b[0m\u001b[0;34m\u001b[0m\u001b[0m\n\u001b[0;32m----> 5\u001b[0;31m \u001b[0mprint\u001b[0m\u001b[0;34m(\u001b[0m\u001b[0mnum\u001b[0m\u001b[0;34m)\u001b[0m\u001b[0;34m\u001b[0m\u001b[0;34m\u001b[0m\u001b[0m\n\u001b[0m",
            "\u001b[0;31mNameError\u001b[0m: name 'num' is not defined"
          ]
        }
      ]
    },
    {
      "cell_type": "markdown",
      "metadata": {
        "id": "eew2IorMzMFX"
      },
      "source": [
        "## Parabolic trajectory\n",
        "\n",
        "At time, $t$, the displacement components are:\n",
        "\n",
        "$$x = u . t . \\cos \\theta$$\n",
        "$$y = u . t . \\sin \\theta - \\frac{1}{2}g t^2$$\n",
        "\n"
      ]
    },
    {
      "cell_type": "code",
      "metadata": {
        "id": "P6ArtQnHydk9",
        "outputId": "729889b0-464d-44d8-b06e-a82d0eb45784",
        "colab": {
          "base_uri": "https://localhost:8080/",
          "height": 282
        }
      },
      "source": [
        "import math\n",
        "import numpy as np\n",
        "import matplotlib.pyplot as plt\n",
        "\n",
        "def parabolic_trajectory(u, t, angle, v0 = 0, g = 9.81):\n",
        "    theta = math.radians(angle)\n",
        "    y = v0 + u * t * math.sin(theta) - (0.5 * g * t**2)\n",
        "    if y < 0:\n",
        "      y = 0\n",
        "    return y\n",
        "\n",
        "time = np.arange(0, 1, 0.01)\n",
        "height = []\n",
        "for t in time:\n",
        "    height.append(parabolic_trajectory(5, t, 30, v0=0.1, g=9.85))\n",
        "\n",
        "plt.plot(time, height)"
      ],
      "execution_count": null,
      "outputs": [
        {
          "output_type": "execute_result",
          "data": {
            "text/plain": [
              "[<matplotlib.lines.Line2D at 0x7f82156f13c8>]"
            ]
          },
          "metadata": {
            "tags": []
          },
          "execution_count": 13
        },
        {
          "output_type": "display_data",
          "data": {
            "image/png": "[encoded data removed]",
            "text/plain": [
              "<Figure size 432x288 with 1 Axes>"
            ]
          },
          "metadata": {
            "tags": [],
            "needs_background": "light"
          }
        }
      ]
    },
    {
      "cell_type": "markdown",
      "metadata": {
        "id": "tMzWHoQfFwZt"
      },
      "source": [
        "# Function as an argument (example 2)\n",
        "\n",
        "Central Difference: $$ f'(x) = \\frac{f(x + h) - f(x - h)}{2h}$$\n"
      ]
    },
    {
      "cell_type": "code",
      "metadata": {
        "id": "SsE2AGSw1e9Y",
        "outputId": "66fe4f43-7a45-4f51-fa99-36f882969fec",
        "colab": {
          "base_uri": "https://localhost:8080/",
          "height": 68
        }
      },
      "source": [
        "import math\n",
        "# Function 0\n",
        "def f0(x):\n",
        "    return x**3 + x**2\n",
        "\n",
        "# Function 1\n",
        "def f1(x):\n",
        "    return 2 * x + 5\n",
        "\n",
        "# Calculate the derivative\n",
        "def derivative(fn, x, h=1e-6):\n",
        "    derv = (fn(x+h) - fn(x-h)) / (2*h)\n",
        "    return derv\n",
        "\n",
        "dx = derivative(f0, 1)\n",
        "print(dx)\n",
        "\n",
        "\n",
        "dfx = derivative(math.sin, 1, h=1e-6)\n",
        "print(dfx)\n",
        "\n",
        "print(math.cos(1))"
      ],
      "execution_count": 22,
      "outputs": [
        {
          "output_type": "stream",
          "text": [
            "4.999999999921734\n",
            "0.5403023058958567\n",
            "0.5403023058681398\n"
          ],
          "name": "stdout"
        }
      ]
    }
  ]
}