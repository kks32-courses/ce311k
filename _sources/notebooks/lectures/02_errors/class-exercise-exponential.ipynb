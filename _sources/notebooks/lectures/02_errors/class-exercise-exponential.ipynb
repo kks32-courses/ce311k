{
  "nbformat": 4,
  "nbformat_minor": 0,
  "metadata": {
    "colab": {
      "name": "exponential.ipynb",
      "provenance": [],
      "collapsed_sections": []
    },
    "kernelspec": {
      "name": "python3",
      "display_name": "Python 3"
    }
  },
  "cells": [
    {
      "cell_type": "markdown",
      "metadata": {
        "id": "tWg-0F80IYr-"
      },
      "source": [
        "$$ e^x = 1 + x + \\frac{x^2}{2!} + \\frac{x^3}{3!} + \\cdots + \\frac{x^n}{n!}$$\n",
        "\n",
        "For $x = 1.5$"
      ]
    },
    {
      "cell_type": "code",
      "metadata": {
        "id": "sms982gXIXy_",
        "outputId": "72066255-00b2-4969-a57c-5d06e91467b8",
        "colab": {
          "base_uri": "https://localhost:8080/",
          "height": 51
        }
      },
      "source": [
        "import math\n",
        "# Initial value of x\n",
        "x = 1.5\n",
        "\n",
        "# Initial value of the first term\n",
        "ex = 1\n",
        "\n",
        "# Set the number of terms\n",
        "n = 20\n",
        "\n",
        "# Exact solution\n",
        "exact = math.exp(x)\n",
        "print(\"Exact solution for math.exp(1.5): {}\".format(exact))\n",
        "\n",
        "# Tolerance \n",
        "tol=1e-5\n",
        "\n",
        "# Write your code below\n",
        "# At the end, print the # of terms used, relative error and value of e^x\n",
        "for i in range(1, n):\n",
        "    ex += x**i/math.factorial(i)\n",
        "    \n",
        "    error = abs(ex - exact)/exact * 100\n",
        "    if (error < tol):\n",
        "        break\n",
        "        \n",
        "print(\"Iterations {} exponential of x is {} error {}\".format(i, ex, error))\n",
        "\n"
      ],
      "execution_count": null,
      "outputs": [
        {
          "output_type": "stream",
          "text": [
            "Exact solution for math.exp(1.5): 4.4816890703380645\n",
            "Iterations 11 exponential of x is 4.481688764497831 error 6.824218020015276e-06\n"
          ],
          "name": "stdout"
        }
      ]
    },
    {
      "cell_type": "code",
      "metadata": {
        "id": "HHEjU-DSJPSZ"
      },
      "source": [
        ""
      ],
      "execution_count": null,
      "outputs": []
    }
  ]
}