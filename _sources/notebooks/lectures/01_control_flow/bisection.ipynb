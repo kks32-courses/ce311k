{
  "cells": [
    {
      "cell_type": "markdown",
      "metadata": {
        "colab_type": "text",
        "id": "NSr0-q72U2C-"
      },
      "source": [
        "# Find the roots of a function\n",
        "\n",
        "$y = f(x)=x^3-3x^2+1$\n",
        "\n",
        "## Brute-force"
      ]
    },
    {
      "cell_type": "code",
      "execution_count": 13,
      "metadata": {},
      "outputs": [
        {
          "data": {
            "text/plain": [
              "[<matplotlib.lines.Line2D at 0x16258d250>]"
            ]
          },
          "execution_count": 13,
          "metadata": {},
          "output_type": "execute_result"
        },
        {
          "data": {
            "image/png": "[encoded data removed]",
            "text/plain": [
              "<Figure size 640x480 with 1 Axes>"
            ]
          },
          "metadata": {},
          "output_type": "display_data"
        }
      ],
      "source": [
        "import matplotlib.pyplot as plt\n",
        "import numpy as np\n",
        "\n",
        "x = np.linspace(0, 2, 100)\n",
        "y = x**3 - 3 * x**2 + 1\n",
        "\n",
        "plt.plot(x, y)"
      ]
    },
    {
      "cell_type": "code",
      "execution_count": null,
      "metadata": {
        "colab": {
          "base_uri": "https://localhost:8080/",
          "height": 35
        },
        "colab_type": "code",
        "id": "vgwRSMllUrHy",
        "outputId": "dbf30505-24ac-4c89-da5e-af9361bc2365"
      },
      "outputs": [
        {
          "name": "stdout",
          "output_type": "stream",
          "text": [
            "The root of the function is 1.5212999999999426 found after 5214 iterations\n"
          ]
        }
      ],
      "source": [
        "import numpy as np\n",
        "\n",
        "# tolerance\n",
        "tol = 1e-3\n",
        "iterations = 0\n",
        "for x in np.arange(1,2,0.0001):\n",
        "  y = x**3 - x - 2\n",
        "  iterations = iterations + 1\n",
        "  if abs(y) < tol:\n",
        "    print(\"The root of the function is {} found after {} iterations\".format(x, iterations))\n",
        "    break\n",
        "else:\n",
        "  print(\"Solution did not converge to our criteria\")\n",
        "\n"
      ]
    },
    {
      "cell_type": "markdown",
      "metadata": {
        "colab_type": "text",
        "id": "QIfOV4WWNC3W"
      },
      "source": [
        "## Bisection approach\n",
        "\n",
        "$y = f(x)=x^3-x-2$"
      ]
    },
    {
      "cell_type": "code",
      "execution_count": null,
      "metadata": {
        "colab": {
          "base_uri": "https://localhost:8080/",
          "height": 35
        },
        "colab_type": "code",
        "id": "blNp61MELAa9",
        "outputId": "52b8e8ce-db3d-4170-cfe2-0422241821b6"
      },
      "outputs": [
        {
          "name": "stdout",
          "output_type": "stream",
          "text": [
            "After 17 iterations the root of f(x) 1.5213813781738281 9.93E-06\n"
          ]
        }
      ],
      "source": [
        "# y = f(x)=x^3-x-2\n",
        "\n",
        "# Import modules\n",
        "import math\n",
        "import numpy as np\n",
        "\n",
        "# Initial guess\n",
        "x1 = 1\n",
        "x2 = 2\n",
        "\n",
        "# Mid guess\n",
        "x = 0  \n",
        "\n",
        "# Set a tolerance\n",
        "tolerance = 1e-5\n",
        "\n",
        "# Iterate to a maximum of 1000 iterations\n",
        "max_iterations = 100\n",
        "\n",
        "iterations = 0\n",
        "\n",
        "for i in np.arange(max_iterations):\n",
        "\n",
        "    # Compute forces for theta1 and theta2\n",
        "    delta1 = x1**3 - x1 -2\n",
        "    \n",
        "    delta2 = x2**3 - x2 -2\n",
        "    \n",
        "    # Compute the mid-value of theta\n",
        "    x = (x1 + x2)/2\n",
        "    \n",
        "    # Calculate the difference delta for the mid-theta   \n",
        "    delta =  x**3 - x -2\n",
        "    \n",
        "    if((delta * delta1) > 0):\n",
        "        x1 = x\n",
        "    else:\n",
        "        x2 =  x\n",
        "    \n",
        "    # Final values at the end of iterations\n",
        "    iterations = i\n",
        "    \n",
        "    if (abs(delta) <= tolerance):\n",
        "        break\n",
        "\n",
        "else: #No break\n",
        "    print(\"Solution did not converge!\")\n",
        "    \n",
        "print('After {} iterations the root of f(x) {} {:.2E}'.format(iterations, x, delta))"
      ]
    },
    {
      "cell_type": "markdown",
      "metadata": {
        "colab_type": "text",
        "id": "4cSIEKZR2KH3"
      },
      "source": [
        "## Drawbacks of bisection method\n",
        "\n",
        "1. The convergence of the bisection method is slow as it is simply based on halving the interval.   \n",
        "\n",
        "2. If one of the initial guesses is closer to the root, it will take larger number of iterations to reach the root.\n",
        "\n",
        "3. If a function f(x) is such that it just touches the x-axis: $f(x) = x^2 = 0$\n",
        "\n",
        "4. The function has a singularity $1/0 = \\infty$ or has no solution but changes sign $f(x) = 1/x$"
      ]
    },
    {
      "cell_type": "code",
      "execution_count": 9,
      "metadata": {
        "colab": {
          "base_uri": "https://localhost:8080/",
          "height": 265
        },
        "colab_type": "code",
        "id": "0xeKQrlaN_fv",
        "outputId": "451da8b5-48a5-41bb-e6e6-c5012c43675a"
      },
      "outputs": [
        {
          "data": {
            "image/png": "[encoded data removed]",
            "text/plain": [
              "<Figure size 432x288 with 1 Axes>"
            ]
          },
          "metadata": {
            "needs_background": "light",
            "tags": []
          },
          "output_type": "display_data"
        }
      ],
      "source": [
        "# f(x) = x**2 = 0\n",
        "import matplotlib.pyplot as plt\n",
        "import numpy as np\n",
        "def f(x):\n",
        "    with np.errstate(divide='ignore', invalid='ignore'):\n",
        "        return x**2\n",
        "fx_name = r'$f(x)=x^2$'\n",
        "x = np.arange(-1,1.1,0.1)\n",
        "y = f(x)\n",
        "plt.plot(x, y, label=fx_name)\n",
        "plt.legend(loc='upper left')\n",
        "plt.show()"
      ]
    },
    {
      "cell_type": "code",
      "execution_count": 6,
      "metadata": {
        "colab": {
          "base_uri": "https://localhost:8080/",
          "height": 265
        },
        "colab_type": "code",
        "id": "qNX_-cNUzGmX",
        "outputId": "13a73d16-f093-4980-8603-ebe8465ca4e7"
      },
      "outputs": [
        {
          "data": {
            "image/png": "[encoded data removed]",
            "text/plain": [
              "<Figure size 432x288 with 1 Axes>"
            ]
          },
          "metadata": {
            "needs_background": "light",
            "tags": []
          },
          "output_type": "display_data"
        }
      ],
      "source": [
        "import numpy as np\n",
        "import matplotlib.pyplot as plt\n",
        "\n",
        "def f(x):\n",
        "    with np.errstate(divide='ignore', invalid='ignore'):\n",
        "        return 1/x\n",
        "fx_name = r'$f(x)=\\frac{1}{x}$'\n",
        "\n",
        "x=np.linspace(-10,10,101)\n",
        "y=f(x)\n",
        "plt.plot(x, y, label=fx_name)\n",
        "plt.legend(loc='upper left')\n",
        "plt.show()"
      ]
    },
    {
      "cell_type": "code",
      "execution_count": null,
      "metadata": {
        "colab": {},
        "colab_type": "code",
        "id": "lxdZoTOO2m_H"
      },
      "outputs": [],
      "source": []
    }
  ],
  "metadata": {
    "colab": {
      "collapsed_sections": [],
      "name": "bisection.ipynb",
      "provenance": []
    },
    "kernelspec": {
      "display_name": "Python 3",
      "name": "python3"
    },
    "language_info": {
      "codemirror_mode": {
        "name": "ipython",
        "version": 3
      },
      "file_extension": ".py",
      "mimetype": "text/x-python",
      "name": "python",
      "nbconvert_exporter": "python",
      "pygments_lexer": "ipython3",
      "version": "3.11.4"
    }
  },
  "nbformat": 4,
  "nbformat_minor": 0
}
