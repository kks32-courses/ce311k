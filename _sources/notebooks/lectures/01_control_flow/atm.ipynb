{
  "cells": [
    {
      "cell_type": "markdown",
      "metadata": {
        "id": "eyNpnkAMe378"
      },
      "source": [
        "# ATM\n",
        "\n",
        "[![Open in Colab](https://colab.research.google.com/assets/colab-badge.svg)](https://colab.research.google.com/github/kks32-courses/ce311k/blob/main/notebooks/lectures/01_control_flow/atm.ipynb)"
      ]
    },
    {
      "cell_type": "code",
      "execution_count": null,
      "metadata": {
        "colab": {
          "base_uri": "https://localhost:8080/"
        },
        "id": "GXNxIGh0FBRc",
        "outputId": "605cf4bd-a90c-47af-dd3d-0e534f3ff29d"
      },
      "outputs": [
        {
          "name": "stdout",
          "output_type": "stream",
          "text": [
            "Enter your user id: 789\n",
            "Enter your pin: 0000\n",
            "Hi 789 Welcome to our famous bank!\n",
            "You have $1000000 balance\n",
            "Do you want to withdraw money? Enter 1 for yes 0 for no0\n",
            "False <class 'bool'>\n",
            "How much money you would like to deposit?250000\n",
            "Congrats! You now have $1250000 in your account\n"
          ]
        }
      ],
      "source": [
        "atmbalance = 100000\n",
        "balance = 1000000\n",
        "userid = 789\n",
        "pin = 0000\n",
        "\n",
        "user = int(input('Enter your user id: '))\n",
        "user_pin = int(input('Enter your pin: '))\n",
        "\n",
        "#print(\"Type of variable user {}\".format(type(user)))\n",
        "if ((user == userid) and (pin == user_pin)):\n",
        "  print(\"Hi {} Welcome to our famous bank!\".format(userid))\n",
        "  print(\"You have ${} balance\".format(balance))\n",
        "\n",
        "  withdraw = bool(input(\"Do you want to withdraw money? Enter True or Fals\"))\n",
        "  print(withdraw, type(withdraw))\n",
        "  # Withdraw\n",
        "  # if (withdraw):\n",
        "  if (withdraw == True):\n",
        "    money = int(input(\"How much money you would like to withdraw?\"))\n",
        "    # check for overdraft\n",
        "    if (money > balance):\n",
        "      print(\"You might be a millionaire, but you don't have that much in your balance\")\n",
        "    else: # the account has money\n",
        "      if (money <= atmbalance): # checking if atm has money to give\n",
        "        balance = balance - money\n",
        "        atmbalance -= money  #atmbalance = atmbalance - money\n",
        "        print(\"You have withdrawn ${} and your balance is ${}\".format(money, balance))\n",
        "      else: # the bank has no money\n",
        "        print(\"Hehe Sorry we don't have any money! Thank you for being a loyal customer\")\n",
        "  # True or false for withdraw\n",
        "  else:\n",
        "    money = int(input(\"How much money you would like to deposit?\"))\n",
        "    if (money > 0):\n",
        "      balance += money\n",
        "      atmbalance += money\n",
        "      print(\"Congrats! You now have ${} in your account\".format(balance))\n"
      ]
    },
    {
      "cell_type": "code",
      "execution_count": null,
      "metadata": {
        "colab": {
          "base_uri": "https://localhost:8080/"
        },
        "id": "HDXyyretGJPt",
        "outputId": "cefe4dec-19c2-47bf-fbdc-4e89d1da6953"
      },
      "outputs": [
        {
          "data": {
            "text/plain": [
              "True"
            ]
          },
          "execution_count": 6,
          "metadata": {},
          "output_type": "execute_result"
        }
      ],
      "source": [
        "789 == 789"
      ]
    },
    {
      "cell_type": "code",
      "execution_count": null,
      "metadata": {
        "colab": {
          "base_uri": "https://localhost:8080/"
        },
        "id": "5xxY4Px5G-a1",
        "outputId": "245763f4-dd22-4a26-8670-fdfa8c9e290c"
      },
      "outputs": [
        {
          "data": {
            "text/plain": [
              "True"
            ]
          },
          "execution_count": 16,
          "metadata": {},
          "output_type": "execute_result"
        }
      ],
      "source": [
        "bool(-1000)"
      ]
    },
    {
      "cell_type": "code",
      "execution_count": null,
      "metadata": {
        "colab": {
          "base_uri": "https://localhost:8080/"
        },
        "id": "29biM0UpL_Nb",
        "outputId": "f6dfe8c4-eb4d-4149-d217-d3ec17e71d7c"
      },
      "outputs": [
        {
          "data": {
            "text/plain": [
              "True"
            ]
          },
          "execution_count": 21,
          "metadata": {},
          "output_type": "execute_result"
        }
      ],
      "source": [
        "bool('True')"
      ]
    },
    {
      "cell_type": "code",
      "execution_count": null,
      "metadata": {
        "id": "RT-_Sm7gNpLM"
      },
      "outputs": [],
      "source": []
    }
  ],
  "metadata": {
    "colab": {
      "provenance": []
    },
    "kernelspec": {
      "display_name": "Python 3",
      "name": "python3"
    },
    "language_info": {
      "name": "python"
    }
  },
  "nbformat": 4,
  "nbformat_minor": 0
}
