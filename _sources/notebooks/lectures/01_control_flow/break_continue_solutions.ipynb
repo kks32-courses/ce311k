{
  "cells": [
    {
      "cell_type": "markdown",
      "metadata": {
        "id": "ITNzZMX9c_ZG"
      },
      "source": [
        "# Break continue (solution)\n",
        "\n",
        "[![Open in Colab](https://colab.research.google.com/assets/colab-badge.svg)](https://colab.research.google.com/github/kks32-courses/ce311k/blob/main/notebooks/lectures/01_control_flow/break_continue_solutions.ipynb)"
      ]
    },
    {
      "cell_type": "markdown",
      "metadata": {
        "id": "M7OP14E1qnl_"
      },
      "source": [
        " `continue`:\n",
        " A program to print sum of odd numbers between 0 to 100"
      ]
    },
    {
      "cell_type": "code",
      "execution_count": null,
      "metadata": {
        "colab": {
          "base_uri": "https://localhost:8080/",
          "height": 35
        },
        "id": "yoIlZGaDqnES",
        "outputId": "209004b4-f85a-482d-b531-09c8d3f15685"
      },
      "outputs": [
        {
          "name": "stdout",
          "output_type": "stream",
          "text": [
            "2500\n"
          ]
        }
      ],
      "source": [
        "import numpy as np\n",
        "\n",
        "sum = 0\n",
        "\n",
        "for i in np.arange(0, 100, 1):\n",
        "  if i % 2 == 0:\n",
        "    continue\n",
        "\n",
        "  sum = sum + i\n",
        "\n",
        "print(sum)\n"
      ]
    },
    {
      "cell_type": "markdown",
      "metadata": {
        "id": "GbrgfgXarWjD"
      },
      "source": [
        "`break` statement to see if a list of numbers has a perfect square"
      ]
    },
    {
      "cell_type": "code",
      "execution_count": null,
      "metadata": {
        "colab": {
          "base_uri": "https://localhost:8080/",
          "height": 35
        },
        "id": "4cdE-tGQrEY0",
        "outputId": "c1382900-e5ec-4af6-f041-c625011ffbf8"
      },
      "outputs": [
        {
          "name": "stdout",
          "output_type": "stream",
          "text": [
            "The list has a perfect square number: 25\n"
          ]
        }
      ],
      "source": [
        "import math\n",
        "\n",
        "numbers = [1, 5, 0, 25, 23, 12, 7, 51]\n",
        "\n",
        "for number in numbers:\n",
        "  sqrt_num = math.sqrt(number)\n",
        "  if (sqrt_num % 1 == 0) and number !=1 and number != 0:\n",
        "    print(\"The list has a perfect square number:\", number)\n",
        "    break\n",
        "else: #nobreak\n",
        "  print(\"The list has no perfect squares\")"
      ]
    },
    {
      "cell_type": "markdown",
      "metadata": {
        "id": "m-G62ugtrl2t"
      },
      "source": [
        "Prime numbers"
      ]
    },
    {
      "cell_type": "code",
      "execution_count": null,
      "metadata": {
        "colab": {
          "base_uri": "https://localhost:8080/",
          "height": 35
        },
        "id": "exs5uuMBrmlx",
        "outputId": "8583fb70-2a92-4c20-aa46-6978eb737b9b"
      },
      "outputs": [
        {
          "name": "stdout",
          "output_type": "stream",
          "text": [
            "[2, 3, 5, 7, 11, 13, 17, 19, 23, 29, 31, 37, 41, 43, 47]\n"
          ]
        }
      ],
      "source": [
        "import numpy as np\n",
        "\n",
        "N = 50  # Check numbers up 50 for primes (excludes 50)\n",
        "primes = []\n",
        "# Loop over all numbers from 2 to 50 (excluding 50)\n",
        "for n in np.arange(2, N):\n",
        "\n",
        "    # Assume that n is prime\n",
        "    n_is_prime = True\n",
        "\n",
        "    # Check if n is divisible by 2\n",
        "    if n % 2 == 0 and n !=2:\n",
        "        continue\n",
        "\n",
        "    # Check if n can be divided by m, where m ranges from 2 to n (excluding n)\n",
        "    for m in np.arange(2, n):\n",
        "        if n % m == 0:  # This is true if the remainder for n/m is equal to zero\n",
        "            # We've found that n is divisable by m, so it can't be a prime number.\n",
        "            # No need to check for more values of m, so set n_is_prime = False and\n",
        "            # exit the 'm' loop.\n",
        "            n_is_prime = False\n",
        "            break\n",
        "\n",
        "    #  If n is prime, add to list of primes\n",
        "    if n_is_prime:\n",
        "        primes.append(n)\n",
        "\n",
        "# Primes\n",
        "print(primes)"
      ]
    },
    {
      "cell_type": "code",
      "execution_count": null,
      "metadata": {
        "id": "csm2iGqYrpCL"
      },
      "outputs": [],
      "source": []
    }
  ],
  "metadata": {
    "colab": {
      "provenance": []
    },
    "kernelspec": {
      "display_name": "Python 3",
      "name": "python3"
    }
  },
  "nbformat": 4,
  "nbformat_minor": 0
}
