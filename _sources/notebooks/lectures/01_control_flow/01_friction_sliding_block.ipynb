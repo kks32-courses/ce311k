{
 "cells": [
  {
   "attachments": {},
   "cell_type": "markdown",
   "metadata": {},
   "source": [
    "# Lecture 01b: Control statement example\n",
    "\n",
    "**Exercise:** [![Open in Colab](https://colab.research.google.com/assets/colab-badge.svg)](https://colab.research.google.com/github/kks32-courses/ce311k/blob/main/notebooks/lectures/01_control_flow/01_friction_sliding_block.ipynb)\n",
    "**Solution:** [![Open in Colab](https://colab.research.google.com/assets/colab-badge.svg)](https://colab.research.google.com/github/kks32-courses/ce311k/blob/main/notebooks/lectures/01_control_flow/01_friction_sliding_block_solutions.ipynb)"
   ]
  },
  {
   "cell_type": "markdown",
   "metadata": {},
   "source": [
    "<iframe width=\"560\" height=\"315\" src=\"https://www.youtube.com/embed/pOOkpfQGkaw\" title=\"YouTube video player\" frameborder=\"0\" allow=\"accelerometer; autoplay; clipboard-write; encrypted-media; gyroscope; picture-in-picture; web-share\" allowfullscreen></iframe>\n",
    "\n",
    "<iframe width=\"560\" height=\"315\" src=\"https://www.youtube.com/embed/K3PPABjazHI\" title=\"YouTube video player\" frameborder=\"0\" allow=\"accelerometer; autoplay; clipboard-write; encrypted-media; gyroscope; picture-in-picture; web-share\" allowfullscreen></iframe>"
   ]
  },
  {
   "cell_type": "markdown",
   "metadata": {},
   "source": [
    "## Forces on a sliding block\n",
    "\n",
    "![forces on a sliding block](https://raw.githubusercontent.com/kks32-courses/ce311k/master/notebooks/lectures/01_control_flow/block-forces.png)"
   ]
  },
  {
   "attachments": {},
   "cell_type": "markdown",
   "metadata": {
    "scrolled": true
   },
   "source": [
    "Given a weight $W = 25 kN$, friction coefficient $\\mu = 0.75$, and angle of inclination $\\theta = 45^o$, calculate the force required to pull the block.\n",
    "\n",
    "$$\n",
    "F = \\frac{\\mu W}{\\cos \\theta + \\mu \\sin \\theta} = \\frac{\\mu mg}{\\cos \\theta + \\mu \\sin \\theta}\n",
    "$$\n",
    "\n",
    "\n",
    "Python has a lot of useful standard library functions which are defined in modules. A Python code can gain access to the code in another module by the process of importing it. The import statement is the most common way of invoking the import machinery, but it is not the only way. We need to import a module called `math`, which has predefined trignometric functions using `import math`, this makes available all the functions in `math` module. To use the `cos` function in `math` module, we do `math.cos(angle)`"
   ]
  },
  {
   "cell_type": "code",
   "execution_count": null,
   "metadata": {},
   "outputs": [],
   "source": []
  },
  {
   "attachments": {},
   "cell_type": "markdown",
   "metadata": {},
   "source": [
    "## Lists\n",
    "\n",
    "A list is a sequence of data. An 'array' in most other languages is a similar concept, but Python lists are more general than most arrays as they can hold a mixture of types. A list is constructed using square brackets. To create a list of Pixar movies `['Toy Story', 'Monsters Inc', 'Finding Nemo', 'The Incredibles', 'Cars']`:"
   ]
  },
  {
   "cell_type": "code",
   "execution_count": null,
   "metadata": {},
   "outputs": [],
   "source": []
  },
  {
   "attachments": {},
   "cell_type": "markdown",
   "metadata": {},
   "source": [
    "An empty list is created by `[]`"
   ]
  },
  {
   "cell_type": "code",
   "execution_count": null,
   "metadata": {},
   "outputs": [],
   "source": []
  },
  {
   "attachments": {},
   "cell_type": "markdown",
   "metadata": {},
   "source": [
    "To add an item to list use `list.append(item)`. Let's add a new Pixar movie: `coco`."
   ]
  },
  {
   "cell_type": "code",
   "execution_count": null,
   "metadata": {},
   "outputs": [],
   "source": []
  },
  {
   "attachments": {},
   "cell_type": "markdown",
   "metadata": {},
   "source": [
    "### Iterating through a list\n",
    "\n",
    "\n",
    "Looping over each item in a list (or more generally a sequence) is called *iterating*. We iterate over the members of the lab group using the syntax:"
   ]
  },
  {
   "cell_type": "code",
   "execution_count": null,
   "metadata": {},
   "outputs": [],
   "source": []
  },
  {
   "attachments": {},
   "cell_type": "markdown",
   "metadata": {},
   "source": [
    "### Create a list of possible angles \n",
    "\n",
    "`angles` should store a list of ```[0, 10, 20, 30, 40, 50, 60, 70, 80, 90]```"
   ]
  },
  {
   "cell_type": "code",
   "execution_count": null,
   "metadata": {},
   "outputs": [],
   "source": []
  },
  {
   "attachments": {},
   "cell_type": "markdown",
   "metadata": {},
   "source": [
    "### Iterate through all the angles and calculate the force for each of those angles\n",
    "\n",
    "print `(angle, force)` for each angle."
   ]
  },
  {
   "cell_type": "code",
   "execution_count": null,
   "metadata": {},
   "outputs": [],
   "source": []
  },
  {
   "attachments": {},
   "cell_type": "markdown",
   "metadata": {},
   "source": [
    "### Plot the forces and angles\n",
    "\n",
    "We will be using a module called `matplotlib` using `import matplotlib.pyplot as plt` to plot a list of angles and forces. The additional `as` part in the `import module` functions helps us keeping our code concise. Instead of typing `matplotlib.pyplot.plot()` we can just type `plt.plot()`. You may need to include `%matplotlib inline` to enable inline plotting in Jupyter notebook, include inline after you import `matplotlib`.\n",
    "\n",
    "Let's create an empty list of forces using `[]`. At each iteration `append` the force to the `forces` list."
   ]
  },
  {
   "cell_type": "code",
   "execution_count": null,
   "metadata": {},
   "outputs": [],
   "source": []
  },
  {
   "attachments": {},
   "cell_type": "markdown",
   "metadata": {},
   "source": [
    "### Update the angles list to increment every 1 degree from 0 to 90\n",
    "\n",
    "Create an updated list of angles so that `angles = [0, 1, 2, ..., 90]`. A simple function to do that is `np.arange(stop)`. This function is available in a library called `numpy` and we will import it as `import numpy as np`.\n",
    "\n",
    "`stop`: Number of integers (whole numbers) to generate, starting from zero up to but not including `stop`.\n",
    "\n",
    "e.g., `np.arange(3)` yields a sequence of `[0, 1, 2]`.\n",
    "\n",
    "`np.arange([start], stop[, step])`\n",
    "\n",
    "`start`: Starting number of the sequence.\n",
    "`stop` : Generate numbers up to, but not including this number.\n",
    "`step` : Difference between each number in the sequence.\n",
    "\n",
    "e.g., `np.arange(2, 10, 2)` yields a list of `[2, 4, 6, 8]`."
   ]
  },
  {
   "cell_type": "code",
   "execution_count": null,
   "metadata": {},
   "outputs": [],
   "source": []
  }
 ],
 "metadata": {
  "kernelspec": {
   "display_name": "Python 3",
   "language": "python",
   "name": "python3"
  },
  "language_info": {
   "codemirror_mode": {
    "name": "ipython",
    "version": 3
   },
   "file_extension": ".py",
   "mimetype": "text/x-python",
   "name": "python",
   "nbconvert_exporter": "python",
   "pygments_lexer": "ipython3",
   "version": "3.8.5"
  }
 },
 "nbformat": 4,
 "nbformat_minor": 2
}
