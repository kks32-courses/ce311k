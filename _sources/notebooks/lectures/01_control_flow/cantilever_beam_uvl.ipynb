{
  "cells": [
    {
      "cell_type": "markdown",
      "metadata": {
        "id": "dNPVRt21bx0g"
      },
      "source": [
        "# Cantilever beam uvl\n",
        "[![Open in Colab](https://colab.research.google.com/assets/colab-badge.svg)](https://colab.research.google.com/github/kks32-courses/ce311k/blob/main/notebooks/lectures/01_control_flow/cantilever_beam_uvl.ipynb)"
      ]
    },
    {
      "cell_type": "markdown",
      "metadata": {
        "id": "o9arI0QTPL_E"
      },
      "source": [
        "## Deflection of a cantilever beam subjected to uniformly varying load\n",
        "\n",
        "\n",
        "![main-qimg-bd1c81fe3b3596340ba6ee95b50d02c3.webp](data:image/webp;base64,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)\n",
        "\n",
        "\n",
        "Deflection at any point in $x$ is given as: $$y = \\frac{w_0 x^2}{120l EI} \\left(10l^3 -10l^2x + 5 lx^2 -x^3\\right)$$\n",
        "\n",
        "The moment of inertia of a rectangular corss section of width ($b$) and depth ($d$) is:\n",
        "\n",
        "$$I = \\frac{bd^3}{12}$$\n",
        "\n",
        "Plot the deflection of a 2m long cantilever beam subjected to a uniformly varying load of $5 kN/m$. The beam has a stiffness of $2*10^7 kPa$ and has a width of 0.4 m and a depth of 0.5 m."
      ]
    },
    {
      "cell_type": "code",
      "execution_count": null,
      "metadata": {
        "colab": {
          "base_uri": "https://localhost:8080/",
          "height": 297
        },
        "id": "yq51L_NaPLHw",
        "outputId": "3b02f6ad-219b-41ff-fc19-b6a0ec7effd4"
      },
      "outputs": [],
      "source": [
        "import matplotlib.pyplot as plt\n",
        "\n",
        "import numpy as np\n",
        "\n",
        "# initial load (5 kN/m) \n",
        "\n",
        "# Length of cantilever beam (2 m)\n",
        "\n",
        "# Stiffness 2E5 Pa\n",
        "\n",
        "# width (b) is 0.4 m and depth (d) is 0.5m\n",
        "\n",
        "# Moment of inertia\n",
        "\n"
      ]
    },
    {
      "cell_type": "code",
      "execution_count": null,
      "metadata": {
        "colab": {
          "base_uri": "https://localhost:8080/",
          "height": 297
        },
        "id": "fwXbj87zRft5",
        "outputId": "8467bacf-00ce-4b3a-e2e5-6945eb180352"
      },
      "outputs": [],
      "source": [
        "# Plot normalized deflection"
      ]
    },
    {
      "cell_type": "code",
      "execution_count": null,
      "metadata": {
        "id": "FPyF-UoOTo76"
      },
      "outputs": [],
      "source": []
    }
  ],
  "metadata": {
    "colab": {
      "provenance": []
    },
    "kernelspec": {
      "display_name": "Python 3.10.6 64-bit",
      "language": "python",
      "name": "python3"
    },
    "language_info": {
      "name": "python",
      "version": "3.10.6"
    },
    "vscode": {
      "interpreter": {
        "hash": "b0fa6594d8f4cbf19f97940f81e996739fb7646882a419484c72d19e05852a7e"
      }
    }
  },
  "nbformat": 4,
  "nbformat_minor": 0
}
