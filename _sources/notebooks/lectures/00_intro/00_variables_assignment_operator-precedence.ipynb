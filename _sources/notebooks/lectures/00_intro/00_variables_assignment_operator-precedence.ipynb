{
 "cells": [
  {
   "attachments": {},
   "cell_type": "markdown",
   "metadata": {},
   "source": [
    "# Lecture 00: Variables and assignment\n",
    "\n",
    "**Exercise:** [![Open in Colab](https://colab.research.google.com/assets/colab-badge.svg)](https://colab.research.google.com/github/kks32-courses/ce311k/blob/main/notebooks/lectures/00_intro/00_variables_assignment_operator-precedence.ipynb)\n",
    "**Solution:** [![Open in Colab](https://colab.research.google.com/assets/colab-badge.svg)](https://colab.research.google.com/github/kks32-courses/ce311k/blob/main/notebooks/lectures/00_intro/00_variables_assignment_operator-precedence_solutions.ipynb)\n",
    "\n",
    "We begin with assignment to variables and familiar mathematical operations.\n",
    "\n",
    "\n",
    "## Objectives\n",
    "\n",
    "- Introduce expressions and basic operators\n",
    "- Introduce operator precedence\n",
    "- Understand variables and assignment"
   ]
  },
  {
   "attachments": {},
   "cell_type": "markdown",
   "metadata": {},
   "source": [
    "<iframe width=\"560\" height=\"315\" src=\"https://www.youtube.com/embed/eVKPCWBlY8A\" title=\"YouTube video player\" frameborder=\"0\" allow=\"accelerometer; autoplay; clipboard-write; encrypted-media; gyroscope; picture-in-picture; web-share\" allowfullscreen></iframe>"
   ]
  },
  {
   "attachments": {},
   "cell_type": "markdown",
   "metadata": {},
   "source": [
    "<iframe width=\"560\" height=\"315\" src=\"https://www.youtube-nocookie.com/embed/S37dz6osGKo\" title=\"YouTube video player\" frameborder=\"0\" allow=\"accelerometer; autoplay; clipboard-write; encrypted-media; gyroscope; picture-in-picture; web-share\" allowfullscreen></iframe>"
   ]
  },
  {
   "attachments": {},
   "cell_type": "markdown",
   "metadata": {},
   "source": [
    "## Aspects of a programming language\n",
    "\n",
    "### Data objects\n",
    "\n",
    "Code manipulate data objects. Objects can be classified as two types:\n",
    "* scalar (cannot be subdivided)\n",
    "* non-scalar (have internal structure that can be accessed)\n",
    "\n",
    "Objects have a type that defines the kinds of things programs can do to them. For example, you can multiply 2 numbers, but cannot multiply two strings (words)"
   ]
  },
  {
   "cell_type": "code",
   "execution_count": null,
   "metadata": {},
   "outputs": [],
   "source": []
  },
  {
   "attachments": {},
   "cell_type": "markdown",
   "metadata": {},
   "source": [
    "We can see that a number is a scalar object, we can perform operations such as multiplying two numbers, which results in another scalar object `int`."
   ]
  },
  {
   "cell_type": "code",
   "execution_count": null,
   "metadata": {},
   "outputs": [],
   "source": []
  },
  {
   "attachments": {},
   "cell_type": "markdown",
   "metadata": {},
   "source": [
    "There are other scalar types such as: `float`, `str`, `bool` and `None`. `float` represents decimal numbers, `str` is string: a word or a character, `bool` is `True` or `False` and is useful to conditionally evaluate some statements. NoneType: special and has one value,`None`."
   ]
  },
  {
   "cell_type": "code",
   "execution_count": null,
   "metadata": {},
   "outputs": [],
   "source": []
  },
  {
   "attachments": {},
   "cell_type": "markdown",
   "metadata": {},
   "source": [
    "### Syntax\n",
    "\n",
    "Syntax represents the way constituent elements are put together. For example, how words in the English language are put together to form sentences. In python, most often, we need `<object> <operator> <object>` as a syntactically valid statement."
   ]
  },
  {
   "cell_type": "code",
   "execution_count": null,
   "metadata": {},
   "outputs": [],
   "source": [
    "# Valid syntax (# means a comment and is ignored by Python)"
   ]
  },
  {
   "cell_type": "code",
   "execution_count": null,
   "metadata": {},
   "outputs": [],
   "source": [
    "# Invalid syntax"
   ]
  },
  {
   "attachments": {},
   "cell_type": "markdown",
   "metadata": {},
   "source": [
    "### Static semantics \n",
    "\n",
    "Static semnatics is when syntactically valid strings have meaning:"
   ]
  },
  {
   "cell_type": "code",
   "execution_count": null,
   "metadata": {},
   "outputs": [],
   "source": []
  },
  {
   "attachments": {},
   "cell_type": "markdown",
   "metadata": {},
   "source": [
    "Although this follows the syntax of `<object> <operator> <object>` it's not semantically valid. In this case, Python was able to say that you are doing an operation that is semantically invalid. Sometimes, Python may do something unintended. For example multiplying an integer by a string is semantically invalid, maybe not what you meant, but would give you the following result."
   ]
  },
  {
   "cell_type": "code",
   "execution_count": null,
   "metadata": {},
   "outputs": [],
   "source": []
  },
  {
   "attachments": {},
   "cell_type": "markdown",
   "metadata": {},
   "source": [
    "# Evaluating expressions: simple operators\n",
    "\n",
    "We can use Python like a calculator. Consider the simple expression $3 + 8$. We can evaluate and print this by:"
   ]
  },
  {
   "cell_type": "code",
   "execution_count": null,
   "metadata": {},
   "outputs": [],
   "source": []
  },
  {
   "attachments": {},
   "cell_type": "markdown",
   "metadata": {},
   "source": [
    "Another simple calculation is the gravitational potential $V$ of a body of mass $m$ (point mass) at a distance $r$ from a body of mass $M$, which is given by\n",
    "\n",
    "$$\n",
    "V = \\frac{G M m}{r}\n",
    "$$\n",
    "\n",
    "where $G$ is the *gravitational constant*. A good approximation is $G = 6.674 \\times 10^{-11}$ N m$^{2}$ kg$^{-2}$.\n",
    "\n",
    "For the case $M = 1.65 \\times 10^{12}$ kg, $m = 6.1 \\times 10^2$ kg and $r = 7.0 \\times 10^3$ m, we can compute the  gravitational potential $V$:"
   ]
  },
  {
   "cell_type": "code",
   "execution_count": null,
   "metadata": {},
   "outputs": [],
   "source": []
  },
  {
   "attachments": {},
   "cell_type": "markdown",
   "metadata": {},
   "source": [
    "We have used 'scientific notation' to input the values. For example, the number $8 \\times 10^{-2}$ can be input as `0.08` or `8e-2`. We can easily verify that the two are the same via subtraction:"
   ]
  },
  {
   "cell_type": "code",
   "execution_count": null,
   "metadata": {},
   "outputs": [],
   "source": []
  },
  {
   "attachments": {},
   "cell_type": "markdown",
   "metadata": {},
   "source": [
    "# Operator precedence\n",
    "\n",
    "Operator precedence refers to the order in which operations are performed, e.g. multiplication before addition.\n",
    "In the preceding examples, there was no ambiguity as to the order of the operations. However, there are common cases where order does matter, and there are two points to consider:\n",
    "\n",
    "- The expression should be evaluated correctly; and \n",
    "- The expression should be simple enough for someone else reading the code to understand what operation is being \n",
    "  performed.\n",
    "\n",
    "It is possible to write code that is correct, but which might be very difficult for someone else (or you) to check.\n",
    "\n",
    "Most programming languages, including Python, follow the usual mathematical rules for precedence. We explore this through some examples."
   ]
  },
  {
   "attachments": {},
   "cell_type": "markdown",
   "metadata": {},
   "source": [
    "Consider the expression $4 \\cdot (7 - 2) = 20$. If we are careless, "
   ]
  },
  {
   "cell_type": "code",
   "execution_count": null,
   "metadata": {},
   "outputs": [],
   "source": []
  },
  {
   "attachments": {},
   "cell_type": "markdown",
   "metadata": {},
   "source": [
    "In the above, `4*7` is evaluated first, then `2` is subtracted because multiplication (`*`) comes before subtraction (`-`) in terms of precedence. We can control the order of the operation using brackets, just as we would on paper:"
   ]
  },
  {
   "cell_type": "code",
   "execution_count": null,
   "metadata": {},
   "outputs": [],
   "source": []
  },
  {
   "attachments": {},
   "cell_type": "markdown",
   "metadata": {},
   "source": [
    "A common example where readability is a concern is \n",
    "\n",
    "$$\n",
    "\\frac{10}{2 \\times 50} = 0.1\n",
    "$$\n",
    "\n",
    "The code"
   ]
  },
  {
   "cell_type": "code",
   "execution_count": null,
   "metadata": {},
   "outputs": [],
   "source": []
  },
  {
   "attachments": {},
   "cell_type": "markdown",
   "metadata": {},
   "source": [
    "is incorrect. The multiplication and division have the same precedence, so the expression is evaluated 'left-to-right'. The correct result is computed from "
   ]
  },
  {
   "cell_type": "code",
   "execution_count": null,
   "metadata": {},
   "outputs": [],
   "source": []
  },
  {
   "attachments": {},
   "cell_type": "markdown",
   "metadata": {},
   "source": [
    "but this is hard to read and could easily lead to errors in a program. I would recommend using brackets to make the order clear:"
   ]
  },
  {
   "cell_type": "code",
   "execution_count": null,
   "metadata": {},
   "outputs": [],
   "source": []
  },
  {
   "attachments": {},
   "cell_type": "markdown",
   "metadata": {},
   "source": [
    "Here is an example that computes $2^{3} \\cdot 4 = 32$ which is technically correct but not ideal in terms of readability:"
   ]
  },
  {
   "cell_type": "code",
   "execution_count": null,
   "metadata": {},
   "outputs": [],
   "source": []
  },
  {
   "attachments": {},
   "cell_type": "markdown",
   "metadata": {},
   "source": [
    "Better would be:"
   ]
  },
  {
   "cell_type": "code",
   "execution_count": null,
   "metadata": {},
   "outputs": [],
   "source": []
  },
  {
   "attachments": {},
   "cell_type": "markdown",
   "metadata": {},
   "source": [
    "# Variables and assignment\n",
    "\n",
    "The above code snippets were helpful for doing some arithmetic, but we could easily do the same with a pocket calculator. Also, the snippets are not very helpful if we want to change the value of one of the numbers in an expression, and not very helpful if we wanted to use the value of the expression in a subsequent computation. To improve things, we need *assignment*.\n",
    "\n",
    "When we compute something, we usually want to store the result so that we can use it in subsequent computations. *Variables* are what we use to store something, e.g.:"
   ]
  },
  {
   "cell_type": "code",
   "execution_count": 2,
   "metadata": {},
   "outputs": [
    {
     "ename": "SyntaxError",
     "evalue": "cannot assign to False (<ipython-input-2-1950c547d36b>, line 1)",
     "output_type": "error",
     "traceback": [
      "\u001b[0;36m  File \u001b[0;32m\"<ipython-input-2-1950c547d36b>\"\u001b[0;36m, line \u001b[0;32m1\u001b[0m\n\u001b[0;31m    False = 1\u001b[0m\n\u001b[0m    ^\u001b[0m\n\u001b[0;31mSyntaxError\u001b[0m\u001b[0;31m:\u001b[0m cannot assign to False\n"
     ]
    }
   ],
   "source": []
  },
  {
   "attachments": {},
   "cell_type": "markdown",
   "metadata": {},
   "source": [
    "Above, the variable `c` is used to 'hold' the value `10`. The function `print` is used to print the value of a variable to the output (more on functions later).\n",
    "\n",
    "Say we want to compute $c = a + b$, where $a = 2$ and $b = 11$:"
   ]
  },
  {
   "cell_type": "code",
   "execution_count": null,
   "metadata": {},
   "outputs": [],
   "source": []
  },
  {
   "attachments": {},
   "cell_type": "markdown",
   "metadata": {},
   "source": [
    "What is happening above is that the expression on the right-hand side of the assignment operator '`=`' is evaluated and then stored as the variable on the left-hand side. You can think of the variable as a 'handle' for a value.\n",
    "If we want to change the value of $a$ to $4$ and recompute the sum, we would just replace `a = 2` with `a = 4` and execute the code (try this yourself by running this notebook interactively).\n",
    "\n",
    "The above looks much like standard algebra. There are however some subtle differences. Take for example:"
   ]
  },
  {
   "cell_type": "code",
   "execution_count": null,
   "metadata": {},
   "outputs": [],
   "source": []
  },
  {
   "attachments": {},
   "cell_type": "markdown",
   "metadata": {},
   "source": [
    "This is not a valid algebraic statement since '`a`' appears on both sides of '`=`', but it is a very common statement in a computer program. What happens is that the expression on the right-hand side is evaluated (the values assigned to `a` and `b` are summed), and the result is assigned to the left-hand side (to the variable `a`). There is a mathematical notation for this type of assignment:\n",
    "\n",
    "$$\n",
    "a \\leftarrow a +b \n",
    "$$\n",
    "\n",
    "which says 'sum $a$ and $b$, and copy the result to $a$'. You will see this notation in some books, especially when looking at *algorithms*."
   ]
  },
  {
   "attachments": {},
   "cell_type": "markdown",
   "metadata": {},
   "source": [
    "## Shortcuts\n",
    "\n",
    "Adding or subtracting variables is such a common operation that most languages provides shortcuts. For addition:"
   ]
  },
  {
   "cell_type": "code",
   "execution_count": null,
   "metadata": {},
   "outputs": [],
   "source": [
    "# Long-hand addition\n",
    "a = 10\n",
    "b = 5\n",
    "\n",
    "a = a + b\n",
    "\n",
    "# Short-hand addition\n"
   ]
  },
  {
   "attachments": {},
   "cell_type": "markdown",
   "metadata": {},
   "source": [
    "> In Python, any text following the hash (`#`) symbol is a 'comment'. Comments are not executed by the program; \n",
    "> they help us document and explain what our programs do. Use lots of comments in your programs.\n",
    "\n",
    "For subtraction:"
   ]
  },
  {
   "attachments": {},
   "cell_type": "markdown",
   "metadata": {},
   "source": [
    "## Naming variables\n",
    "\n",
    "It is good practice to use meaningful variable names in a computer program. Say you used  '`x`' for time, and '`t`' for position, you or someone else will almost certainly make errors at some point.\n",
    "If you do not use well considered variable names:\n",
    "\n",
    "1. You're much more likely to make errors.\n",
    "1. When you come back to your program after some time, you will have trouble recalling and understanding \n",
    "   what the program does.\n",
    "1. It will be difficult for others to understand your program - serious programming is almost always a team effort.\n",
    "\n",
    "Languages have rules for what charcters can be used in variable names. As a rough guide, in Python variable names can use letters and digits, but cannot start with a digit.\n",
    "\n",
    "Sometimes for readability it is useful to have variable names that are made up of two words. A convention is\n",
    "to separate the words in the variable name using an underscore '`_`'. For example, a good variable name for storing the number of days would be \n",
    "```python\n",
    "num_days = 10\n",
    "```\n",
    "Python is a case-sensitive language, e.g. the variables '`A`' and '`a`' are different. Some languages, such as\n",
    "Fortran, are case-insensitive.\n",
    "\n",
    "Languages have reserved keywords that cannot be used as variable names as they are used for other purposes. The reserved keywords in Python are:"
   ]
  },
  {
   "cell_type": "code",
   "execution_count": 1,
   "metadata": {},
   "outputs": [
    {
     "name": "stdout",
     "output_type": "stream",
     "text": [
      "['False', 'None', 'True', 'and', 'as', 'assert', 'async', 'await', 'break', 'class', 'continue', 'def', 'del', 'elif', 'else', 'except', 'finally', 'for', 'from', 'global', 'if', 'import', 'in', 'is', 'lambda', 'nonlocal', 'not', 'or', 'pass', 'raise', 'return', 'try', 'while', 'with', 'yield']\n"
     ]
    }
   ],
   "source": [
    "import keyword\n",
    "print(keyword.kwlist)"
   ]
  },
  {
   "attachments": {},
   "cell_type": "markdown",
   "metadata": {},
   "source": [
    "If you try to assign something to a reserved keyword, you will get an error.\n",
    "\n",
    "Python 3 supports Unicode, which allows you to use a very wide range of symbols, including Greek characters:\n",
    "\n",
    "```\n",
    "θ = 10\n",
    "α = 12\n",
    "β = θ + α\n",
    "print(β)\n",
    "```"
   ]
  },
  {
   "cell_type": "code",
   "execution_count": null,
   "metadata": {},
   "outputs": [],
   "source": []
  },
  {
   "attachments": {},
   "cell_type": "markdown",
   "metadata": {},
   "source": [
    "Greek symbols and other symbols can be input in a Jupyter notebook by typing the `LaTeX` command for the symbol and then pressing the `tab` key, e.g. '`\\theta`' followed by pressing the `tab` key."
   ]
  }
 ],
 "metadata": {
  "kernelspec": {
   "display_name": "Python 3",
   "language": "python",
   "name": "python3"
  },
  "language_info": {
   "codemirror_mode": {
    "name": "ipython",
    "version": 3
   },
   "file_extension": ".py",
   "mimetype": "text/x-python",
   "name": "python",
   "nbconvert_exporter": "python",
   "pygments_lexer": "ipython3",
   "version": "3.8.5"
  }
 },
 "nbformat": 4,
 "nbformat_minor": 1
}
