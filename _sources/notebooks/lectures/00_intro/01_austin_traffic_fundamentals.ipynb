{
 "cells": [
  {
   "cell_type": "markdown",
   "metadata": {},
   "source": [
    "# Austin Traffic Data Analysis: Part 1 - Fundamentals\n",
    "\n",
    "**Exercise:** [![Open in Colab](https://colab.research.google.com/assets/colab-badge.svg)](https://colab.research.google.com/github/kks32-courses/ce311k/blob/main/notebooks/lectures/00_intro/01_austin_traffic_fundamentals.ipynb)\n",
    "**Solution:** [![Open in Colab](https://colab.research.google.com/assets/colab-badge.svg)](https://colab.research.google.com/github/kks32-courses/ce311k/blob/main/notebooks/lectures/00_intro/01_austin_traffic_fundamentals_solution.ipynb)`\n",
    "\n",
    "Austin generates over 400,000 traffic incidents per year. During the 2020 pandemic, traffic patterns changed dramatically - but not in ways you might expect.\n",
    "\n",
    "We'll use computational methods to uncover these hidden patterns and learn what they tell us about urban infrastructure resilience."
   ]
  },
  {
   "cell_type": "markdown",
   "metadata": {},
   "source": [
    "## Variables and Data Discovery"
   ]
  },
  {
   "cell_type": "markdown",
   "metadata": {},
   "source": [
    "### Variables: Storing Information\n",
    "\n",
    "Variables are handles for values. When we write:"
   ]
  },
  {
   "cell_type": "code",
   "execution_count": null,
   "metadata": {},
   "outputs": [],
   "source": [
    "!wget https://github.com/kks32-courses/ce311k/raw/refs/heads/main/notebooks/lectures/00_intro/Real-Time_Traffic_Incident_Reports_20250805.csv"
   ]
  },
  {
   "cell_type": "code",
   "execution_count": null,
   "metadata": {},
   "outputs": [],
   "source": []
  },
  {
   "cell_type": "markdown",
   "metadata": {},
   "source": [
    "The expression on the right (432444) is evaluated and stored in the variable on the left (incident_count). This follows the mathematical notation: variable ← value\n",
    "\n",
    "In engineering, we need variables to track:\n",
    "- Measurements that change over time\n",
    "- Parameters we want to adjust\n",
    "- Results we need to reference later"
   ]
  },
  {
   "cell_type": "markdown",
   "metadata": {},
   "source": [
    "### Data Types Define What We Can Do\n",
    "\n",
    "Objects have types that determine valid operations:\n",
    "- Can multiply two numbers\n",
    "- Cannot multiply a number and text\n",
    "- Each type serves a specific purpose"
   ]
  },
  {
   "cell_type": "code",
   "execution_count": null,
   "metadata": {},
   "outputs": [],
   "source": [
    "# Integer: whole numbers for counts\n",
    "\n",
    "\n",
    "# Float: decimals for coordinates  \n",
    "\n",
    "# String: text for categories\n",
    "\n",
    "# Boolean: True/False for conditions\n"
   ]
  },
  {
   "cell_type": "code",
   "execution_count": null,
   "metadata": {},
   "outputs": [],
   "source": [
    "# Operations with variables\n"
   ]
  },
  {
   "cell_type": "markdown",
   "metadata": {},
   "source": [
    "### Lists: Storing Multiple Values\n",
    "\n",
    "A list is an ordered collection of values. Lists can contain any type of data and can be modified."
   ]
  },
  {
   "cell_type": "code",
   "execution_count": null,
   "metadata": {},
   "outputs": [],
   "source": [
    "# List of years to analyze\n",
    "\n",
    "\n",
    "# List of incident types\n",
    "\n",
    "\n",
    "# Access elements by index (starts at 0)\n",
    "\n",
    "\n",
    "print(f\"First year: {first_year}\")\n",
    "print(f\"Pandemic year: {pandemic_year}\")"
   ]
  },
  {
   "cell_type": "code",
   "execution_count": null,
   "metadata": {},
   "outputs": [],
   "source": [
    "# Lists can be modified\n",
    "\n",
    "# Get length of list\n"
   ]
  },
  {
   "cell_type": "markdown",
   "metadata": {},
   "source": [
    "### CSV: Comma Separated Values\n",
    "\n",
    "A CSV file is like a spreadsheet stored as text:\n",
    "- Each row = one traffic incident  \n",
    "- Each column = one attribute (date, location, type)\n",
    "- Commas separate the values\n",
    "\n",
    "Example row:\n",
    "```\n",
    "03/06/2024 01:29:39 AM,Stalled Vehicle,30.32358,-97.705874,IH 35,AUSTIN PD\n",
    "```"
   ]
  },
  {
   "cell_type": "markdown",
   "metadata": {},
   "source": [
    "### DataFrames: Smart Tables for Engineering Data\n",
    "\n",
    "With 400,000+ incidents and 10+ attributes each, we need structure. A DataFrame is a 2D labeled data structure that:\n",
    "- Handles different data types per column\n",
    "- Provides powerful filtering and analysis methods\n",
    "- Scales to millions of rows efficiently"
   ]
  },
  {
   "cell_type": "code",
   "execution_count": null,
   "metadata": {},
   "outputs": [],
   "source": [
    "\n",
    "# Load Austin traffic incidents\n"
   ]
  },
  {
   "cell_type": "code",
   "execution_count": null,
   "metadata": {},
   "outputs": [],
   "source": [
    "# Basic exploration\n",
    "\n",
    "\n",
    "\n",
    "print(f\"Dataset: {num_incidents:,} incidents\")\n",
    "print(f\"Attributes per incident: {num_attributes}\")"
   ]
  },
  {
   "cell_type": "code",
   "execution_count": null,
   "metadata": {},
   "outputs": [],
   "source": [
    "# Display column names\n"
   ]
  },
  {
   "cell_type": "code",
   "execution_count": null,
   "metadata": {},
   "outputs": [],
   "source": [
    "# Show first few incidents\n"
   ]
  },
  {
   "cell_type": "markdown",
   "metadata": {},
   "source": [
    "### Extracting Time Information\n",
    "\n",
    "Traffic patterns vary by time. We need to extract:\n",
    "- Year: for pandemic comparison\n",
    "- Month: for seasonal patterns\n",
    "- Hour: for daily patterns"
   ]
  },
  {
   "cell_type": "code",
   "execution_count": null,
   "metadata": {},
   "outputs": [],
   "source": [
    "# Convert string dates to datetime objects\n",
    "\n",
    "\n",
    "# Extract components\n"
   ]
  },
  {
   "cell_type": "code",
   "execution_count": null,
   "metadata": {},
   "outputs": [],
   "source": [
    "# Count incidents per year\n"
   ]
  },
  {
   "cell_type": "code",
   "execution_count": null,
   "metadata": {},
   "outputs": [],
   "source": [
    "# Most common incident types\n"
   ]
  },
  {
   "cell_type": "markdown",
   "metadata": {},
   "source": [
    "### Plotting All Incidents: What Could Go Wrong?\n",
    "\n",
    "Let's visualize all traffic incidents on a map. Since we have latitude and longitude for each incident, this should be straightforward..."
   ]
  },
  {
   "cell_type": "code",
   "execution_count": null,
   "metadata": {},
   "outputs": [],
   "source": []
  },
  {
   "cell_type": "markdown",
   "metadata": {},
   "source": [
    "### Data Quality Issues Revealed\n",
    "\n",
    "The plot shows:\n",
    "1. Points at (0, 0) - missing coordinates\n",
    "2. Points far from Austin - data entry errors\n",
    "3. Extreme outliers at -100 longitude\n",
    "\n",
    "This is real-world data: messy and requiring cleaning before analysis."
   ]
  },
  {
   "cell_type": "markdown",
   "metadata": {},
   "source": [
    "## Conditional Statements for Data Cleaning"
   ]
  },
  {
   "cell_type": "markdown",
   "metadata": {},
   "source": [
    "### Boolean Values: Making Decisions\n",
    "\n",
    "Booleans are True or False values used for decision-making. They result from comparisons and control program flow."
   ]
  },
  {
   "cell_type": "code",
   "execution_count": null,
   "metadata": {},
   "outputs": [],
   "source": [
    "# Simple boolean examples\n",
    "\n",
    "\n",
    "# Check data quality\n",
    "\n",
    "print(f\"Are coordinates missing? {is_missing_data}\")"
   ]
  },
  {
   "cell_type": "markdown",
   "metadata": {},
   "source": [
    "### Comparison Operators Create Booleans\n",
    "\n",
    "```\n",
    "==  Equal to\n",
    "!=  Not equal to\n",
    "<   Less than  \n",
    ">   Greater than\n",
    "<=  Less than or equal\n",
    ">=  Greater than or equal\n",
    "```\n",
    "\n",
    "Combine with:\n",
    "- `and` - Both must be True\n",
    "- `or` - Either can be True\n",
    "- `not` - Negates the condition"
   ]
  },
  {
   "cell_type": "markdown",
   "metadata": {},
   "source": [
    "### Creating Boolean Masks for Austin Area"
   ]
  },
  {
   "cell_type": "code",
   "execution_count": null,
   "metadata": {},
   "outputs": [],
   "source": [
    "# Define Austin's approximate boundaries\n",
    "austin_lat_min = 30.0\n",
    "austin_lat_max = 30.6\n",
    "austin_lon_min = -98.0\n",
    "austin_lon_max = -97.0\n",
    "\n",
    "# Create boolean conditions for each coordinate\n",
    "\n",
    "# Check how many are valid\n",
    "\n",
    "\n",
    "\n",
    "print(f\"Valid latitudes: {num_valid_lat:,}\")\n",
    "print(f\"Valid longitudes: {num_valid_lon:,}\")"
   ]
  },
  {
   "cell_type": "markdown",
   "metadata": {},
   "source": [
    "### Boolean Indexing: Selecting Valid Data\n",
    "\n",
    "We use boolean arrays to select rows that meet our criteria. `df[boolean_condition]` returns only rows where condition is True."
   ]
  },
  {
   "cell_type": "code",
   "execution_count": null,
   "metadata": {},
   "outputs": [],
   "source": [
    "# Combine conditions\n",
    "\n",
    "# Filter to Austin-only data\n",
    "\n",
    "\n",
    "# Compare before and after\n",
    "print(f\"Original: {len(df):,} incidents\")\n",
    "print(f\"Austin only: {len(austin_data):,} incidents\")\n",
    "print(f\"Removed: {len(df) - len(austin_data):,} bad records\")"
   ]
  },
  {
   "cell_type": "code",
   "execution_count": null,
   "metadata": {},
   "outputs": [],
   "source": [
    "# Visualize cleaned data\n",
    "plt.figure(figsize=(8, 6))\n",
    "plt.scatter(austin_data.Longitude, austin_data.Latitude, s=0.1, alpha=0.5)\n",
    "plt.xlabel('Longitude')\n",
    "plt.ylabel('Latitude')  \n",
    "plt.title('Austin Traffic Incidents - After Cleaning')\n",
    "plt.xlim(-97.9, -97.5)\n",
    "plt.ylim(30.1, 30.5)\n",
    "plt.show()"
   ]
  },
  {
   "cell_type": "markdown",
   "metadata": {},
   "source": [
    "### Control Statements: Program Decision Making\n",
    "\n",
    "Programs need to make decisions based on data:\n",
    "\n",
    "```python\n",
    "if condition:\n",
    "    # Do this if True\n",
    "elif other_condition:\n",
    "    # Do this if first False but this True\n",
    "else:\n",
    "    # Do this if all False\n",
    "```"
   ]
  },
  {
   "cell_type": "code",
   "execution_count": null,
   "metadata": {},
   "outputs": [],
   "source": [
    "# Calculate yearly incidents\n",
    "\n",
    "# Analyze pandemic impact\n"
   ]
  },
  {
   "cell_type": "markdown",
   "metadata": {},
   "source": [
    "### Filtering by Incident Type"
   ]
  },
  {
   "cell_type": "code",
   "execution_count": null,
   "metadata": {},
   "outputs": [],
   "source": [
    "# Different incident types\n",
    "\n",
    "\n",
    "# Apply filters\n",
    "\n",
    "print(f\"Collisions: {len(collisions):,}\")\n",
    "print(f\"Crashes: {len(crashes):,}\")\n",
    "print(f\"Hazards: {len(hazards):,}\")"
   ]
  },
  {
   "cell_type": "markdown",
   "metadata": {},
   "source": [
    "### Comparative Incident Maps"
   ]
  },
  {
   "cell_type": "code",
   "execution_count": null,
   "metadata": {},
   "outputs": [],
   "source": [
    "# Create figure with 3 subplots\n",
    "fig, axes = plt.subplots(1, 3, figsize=(15, 5))\n",
    "\n",
    "# Plot collisions\n",
    "axes[0].scatter(collisions.Longitude, collisions.Latitude, s=0.05, alpha=0.5, c='red')\n",
    "axes[0].set_title('Collisions')\n",
    "axes[0].set_xlim(-97.9, -97.5)\n",
    "axes[0].set_ylim(30.1, 30.5)\n",
    "axes[0].set_xlabel('Longitude')\n",
    "axes[0].set_ylabel('Latitude')\n",
    "\n",
    "# Plot crashes  \n",
    "axes[1].scatter(crashes.Longitude, crashes.Latitude, s=0.05, alpha=0.5, c='orange')\n",
    "axes[1].set_title('Crash Urgent')\n",
    "axes[1].set_xlim(-97.9, -97.5)\n",
    "axes[1].set_ylim(30.1, 30.5)\n",
    "axes[1].set_xlabel('Longitude')\n",
    "axes[1].set_ylabel('Latitude')\n",
    "\n",
    "# Plot hazards\n",
    "axes[2].scatter(hazards.Longitude, hazards.Latitude, s=0.05, alpha=0.5, c='blue')\n",
    "axes[2].set_title('Traffic Hazards')\n",
    "axes[2].set_xlim(-97.9, -97.5)\n",
    "axes[2].set_ylim(30.1, 30.5)\n",
    "axes[2].set_xlabel('Longitude')\n",
    "axes[2].set_ylabel('Latitude')\n",
    "\n",
    "plt.tight_layout()\n",
    "plt.show()"
   ]
  },
  {
   "cell_type": "markdown",
   "metadata": {},
   "source": [
    "### Spatial Patterns Revealed\n",
    "\n",
    "Different incident types show distinct geographic patterns:\n",
    "- Collisions cluster at major intersections\n",
    "- Crashes concentrate on highways\n",
    "- Hazards spread throughout residential areas"
   ]
  },
  {
   "cell_type": "markdown",
   "metadata": {},
   "source": [
    "## Loops for Automation"
   ]
  },
  {
   "cell_type": "markdown",
   "metadata": {},
   "source": [
    "### The Problem with Manual Analysis\n",
    "\n",
    "To analyze 2019, 2020, and 2021 separately:\n",
    "- Write filtering code 3 times\n",
    "- Risk copy-paste errors\n",
    "- Hard to extend to more years\n",
    "\n",
    "Loops automate repetitive tasks - write once, run many times."
   ]
  },
  {
   "cell_type": "markdown",
   "metadata": {},
   "source": [
    "### For Loop Structure\n",
    "\n",
    "```python\n",
    "for variable in collection:\n",
    "    # Code block executes for each item\n",
    "    # variable takes each value in turn\n",
    "```"
   ]
  },
  {
   "cell_type": "code",
   "execution_count": null,
   "metadata": {},
   "outputs": [],
   "source": [
    "# Manual approach (tedious)\n",
    "\n",
    "\n",
    "\n"
   ]
  },
  {
   "cell_type": "code",
   "execution_count": null,
   "metadata": {},
   "outputs": [],
   "source": [
    "# Loop approach (scalable)\n"
   ]
  },
  {
   "cell_type": "markdown",
   "metadata": {},
   "source": [
    "### Storing Results from Loops"
   ]
  },
  {
   "cell_type": "code",
   "execution_count": null,
   "metadata": {},
   "outputs": [],
   "source": [
    "# Using lists to store results\n",
    "\n",
    "# Fix the x-axis\n"
   ]
  },
  {
   "cell_type": "markdown",
   "metadata": {},
   "source": [
    "### Tuples: Immutable Sequences\n",
    "\n",
    "Tuples are like lists but cannot be modified after creation. Use them when data shouldn't change."
   ]
  },
  {
   "cell_type": "code",
   "execution_count": null,
   "metadata": {},
   "outputs": [],
   "source": [
    "# Tuple of Austin's coordinates (shouldn't change)\n",
    "\n",
    "\n",
    "\n",
    "print(f\"Austin center: {austin_center}\")\n",
    "print(f\"Latitude: {lat}, Longitude: {lon}\")\n",
    "\n",
    "# Tuples are immutable\n",
    "# austin_center[0] = 31.0  # This would cause an error"
   ]
  },
  {
   "cell_type": "markdown",
   "metadata": {},
   "source": [
    "### Dictionaries: Structured Data Storage\n",
    "\n",
    "Dictionaries store key-value pairs. Perfect for organizing related data."
   ]
  },
  {
   "cell_type": "code",
   "execution_count": null,
   "metadata": {},
   "outputs": [],
   "source": [
    "# Simple dictionary for one year\n",
    "year_2020_stats = {\n",
    "    'total': 45321,\n",
    "    'crashes': 12543,\n",
    "    'peak_hour': 17,\n",
    "    'worst_month': 'October'\n",
    "}\n",
    "\n",
    "print(f\"2020 total incidents: {year_2020_stats['total']}\")\n",
    "print(f\"2020 peak hour: {year_2020_stats['peak_hour']}:00\")"
   ]
  },
  {
   "cell_type": "code",
   "execution_count": null,
   "metadata": {},
   "outputs": [],
   "source": [
    "# Why dictionaries? Store multiple statistics per year\n",
    "\n",
    "\n",
    "# Display results\n"
   ]
  },
  {
   "cell_type": "markdown",
   "metadata": {},
   "source": [
    "### Nested Loops: Multiple Dimensions\n",
    "\n",
    "Analyze combinations: each location across each year"
   ]
  },
  {
   "cell_type": "code",
   "execution_count": null,
   "metadata": {},
   "outputs": [],
   "source": [
    "# Find top incident locations\n",
    "\n",
    "\n",
    "# Analyze each location across years\n"
   ]
  },
  {
   "cell_type": "markdown",
   "metadata": {},
   "source": [
    "### Loop-based Hourly Analysis"
   ]
  },
  {
   "cell_type": "code",
   "execution_count": null,
   "metadata": {},
   "outputs": [],
   "source": [
    "# Compare hourly patterns across years\n"
   ]
  },
  {
   "cell_type": "markdown",
   "metadata": {},
   "source": [
    "### Finding Peak Incident Types by Year"
   ]
  },
  {
   "cell_type": "code",
   "execution_count": null,
   "metadata": {},
   "outputs": [],
   "source": [
    "# Track incident types across years\n"
   ]
  },
  {
   "cell_type": "markdown",
   "metadata": {},
   "source": [
    "## Engineering Summary\n",
    "\n",
    "Through computational analysis of Austin's traffic data, we've discovered:\n",
    "1. Data quality issues requiring filtering (invalid coordinates)\n",
    "2. Pandemic impact on traffic patterns\n",
    "3. Spatial distribution of different incident types\n",
    "4. Temporal patterns revealing peak risk hours\n",
    "\n",
    "These insights enable data-driven infrastructure planning and resource allocation."
   ]
  }
 ],
 "metadata": {
  "kernelspec": {
   "display_name": "env",
   "language": "python",
   "name": "python3"
  },
  "language_info": {
   "codemirror_mode": {
    "name": "ipython",
    "version": 3
   },
   "file_extension": ".py",
   "mimetype": "text/x-python",
   "name": "python",
   "nbconvert_exporter": "python",
   "pygments_lexer": "ipython3",
   "version": "3.11.13"
  }
 },
 "nbformat": 4,
 "nbformat_minor": 4
}
