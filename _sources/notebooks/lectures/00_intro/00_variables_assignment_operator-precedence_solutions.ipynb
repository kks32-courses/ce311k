{
  "cells": [
    {
      "cell_type": "markdown",
      "metadata": {
        "id": "8ai5ayXRgo_x"
      },
      "source": [
        "# Lecture 00: Variable and assignment (Solution)\n",
        "\n",
        "**Exercise:** [![Open in Colab](https://colab.research.google.com/assets/colab-badge.svg)](https://colab.research.google.com/github/kks32-courses/ce311k/blob/main/notebooks/lectures/00_intro/00_variables_assignment_operator-precedence.ipynb)\n",
        "**Solution:** [![Open in Colab](https://colab.research.google.com/assets/colab-badge.svg)](https://colab.research.google.com/github/kks32-courses/ce311k/blob/main/notebooks/lectures/00_intro/00_variables_assignment_operator-precedence_solutions.ipynb)\n",
        "\n",
        "We begin with assignment to variables and familiar mathematical operations."
      ]
    },
    {
      "cell_type": "markdown",
      "metadata": {
        "id": "Qh5kYjEEgJ5J"
      },
      "source": [
        "## Objectives\n",
        "\n",
        "- Introduce expressions and basic operators\n",
        "- Introduce operator precedence\n",
        "- Understand variables and assignment"
      ]
    },
    {
      "cell_type": "markdown",
      "metadata": {
        "id": "4Pzs5dH5gJ5L"
      },
      "source": [
        "<iframe width=\"560\" height=\"315\" src=\"https://www.youtube.com/embed/eVKPCWBlY8A\" title=\"YouTube video player\" frameborder=\"0\" allow=\"accelerometer; autoplay; clipboard-write; encrypted-media; gyroscope; picture-in-picture; web-share\" allowfullscreen></iframe>"
      ]
    },
    {
      "cell_type": "markdown",
      "metadata": {
        "id": "zvLEmPsagJ5L"
      },
      "source": [
        "<iframe width=\"560\" height=\"315\" src=\"https://www.youtube-nocookie.com/embed/S37dz6osGKo\" title=\"YouTube video player\" frameborder=\"0\" allow=\"accelerometer; autoplay; clipboard-write; encrypted-media; gyroscope; picture-in-picture; web-share\" allowfullscreen></iframe>"
      ]
    },
    {
      "cell_type": "markdown",
      "metadata": {
        "id": "1Q4f-D_dgJ5L"
      },
      "source": [
        "## Aspects of a programming language\n",
        "\n",
        "### Data objects\n",
        "\n",
        "Code manipulate data objects. Objects can be classified as two types:\n",
        "* scalar (cannot be subdivided)\n",
        "* non-scalar (have internal structure that can be accessed)\n",
        "\n",
        "Objects have a type that defines the kinds of things programs can do to them. For example, you can multiply 2 numbers, but cannot multiply two strings (words)"
      ]
    },
    {
      "cell_type": "code",
      "execution_count": null,
      "metadata": {
        "id": "_ndZLt1qgJ5L",
        "outputId": "d7fbfc87-96f0-4674-87df-818ff3eb323e"
      },
      "outputs": [
        {
          "data": {
            "text/plain": [
              "int"
            ]
          },
          "execution_count": 1,
          "metadata": {},
          "output_type": "execute_result"
        }
      ],
      "source": [
        "5\n",
        "type(5)"
      ]
    },
    {
      "cell_type": "markdown",
      "metadata": {
        "id": "5Ea-1x95gJ5N"
      },
      "source": [
        "We can see that a number is a scalar object, we can perform operations such as multiplying two numbers, which results in another scalar object `int`."
      ]
    },
    {
      "cell_type": "code",
      "execution_count": null,
      "metadata": {
        "id": "u-1N02EbgJ5N",
        "outputId": "a4d97e34-437f-45cc-f8f4-1e1004be5cbe"
      },
      "outputs": [
        {
          "data": {
            "text/plain": [
              "int"
            ]
          },
          "execution_count": 2,
          "metadata": {},
          "output_type": "execute_result"
        }
      ],
      "source": [
        "5 * 3\n",
        "type(5 * 3)"
      ]
    },
    {
      "cell_type": "markdown",
      "metadata": {
        "id": "XbdktVE6gJ5N"
      },
      "source": [
        "There are other scalar types such as: `float`, `str`, `bool` and `None`. `float` represents decimal numbers, `str` is string: a word or a character, `bool` is `True` or `False` and is useful to conditionally evaluate some statements. NoneType: special and has one value,`None`."
      ]
    },
    {
      "cell_type": "code",
      "execution_count": null,
      "metadata": {
        "id": "zurOPaMMgJ5N",
        "outputId": "c069155e-86c3-44e2-c210-687941f195c1"
      },
      "outputs": [
        {
          "data": {
            "text/plain": [
              "False"
            ]
          },
          "execution_count": 4,
          "metadata": {},
          "output_type": "execute_result"
        }
      ],
      "source": [
        "type(5.2)\n",
        "type(\"Hello\")\n",
        "type(True)\n",
        "5 == 4"
      ]
    },
    {
      "cell_type": "markdown",
      "metadata": {
        "id": "swL-aVYAgJ5N"
      },
      "source": [
        "### Syntax\n",
        "\n",
        "Syntax represents the way constituent elements are put together. For example, how words in the English language are put together to form sentences. In python, most often, we need `<object> <operator> <object>` as a syntactically valid statement."
      ]
    },
    {
      "cell_type": "code",
      "execution_count": null,
      "metadata": {
        "id": "7jdLnbelgJ5O",
        "outputId": "a5e78ecd-9de4-4255-c4cb-ba57323a3069"
      },
      "outputs": [
        {
          "data": {
            "text/plain": [
              "15"
            ]
          },
          "execution_count": 4,
          "metadata": {},
          "output_type": "execute_result"
        }
      ],
      "source": [
        "# Syntactically valid\n",
        "5 * 3"
      ]
    },
    {
      "cell_type": "code",
      "execution_count": null,
      "metadata": {
        "id": "LXmWbMMRgJ5O",
        "outputId": "595f9073-ecd9-4ded-e6f5-2be91b7d79c0",
        "scrolled": true
      },
      "outputs": [
        {
          "ename": "SyntaxError",
          "evalue": "invalid syntax (<ipython-input-5-e973e6e5b6aa>, line 2)",
          "output_type": "error",
          "traceback": [
            "\u001b[0;36m  File \u001b[0;32m\"<ipython-input-5-e973e6e5b6aa>\"\u001b[0;36m, line \u001b[0;32m2\u001b[0m\n\u001b[0;31m    5 \"Hi\"\u001b[0m\n\u001b[0m      ^\u001b[0m\n\u001b[0;31mSyntaxError\u001b[0m\u001b[0;31m:\u001b[0m invalid syntax\n"
          ]
        }
      ],
      "source": [
        "# Syntactically invalid\n",
        "5 \"Hi\""
      ]
    },
    {
      "cell_type": "markdown",
      "metadata": {
        "id": "EBL1cEY5gJ5O"
      },
      "source": [
        "### Static semantics\n",
        "\n",
        "Static semnatics is when syntactically valid strings have meaning:"
      ]
    },
    {
      "cell_type": "code",
      "execution_count": null,
      "metadata": {
        "id": "fQNRGav8gJ5O",
        "outputId": "41116d33-88f6-44e3-f2df-008cf1713e11"
      },
      "outputs": [
        {
          "ename": "TypeError",
          "evalue": "unsupported operand type(s) for +: 'int' and 'str'",
          "output_type": "error",
          "traceback": [
            "\u001b[0;31m---------------------------------------------------------------------------\u001b[0m",
            "\u001b[0;31mTypeError\u001b[0m                                 Traceback (most recent call last)",
            "\u001b[0;32m<ipython-input-5-b8aaee428c60>\u001b[0m in \u001b[0;36m<module>\u001b[0;34m\u001b[0m\n\u001b[0;32m----> 1\u001b[0;31m \u001b[0;36m5\u001b[0m \u001b[0;34m+\u001b[0m \u001b[0;34m\"Hi\"\u001b[0m\u001b[0;34m\u001b[0m\u001b[0;34m\u001b[0m\u001b[0m\n\u001b[0m",
            "\u001b[0;31mTypeError\u001b[0m: unsupported operand type(s) for +: 'int' and 'str'"
          ]
        }
      ],
      "source": [
        "5 + \"Hi\""
      ]
    },
    {
      "cell_type": "markdown",
      "metadata": {
        "id": "Ng9KnKiYgJ5O"
      },
      "source": [
        "Although this follows the syntax of `<object> <operator> <object>` it's not semantically valid. In this case, Python was able to say that you are doing an operation that is semantically invalid. Sometimes, Python may do something unintended. For example multiplying an integer by a string is semantically invalid, maybe not what you meant, but would give you the following result."
      ]
    },
    {
      "cell_type": "code",
      "execution_count": null,
      "metadata": {
        "id": "KqK1aHK4gJ5O"
      },
      "outputs": [],
      "source": [
        "5 * \"Hi\""
      ]
    },
    {
      "cell_type": "markdown",
      "metadata": {
        "id": "cAsLfDQCgJ5O"
      },
      "source": [
        "# Evaluating expressions: simple operators\n",
        "\n",
        "We can use Python like a calculator. Consider the simple expression $3 + 8$. We can evaluate and print this by:"
      ]
    },
    {
      "cell_type": "code",
      "execution_count": null,
      "metadata": {
        "id": "U2DAavsdgJ5O"
      },
      "outputs": [],
      "source": [
        "3 + 8"
      ]
    },
    {
      "cell_type": "markdown",
      "metadata": {
        "id": "o7P0btH5gJ5O"
      },
      "source": [
        "Another simple calculation is the gravitational potential $V$ of a body of mass $m$ (point mass) at a distance $r$ from a body of mass $M$, which is given by\n",
        "\n",
        "$$\n",
        "V = \\frac{G M m}{r}\n",
        "$$\n",
        "\n",
        "where $G$ is the *gravitational constant*. A good approximation is $G = 6.674 \\times 10^{-11}$ N m$^{2}$ kg$^{-2}$.\n",
        "\n",
        "For the case $M = 1.65 \\times 10^{12}$ kg, $m = 6.1 \\times 10^2$ kg and $r = 7.0 \\times 10^3$ m, we can compute the  gravitational potential $V$:"
      ]
    },
    {
      "cell_type": "code",
      "execution_count": null,
      "metadata": {
        "id": "JdaqvNidgJ5O",
        "outputId": "05d17f25-4319-4d68-ace6-e68443a9368e"
      },
      "outputs": [
        {
          "data": {
            "text/plain": [
              "9.59625857142857"
            ]
          },
          "execution_count": 6,
          "metadata": {},
          "output_type": "execute_result"
        }
      ],
      "source": [
        "6.674e-11*1.65e12*6.1e2/7.0e3"
      ]
    },
    {
      "cell_type": "markdown",
      "metadata": {
        "id": "OIoz3DPhgJ5P"
      },
      "source": [
        "The calculation shown above doesn't print out all the digits that has been calculated. It merely does the first 14 decimal places. We can see that by printing 100 decimal places."
      ]
    },
    {
      "cell_type": "code",
      "execution_count": null,
      "metadata": {
        "id": "yXgw87CFgJ5P"
      },
      "outputs": [],
      "source": [
        "print(\"{:.100f}\".format(6.674e-11*1.65e12*6.1e2/7.0e3))"
      ]
    },
    {
      "cell_type": "markdown",
      "metadata": {
        "id": "LmOrx533gJ5P"
      },
      "source": [
        "We have used 'scientific notation' to input the values. For example, the number $8 \\times 10^{-2}$ can be input as `0.08` or `8e-2`. We can easily verify that the two are the same via subtraction:"
      ]
    },
    {
      "cell_type": "code",
      "execution_count": null,
      "metadata": {
        "id": "uhS76H1JgJ5P"
      },
      "outputs": [],
      "source": [
        "0.08 - 8e-2"
      ]
    },
    {
      "cell_type": "markdown",
      "metadata": {
        "id": "B-309sFHgJ5P"
      },
      "source": [
        "A common operation is raising a number to a power. To compute $3^4$:"
      ]
    },
    {
      "cell_type": "code",
      "execution_count": null,
      "metadata": {
        "id": "JmyAqZfLgJ5P"
      },
      "outputs": [],
      "source": [
        "3**4"
      ]
    },
    {
      "cell_type": "markdown",
      "metadata": {
        "id": "9sb9V9NEgJ5Q"
      },
      "source": [
        "The remainder is computed using the modulus operator '`%`':"
      ]
    },
    {
      "cell_type": "code",
      "execution_count": null,
      "metadata": {
        "id": "xmy2HSR1gJ5Q"
      },
      "outputs": [],
      "source": [
        "11 % 3"
      ]
    },
    {
      "cell_type": "markdown",
      "metadata": {
        "id": "uzDPpnS0gJ5Q"
      },
      "source": [
        "To get the quotient we use 'floor division', which uses the symbol '`//`':"
      ]
    },
    {
      "cell_type": "code",
      "execution_count": null,
      "metadata": {
        "id": "jcKiORFvgJ5Q"
      },
      "outputs": [],
      "source": [
        "11 // 3"
      ]
    },
    {
      "cell_type": "markdown",
      "metadata": {
        "id": "Eg4xxhWagJ5Q"
      },
      "source": [
        "# Operator precedence\n",
        "\n",
        "Operator precedence refers to the order in which operations are performed, e.g. multiplication before addition.\n",
        "In the preceding examples, there was no ambiguity as to the order of the operations. However, there are common cases where order does matter, and there are two points to consider:\n",
        "\n",
        "- The expression should be evaluated correctly; and\n",
        "- The expression should be simple enough for someone else reading the code to understand what operation is being\n",
        "  performed.\n",
        "\n",
        "It is possible to write code that is correct, but which might be very difficult for someone else (or you) to check.\n",
        "\n",
        "Most programming languages, including Python, follow the usual mathematical rules for precedence. We explore this through some examples."
      ]
    },
    {
      "cell_type": "markdown",
      "metadata": {
        "id": "bWnibcFngJ5Q"
      },
      "source": [
        "Consider the expression $4 \\cdot (7 - 2) = 20$. If we are careless,"
      ]
    },
    {
      "cell_type": "code",
      "execution_count": null,
      "metadata": {
        "id": "jtdK9o0igJ5Q"
      },
      "outputs": [],
      "source": [
        "4*7 - 2"
      ]
    },
    {
      "cell_type": "markdown",
      "metadata": {
        "id": "H5FKrOHogJ5Q"
      },
      "source": [
        "In the above, `4*7` is evaluated first, then `2` is subtracted because multiplication (`*`) comes before subtraction (`-`) in terms of precedence. We can control the order of the operation using brackets, just as we would on paper:"
      ]
    },
    {
      "cell_type": "code",
      "execution_count": null,
      "metadata": {
        "id": "U-bNw_megJ5Q"
      },
      "outputs": [],
      "source": [
        "4*(7 - 2)"
      ]
    },
    {
      "cell_type": "markdown",
      "metadata": {
        "id": "5AHGRBSugJ5Q"
      },
      "source": [
        "A common example where readability is a concern is\n",
        "\n",
        "$$\n",
        "\\frac{10}{2 \\times 50} = 0.1\n",
        "$$\n",
        "\n",
        "The code"
      ]
    },
    {
      "cell_type": "code",
      "execution_count": null,
      "metadata": {
        "id": "YZJKnHcdgJ5Q"
      },
      "outputs": [],
      "source": [
        "10/2*50"
      ]
    },
    {
      "cell_type": "markdown",
      "metadata": {
        "id": "qk9LK1MIgJ5Q"
      },
      "source": [
        "is incorrect. The multiplication and division have the same precedence, so the expression is evaluated 'left-to-right'. The correct result is computed from"
      ]
    },
    {
      "cell_type": "code",
      "execution_count": null,
      "metadata": {
        "id": "E8TJDz70gJ5R"
      },
      "outputs": [],
      "source": [
        "10/2/50"
      ]
    },
    {
      "cell_type": "markdown",
      "metadata": {
        "id": "HjXnzYF6gJ5W"
      },
      "source": [
        "but this is hard to read and could easily lead to errors in a program. I would recommend using brackets to make the order clear:"
      ]
    },
    {
      "cell_type": "code",
      "execution_count": null,
      "metadata": {
        "id": "kPUWr9x_gJ5W"
      },
      "outputs": [],
      "source": [
        "10/(2*50)"
      ]
    },
    {
      "cell_type": "markdown",
      "metadata": {
        "id": "rOaneQF7gJ5W"
      },
      "source": [
        "Here is an example that computes $2^{3} \\cdot 4 = 32$ which is technically correct but not ideal in terms of readability:"
      ]
    },
    {
      "cell_type": "code",
      "execution_count": null,
      "metadata": {
        "id": "77tXqll_gJ5W"
      },
      "outputs": [],
      "source": [
        "2**3*4"
      ]
    },
    {
      "cell_type": "markdown",
      "metadata": {
        "id": "Zwi-NUk4gJ5X"
      },
      "source": [
        "Better would be:"
      ]
    },
    {
      "cell_type": "code",
      "execution_count": null,
      "metadata": {
        "id": "JTLVb56zgJ5X"
      },
      "outputs": [],
      "source": [
        "(2**3)*4"
      ]
    },
    {
      "cell_type": "markdown",
      "metadata": {
        "id": "iPM2WVoPgJ5X"
      },
      "source": [
        "# Variables and assignment\n",
        "\n",
        "The above code snippets were helpful for doing some arithmetic, but we could easily do the same with a pocket calculator. Also, the snippets are not very helpful if we want to change the value of one of the numbers in an expression, and not very helpful if we wanted to use the value of the expression in a subsequent computation. To improve things, we need *assignment*.\n",
        "\n",
        "When we compute something, we usually want to store the result so that we can use it in subsequent computations. *Variables* are what we use to store something, e.g.:"
      ]
    },
    {
      "cell_type": "code",
      "execution_count": null,
      "metadata": {
        "id": "FeIb4RM7gJ5X"
      },
      "outputs": [],
      "source": [
        "c = 10\n",
        "print(c)"
      ]
    },
    {
      "cell_type": "markdown",
      "metadata": {
        "id": "USLUxcqPgJ5X"
      },
      "source": [
        "Above, the variable `c` is used to 'hold' the value `10`. The function `print` is used to print the value of a variable to the output (more on functions later).\n",
        "\n",
        "Say we want to compute $c = a + b$, where $a = 2$ and $b = 11$:"
      ]
    },
    {
      "cell_type": "code",
      "execution_count": null,
      "metadata": {
        "id": "40rsqIysgJ5X"
      },
      "outputs": [],
      "source": [
        "a = 2\n",
        "b = 11\n",
        "c = a + b\n",
        "print(c)"
      ]
    },
    {
      "cell_type": "markdown",
      "metadata": {
        "id": "278eFK9kgJ5X"
      },
      "source": [
        "What is happening above is that the expression on the right-hand side of the assignment operator '`=`' is evaluated and then stored as the variable on the left-hand side. You can think of the variable as a 'handle' for a value.\n",
        "If we want to change the value of $a$ to $4$ and recompute the sum, we would just replace `a = 2` with `a = 4` and execute the code (try this yourself by running this notebook interactively).\n",
        "\n",
        "The above looks much like standard algebra. There are however some subtle differences. Take for example:"
      ]
    },
    {
      "cell_type": "code",
      "execution_count": null,
      "metadata": {
        "id": "r4vv0uMOgJ5X"
      },
      "outputs": [],
      "source": [
        "a = 2\n",
        "b = 11\n",
        "a = a + b\n",
        "print(a)"
      ]
    },
    {
      "cell_type": "markdown",
      "metadata": {
        "id": "1ocjdS3ugJ5X"
      },
      "source": [
        "This is not a valid algebraic statement since '`a`' appears on both sides of '`=`', but it is a very common statement in a computer program. What happens is that the expression on the right-hand side is evaluated (the values assigned to `a` and `b` are summed), and the result is assigned to the left-hand side (to the variable `a`). There is a mathematical notation for this type of assignment:\n",
        "\n",
        "$$\n",
        "a \\leftarrow a +b\n",
        "$$\n",
        "\n",
        "which says 'sum $a$ and $b$, and copy the result to $a$'. You will see this notation in some books, especially when looking at *algorithms*."
      ]
    },
    {
      "cell_type": "markdown",
      "metadata": {
        "id": "lTBgK9lXgJ5X"
      },
      "source": [
        "## Shortcuts\n",
        "\n",
        "Adding or subtracting variables is such a common operation that most languages provides shortcuts. For addition:"
      ]
    },
    {
      "cell_type": "code",
      "execution_count": null,
      "metadata": {
        "id": "nPqyhXQNgJ5Y"
      },
      "outputs": [],
      "source": [
        "# Long-hand addition\n",
        "a = 1\n",
        "a = a + 4\n",
        "print(a)\n",
        "\n",
        "# Short-hand addition\n",
        "a = 1\n",
        "a += 4\n",
        "print(a)"
      ]
    },
    {
      "cell_type": "markdown",
      "metadata": {
        "id": "KQhUJ2jrgJ5Y"
      },
      "source": [
        "> In Python, any text following the hash (`#`) symbol is a 'comment'. Comments are not executed by the program;\n",
        "> they help us document and explain what our programs do. Use lots of comments in your programs.\n",
        "\n",
        "For subtraction:"
      ]
    },
    {
      "cell_type": "code",
      "execution_count": null,
      "metadata": {
        "id": "CdOEWAUngJ5Y"
      },
      "outputs": [],
      "source": [
        "# Long-hand subtraction\n",
        "a = 1\n",
        "b = 4\n",
        "a = a - b\n",
        "print(a)\n",
        "\n",
        "# Short-hand subtraction\n",
        "a = 1\n",
        "b = 4\n",
        "a -= b\n",
        "print(a)"
      ]
    },
    {
      "cell_type": "markdown",
      "metadata": {
        "id": "hnLuP3BvgJ5Y"
      },
      "source": [
        "Analogous assignment operators exist for multiplication and division:"
      ]
    },
    {
      "cell_type": "code",
      "execution_count": null,
      "metadata": {
        "id": "KYvsaKeRgJ5Y"
      },
      "outputs": [],
      "source": [
        "# Long-hand multiplication\n",
        "a = 10\n",
        "c = 2\n",
        "a = c*a\n",
        "print(a)\n",
        "\n",
        "# Short-hand multiplication\n",
        "a = 10\n",
        "c = 2\n",
        "a *= c\n",
        "print(a)\n",
        "\n",
        "# Long-hand division\n",
        "a = 1\n",
        "a = a/4\n",
        "print(a)\n",
        "\n",
        "# Short-hand division\n",
        "a = 1\n",
        "a /= 4\n",
        "print(a)"
      ]
    },
    {
      "cell_type": "markdown",
      "metadata": {
        "id": "JQrUBVisgJ5Y"
      },
      "source": [
        "## Naming variables\n",
        "\n",
        "It is good practice to use meaningful variable names in a computer program. Say you used  '`x`' for time, and '`t`' for position, you or someone else will almost certainly make errors at some point.\n",
        "If you do not use well considered variable names:\n",
        "\n",
        "1. You're much more likely to make errors.\n",
        "1. When you come back to your program after some time, you will have trouble recalling and understanding\n",
        "   what the program does.\n",
        "1. It will be difficult for others to understand your program - serious programming is almost always a team effort.\n",
        "\n",
        "Languages have rules for what charcters can be used in variable names. As a rough guide, in Python variable names can use letters and digits, but cannot start with a digit.\n",
        "\n",
        "Sometimes for readability it is useful to have variable names that are made up of two words. A convention is\n",
        "to separate the words in the variable name using an underscore '`_`'. For example, a good variable name for storing the number of days would be\n",
        "```python\n",
        "num_days = 10\n",
        "```\n",
        "Python is a case-sensitive language, e.g. the variables '`A`' and '`a`' are different. Some languages, such as\n",
        "Fortran, are case-insensitive.\n",
        "\n",
        "Languages have reserved keywords that cannot be used as variable names as they are used for other purposes. The reserved keywords in Python are:"
      ]
    },
    {
      "cell_type": "code",
      "execution_count": null,
      "metadata": {
        "id": "H2pPWZDRgJ5Y",
        "outputId": "b96f52d9-1ca0-40d5-b6a0-bac753fb01b4"
      },
      "outputs": [
        {
          "name": "stdout",
          "output_type": "stream",
          "text": [
            "['False', 'None', 'True', 'and', 'as', 'assert', 'async', 'await', 'break', 'class', 'continue', 'def', 'del', 'elif', 'else', 'except', 'finally', 'for', 'from', 'global', 'if', 'import', 'in', 'is', 'lambda', 'nonlocal', 'not', 'or', 'pass', 'raise', 'return', 'try', 'while', 'with', 'yield']\n"
          ]
        }
      ],
      "source": [
        "import keyword\n",
        "print(keyword.kwlist)"
      ]
    },
    {
      "cell_type": "markdown",
      "metadata": {
        "id": "KOxpkSs6gJ5Y"
      },
      "source": [
        "If you try to assign something to a reserved keyword, you will get an error.\n",
        "\n",
        "Python 3 supports Unicode, which allows you to use a very wide range of symbols, including Greek characters:"
      ]
    },
    {
      "cell_type": "code",
      "execution_count": null,
      "metadata": {
        "id": "_G5kJKWagJ5Y",
        "outputId": "867de3b5-3a43-4779-fcfc-1865ec147b0b"
      },
      "outputs": [
        {
          "name": "stdout",
          "output_type": "stream",
          "text": [
            "22\n"
          ]
        }
      ],
      "source": [
        "θ = 10\n",
        "α = 12\n",
        "β = θ + α\n",
        "print(β)"
      ]
    },
    {
      "cell_type": "markdown",
      "metadata": {
        "id": "twg2dcyOgJ5Z"
      },
      "source": [
        "Greek symbols and other symbols can be input in a Jupyter notebook by typing the `LaTeX` command for the symbol and then pressing the `tab` key, e.g. '`\\theta`' followed by pressing the `tab` key."
      ]
    }
  ],
  "metadata": {
    "colab": {
      "provenance": []
    },
    "kernelspec": {
      "display_name": "Python 3",
      "language": "python",
      "name": "python3"
    },
    "language_info": {
      "codemirror_mode": {
        "name": "ipython",
        "version": 3
      },
      "file_extension": ".py",
      "mimetype": "text/x-python",
      "name": "python",
      "nbconvert_exporter": "python",
      "pygments_lexer": "ipython3",
      "version": "3.8.5"
    }
  },
  "nbformat": 4,
  "nbformat_minor": 0
}
