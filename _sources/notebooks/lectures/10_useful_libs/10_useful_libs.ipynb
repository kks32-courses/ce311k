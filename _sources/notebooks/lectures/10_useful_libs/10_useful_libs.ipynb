{
 "cells": [
  {
   "attachments": {},
   "cell_type": "markdown",
   "metadata": {},
   "source": [
    "# Lecture 10: Useful libraries in Python\n",
    "\n",
    "**Exercise:** [![Open in Colab](https://colab.research.google.com/assets/colab-badge.svg)](https://colab.research.google.com/github/kks32-courses/ce311k/blob/main/notebooks/lectures/10_useful_libs/10_useful_libs.ipynb)\n",
    "**Solution:** [![Open in Colab](https://colab.research.google.com/assets/colab-badge.svg)](https://colab.research.google.com/github/kks32-courses/ce311k/blob/main/notebooks/lectures/10_useful_libs/10_useful_libs_solutions.ipynb)\n",
    "\n",
    "- Sympy (Symbolic notations)\n",
    "- Scipy (optimize)\n",
    "- Fsolve (Linear and Nonlinear equations)\n",
    "- Curve fitting"
   ]
  },
  {
   "attachments": {},
   "cell_type": "markdown",
   "metadata": {},
   "source": [
    "## Solving ordinary differential equations\n",
    "\n",
    "[Sympy](<http://sympy.org/>) to solve some ODE examples. To use Sympy, we first need to import it and call `init_printing()` to get nicely typeset equations"
   ]
  },
  {
   "cell_type": "code",
   "execution_count": null,
   "metadata": {},
   "outputs": [],
   "source": [
    "import sympy\n",
    "from sympy import symbols, Eq, Derivative, init_printing, Function, dsolve, exp, classify_ode, checkodesol\n",
    "\n",
    "# This initialises pretty printing\n",
    "init_printing()\n",
    "from IPython.display import display\n",
    "\n",
    "# Support for interactive plots\n",
    "from ipywidgets import interact\n",
    "\n",
    "# This command makes plots appear inside the browser window\n",
    "%matplotlib inline"
   ]
  },
  {
   "attachments": {},
   "cell_type": "markdown",
   "metadata": {},
   "source": [
    "### Example: car breaking\n",
    "\n",
    "During braking a car’s velocity is given by $v = v_{0} e^{−t/\\tau}$. Calculate the distance travelled.\n",
    "\n",
    "We first define the symbols in the equation ($t$, $\\tau$ and $v_{0}$), and the function ($x$, for the displacement):\n",
    "\n",
    "\n",
    "$$\\frac{d x(t)}{dt} = v_{0} e^{−t/\\tau} \\quad \\rightarrow \\quad x(t) = \\int v_{0} e^{−t/\\tau} dt$$"
   ]
  },
  {
   "cell_type": "code",
   "execution_count": null,
   "metadata": {},
   "outputs": [],
   "source": [
    "t, tau, v0 = symbols(\"t tau v0\")\n",
    "x = Function(\"x\")"
   ]
  },
  {
   "attachments": {},
   "cell_type": "markdown",
   "metadata": {},
   "source": [
    "Next, we define the differential equation, and print it to the screen for checking:"
   ]
  },
  {
   "cell_type": "code",
   "execution_count": null,
   "metadata": {
    "scrolled": true
   },
   "outputs": [],
   "source": [
    "\n",
    "\n",
    "display(eqn)"
   ]
  },
  {
   "attachments": {},
   "cell_type": "markdown",
   "metadata": {},
   "source": [
    "The `dsolve` function solves the differential equation symbolically:"
   ]
  },
  {
   "cell_type": "code",
   "execution_count": null,
   "metadata": {},
   "outputs": [],
   "source": [
    "\n",
    "\n",
    "display(x)"
   ]
  },
  {
   "attachments": {},
   "cell_type": "markdown",
   "metadata": {},
   "source": [
    "where $C_{1}$ is a constant. As expected for a first-order equation, there is one constant.\n",
    "\n",
    "SymPy is not yet very good at eliminating constants from initial conditions, so we will do this manually assuming that $x = 0$ and $t = 0$:"
   ]
  },
  {
   "cell_type": "code",
   "execution_count": null,
   "metadata": {},
   "outputs": [],
   "source": [
    "x = x.subs('C1', v0*tau)\n",
    "display(x)"
   ]
  },
  {
   "attachments": {},
   "cell_type": "markdown",
   "metadata": {},
   "source": [
    "Specifying a value for $v_{0}$, we create an interactive plot of $x$ as a function of the parameter $\\tau$:"
   ]
  },
  {
   "cell_type": "code",
   "execution_count": null,
   "metadata": {},
   "outputs": [],
   "source": [
    "x = x.subs(v0, 100)\n",
    "\n",
    "def plot(τ=1.0):\n",
    "    x1 = x.subs(tau, τ)\n",
    "\n",
    "    # Plot position vs time\n",
    "    sympy.plot(x1.args[1], (t, 0.0, 10.0), xlabel=\"time\", ylabel=\"position\");\n",
    "\n",
    "interact(plot, τ=(0.0, 10, 0.2));"
   ]
  },
  {
   "attachments": {},
   "cell_type": "markdown",
   "metadata": {},
   "source": [
    "## Scipy Optimize\n",
    "\n",
    "\n",
    "### Bisection\n",
    "\n",
    "Find root of a function within an interval using bisection.\n",
    "\n",
    "Basic bisection routine to find a zero of the function `f` between the arguments `a` and `b`. `f(a)` and `f(b)` cannot have the same signs."
   ]
  },
  {
   "cell_type": "code",
   "execution_count": null,
   "metadata": {},
   "outputs": [],
   "source": [
    "from scipy import optimize\n",
    "\n",
    "# Define a function\n",
    "def f(x):\n",
    "    return (x**2 - 1)\n",
    "\n",
    "\n",
    "print(\"The root of the function: {}\".format(root))"
   ]
  },
  {
   "attachments": {},
   "cell_type": "markdown",
   "metadata": {},
   "source": [
    "### Newton Raphson\n",
    "\n",
    "Find a zero of the function func given a nearby starting point x0. "
   ]
  },
  {
   "cell_type": "code",
   "execution_count": null,
   "metadata": {},
   "outputs": [],
   "source": [
    "from scipy import optimize\n",
    "\n",
    "# Define a function\n",
    "def f(x):\n",
    "    return (x**3 - 1)  # only one real root at x = 1\n",
    "\n",
    "\n",
    "print(\"The root of the function: {}\".format(root))"
   ]
  },
  {
   "attachments": {},
   "cell_type": "markdown",
   "metadata": {},
   "source": [
    "# Systems of equations\n",
    "\n",
    "## Linear equations\n",
    "\n",
    "System of `m` equations $(i = 1, \\dots, m)$ in $n$ unknowns $x_j \\quad (j = 1, \\dots, n)$ can be represented as $Ax = b$. For example, \n",
    "\n",
    "$$\n",
    "\\begin{align*}\n",
    "x_1 + 2 x_2 & = 5\\\\\n",
    "-3 x_1 + 4 x_2 & = 20 \\\\\n",
    "\\end{align*}\n",
    "$$\n",
    "\n",
    "$$\n",
    "Ax = b \\rightarrow\n",
    "\\begin{bmatrix}\n",
    "1 & 2 \\\\\n",
    "-3 & 4 \\\\\n",
    "\\end{bmatrix}\n",
    "\\begin{bmatrix}\n",
    "x_1 \\\\\n",
    "x_2 \\\\\n",
    "\\end{bmatrix}=\n",
    "\\begin{bmatrix}\n",
    "5 \\\\\n",
    "20 \\\\\n",
    "\\end{bmatrix}\n",
    "$$\n",
    "\n",
    "To solve a linear system of equations, we will use `numpy.linalg.solve`, which requires a matrix $A$ and a vector $b$ as arguments."
   ]
  },
  {
   "cell_type": "code",
   "execution_count": null,
   "metadata": {},
   "outputs": [],
   "source": [
    "import numpy as np\n",
    "\n",
    "# Define the matrix A and vector b\n",
    "A = np.array([[1, 2], [-3, 4]])\n",
    "b = np.array([5, -20])\n",
    "\n",
    "# Solve the system of linear equations\n",
    "x = np.linalg.solve(A, b)\n",
    "print(\"The solution x: {}\".format(x))"
   ]
  },
  {
   "attachments": {},
   "cell_type": "markdown",
   "metadata": {},
   "source": [
    "## Non-linear equations\n",
    "\n",
    "Solving a system of non-linear equations:\n",
    "\n",
    "$$\n",
    "\\begin{align*}\n",
    "x_1 + x_2^2 & = 4\\\\\n",
    "e^{x_1} + x_1 x_2 & = 3 \\\\\n",
    "\\end{align*}\n",
    "$$\n",
    "\n",
    "We need to rearrange each equation such that we have 0 on the right-hand side.\n",
    "\n",
    "$$\n",
    "\\begin{align*}\n",
    "f_1(x) = x_1 + x_2^2 -4 & = 0\\\\\n",
    "f_2(x) = e^{x_1} + x_1 x_2 -3 & = 0 \\\\\n",
    "\\end{align*}\n",
    "$$\n",
    "\n",
    "Non-linear system of equations can be solved using `scipy.optimize.fsolve`"
   ]
  },
  {
   "cell_type": "code",
   "execution_count": null,
   "metadata": {},
   "outputs": [],
   "source": [
    "from scipy.optimize import fsolve\n",
    "import math\n",
    "\n",
    "# z is a vector collecting x1 and x2\n",
    "def equations(z):\n",
    "    x1, x2 = z\n",
    "    return \n",
    "\n",
    "\n",
    "\n",
    "\n",
    "print(\"x1 is {:.3f}, x2 is {:.3f}\".format(x1, x2))\n",
    "print(\"Check if the solution for f(z) = 0\")\n",
    "print(equations((x1, x2)))"
   ]
  },
  {
   "attachments": {},
   "cell_type": "markdown",
   "metadata": {},
   "source": [
    "## Curve fitting\n",
    "\n",
    "Linear and polynomial fits with `np.polyfit`"
   ]
  },
  {
   "cell_type": "code",
   "execution_count": null,
   "metadata": {},
   "outputs": [],
   "source": [
    "import numpy as np\n",
    "import matplotlib.pyplot as plt\n",
    "\n",
    "x = np.array([5, 10,20,30,50]) \n",
    "y = np.array([3.3, 11.2, 19.5, 21.8, 42.3])\n",
    "\n",
    "plt.plot(x, y, 'or')\n",
    "plt.axis([0 , 60, 0 , 60])\n",
    "\n",
    "plt.show()"
   ]
  },
  {
   "cell_type": "code",
   "execution_count": null,
   "metadata": {},
   "outputs": [],
   "source": [
    "# Fit a straight line through points\n",
    "x = np.array([5, 10,20,30,50]) \n",
    "y = np.array([3.3, 11.2, 19.5, 21.8, 42.3])\n",
    "\n",
    "# coefficients\n",
    "\n",
    "\n",
    "print(\"The polynomial is: {}\".format(polynomial))\n",
    "print(\"Regression coefficients are: {}\".format(coeffs))\n"
   ]
  },
  {
   "cell_type": "code",
   "execution_count": null,
   "metadata": {},
   "outputs": [],
   "source": [
    "# Plot the fit\n",
    "xp = np.linspace(0,60,100)\n",
    "\n",
    "plt.plot(x, y, 'or', xp, polynomial(xp), '-')\n",
    "plt.axis([0 , 60, 0 , 60])\n",
    "plt.xlabel('x values')\n",
    "plt.ylabel('y values')\n",
    "\n",
    "plt.show()"
   ]
  },
  {
   "cell_type": "code",
   "execution_count": null,
   "metadata": {},
   "outputs": [],
   "source": [
    "# Fit a cubic polynomial\n",
    "x = np.array([5, 10,20,30,50]) \n",
    "y = np.array([3.3, 11.2, 19.5, 21.8, 42.3])\n",
    "\n",
    "# coefficients\n",
    "coeffs = np.polyfit(x, y, 3)\n",
    "polynomial = np.poly1d(coeffs)\n",
    "\n",
    "# Plot the fit\n",
    "xp = np.linspace(0,60,100)\n",
    "\n",
    "plt.plot(x, y, 'or', xp, polynomial(xp), '-')\n",
    "plt.axis([0 , 60, 0 , 60])\n",
    "plt.xlabel('x values')\n",
    "plt.ylabel('y values')\n",
    "\n",
    "plt.show()\n",
    "\n",
    "print(polynomial)"
   ]
  }
 ],
 "metadata": {
  "kernelspec": {
   "display_name": "Python 3",
   "language": "python",
   "name": "python3"
  },
  "language_info": {
   "codemirror_mode": {
    "name": "ipython",
    "version": 3
   },
   "file_extension": ".py",
   "mimetype": "text/x-python",
   "name": "python",
   "nbconvert_exporter": "python",
   "pygments_lexer": "ipython3",
   "version": "3.7.5"
  }
 },
 "nbformat": 4,
 "nbformat_minor": 1
}
