{
 "cells": [
  {
   "cell_type": "code",
   "execution_count": 2,
   "metadata": {
    "executionInfo": {
     "elapsed": 377,
     "status": "ok",
     "timestamp": 1606581056975,
     "user": {
      "displayName": "Krishna Kumar",
      "photoUrl": "",
      "userId": "11977884434942466075"
     },
     "user_tz": 360
    },
    "id": "4vW26EK3r0Q2"
   },
   "outputs": [],
   "source": [
    "import numpy as np\n",
    "import math\n",
    "\n",
    "alpha = math.pi/6\n",
    "beta = math.pi/3\n",
    "\n",
    "ca = np.cos(alpha)\n",
    "cb = np.cos(beta)\n",
    "\n",
    "sa = np.sin(alpha)\n",
    "sb = np.sin(beta)"
   ]
  },
  {
   "cell_type": "markdown",
   "metadata": {
    "id": "qsEScP3Yirzr"
   },
   "source": [
    "## 3-noded truss\n",
    "\n",
    "![Truss](https://raw.githubusercontent.com/kks32-courses/ce311k/master/lectures/09_linear_system_equations/figs/3truss.png)\n",
    "$$ \n",
    "\\begin{bmatrix} \n",
    "0 & 1 & 0 & 1 & \\cos(\\alpha) & 0 \\\\\n",
    "1 & 0 & 0 & 0 & \\sin(\\alpha) & 0 \\\\\n",
    "0 & 0 & 0 & -1 & 0 & -\\cos(\\beta) \\\\\n",
    "0 & 0 & 1 & 0 & 0 & \\sin(\\beta) \\\\\n",
    "0 & 0 & 0 & 0 & -\\cos(\\alpha) & \\cos(\\beta) \\\\\n",
    "0 & 0 & 0 & 0 & -\\sin(\\alpha) & -\\sin(\\beta) \\\\\n",
    "\\end{bmatrix} \n",
    "\t\\begin{bmatrix}\n",
    "\t\tV_1\\\\\n",
    "\t\tH_1\\\\\n",
    "\t\tV_2\\\\\n",
    "    F_{12}\\\\\n",
    "    F_{13}\\\\\n",
    "    F_{23}\\\\\n",
    "\t\\end{bmatrix}=\n",
    "\t\\begin{bmatrix}\n",
    "\t\t0 \\\\\n",
    "\t\t0 \\\\\n",
    "\t\t0 \\\\\n",
    "    0 \\\\\n",
    "    -5\\\\\n",
    "    10\\\\\n",
    "\t\\end{bmatrix}\n",
    "$$"
   ]
  },
  {
   "cell_type": "code",
   "execution_count": 7,
   "metadata": {
    "colab": {
     "base_uri": "https://localhost:8080/"
    },
    "executionInfo": {
     "elapsed": 508,
     "status": "ok",
     "timestamp": 1606581327886,
     "user": {
      "displayName": "Krishna Kumar",
      "photoUrl": "",
      "userId": "11977884434942466075"
     },
     "user_tz": 360
    },
    "id": "03lj2rSBm_fF",
    "outputId": "d090d135-4a4d-45cc-f439-3b7bd0676de9"
   },
   "outputs": [
    {
     "name": "stdout",
     "output_type": "stream",
     "text": [
      "[[ 0.         1.         0.         1.         0.8660254  0.       ]\n",
      " [ 1.         0.         0.         0.         0.5        0.       ]\n",
      " [ 0.         0.         0.        -1.         0.        -0.5      ]\n",
      " [ 0.         0.         1.         0.         0.         0.8660254]\n",
      " [ 0.         0.         0.         0.        -0.8660254  0.5      ]\n",
      " [ 0.         0.         0.         0.        -0.5       -0.8660254]]\n",
      "[ 0.  0.  0.  0. -5. 10.]\n"
     ]
    }
   ],
   "source": [
    "# Matrix A\n",
    "A = np.zeros((6,6))\n",
    "\n",
    "A[0, 1] = 1\n",
    "A[0, 3] = 1\n",
    "A[0, 4] = ca\n",
    "\n",
    "A[1, 0] = 1\n",
    "A[1, 4] = sa\n",
    "\n",
    "A[2, 3] = -1\n",
    "A[2, 5] = -cb\n",
    "\n",
    "A[3, 2] = 1\n",
    "A[3, 5] = sb\n",
    "\n",
    "A[4, 4] = -ca\n",
    "A[4, 5] = cb\n",
    "\n",
    "A[5, 4] = -sa\n",
    "A[5, 5] = -sb\n",
    "print(A)\n",
    "\n",
    "# Vector b\n",
    "b = np.zeros(6)\n",
    "b[4] = -5\n",
    "b[5] = 10\n",
    "print(b)"
   ]
  },
  {
   "cell_type": "code",
   "execution_count": 9,
   "metadata": {
    "colab": {
     "base_uri": "https://localhost:8080/"
    },
    "executionInfo": {
     "elapsed": 379,
     "status": "ok",
     "timestamp": 1606581397021,
     "user": {
      "displayName": "Krishna Kumar",
      "photoUrl": "",
      "userId": "11977884434942466075"
     },
     "user_tz": 360
    },
    "id": "MfmLXUiBsi7b",
    "outputId": "142d6fe8-059b-4242-9872-d9ef32050553"
   },
   "outputs": [
    {
     "name": "stdout",
     "output_type": "stream",
     "text": [
      "[  0.33493649  -5.           9.66506351   5.58012702  -0.66987298\n",
      " -11.16025404]\n",
      "9.999999999999998\n"
     ]
    }
   ],
   "source": [
    "x = np.linalg.solve(A, b)\n",
    "print(x)\n",
    "vforce = x[0] + x[2]\n",
    "print(vforce)\n"
   ]
  },
  {
   "cell_type": "code",
   "execution_count": null,
   "metadata": {
    "id": "8V1wXdTyteGf"
   },
   "outputs": [],
   "source": []
  }
 ],
 "metadata": {
  "colab": {
   "authorship_tag": "ABX9TyPUTg1HaClAtQyJb7P6bVFE",
   "name": "3-noded-truss.ipynb",
   "provenance": []
  },
  "kernelspec": {
   "display_name": "Python 3",
   "language": "python",
   "name": "python3"
  },
  "language_info": {
   "codemirror_mode": {
    "name": "ipython",
    "version": 3
   },
   "file_extension": ".py",
   "mimetype": "text/x-python",
   "name": "python",
   "nbconvert_exporter": "python",
   "pygments_lexer": "ipython3",
   "version": "3.9.0"
  }
 },
 "nbformat": 4,
 "nbformat_minor": 1
}
