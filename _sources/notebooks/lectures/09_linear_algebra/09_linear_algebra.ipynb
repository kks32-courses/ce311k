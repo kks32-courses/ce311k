{
 "cells": [
  {
   "attachments": {},
   "cell_type": "markdown",
   "metadata": {},
   "source": [
    "# Lecture 09: Linear Algebra\n",
    "\n",
    "**Exercise:** [![Open in Colab](https://colab.research.google.com/assets/colab-badge.svg)](https://colab.research.google.com/github/kks32-courses/ce311k/blob/main/notebooks/lectures/09_linear_algebra/09_linear_algebra.ipynb)\n",
    "**Solution:** [![Open in Colab](https://colab.research.google.com/assets/colab-badge.svg)](https://colab.research.google.com/github/kks32-courses/ce311k/blob/main/notebooks/lectures/09_linear_algebra/09_linear_algebra_solutions.ipynb)\n",
    "\n",
    "We will be using NumPy (http://www.numpy.org/) and SciPy (https://www.scipy.org/) to solve system of linear equations\n",
    "\n",
    "\n",
    "## Objectives\n",
    "\n",
    "- Solving system of linear equations using Gauss Elimination"
   ]
  },
  {
   "cell_type": "markdown",
   "metadata": {},
   "source": [
    "<iframe width=\"560\" height=\"315\" src=\"https://www.youtube.com/embed/j26ImDpLO8g\" title=\"YouTube video player\" frameborder=\"0\" allow=\"accelerometer; autoplay; clipboard-write; encrypted-media; gyroscope; picture-in-picture; web-share\" allowfullscreen></iframe>\n",
    "\n",
    "<iframe width=\"560\" height=\"315\" src=\"https://www.youtube.com/embed/pmQrQ9FFOsc\" title=\"YouTube video player\" frameborder=\"0\" allow=\"accelerometer; autoplay; clipboard-write; encrypted-media; gyroscope; picture-in-picture; web-share\" allowfullscreen></iframe>\n",
    "\n",
    "<iframe width=\"560\" height=\"315\" src=\"https://www.youtube.com/embed/dAI3DcuhQBg\" title=\"YouTube video player\" frameborder=\"0\" allow=\"accelerometer; autoplay; clipboard-write; encrypted-media; gyroscope; picture-in-picture; web-share\" allowfullscreen></iframe>"
   ]
  },
  {
   "cell_type": "code",
   "execution_count": 134,
   "metadata": {},
   "outputs": [],
   "source": [
    "import numpy as np"
   ]
  },
  {
   "attachments": {},
   "cell_type": "markdown",
   "metadata": {},
   "source": [
    "## Solve a linear system of equations\n",
    "\n",
    "Consider a Matrix $A$, and vectors $x$ and $b$:\n",
    "\n",
    "$$ \n",
    "\\begin{bmatrix} \n",
    "2 & 4 & 6 \\\\\n",
    "4 & 11 & 21 \\\\\n",
    "6 & 21 & 52 \\\\\n",
    "\\end{bmatrix} \n",
    "\t\\begin{bmatrix}\n",
    "\t\tx_1\\\\\n",
    "\t\tx_2\\\\\n",
    "\t\tx_3\\\\\n",
    "\t\\end{bmatrix}\n",
    "\t\\begin{bmatrix}\n",
    "\t\t24 \\\\\n",
    "\t\t72 \\\\\n",
    "\t\t158 \\\\\n",
    "\t\\end{bmatrix}\n",
    "$$\n",
    "\n",
    "we use:"
   ]
  },
  {
   "cell_type": "code",
   "execution_count": 4,
   "metadata": {},
   "outputs": [],
   "source": [
    "A = np.array([[2,4,6], [4,11,21], [6, 21, 52]])\n",
    "b = np.array([24, 72, 158])"
   ]
  },
  {
   "attachments": {},
   "cell_type": "markdown",
   "metadata": {},
   "source": [
    "Check the length of `A` and `b`"
   ]
  },
  {
   "cell_type": "code",
   "execution_count": 5,
   "metadata": {},
   "outputs": [
    {
     "name": "stdout",
     "output_type": "stream",
     "text": [
      "(3, 3)\n",
      "(3,)\n"
     ]
    }
   ],
   "source": [
    "print(A.shape)\n",
    "print(b.shape)"
   ]
  },
  {
   "attachments": {},
   "cell_type": "markdown",
   "metadata": {},
   "source": [
    "The determinant ($\\det(A)$) can be computed using functions in the NumPy submodule `linalg`. If the determinant of $A$ is non-zero, then we have a solution."
   ]
  },
  {
   "cell_type": "code",
   "execution_count": 6,
   "metadata": {},
   "outputs": [
    {
     "name": "stdout",
     "output_type": "stream",
     "text": [
      "Determinant of A: 41.999999999999964\n"
     ]
    }
   ],
   "source": [
    "\n",
    "\n",
    "print(\"Determinant of A: {}\".format(Adet))"
   ]
  },
  {
   "attachments": {},
   "cell_type": "markdown",
   "metadata": {},
   "source": [
    "Solve using the inverse of A"
   ]
  },
  {
   "cell_type": "code",
   "execution_count": 7,
   "metadata": {},
   "outputs": [
    {
     "name": "stdout",
     "output_type": "stream",
     "text": [
      "x = [2. 2. 2.]\n"
     ]
    }
   ],
   "source": []
  },
  {
   "attachments": {},
   "cell_type": "markdown",
   "metadata": {},
   "source": [
    "Solution using Gauss Elimination"
   ]
  },
  {
   "cell_type": "code",
   "execution_count": 61,
   "metadata": {},
   "outputs": [
    {
     "name": "stdout",
     "output_type": "stream",
     "text": [
      "x = [2. 2. 2.]\n"
     ]
    }
   ],
   "source": [
    "A = np.array([[2,4,6], [4,11,21], [6, 21, 52]])\n",
    "\n",
    "b = np.array([24, 72, 158])\n",
    "\n"
   ]
  },
  {
   "attachments": {},
   "cell_type": "markdown",
   "metadata": {},
   "source": [
    "## Gauss-Seidel iterative approach"
   ]
  },
  {
   "cell_type": "code",
   "execution_count": 132,
   "metadata": {},
   "outputs": [
    {
     "name": "stdout",
     "output_type": "stream",
     "text": [
      "Gauss-Seidel iterations 199,\n",
      "x: [1.99999825 2.0000013  1.99999968],\n",
      "error: [-2.44645356e-07  5.07511544e-07  0.00000000e+00]\n"
     ]
    }
   ],
   "source": [
    "\n",
    "\n",
    "\n",
    "A = np.array([[2,4,6], [4,11,21], [6, 21, 52]])\n",
    "\n",
    "b = np.array([24, 72, 158])\n",
    "\n",
    "x, error, iter = seidel(A, b)\n",
    "print(\"Gauss-Seidel iterations {},\\nx: {},\\nerror: {}\".format(iter, x, error))"
   ]
  },
  {
   "attachments": {},
   "cell_type": "markdown",
   "metadata": {},
   "source": [
    "## Truss analysis"
   ]
  },
  {
   "cell_type": "code",
   "execution_count": 139,
   "metadata": {},
   "outputs": [
    {
     "name": "stdout",
     "output_type": "stream",
     "text": [
      "[ 40.58274196   0.          48.51398804  70.29137098 -81.16548391\n",
      "  34.30456993  46.86091399  84.02869217 -68.60913985 -93.72182797]\n"
     ]
    }
   ],
   "source": [
    "import math\n",
    "\n",
    "A = np.zeros((10, 10))\n",
    "\n",
    "# Angles\n",
    "alpha = math.pi/6\n",
    "beta = math.pi/3\n",
    "gamma = math.pi/4\n",
    "delta = math.pi/3\n",
    "\n",
    "A[0,0] = 1\n",
    "A[0,4] = np.sin(alpha)\n",
    "\n",
    "A[1,1] = 1 \n",
    "A[1,3] = 1 \n",
    "A[1,4] = np.cos(alpha)\n",
    "\n",
    "A[2,6] = np.sin(beta) \n",
    "A[2,7] = np.sin(gamma)\n",
    "\n",
    "A[3,3] = -1 \n",
    "A[3,5] = 1 \n",
    "A[3,6] = -np.cos(beta) \n",
    "A[3,7] = np.cos(gamma)\n",
    "\n",
    "A[4,2] = 1 \n",
    "A[4,8] = np.sin(gamma)\n",
    "\n",
    "A[5,5] = -1 \n",
    "A[5,8] = -np.cos(delta)\n",
    "\n",
    "A[6,4] = -np.sin(alpha) \n",
    "A[6,6] = -np.sin(beta)\n",
    "\n",
    "A[7,4] = -np.cos(alpha) \n",
    "A[7,6] = np.cos(beta) \n",
    "A[7,9] = 1\n",
    "\n",
    "A[8,7] = -np.sin(gamma) \n",
    "A[8,8] = -np.sin(delta)\n",
    "\n",
    "A[9,7] = -np.cos(gamma) \n",
    "A[9,8] = np.cos(delta) \n",
    "A[9,9] = -1\n",
    "\n",
    "\n",
    "# Force\n",
    "b = np.zeros(10)\n",
    "b[2] = 100\n",
    "\n",
    "x = np.linalg.solve(A, b)\n",
    "print(x)"
   ]
  }
 ],
 "metadata": {
  "kernelspec": {
   "display_name": "Python 3",
   "language": "python",
   "name": "python3"
  },
  "language_info": {
   "codemirror_mode": {
    "name": "ipython",
    "version": 3
   },
   "file_extension": ".py",
   "mimetype": "text/x-python",
   "name": "python",
   "nbconvert_exporter": "python",
   "pygments_lexer": "ipython3",
   "version": "3.7.5"
  }
 },
 "nbformat": 4,
 "nbformat_minor": 1
}
