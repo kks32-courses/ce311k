{
 "cells": [
  {
   "attachments": {},
   "cell_type": "markdown",
   "metadata": {},
   "source": [
    "# Lecture 07: Vectors\n",
    "\n",
    "**Exercise:** [![Open in Colab](https://colab.research.google.com/assets/colab-badge.svg)](https://colab.research.google.com/github/kks32-courses/ce311k/blob/main/notebooks/lectures/07_vectors/07_vectors.ipynb)\n",
    "**Solution:** [![Open in Colab](https://colab.research.google.com/assets/colab-badge.svg)](https://colab.research.google.com/github/kks32-courses/ce311k/blob/main/notebooks/lectures/07_vectors/07_vectors_solutions.ipynb)\n",
    "\n",
    "Working with numbers is central to almost all scientific and engineering computations. \n",
    "The topic is so important that there are many dedicated libraries to help implement efficient numerical\n",
    "computations. There are even languages that are specifically designed for numerical computation, such as Fortran\n",
    "and MATLAB.\n",
    "\n",
    "NumPy (http://www.numpy.org/) is the most widely used Python library for numerical computations.  It provides an extensive range of data structures and functions for numerical\n",
    "computation. In this notebook we will explore just some of the functionality.\n",
    "You will be seeing NumPy in other courses. NumPy can perform many of the operations that you will learn\n",
    "during the mathematics courses.\n",
    "\n",
    "Another library, which largely builds on NumPy and provides additional functionality, is SciPy (https://www.scipy.org/). SciPy provides some  more specialised data structures and functions over NumPy. \n",
    "If you are familiar with MATLAB, NumPy and SciPy provide much of what is available in MATLAB.\n",
    "\n",
    "NumPy is a large and extensive library and this lecture is just a very brief introduction.\n",
    "To discover how to perform operations with NumPy, your best resources are search engines, such as http://stackoverflow.com/.\n",
    "\n",
    "\n",
    "## Objectives\n",
    "\n",
    "- Introduction to 1D arrays (vectors) \n",
    "- Manipulating arrays (indexing, slicing, etc)\n",
    "- Apply elementary numerical operations\n",
    "- Demonstrate efficiency differences between vectorised and non-vectorised functions"
   ]
  },
  {
   "cell_type": "markdown",
   "metadata": {},
   "source": [
    "<iframe width=\"560\" height=\"315\" src=\"https://www.youtube.com/embed/IxQNRp6FbtI\" title=\"YouTube video player\" frameborder=\"0\" allow=\"accelerometer; autoplay; clipboard-write; encrypted-media; gyroscope; picture-in-picture; web-share\" allowfullscreen></iframe>"
   ]
  },
  {
   "attachments": {},
   "cell_type": "markdown",
   "metadata": {},
   "source": [
    "# Importing the NumPy module\n",
    "\n",
    "To make NumPy available in our programs, we need to import the module. It has become an informal custom to import NumPy using the shortcut '`np`': "
   ]
  },
  {
   "cell_type": "code",
   "execution_count": null,
   "metadata": {},
   "outputs": [],
   "source": [
    "import numpy as np"
   ]
  },
  {
   "attachments": {},
   "cell_type": "markdown",
   "metadata": {
    "collapsed": true
   },
   "source": [
    "# Numerical arrays\n",
    "\n",
    "We have already seen Python 'lists', which hold 'arrays' of data.  We can access the elements of a list using an index because the entries are stored in order. Python lists are very flexible and can hold mixed data types, e.g. combinations of floats and strings, or even lists of lists of lists . . .\n",
    "\n",
    "The flexibility of Python lists comes at the expense of performance. Many science, engineering and mathematics problems involve very large problems with operations on numbers, and computational speed is important for large problems. To serve this need, we normally use specialised functions and data structures for numerical computation, and in particular for arrays of numbers. Some of the flexibility of lists is traded for performance."
   ]
  },
  {
   "attachments": {},
   "cell_type": "markdown",
   "metadata": {},
   "source": [
    "## One-dimensional arrays\n",
    "\n",
    "A one-dimensional array is a collection of numbers which we can access by index (it preserves order)."
   ]
  },
  {
   "attachments": {},
   "cell_type": "markdown",
   "metadata": {},
   "source": [
    "### Creating arrays and indexing \n",
    "\n",
    "To create a NumPy array of length 5 :"
   ]
  },
  {
   "cell_type": "code",
   "execution_count": null,
   "metadata": {},
   "outputs": [],
   "source": []
  },
  {
   "attachments": {},
   "cell_type": "markdown",
   "metadata": {},
   "source": [
    "The default type of a NumPy array is `float`. The type can be checked with"
   ]
  },
  {
   "cell_type": "code",
   "execution_count": null,
   "metadata": {},
   "outputs": [],
   "source": []
  },
  {
   "attachments": {},
   "cell_type": "markdown",
   "metadata": {},
   "source": [
    "You cannot, for example, add a `string` to a `numpy.ndarray`. All entries in the array have the same type.\n",
    "\n",
    "We can check the length of an array using `len`, which gives the number of entries in the array:"
   ]
  },
  {
   "cell_type": "code",
   "execution_count": null,
   "metadata": {},
   "outputs": [],
   "source": []
  },
  {
   "attachments": {},
   "cell_type": "markdown",
   "metadata": {},
   "source": [
    "A better way to check the length is to use `x.shape`, which returns a tuple with the dimensions of the array:"
   ]
  },
  {
   "cell_type": "code",
   "execution_count": null,
   "metadata": {},
   "outputs": [],
   "source": []
  },
  {
   "attachments": {},
   "cell_type": "markdown",
   "metadata": {},
   "source": [
    "`shape` tells us the size of the array in *each* direction. We will see two-dimensional arrays shortly (matrices), which have a size in each direction."
   ]
  },
  {
   "attachments": {},
   "cell_type": "markdown",
   "metadata": {},
   "source": [
    "We can change the entries of an array using indexing,"
   ]
  },
  {
   "cell_type": "code",
   "execution_count": null,
   "metadata": {},
   "outputs": [],
   "source": []
  },
  {
   "attachments": {},
   "cell_type": "markdown",
   "metadata": {},
   "source": [
    "Remember that indexing starts from zero!\n",
    "\n",
    "There are other ways to create arrays, such as an array of 'ones':"
   ]
  },
  {
   "cell_type": "code",
   "execution_count": null,
   "metadata": {},
   "outputs": [],
   "source": []
  },
  {
   "attachments": {},
   "cell_type": "markdown",
   "metadata": {},
   "source": [
    "or an array of zeros"
   ]
  },
  {
   "cell_type": "code",
   "execution_count": null,
   "metadata": {},
   "outputs": [],
   "source": []
  },
  {
   "attachments": {},
   "cell_type": "markdown",
   "metadata": {},
   "source": [
    "an array of random values:"
   ]
  },
  {
   "cell_type": "code",
   "execution_count": null,
   "metadata": {},
   "outputs": [],
   "source": []
  },
  {
   "attachments": {},
   "cell_type": "markdown",
   "metadata": {},
   "source": [
    "To create an empty numpy array"
   ]
  },
  {
   "cell_type": "code",
   "execution_count": null,
   "metadata": {},
   "outputs": [],
   "source": []
  },
  {
   "attachments": {},
   "cell_type": "markdown",
   "metadata": {},
   "source": [
    "Fill with a scalar value"
   ]
  },
  {
   "cell_type": "code",
   "execution_count": null,
   "metadata": {},
   "outputs": [],
   "source": []
  },
  {
   "attachments": {},
   "cell_type": "markdown",
   "metadata": {},
   "source": [
    "Two more methods for creating arrays which we will use in later notebooks are:\n",
    "\n",
    "- `numpy.arange`; and \n",
    "- `numpy.linspace`. \n",
    "\n",
    "They are particularly useful for plotting functions.\n",
    "The function `arange` creates an array with equally spaced values. It is similar in some cases to `range`, which we have seen earlier. To create the array `[0 1 2 3 4 5]` using `arange`:"
   ]
  },
  {
   "cell_type": "code",
   "execution_count": null,
   "metadata": {},
   "outputs": [],
   "source": []
  },
  {
   "attachments": {},
   "cell_type": "markdown",
   "metadata": {},
   "source": [
    "The function `linspace` creates an array with prescribed start and end values (both are included), and a prescribed number on values, all equally spaced:"
   ]
  },
  {
   "cell_type": "code",
   "execution_count": null,
   "metadata": {},
   "outputs": [],
   "source": []
  },
  {
   "attachments": {},
   "cell_type": "markdown",
   "metadata": {},
   "source": [
    "The `linspace` function is useful for plotting."
   ]
  },
  {
   "attachments": {},
   "cell_type": "markdown",
   "metadata": {},
   "source": [
    "### Array arithmetic and functions\n",
    "\n",
    "NumPy arrays support common arithmetic operations, such as addition of two arrays"
   ]
  },
  {
   "cell_type": "code",
   "execution_count": null,
   "metadata": {},
   "outputs": [],
   "source": [
    "x = np.array([1.0, 0.2, 1.2])\n",
    "y = np.array([2.0, 0.1, 2.1])\n",
    "print(x)\n",
    "print(y)\n",
    "\n",
    "# Sum x and y\n"
   ]
  },
  {
   "attachments": {},
   "cell_type": "markdown",
   "metadata": {},
   "source": [
    "and multiplication of components by a scalar,"
   ]
  },
  {
   "cell_type": "code",
   "execution_count": null,
   "metadata": {},
   "outputs": [],
   "source": []
  },
  {
   "attachments": {},
   "cell_type": "markdown",
   "metadata": {},
   "source": [
    "and raising components to a power:"
   ]
  },
  {
   "cell_type": "code",
   "execution_count": null,
   "metadata": {},
   "outputs": [],
   "source": [
    "x = np.array([2, 3, 4])\n",
    "# Raise to power of 4\n",
    "\n"
   ]
  },
  {
   "attachments": {},
   "cell_type": "markdown",
   "metadata": {},
   "source": [
    "### Dot Product of two vectors"
   ]
  },
  {
   "attachments": {},
   "cell_type": "markdown",
   "metadata": {},
   "source": [
    "The dot product of two vectors $a = [a1, a2, \\dots, an]$ and $b = [b1, b2,\\dots, bn]$ is defined as:\n",
    "\n",
    "$ {\\displaystyle \\mathbf {\\color {red}a} \\cdot \\mathbf {\\color {blue}b} =\\sum _{i=1}^{n}{\\color {red}a}_{i}{\\color {blue}b}_{i}={\\color {red}a}_{1}{\\color {blue}b}_{1}+{\\color {red}a}_{2}{\\color {blue}b}_{2}+\\cdots +{\\color {red}a}_{n}{\\color {blue}b}_{n}}$\n",
    "\n",
    "the dot product of vectors $[1, 3, −5]$ and $[4, −2, −1]$ is:\n",
    "\n",
    "$ {\\displaystyle {\\begin{aligned}\\ [{\\color {red}{1,3,-5}}]\\cdot [{\\color {blue}{4,-2,-1}}]&=({\\color {red}1}\\times {\\color {blue}4})+({\\color {red}3}\\times {\\color {blue}{-2}})+({\\color {red}{-5}}\\times {\\color {blue}{-1}})\\\\&=4-6+5\\\\&=3\\end{aligned}}} $"
   ]
  },
  {
   "cell_type": "code",
   "execution_count": null,
   "metadata": {},
   "outputs": [],
   "source": [
    "# Two vectors of length 4\n",
    "x = np.array([1., 3, -5])\n",
    "y = np.array([4, -2, -1.])\n",
    "\n",
    "# Compute dot-product\n",
    "\n",
    "\n"
   ]
  },
  {
   "cell_type": "code",
   "execution_count": null,
   "metadata": {},
   "outputs": [],
   "source": [
    "# Using in built dot product\n"
   ]
  },
  {
   "attachments": {},
   "cell_type": "markdown",
   "metadata": {},
   "source": [
    "You might see manipulation of arrays without indexing referred to as 'vectorisation'. When possible, vectorisation is a good thing to do. We compare the performance of indexing versus vectorisation below."
   ]
  },
  {
   "attachments": {},
   "cell_type": "markdown",
   "metadata": {},
   "source": [
    "### Performance example: computing the norm of a long vector\n",
    "\n",
    "The norm of a vector $x$ is given by: \n",
    "\n",
    "$$\n",
    "\\| x \\| = \\sqrt{\\sum_{i=0}^{n-1} x_{i} x_{i}}\n",
    "$$\n",
    "\n",
    "where $x_{i}$ is the $i$th entry of $x$. It is the dot product of a vector with itself, \n",
    "followed by taking the square root.\n",
    "To compute the norm, we could loop/iterate over the entries of the vector and sum the square of each entry, and then take the square root of the result.\n",
    "\n",
    "We will evaluate the norm using two methods for computing the norm of an array of length 10 million to compare their performance. We first create a vector with 10 million random entries, using NumPy:"
   ]
  },
  {
   "cell_type": "code",
   "execution_count": null,
   "metadata": {},
   "outputs": [],
   "source": [
    "# Create a NumPy array with 10 million random values\n",
    "x = np.random.rand(10000000)\n",
    "print(type(x))"
   ]
  },
  {
   "attachments": {},
   "cell_type": "markdown",
   "metadata": {},
   "source": [
    "We now time how long it takes to compute the norm of the vector using a custom function. We use the Jupyter 'magic command' [`%time`](Notebook%20tips.ipynb#Simple-timing) to time the operation: "
   ]
  },
  {
   "cell_type": "code",
   "execution_count": null,
   "metadata": {},
   "outputs": [],
   "source": [
    "def compute_norm(x):\n",
    "    norm = 0.0\n",
    "    for xi in x:\n",
    "        norm += xi*xi\n",
    "    return np.sqrt(norm)\n",
    "\n",
    "%time norm =compute_norm(x)\n",
    "print(norm)"
   ]
  },
  {
   "attachments": {},
   "cell_type": "markdown",
   "metadata": {},
   "source": [
    "The time output of interest is '`Wall time`'.\n",
    "\n",
    "> The details of how `%time` works are not important for this course. We use it as a compact and covenient tool to \n",
    "> measure how much time a command takes to execute.\n",
    "\n",
    "We now perform the same operation with '`numpy.dot`':"
   ]
  },
  {
   "cell_type": "code",
   "execution_count": null,
   "metadata": {},
   "outputs": [],
   "source": []
  },
  {
   "attachments": {},
   "cell_type": "markdown",
   "metadata": {},
   "source": [
    "You should see that the two approaches give the same result, but the \n",
    "NumPy function is more than 100 times faster, and possibly more than 100,000 times faster!\n",
    "\n",
    "The message is that specialised functions and data structures for numerical computations can be many orders of magnitude faster than your own general implementations. On top of that, the specialised functions are much less \n",
    "likely to have bugs!"
   ]
  }
 ],
 "metadata": {
  "kernelspec": {
   "display_name": "Python 3",
   "language": "python",
   "name": "python3"
  },
  "language_info": {
   "codemirror_mode": {
    "name": "ipython",
    "version": 3
   },
   "file_extension": ".py",
   "mimetype": "text/x-python",
   "name": "python",
   "nbconvert_exporter": "python",
   "pygments_lexer": "ipython3",
   "version": "3.7.5"
  }
 },
 "nbformat": 4,
 "nbformat_minor": 1
}
