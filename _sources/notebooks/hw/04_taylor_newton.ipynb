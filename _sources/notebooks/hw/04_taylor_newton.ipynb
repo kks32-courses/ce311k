{
 "cells": [
  {
   "cell_type": "code",
   "execution_count": null,
   "metadata": {
    "deletable": false,
    "editable": false
   },
   "outputs": [],
   "source": [
    "# Initialize Otter\n",
    "import otter\n",
    "grader = otter.Notebook(\"04_taylor_newton.ipynb\")"
   ]
  },
  {
   "cell_type": "markdown",
   "metadata": {},
   "source": [
    "# Assignment 04: Taylor series and Newton Raphson\n",
    "The purpose of this assignment is to develop your skills in creating approximate functions using Taylor series and find roots of functions using the Newton's iterations.\n",
    " "
   ]
  },
  {
   "cell_type": "markdown",
   "metadata": {
    "id": "ALcD-6gMhSa7"
   },
   "source": [
    "Taylor series expansion of \n",
    "$ f(x) = sin(ax) $ near 0, where a is a known constant:\n",
    "\n",
    "$$ax - \\frac{a^3}{3!}x^3+ \\frac{a^5}{5!}x^5 - \\frac{a^7}{7!}x^7 + \\cdots$$ or\n",
    "$$ \\sum_{n = 0}^{\\infty}\\frac{a^{2n+1}(-1)^n}{(2n+1)!}x^{2n+1} $$"
   ]
  },
  {
   "cell_type": "markdown",
   "metadata": {
    "deletable": false,
    "editable": false
   },
   "source": [
    "## Q1\n",
    "Write the Taylor's series expansion of the function $f(x)\n",
    "\t= sin(ax)$ \n",
    "\tnear $x = 0$,\n",
    "\twhere $a \\ne 0$ is a known constant. Write a Python function to compute the approximate solution and error. Compute the relative and absolute errors using $math.sin(ax)$ as the exact answer.\n",
    "\t"
   ]
  },
  {
   "cell_type": "code",
   "execution_count": null,
   "metadata": {
    "tags": []
   },
   "outputs": [],
   "source": [
    "import math\n",
    "def taylor_sin_ax(x, a, n): #n define the number of terms of Taylor series used\n",
    "    ...\n",
    "    return approx, abs_error, rel_error\n",
    "    \n",
    "x = math.pi/4\n",
    "a = 2\n",
    "print(taylor_sin_ax(x, a, 3))\n",
    "print(taylor_sin_ax(x, a, 5))"
   ]
  },
  {
   "cell_type": "code",
   "execution_count": null,
   "metadata": {
    "deletable": false,
    "editable": false
   },
   "outputs": [],
   "source": [
    "grader.check(\"q1\")"
   ]
  },
  {
   "cell_type": "markdown",
   "metadata": {
    "deletable": false,
    "editable": false
   },
   "source": [
    "## Q2\n",
    "Determine the root of $f(x) = x - 2e^{-x}$ by:<br>\n",
    "### (a)\n",
    "Using the bisection method. Start with $a = 0$ and $b = 1$, and compute **the root and the error at the end of the first three iterations.**<br>\n",
    "### (b)\n",
    "Using the Newton's method, Start at $x_0 = 1$ and compute **the root and the error at the end of the the first three iterations**. Compare the error against the bisection approach."
   ]
  },
  {
   "cell_type": "code",
   "execution_count": null,
   "metadata": {
    "tags": []
   },
   "outputs": [],
   "source": [
    "# (a)\n",
    "# store the root and error in the variable 'root1' and 'error1'\n",
    "print(root1, error1)"
   ]
  },
  {
   "cell_type": "code",
   "execution_count": null,
   "metadata": {
    "tags": []
   },
   "outputs": [],
   "source": [
    "# (b)\n",
    "# store the root and error in the variable 'root2' and 'error2'\n",
    "print(root2, error2)"
   ]
  },
  {
   "cell_type": "code",
   "execution_count": null,
   "metadata": {
    "deletable": false,
    "editable": false
   },
   "outputs": [],
   "source": [
    "grader.check(\"q2\")"
   ]
  },
  {
   "cell_type": "markdown",
   "metadata": {
    "deletable": false,
    "editable": false
   },
   "source": [
    "## Q3\n",
    "Using the Newton-Raphson iteration find the **root** of the equation $\\sqrt{x} + x^2 = 7$. With an initial guess of $x = 7$ compute the **number of iterations** required for the error in the root to be below $1.0e^{-6}$.\n"
   ]
  },
  {
   "cell_type": "code",
   "execution_count": null,
   "metadata": {
    "tags": []
   },
   "outputs": [],
   "source": [
    "tol = 1e-6\n",
    "\n",
    "print(root3, num_iter)"
   ]
  },
  {
   "cell_type": "code",
   "execution_count": null,
   "metadata": {
    "deletable": false,
    "editable": false
   },
   "outputs": [],
   "source": [
    "grader.check(\"q3\")"
   ]
  },
  {
   "cell_type": "markdown",
   "metadata": {
    "deletable": false,
    "editable": false
   },
   "source": [
    "## Submission\n",
    "\n",
    "Make sure you have run all cells in your notebook in order before running the cell below, so that all images/graphs appear in the output. The cell below will generate a zip file for you to submit. **Please save before exporting!**\n",
    "\n",
    "These are some submission instructions."
   ]
  },
  {
   "cell_type": "code",
   "execution_count": null,
   "metadata": {
    "deletable": false,
    "editable": false
   },
   "outputs": [],
   "source": [
    "# Save your notebook first, then run this cell to export your submission.\n",
    "grader.export(run_tests=True)"
   ]
  },
  {
   "cell_type": "markdown",
   "metadata": {},
   "source": [
    " "
   ]
  }
 ],
 "metadata": {
  "IMAGE_NAME": "taccsciapps/ds-nb-img:base-0.1.0",
  "UUID": "ce9ef442-4b3f-11ed-8ff1-4e1bf5c95265",
  "kernelspec": {
   "display_name": "Python 3 (ipykernel)",
   "language": "python",
   "name": "python3"
  },
  "language_info": {
   "codemirror_mode": {
    "name": "ipython",
    "version": 3
   },
   "file_extension": ".py",
   "mimetype": "text/x-python",
   "name": "python",
   "nbconvert_exporter": "python",
   "pygments_lexer": "ipython3",
   "version": "3.9.16"
  },
  "otter": {
   "OK_FORMAT": true,
   "tests": {
    "q1": {
     "name": "q1",
     "points": null,
     "suites": [
      {
       "cases": [
        {
         "code": ">>> import math\n>>> x = math.pi/4\n>>> a = 2\n>>> assert round(taylor_sin_ax(x, a, 3)[0] - 1.0045248555348174, 9) == 0 \n>>> assert round(taylor_sin_ax(x, a, 3)[1] - 0.004524855534817407, 9) == 0 \n>>> assert round(taylor_sin_ax(x, a, 3)[2] - 0.004524855534817407, 9) == 0 \n>>> assert round(taylor_sin_ax(x, a, 5)[0] - 1.0000035425842861, 9) == 0 \n>>> assert round(taylor_sin_ax(x, a, 5)[1] - 3.542584286142514e-06, 9) == 0 \n>>> assert round(taylor_sin_ax(x, a, 5)[2] - 3.542584286142514e-06, 9) == 0 \n",
         "hidden": false,
         "locked": false
        },
        {
         "code": ">>> import random\n>>> n = 100\n>>> a = 2\n>>> for i in range(20):\n...     x = random.random()\n...     assert round(taylor_sin_ax(x, a, n)[0] - math.sin(a*x), 9) == 0 \n",
         "hidden": false,
         "locked": false
        }
       ],
       "scored": true,
       "setup": "",
       "teardown": "",
       "type": "doctest"
      }
     ]
    },
    "q2": {
     "name": "q2",
     "points": null,
     "suites": [
      {
       "cases": [
        {
         "code": ">>> assert root1==0.875\n>>> assert round(error1 - 0.04127596064298322, 9) == 0\n",
         "hidden": false,
         "locked": false
        },
        {
         "code": ">>> assert round(root2 - 0.8526055020070299, 9) == 0\n>>> assert round(error2 - 6.695596982741675e-12, 15) == 0\n",
         "hidden": false,
         "locked": false
        }
       ],
       "scored": true,
       "setup": "",
       "teardown": "",
       "type": "doctest"
      }
     ]
    },
    "q3": {
     "name": "q3",
     "points": null,
     "suites": [
      {
       "cases": [
        {
         "code": ">>> assert round(root3 - 2.338940066881352, 9)==0\n>>> assert num_iter == 5\n",
         "hidden": false,
         "locked": false
        }
       ],
       "scored": true,
       "setup": "",
       "teardown": "",
       "type": "doctest"
      }
     ]
    }
   }
  },
  "varInspector": {
   "cols": {
    "lenName": 16,
    "lenType": 16,
    "lenVar": 40
   },
   "kernels_config": {
    "python": {
     "delete_cmd_postfix": "",
     "delete_cmd_prefix": "del ",
     "library": "var_list.py",
     "varRefreshCmd": "print(var_dic_list())"
    },
    "r": {
     "delete_cmd_postfix": ") ",
     "delete_cmd_prefix": "rm(",
     "library": "var_list.r",
     "varRefreshCmd": "cat(var_dic_list()) "
    }
   },
   "types_to_exclude": [
    "module",
    "function",
    "builtin_function_or_method",
    "instance",
    "_Feature"
   ],
   "window_display": false
  }
 },
 "nbformat": 4,
 "nbformat_minor": 4
}
