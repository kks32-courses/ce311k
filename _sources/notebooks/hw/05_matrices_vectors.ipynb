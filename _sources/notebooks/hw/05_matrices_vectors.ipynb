{
 "cells": [
  {
   "cell_type": "code",
   "execution_count": null,
   "metadata": {
    "deletable": false,
    "editable": false
   },
   "outputs": [],
   "source": [
    "# Initialize Otter\n",
    "import otter\n",
    "grader = otter.Notebook(\"05_metrices_vectors.ipynb\")"
   ]
  },
  {
   "cell_type": "markdown",
   "metadata": {},
   "source": [
    "# Assignment 05: Vectors and Matrices\n",
    "The purpose of this assignment is to develop your skills in using Numpy arrays and doing vector and matrix operations."
   ]
  },
  {
   "cell_type": "markdown",
   "metadata": {
    "deletable": false,
    "editable": false
   },
   "source": [
    "## Q1\n",
    "Write custom individual functions to perform the following matrix operations, without using the in-built numpy functions (except np.shape function). Add checks on suitability of the shape of matrices whenever possible <br>\n",
    "\n",
    "<li>Add two matrices</li>\n",
    "<li>Subtract two matrices</li>\n",
    "<li>Scalar product of a matrix</li>\n",
    "<li>Multiply two matrices</li>\n",
    "<li>Sum of all elements in a matrix</li>\n",
    "<li>Check if a given matrix is symmetric and square.</li>"
   ]
  },
  {
   "cell_type": "code",
   "execution_count": null,
   "metadata": {
    "tags": []
   },
   "outputs": [],
   "source": [
    "import numpy as np\n",
    "# Add two matricies\n",
    "def matrix_add(A, B):\n",
    "    ...\n",
    "# Subtract two matrices\n",
    "def matrix_subtract(A, B):\n",
    "    ...\n",
    "# Scalar product of a matrix\n",
    "def matrix_scalar_product(c, A):\n",
    "    ...\n",
    "# Multiply two matrices\n",
    "def matrix_product(A, B):\n",
    "    ...\n",
    "# Sum of all elements in a matrix\n",
    "def matrix_sum_elements(A):\n",
    "    ...\n",
    "# Check if a given matrix is symmetric and square \n",
    "def symm_sq_check(A):\n",
    "    ..."
   ]
  },
  {
   "cell_type": "code",
   "execution_count": null,
   "metadata": {
    "tags": []
   },
   "outputs": [],
   "source": [
    "# here are some input samples to test your functions. \n",
    "A = np.array([[1, 2], [3, 4]])\n",
    "B = np.array([[5, 6], [6, 8]])"
   ]
  },
  {
   "cell_type": "code",
   "execution_count": null,
   "metadata": {
    "deletable": false,
    "editable": false
   },
   "outputs": [],
   "source": [
    "grader.check(\"q1\")"
   ]
  },
  {
   "cell_type": "markdown",
   "metadata": {
    "deletable": false,
    "editable": false
   },
   "source": [
    "## Q2\n",
    "Let $A$ be a 4 x 4 matrix and B a 2 x 1 matrix. The symbol $\\cdot$ represents a dot product. Using the shape of the matrix as a guide, indicate if the following expressions are valid or not.<br>\n",
    "<li>$ A + B$</li>\n",
    "<li>$ A \\cdot B$</li>\n",
    "<li>$ A \\cdot A$</li>\n",
    "<li>$ B \\cdot B$</li>\n",
    "<li>$ B^T \\cdot B \\cdot A$</li>"
   ]
  },
  {
   "cell_type": "code",
   "execution_count": null,
   "metadata": {
    "tags": []
   },
   "outputs": [],
   "source": [
    "q2_ans = [...] #store boolean values to represent the validity of each expression."
   ]
  },
  {
   "cell_type": "code",
   "execution_count": null,
   "metadata": {
    "deletable": false,
    "editable": false
   },
   "outputs": [],
   "source": [
    "grader.check(\"q2\")"
   ]
  },
  {
   "cell_type": "markdown",
   "metadata": {
    "deletable": false,
    "editable": false
   },
   "source": [
    "## Q3\n",
    "Using the following matrices and vectors. Compute the following.\n",
    "\\begin{align*}\n",
    "\tA & =  \\begin{bmatrix}\n",
    "\t\t1 & 4 & -2 \\\\\n",
    "\t\t4 & 8 & 6 \\\\\n",
    "\t\t-2 & 6 & 12 \n",
    "    \t\\end{bmatrix} \\\\\n",
    "\t%\n",
    "\tB & =  \\begin{bmatrix}\n",
    "\t6 & 2 & -2 \\\\\n",
    "\t4 & 8 & 3 \\\\\n",
    "\t-1 & 6 & 9 \n",
    "\t\\end{bmatrix} \\\\\n",
    "\tc & = \\left[6, -4, 3\\right]\\\\\n",
    "\td & = \\left[3, -1, 5\\right]\n",
    "\t\\end{align*}\n",
    "    \n",
    "<li>$ A - A^T$\n",
    "</li><li>$A \\cdot B$\n",
    "</li><li>$8A - 4B$\n",
    "</li><li>$B^T \\cdot B$\n",
    "</li><li>$c^T \\cdot B$\n",
    "</li><li>$A\\cdot B \\cdot c \\cdot d^T$\n",
    "</li><li>$c \\times d$\n",
    "</li><li>$A^{-1}$ \n",
    "</li><li>check if $A * A^{-1} = I$</li>"
   ]
  },
  {
   "cell_type": "code",
   "execution_count": null,
   "metadata": {
    "tags": []
   },
   "outputs": [],
   "source": [
    "A = np.array([[1, 4, -2], [4, 8, 6], [-2, 6, 12]])\n",
    "B = np.array([[6, 2, -2], [4, 8, 3], [-1, 6, 9]])\n",
    "c = np.array([6, -4, 3])\n",
    "d = np.array([3, -1, 5])\n",
    "q3_ans = [] # store answers in this list\n",
    "\n",
    "#hint: use np.linalg.inv() to get inverse of A\n",
    "#hint: use np.allclose() and its default tolerance to check if A*A^-1 equal to I"
   ]
  },
  {
   "cell_type": "code",
   "execution_count": null,
   "metadata": {
    "deletable": false,
    "editable": false
   },
   "outputs": [],
   "source": [
    "grader.check(\"q3\")"
   ]
  },
  {
   "cell_type": "markdown",
   "metadata": {
    "deletable": false,
    "editable": false
   },
   "source": [
    "## Q4\n",
    "Find a a unit vector (i.e., vector of magnitude equal to 1) that is perpendicular to both $c$ and $d$. Hint: *use the cross product definition*.\n"
   ]
  },
  {
   "cell_type": "code",
   "execution_count": null,
   "metadata": {
    "tags": []
   },
   "outputs": [],
   "source": [
    "unit_vector = ..."
   ]
  },
  {
   "cell_type": "code",
   "execution_count": null,
   "metadata": {
    "deletable": false,
    "editable": false
   },
   "outputs": [],
   "source": [
    "grader.check(\"q4\")"
   ]
  },
  {
   "cell_type": "markdown",
   "metadata": {
    "deletable": false,
    "editable": false
   },
   "source": [
    "## Q5\n",
    "Using array slicing on matrix A\n",
    "\t\\begin{align*}\n",
    "\tA = \\begin{bmatrix}\n",
    "4.0 & 7.0 & -2.43 & 67.1 \\\\\n",
    "-4.0 & 64.0 & 54.7 & -3.33 \\\\\n",
    "2.43 & 23.2 & 3.64 & 4.11 \\\\\n",
    "1.2 & 2.5 & -113.2 & 323.22\n",
    "\t\\end{bmatrix}\n",
    "\t\\end{align*}\n",
    "    \n",
    "<li>Extract the third column as a 1D array\n",
    "</li><li>Extract the first two rows as a 2D sub-array\n",
    "</li><li>Extract the bottom-right $2 \\times 2$ block as a 2D sub-array\n",
    "</li><li>Sum the last column</li>"
   ]
  },
  {
   "cell_type": "code",
   "execution_count": null,
   "metadata": {
    "tags": []
   },
   "outputs": [],
   "source": [
    "A = np.array([[4.0, 7.0, -2.43, 67.1], [-4.0, 64.0, 54.7, -3.33],\n",
    "              [2.43, 23.2, 3.64, 4.11], [1.2, 2.5, -113.2, 323.22]])\n",
    "q5_ans = [] #store answers in this list"
   ]
  },
  {
   "cell_type": "code",
   "execution_count": null,
   "metadata": {
    "deletable": false,
    "editable": false
   },
   "outputs": [],
   "source": [
    "grader.check(\"q5\")"
   ]
  },
  {
   "cell_type": "markdown",
   "metadata": {
    "deletable": false,
    "editable": false
   },
   "source": [
    "## Submission\n",
    "\n",
    "Make sure you have run all cells in your notebook in order before running the cell below, so that all images/graphs appear in the output. The cell below will generate a zip file for you to submit. **Please save before exporting!**\n",
    "\n",
    "These are some submission instructions."
   ]
  },
  {
   "cell_type": "code",
   "execution_count": null,
   "metadata": {
    "deletable": false,
    "editable": false
   },
   "outputs": [],
   "source": [
    "# Save your notebook first, then run this cell to export your submission.\n",
    "grader.export(run_tests=True)"
   ]
  },
  {
   "cell_type": "markdown",
   "metadata": {},
   "source": [
    " "
   ]
  }
 ],
 "metadata": {
  "IMAGE_NAME": "taccsciapps/ds-nb-img:base-0.1.0",
  "UUID": "b96db608-4b3f-11ed-8ff1-4e1bf5c95265",
  "kernelspec": {
   "display_name": "Python 3 (ipykernel)",
   "language": "python",
   "name": "python3"
  },
  "language_info": {
   "codemirror_mode": {
    "name": "ipython",
    "version": 3
   },
   "file_extension": ".py",
   "mimetype": "text/x-python",
   "name": "python",
   "nbconvert_exporter": "python",
   "pygments_lexer": "ipython3",
   "version": "3.9.10"
  },
  "otter": {
   "OK_FORMAT": true,
   "tests": {
    "q1": {
     "name": "q1",
     "points": null,
     "suites": [
      {
       "cases": [
        {
         "code": ">>> A = np.array([[1, 2], [3, 4]])\n>>> B = np.array([[5, 6], [6, 8]])\n>>> assert np.array_equal(matrix_add(A, B),A+B)\n>>> assert np.array_equal(matrix_subtract(A, B), A-B)\n>>> assert np.array_equal(matrix_scalar_product(2,A), 2*A)\n>>> assert np.array_equal(matrix_product(A, B), np.dot(A,B))\n>>> assert round(matrix_sum_elements(A) - np.sum(A), 5) == 0\n>>> assert (symm_sq_check(A)) == (np.array_equal(A.transpose(),A))\n>>> assert (symm_sq_check(B)) == (np.array_equal(B.transpose(),B))\n",
         "hidden": false,
         "locked": false
        },
        {
         "code": ">>> for i in range(20):\n...     A = np.random.random((5,5))\n...     B = np.random.random((5,5))\n...     \n...     assert np.array_equal(matrix_add(A, B),A+B)\n...     assert np.array_equal(matrix_subtract(A, B), A-B)\n...     assert np.array_equal(matrix_scalar_product(2,A), 2*A)\n...     assert np.array_equal(matrix_product(A, B).round(4), np.dot(A,B).round(4))\n...     assert round(matrix_sum_elements(A) - np.sum(A), 9) == 0\n",
         "hidden": false,
         "locked": false
        }
       ],
       "scored": true,
       "setup": "",
       "teardown": "",
       "type": "doctest"
      }
     ]
    },
    "q2": {
     "name": "q2",
     "points": null,
     "suites": [
      {
       "cases": [
        {
         "code": ">>> q2 = [False, False, True, False, False]\n>>> \n>>> for i in range(len(q2)):\n...     assert q2[i] == q2_ans[i],f\"Answer {i+1} is incorrect\"\n",
         "hidden": false,
         "locked": false
        }
       ],
       "scored": true,
       "setup": "",
       "teardown": "",
       "type": "doctest"
      }
     ]
    },
    "q3": {
     "name": "q3",
     "points": null,
     "suites": [
      {
       "cases": [
        {
         "code": ">>> q3 = [np.array([[0, 0, 0],\n...               [0, 0, 0],\n...               [0, 0, 0]]), np.array([[ 24,  22,  -8],\n...                                   [ 50, 108,  70],\n...                                   [  0, 116, 130]]),\n...        np.array([[-16,  24,  -8],\n...               [ 16,  32,  36],\n...               [-12,  24,  60]]), np.array([[ 53,  38,  -9],\n...                                         [ 38, 104,  74],\n...                                         [ -9,  74,  94]]),\n...        np.array([17, -2,  3]), -352, np.array([-17, -21,   6]),\n...        np.array([[-0.23076923,  0.23076923, -0.15384615],\n...               [ 0.23076923, -0.03076923,  0.05384615],\n...               [-0.15384615,  0.05384615,  0.03076923]]), True]\n>>> \n>>> \n>>> \n>>> \n>>> for i in range(len(q3)-2):\n...     assert np.array_equal(q3_ans[i], q3[i]),f\"Answer {i+1} is incorrect\"\n>>> assert np.array_equal(q3_ans[-2].round(5), q3[-2].round(5)),f\"Answer 8 is incorrect\"\n>>> assert q3_ans[-1] == q3[-1], f\"Answer 9 is incorrect\"\n",
         "hidden": false,
         "locked": false
        }
       ],
       "scored": true,
       "setup": "",
       "teardown": "",
       "type": "doctest"
      }
     ]
    },
    "q4": {
     "name": "q4",
     "points": null,
     "suites": [
      {
       "cases": [
        {
         "code": ">>> np.allclose(unit_vector,[-0.61423497,-0.75876084,0.21678881])\nTrue",
         "hidden": false,
         "locked": false
        }
       ],
       "scored": true,
       "setup": "",
       "teardown": "",
       "type": "doctest"
      }
     ]
    },
    "q5": {
     "name": "q5",
     "points": null,
     "suites": [
      {
       "cases": [
        {
         "code": ">>> q5 = [np.array([  -2.43,   54.7 ,    3.64, -113.2 ]),\n...  np.array([[ 4.  ,  7.  , -2.43, 67.1 ],\n...         [-4.  , 64.  , 54.7 , -3.33]]),\n...  np.array([[   3.64,    4.11],\n...         [-113.2 ,  323.22]]),\n...  391.1]\n>>> \n>>> for i in range(len(q5)):\n...     assert np.array_equal(q5[i],q5_ans[i]), f\"Answer {i+1} is incorrect\"\n",
         "hidden": false,
         "locked": false
        }
       ],
       "scored": true,
       "setup": "",
       "teardown": "",
       "type": "doctest"
      }
     ]
    }
   }
  },
  "varInspector": {
   "cols": {
    "lenName": 16,
    "lenType": 16,
    "lenVar": 40
   },
   "kernels_config": {
    "python": {
     "delete_cmd_postfix": "",
     "delete_cmd_prefix": "del ",
     "library": "var_list.py",
     "varRefreshCmd": "print(var_dic_list())"
    },
    "r": {
     "delete_cmd_postfix": ") ",
     "delete_cmd_prefix": "rm(",
     "library": "var_list.r",
     "varRefreshCmd": "cat(var_dic_list()) "
    }
   },
   "types_to_exclude": [
    "module",
    "function",
    "builtin_function_or_method",
    "instance",
    "_Feature"
   ],
   "window_display": false
  }
 },
 "nbformat": 4,
 "nbformat_minor": 4
}
