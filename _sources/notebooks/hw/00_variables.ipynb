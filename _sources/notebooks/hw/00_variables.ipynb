{
 "cells": [
  {
   "cell_type": "code",
   "execution_count": null,
   "metadata": {
    "deletable": false,
    "editable": false
   },
   "outputs": [],
   "source": [
    "# Initialize Otter\n",
    "import otter\n",
    "grader = otter.Notebook(\"00_variables.ipynb\")"
   ]
  },
  {
   "cell_type": "markdown",
   "metadata": {
    "deletable": false,
    "editable": false
   },
   "source": [
    "**Question 1:** Create new variables height and radius for a cylinder of height 0.75m and a\n",
    "radius of 0.3 m. Write a Python code in Jupyter notebook to compute, store\n",
    "and print the value of the following properties of a cylinder:<br>\n",
    "(a) Surface area of the side<br>\n",
    "(b) Surface area of each end<br>\n",
    "(c) Total surface area (surface area of the sides + both ends)<br>\n",
    "(d) Volume of the cylinder<br>\n",
    "use `pi` value from the `math` library"
   ]
  },
  {
   "cell_type": "code",
   "execution_count": null,
   "metadata": {
    "tags": []
   },
   "outputs": [],
   "source": [
    "import ...\n",
    "side_area = ...\n",
    "end_area = ...\n",
    "total_area = ...\n",
    "volume = ...\n",
    "print(side_area)\n",
    "print(end_area)\n",
    "print(total_area)\n",
    "print(volume)"
   ]
  },
  {
   "cell_type": "code",
   "execution_count": null,
   "metadata": {
    "deletable": false,
    "editable": false
   },
   "outputs": [],
   "source": [
    "grader.check(\"q1\")"
   ]
  },
  {
   "cell_type": "markdown",
   "metadata": {
    "deletable": false,
    "editable": false
   },
   "source": [
    "**Question 2:** A simply supported beam of length $2 m$ is supporting a uniformly distributed load $w$ of $500kN m^{-1}$. The Young's modulus of the beam $E$ is: $2\\times10^{7} kPa$. The width of the beam $b$ is $0.3 m$ and the depth of the beam $d$ is $0.6 m$. Write a code creating appropriate variables to compute the deflection at any point $x$ on the beam. Calculate the deflection in $mm$ and the ratio of the current deflection to the maximum possible deflection at $x$ of 0.1, 0.25, 0.5, 1, and 1.7 m from the left support.\n",
    "\n",
    "The deflection at any point $x$ on a simply supported beam with a UDL of $w$ is given as:\n",
    "\\begin{equation*}\n",
    "    \\delta = \\frac{w x}{24 EI}(l^3 - 2lx^2 + x^3)\n",
    "\\end{equation*}\n",
    "\n",
    "The maximum deflection of a simply supported beam with a UDL is:\n",
    "\n",
    "\\begin{equation*}\n",
    "    \\delta_{max} = \\frac{5wl^4}{384EI}\n",
    "\\end{equation*}\n",
    "\n",
    "The moment of inertia $I$ of a rectangular cross-section is given as:\n",
    "\n",
    "\\begin{equation}\n",
    "    I = \\frac{b d^3}{12}\n",
    "\\end{equation}"
   ]
  },
  {
   "cell_type": "code",
   "execution_count": null,
   "metadata": {
    "tags": []
   },
   "outputs": [],
   "source": [
    "#at x of 0.1m\n",
    "deflection0 = ...\n",
    "ratio0 = ...\n",
    "#at x of 0.25m\n",
    "deflection1 = ...\n",
    "ratio1 = ...\n",
    "#at x of 0.5m\n",
    "deflection2 = ...\n",
    "ratio2 = ...\n",
    "#at x of 1m\n",
    "deflection3 = ...\n",
    "ratio3 = ...\n",
    "#at x of 1.7m\n",
    "deflection4 = ...\n",
    "ratio4 = ...\n",
    "print(f'max defelction: {max_deflection} mm\\n')\n",
    "print(f'deflection at x of 0.1m: {deflection0} mm')\n",
    "print(f'ratio to the max deflection: {ratio0*100:.2f} %\\n')\n",
    "print(f'deflection at x of 0.25m: {deflection1} mm')\n",
    "print(f'ratio to the max deflection: {ratio1*100:.2f} %\\n')\n",
    "print(f'deflection at x of 0.5m: {deflection2} mm')\n",
    "print(f'ratio to the max deflection: {ratio2*100:.2f} %\\n')\n",
    "print(f'deflection at x of 1m: {deflection3} mm')\n",
    "print(f'ratio to the max deflection: {ratio3*100:.2f} %\\n')\n",
    "print(f'deflection at x of 1.7m: {deflection4} mm')\n",
    "print(f'ratio to the max deflection: {ratio4*100:.2f} %')"
   ]
  },
  {
   "cell_type": "code",
   "execution_count": null,
   "metadata": {
    "deletable": false,
    "editable": false
   },
   "outputs": [],
   "source": [
    "grader.check(\"q2\")"
   ]
  },
  {
   "cell_type": "markdown",
   "metadata": {
    "deletable": false,
    "editable": false
   },
   "source": [
    "**Question 3:** Netflix employs 200 TB-sized (TerraBytes) HardDisks storage units at the local Internet Service Provider (ISP) to stream most frequently watched movies.\n",
    "This reduces their bandwidth requirement and also makes watching the popular movies faster for their users. Consider the current storage capacity of\n",
    "a Netflix storage device at your local ISP of 200TB, calculate how many HD\n",
    "movies (approximately 1.5 GB) can be stored in that storage box? You have\n",
    "been tasked by Netflix to procure new hard disks (storage) that can store as\n",
    "many movies as the 200TB storage boxes could for HD movies, except Netflix\n",
    "would like to store it in the new 4K format (approximately 6 GB) instead of\n",
    "the HD format. What is the new storage size (GB) requirement?<br>\n",
    "**Note : 1 TB is 1,000 GB**"
   ]
  },
  {
   "cell_type": "code",
   "execution_count": null,
   "metadata": {
    "tags": []
   },
   "outputs": [],
   "source": [
    "#number of HD movies stored in storage box\n",
    "num_HD ...\n",
    "#storage size (GB) for 4K movies\n",
    "size_4k = ...\n",
    "print(num_HD)\n",
    "print(size_4k)"
   ]
  },
  {
   "cell_type": "code",
   "execution_count": null,
   "metadata": {
    "deletable": false,
    "editable": false
   },
   "outputs": [],
   "source": [
    "grader.check(\"q3\")"
   ]
  },
  {
   "cell_type": "markdown",
   "metadata": {
    "deletable": false,
    "editable": false
   },
   "source": [
    "**Question 4:** The following Python code has bugs (errors in implementation) in the calculating of the following expression.\n",
    "\n",
    "\\begin{equation*}\n",
    "(-4)^2 + \\frac{208}{2 * 4}\n",
    "\\end{equation*}\n",
    "\n",
    "Python expression: \\-4**(2)+((208)/2*4)\n",
    "\n",
    "(a) Fix the Python code so that it yields the correct answer of 42 for the above expression\n",
    "\n",
    "(b) Remove any redundant (unnecessary) usage of parenthesis. \n",
    "\n",
    "(c) Enumerate the sequence of operations ($<object><operator><object>$) in which Python will execute the corrected code. (for e.g., Step 1: \\-4**(2))\n",
    "\n",
    "(d) What is the type (int/float/str) of the result from executing the above Python expression?\n"
   ]
  },
  {
   "cell_type": "code",
   "execution_count": null,
   "metadata": {
    "tags": []
   },
   "outputs": [],
   "source": [
    "correct_expression = ...\n",
    "step1 = ...\n",
    "step2 = ...\n",
    "step3 = ...\n",
    "step4 = ...\n",
    "result_type = ...\n",
    "print(correct_expression)\n",
    "print(step1)\n",
    "print(step2)\n",
    "print(step3)\n",
    "print(step4)\n",
    "print(result_type)"
   ]
  },
  {
   "cell_type": "code",
   "execution_count": null,
   "metadata": {
    "deletable": false,
    "editable": false
   },
   "outputs": [],
   "source": [
    "grader.check(\"q4\")"
   ]
  },
  {
   "cell_type": "raw",
   "metadata": {},
   "source": []
  },
  {
   "cell_type": "raw",
   "metadata": {},
   "source": []
  },
  {
   "cell_type": "markdown",
   "metadata": {
    "deletable": false,
    "editable": false
   },
   "source": [
    "## Submission\n",
    "\n",
    "Make sure you have run all cells in your notebook in order before running the cell below, so that all images/graphs appear in the output. The cell below will generate a zip file for you to submit. **Please save before exporting!**\n",
    "\n",
    "These are some submission instructions."
   ]
  },
  {
   "cell_type": "code",
   "execution_count": null,
   "metadata": {
    "deletable": false,
    "editable": false
   },
   "outputs": [],
   "source": [
    "# Save your notebook first, then run this cell to export your submission.\n",
    "grader.export(run_tests=True)"
   ]
  },
  {
   "cell_type": "markdown",
   "metadata": {},
   "source": [
    " "
   ]
  }
 ],
 "metadata": {
  "IMAGE_NAME": "taccsciapps/ds-nb-img:base-0.1.0",
  "UUID": "02e521ee-2256-11ed-a07a-be38b2f2fee3",
  "kernelspec": {
   "display_name": "Python 3 (ipykernel)",
   "language": "python",
   "name": "python3"
  },
  "language_info": {
   "codemirror_mode": {
    "name": "ipython",
    "version": 3
   },
   "file_extension": ".py",
   "mimetype": "text/x-python",
   "name": "python",
   "nbconvert_exporter": "python",
   "pygments_lexer": "ipython3",
   "version": "3.9.16"
  },
  "otter": {
   "OK_FORMAT": true,
   "tests": {
    "q1": {
     "name": "q1",
     "points": null,
     "suites": [
      {
       "cases": [
        {
         "code": ">>> round(side_area-1.413716694115407,5)==0\nTrue",
         "hidden": false,
         "locked": false
        },
        {
         "code": ">>> round(end_area - 0.2827433388230814,5)==0\nTrue",
         "hidden": false,
         "locked": false
        },
        {
         "code": ">>> round(total_area - 1.9792033717615696,5)==0\nTrue",
         "hidden": false,
         "locked": false
        },
        {
         "code": ">>> round(volume - 0.21205750411731106,5)==0\nTrue",
         "hidden": false,
         "locked": false
        }
       ],
       "scored": true,
       "setup": "",
       "teardown": "",
       "type": "doctest"
      }
     ]
    },
    "q2": {
     "name": "q2",
     "points": null,
     "suites": [
      {
       "cases": [
        {
         "code": ">>> round(deflection0-0.1535686728395062,5)==0\nTrue",
         "hidden": false,
         "locked": false
        },
        {
         "code": ">>> round(ratio0-0.1592,2)==0\nTrue",
         "hidden": false,
         "locked": false
        },
        {
         "code": ">>> round(deflection1-0.3744996624228396,5)==0\nTrue",
         "hidden": false,
         "locked": false
        },
        {
         "code": ">>> round(ratio1-0.3883,2)==0\nTrue",
         "hidden": false,
         "locked": false
        },
        {
         "code": ">>> round(deflection2-0.6872106481481483,5)==0\nTrue",
         "hidden": false,
         "locked": false
        },
        {
         "code": ">>> round(ratio2-0.7125,2)==0\nTrue",
         "hidden": false,
         "locked": false
        },
        {
         "code": ">>> round(deflection3-0.9645061728395063,5)==0\nTrue",
         "hidden": false,
         "locked": false
        },
        {
         "code": ">>> round(ratio3-1.00,2)==0\nTrue",
         "hidden": false,
         "locked": false
        },
        {
         "code": ">>> round(deflection4-0.44369212962963,5)==0\nTrue",
         "hidden": false,
         "locked": false
        },
        {
         "code": ">>> round(ratio4-0.46,2)==0\nTrue",
         "hidden": false,
         "locked": false
        }
       ],
       "scored": true,
       "setup": "",
       "teardown": "",
       "type": "doctest"
      }
     ]
    },
    "q3": {
     "name": "q3",
     "points": null,
     "suites": [
      {
       "cases": [
        {
         "code": ">>> num_HD==133333\nTrue",
         "hidden": false,
         "locked": false
        },
        {
         "code": ">>> size_4k==799998\nTrue",
         "hidden": false,
         "locked": false
        }
       ],
       "scored": true,
       "setup": "",
       "teardown": "",
       "type": "doctest"
      }
     ]
    },
    "q4": {
     "name": "q4",
     "points": null,
     "suites": [
      {
       "cases": [
        {
         "code": ">>> correct_expression == 42\nTrue",
         "hidden": false,
         "locked": false
        },
        {
         "code": ">>> step1 == 16\nTrue",
         "hidden": false,
         "locked": false
        },
        {
         "code": ">>> step2 == 8\nTrue",
         "hidden": false,
         "locked": false
        },
        {
         "code": ">>> step3 == 26\nTrue",
         "hidden": false,
         "locked": false
        },
        {
         "code": ">>> step4 == 42\nTrue",
         "hidden": false,
         "locked": false
        },
        {
         "code": ">>> result_type is float\nTrue",
         "hidden": false,
         "locked": false
        }
       ],
       "scored": true,
       "setup": "",
       "teardown": "",
       "type": "doctest"
      }
     ]
    }
   }
  },
  "varInspector": {
   "cols": {
    "lenName": 16,
    "lenType": 16,
    "lenVar": 40
   },
   "kernels_config": {
    "python": {
     "delete_cmd_postfix": "",
     "delete_cmd_prefix": "del ",
     "library": "var_list.py",
     "varRefreshCmd": "print(var_dic_list())"
    },
    "r": {
     "delete_cmd_postfix": ") ",
     "delete_cmd_prefix": "rm(",
     "library": "var_list.r",
     "varRefreshCmd": "cat(var_dic_list()) "
    }
   },
   "types_to_exclude": [
    "module",
    "function",
    "builtin_function_or_method",
    "instance",
    "_Feature"
   ],
   "window_display": false
  }
 },
 "nbformat": 4,
 "nbformat_minor": 4
}
