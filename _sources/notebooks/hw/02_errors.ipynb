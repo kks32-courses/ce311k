{
 "cells": [
  {
   "cell_type": "code",
   "execution_count": null,
   "metadata": {
    "deletable": false,
    "editable": false
   },
   "outputs": [],
   "source": [
    "# Initialize Otter\n",
    "import otter\n",
    "grader = otter.Notebook(\"02_errors.ipynb\")"
   ]
  },
  {
   "cell_type": "markdown",
   "metadata": {},
   "source": [
    "<center><h2> Assignment 02: Errors </h2></center>\n",
    "\n",
    "Note: Please upload your solution as an ipynb file to the Gradescope page.\n",
    "\n",
    "<justify> The purpose of this assignment is to develop your skills in computing absolute and relative errors. Use 64 bit floating point representation unless otherwise specified (this is the default in Python).</justify>"
   ]
  },
  {
   "cell_type": "markdown",
   "metadata": {
    "deletable": false,
    "editable": false
   },
   "source": [
    "**Question 1:** <br>\n",
    "if $\\vert x \\vert < 1$ it is known that:\n",
    "\n",
    "<center>$\\frac{1}{1 - x} = 1 + x + x^2 + x^3 + \\dots$<br></center>\n",
    "For this series, compute for $x = -0.1$ the absolute and relative errors for 3, 5 and 7 terms in the series."
   ]
  },
  {
   "cell_type": "code",
   "execution_count": null,
   "metadata": {
    "tags": []
   },
   "outputs": [],
   "source": [
    "q1_abs_err = [] #store the answers in order of absolute errors for 3, 5, and 7 terms\n",
    "q1_rel_err = [] #store the answers in order of relative errors for 3, 5, and 7 terms\n",
    "terms = [3, 5, 7]\n",
    "for i in range(3):\n",
    "    print(f'abs error for {terms[i]} terms: {q1_abs_err[i]}')\n",
    "    print(f'rel error for {terms[i]} terms: {q1_rel_err[i]}')"
   ]
  },
  {
   "cell_type": "code",
   "execution_count": null,
   "metadata": {
    "deletable": false,
    "editable": false
   },
   "outputs": [],
   "source": [
    "grader.check(\"q1\")"
   ]
  },
  {
   "cell_type": "markdown",
   "metadata": {
    "deletable": false,
    "editable": false
   },
   "source": [
    "**Question 2:** <br>\n",
    "Evaluate $e^{-5}$ using two approaches:\n",
    "\t\t\\begin{align*}\n",
    "\t\t\te^{-x} &  = 1 - x + \\frac{x^2}{2!} - \\frac{x^3}{3!} + \\dots \\\\\n",
    "\t\t\t\\mathrm{and}\\\\\n",
    "\t\t\te^{-x} = \\frac{1}{e^x} & = \\frac{1}{1 + x + \\frac{x^2}{2!} + \\frac{x^3}{3!} + \\dots} \n",
    "\t\t\\end{align*}\n",
    "\t\tcompare with the true value of $6.737947 \\times 10^{-3}$ for $x = 5$. Use 20 terms to evaluate each series and compute the absolute and relative errors.\n",
    "\t\t"
   ]
  },
  {
   "cell_type": "code",
   "execution_count": null,
   "metadata": {
    "tags": []
   },
   "outputs": [],
   "source": [
    "# store answers in the lists\n",
    "q2_abs_err = [] \n",
    "q2_rel_err = [] \n",
    "# print approach 1 errors\n",
    "print(f'abs_err for approach 1: {q2_abs_err[0]}')\n",
    "print(f'rel_err for approach 1: {q2_rel_err[0]}')\n",
    "# print approach 2 errors\n",
    "print(f'abs_err for approach 2: {q2_abs_err[1]}')\n",
    "print(f'rel_err for approach 2: {q2_rel_err[1]}')"
   ]
  },
  {
   "cell_type": "code",
   "execution_count": null,
   "metadata": {
    "deletable": false,
    "editable": false
   },
   "outputs": [],
   "source": [
    "grader.check(\"q2\")"
   ]
  },
  {
   "cell_type": "markdown",
   "metadata": {
    "deletable": false,
    "editable": false
   },
   "source": [
    "**Question 3:** <br>\n",
    "The function $\\cos(x)$ can be approximated using the Taylor series expansion as follows:\n",
    "\n",
    "\\begin{align*}\n",
    "        \\cos(x) = 1 - \\frac{x^2}{2!} + \\frac{x^4}{4!} - \\frac{x^6}{6!}+ \\dots = \\sum_{n = 0}^{\\infty}\\frac{(-1)^n}{(2n)!}x^{2n}\n",
    "\\end{align*}\n",
    "\n",
    "(a) Calculate the absolute and relative error associated with the Taylor series expansion of $\\cos(\\pi/4)$ using:<br>\n",
    "- i. one term in the expansion,<br>\n",
    "- ii. two terms in the expansion, and<br>\n",
    "- iii. three terms in the expansion.<br>\n",
    "\n",
    "(b) Compute the number of terms required to have a solution that is accurate for 10 significant figures."
   ]
  },
  {
   "cell_type": "code",
   "execution_count": null,
   "metadata": {
    "tags": []
   },
   "outputs": [],
   "source": [
    "# store answers in the lists\n",
    "q3_abs_err = []\n",
    "q3_rel_err = []\n",
    "# number of terms for 10 significant figures\n",
    "num_terms = ...\n",
    "\n",
    "for i in range(3):\n",
    "    print(f'abs error for {i+1} term: {q3_abs_err[i]}')\n",
    "    print(f'rel error for {i+1} term: {q3_rel_err[i]}')\n",
    "print(f'It requires {num_terms} terms to have a solution that is accurate for 10 significant figures')"
   ]
  },
  {
   "cell_type": "code",
   "execution_count": null,
   "metadata": {
    "deletable": false,
    "editable": false
   },
   "outputs": [],
   "source": [
    "grader.check(\"q3\")"
   ]
  },
  {
   "cell_type": "markdown",
   "metadata": {
    "deletable": false,
    "editable": false
   },
   "source": [
    "**Question 4:** <br>\n",
    "The infinite series\n",
    "\t\\begin{equation*}\n",
    "\t\tf(n) = \\sum_{i = 1}^{n} \\frac{1}{i^4}\n",
    "\t\\end{equation*}\n",
    "converges on a value of $f(n) = \\pi^4/90$ as $n$ approaches infinity.\n",
    "\tWrite a program in single precision to calculate $f(n)$ for $n = 10,000$\n",
    "\tby computing the sum from $i = 1$ to $10,000$. Using 16, 32 and 64 bit floating point representations, compute the absolute errors. \n",
    "\t\n",
    "*Hint*: use *np.float16(x)* to represent a variable **x** as a 16-bit floating point number. Use the same representation for both the variable used for the summation and inside the iteration loop.\n",
    "\t"
   ]
  },
  {
   "cell_type": "code",
   "execution_count": null,
   "metadata": {
    "tags": []
   },
   "outputs": [],
   "source": [
    "q4_abs_err = [] # store answers in order of the following results\n",
    "\n",
    "#use np.float16() inside iteration\n",
    "sums = np.float16(0)\n",
    "for ...:\n",
    "    sums += np.float16(...)\n",
    "q4_abs_err.append(...)\n",
    "\n",
    "#use np.float32() inside iteration \n",
    "sums = np.float32(0)\n",
    "\n",
    "#use np.float64() inside iteration\n",
    "sums = np.float64(0)\n",
    "\n",
    "#use np.float16() for the final summation\n",
    "sums = 0\n",
    "\n",
    "#use np.float32() for the final summation\n",
    "sums = 0\n",
    "\n",
    "#use np.float64() for the final summation\n",
    "sums = 0\n"
   ]
  },
  {
   "cell_type": "code",
   "execution_count": null,
   "metadata": {
    "deletable": false,
    "editable": false
   },
   "outputs": [],
   "source": [
    "grader.check(\"q4\")"
   ]
  },
  {
   "cell_type": "markdown",
   "metadata": {
    "deletable": false,
    "editable": false
   },
   "source": [
    "**Question 5:** <br>\n",
    "Let $x^* = x \\pm \\varepsilon_x$ and $y^* =  y \\pm \\varepsilon_y$ are the absolute errors associated with the variables. Compute the absolute error accumulation for the subtraction operation $x^* - y^*$. (Refer to error accumulation section in the handout)."
   ]
  },
  {
   "cell_type": "code",
   "execution_count": null,
   "metadata": {
    "tags": []
   },
   "outputs": [],
   "source": [
    "x = 9.99\n",
    "y = 9.98\n",
    "ϵx = 0.005\n",
    "ϵy = 0.005\n",
    "# absolute error accumulation for the subtraction operation\n",
    "ϵ = ..."
   ]
  },
  {
   "cell_type": "code",
   "execution_count": null,
   "metadata": {
    "deletable": false,
    "editable": false
   },
   "outputs": [],
   "source": [
    "grader.check(\"q5\")"
   ]
  },
  {
   "cell_type": "markdown",
   "metadata": {
    "deletable": false,
    "editable": false
   },
   "source": [
    "**Question 6:** <br>\n",
    "Let $x^* = x (1 \\pm \\eta_x)$ and $y^* =  y  (1 \\pm \\eta_y)$ are the relative errors associated with the variables. What is the relative error of multiplication ($x^*y^*$). Assume $\\eta_x\\eta_y$ is negligible as $\\eta_x$ and $\\eta_y$ are small enough.\n"
   ]
  },
  {
   "cell_type": "code",
   "execution_count": null,
   "metadata": {
    "tags": []
   },
   "outputs": [],
   "source": [
    "ηx = ...\n",
    "ηy = ...\n",
    "# the relative error of multiplication\n",
    "η = ..."
   ]
  },
  {
   "cell_type": "code",
   "execution_count": null,
   "metadata": {
    "deletable": false,
    "editable": false
   },
   "outputs": [],
   "source": [
    "grader.check(\"q6\")"
   ]
  },
  {
   "cell_type": "markdown",
   "metadata": {
    "deletable": false,
    "editable": false
   },
   "source": [
    "**Question 7:** <br>\n",
    "The \"divide and average\" method is an old-time method for approximating the square root of any positive number $x$, and can be formulated as\n",
    "\t\\begin{equation*}\n",
    "\t\tg = \\frac{g + x / g}{2}\n",
    "\t\\end{equation*}\n",
    "\tWrite a well-structured function to implement this algorithm that computes the square root of a positive number up to 5 significant figures. Use ***math.sqrt(x)*** to get the exact value.\n",
    "\n",
    "*Hint*: Square root of a number $x$ is $y$ such that $y*y = x$.\n",
    "\tThe recipe for deducing the square root of a number $x$:\n",
    "    <br>(a) Start with a guess, $g$. What could be a good initial guess?\n",
    "    <br>(b) If $g$ is *close enough* to $\\sqrt{x}$, stop and say $g$ is the answer. This is where the 5 signficant figures condition should be applied. \n",
    "    <br>(c) Otherwise make a *new guess* by averaging $g$ and $x/g$ as: $\tg = \\frac{g + x / g}{2}$\n",
    "    <br>(d) Using a new guess, *repeat* the process until *close enough*. \n",
    "\n",
    "Check if your solution works for $x = 16$ and $x = \\sqrt{2}$. Compute the relative error in both cases.\n",
    "\n",
    "Example calculation:<br>\n",
    "\n",
    "|$g$|$g*g$|$x/g$|$\\frac{g + x/g}{2}$|\n",
    "|:-|:-|:-|:-|\n",
    "|3|9|16/3|4.167|\n",
    "|4.167|14.36|3.837|4.0035|\n",
    "|4.0035|16.0277|3.997|4.000002|"
   ]
  },
  {
   "cell_type": "code",
   "execution_count": null,
   "metadata": {
    "tags": []
   },
   "outputs": [],
   "source": [
    "q7_rel_err = [] # store the relative errors for x=16 and x=2**0.5\n",
    "# x = 16\n",
    "# x = math.sqrt(2)"
   ]
  },
  {
   "cell_type": "code",
   "execution_count": null,
   "metadata": {
    "deletable": false,
    "editable": false
   },
   "outputs": [],
   "source": [
    "grader.check(\"q7\")"
   ]
  },
  {
   "cell_type": "markdown",
   "metadata": {
    "deletable": false,
    "editable": false
   },
   "source": [
    "## Submission\n",
    "\n",
    "Make sure you have run all cells in your notebook in order before running the cell below, so that all images/graphs appear in the output. The cell below will generate a zip file for you to submit. **Please save before exporting!**\n",
    "\n",
    "These are some submission instructions."
   ]
  },
  {
   "cell_type": "code",
   "execution_count": null,
   "metadata": {
    "deletable": false,
    "editable": false
   },
   "outputs": [],
   "source": [
    "# Save your notebook first, then run this cell to export your submission.\n",
    "grader.export(run_tests=True)"
   ]
  },
  {
   "cell_type": "markdown",
   "metadata": {},
   "source": [
    " "
   ]
  }
 ],
 "metadata": {
  "IMAGE_NAME": "taccsciapps/ds-nb-img:base-0.1.0",
  "UUID": "d3712b52-1fed-11ed-8eb1-126c2491d9f9",
  "kernelspec": {
   "display_name": "Python 3.8.12 ('xai')",
   "language": "python",
   "name": "python3"
  },
  "language_info": {
   "codemirror_mode": {
    "name": "ipython",
    "version": 3
   },
   "file_extension": ".py",
   "mimetype": "text/x-python",
   "name": "python",
   "nbconvert_exporter": "python",
   "pygments_lexer": "ipython3",
   "version": "3.9.16"
  },
  "otter": {
   "OK_FORMAT": true,
   "tests": {
    "q1": {
     "name": "q1",
     "points": null,
     "suites": [
      {
       "cases": [
        {
         "code": ">>> assert round(q1_abs_err[0] - 0.0009090909090909705, 9) == 0\n",
         "hidden": false,
         "locked": false
        },
        {
         "code": ">>> assert round(q1_rel_err[0] - 0.0010000000000000675, 9) == 0\n",
         "hidden": false,
         "locked": false
        },
        {
         "code": ">>> assert round(q1_abs_err[1] - 9.090909090958554e-06, 9) == 0\n",
         "hidden": false,
         "locked": false
        },
        {
         "code": ">>> assert round(q1_rel_err[1] - 1.000000000005441e-05, 9) == 0\n",
         "hidden": false,
         "locked": false
        },
        {
         "code": ">>> assert round(q1_abs_err[2] - 9.09090910328203e-08, 10) == 0\n",
         "hidden": false,
         "locked": false
        },
        {
         "code": ">>> assert round(q1_rel_err[2] - 1.0000000013610233e-07, 9) == 0\n",
         "hidden": false,
         "locked": false
        }
       ],
       "scored": true,
       "setup": "",
       "teardown": "",
       "type": "doctest"
      }
     ]
    },
    "q2": {
     "name": "q2",
     "points": null,
     "suites": [
      {
       "cases": [
        {
         "code": ">>> assert round(q2_abs_err[0] - 3.160594578443046e-05, 9) == 0\n",
         "hidden": false,
         "locked": false
        },
        {
         "code": ">>> assert round(q2_rel_err[0] - 0.00469073825965542, 9) == 0\n",
         "hidden": false,
         "locked": false
        },
        {
         "code": ">>> assert round(q2_abs_err[1] - 2.3251170901822382e-09, 11) == 0\n",
         "hidden": false,
         "locked": false
        },
        {
         "code": ">>> assert round(q2_rel_err[1] - 3.4507797259049946e-07, 9) == 0\n",
         "hidden": false,
         "locked": false
        }
       ],
       "scored": true,
       "setup": "",
       "teardown": "",
       "type": "doctest"
      }
     ]
    },
    "q3": {
     "name": "q3",
     "points": null,
     "suites": [
      {
       "cases": [
        {
         "code": ">>> assert round(q3_abs_err[0] - 0.2928932188134524, 9) == 0\n",
         "hidden": false,
         "locked": false
        },
        {
         "code": ">>> assert round(q3_rel_err[0] - 0.414213562373095, 9) == 0\n",
         "hidden": false,
         "locked": false
        },
        {
         "code": ">>> assert round(q3_abs_err[1] - 0.01553191872059001, 9) == 0\n",
         "hidden": false,
         "locked": false
        },
        {
         "code": ">>> assert round(q3_rel_err[1] - 0.021965450104334962, 9) == 0\n",
         "hidden": false,
         "locked": false
        },
        {
         "code": ">>> assert round(q3_abs_err[2] - 0.000322425523225478, 9) == 0\n",
         "hidden": false,
         "locked": false
        },
        {
         "code": ">>> assert round(q3_rel_err[2] - 0.00045597854780071235, 9) == 0\n",
         "hidden": false,
         "locked": false
        },
        {
         "code": ">>> assert num_terms == 7\n",
         "hidden": false,
         "locked": false
        }
       ],
       "scored": true,
       "setup": "",
       "teardown": "",
       "type": "doctest"
      }
     ]
    },
    "q4": {
     "name": "q4",
     "points": null,
     "suites": [
      {
       "cases": [
        {
         "code": ">>> assert round(q4_abs_err[0] - 0.000291983711137922, 9) == 0\n",
         "hidden": false,
         "locked": false
        },
        {
         "code": ">>> assert round(q4_abs_err[1] - 1.1130446340157363e-06, 9) == 0\n",
         "hidden": false,
         "locked": false
        },
        {
         "code": ">>> assert round(q4_abs_err[2] - 2.7688962234151404e-13, 15) == 0\n",
         "hidden": false,
         "locked": false
        },
        {
         "code": ">>> assert round(q4_abs_err[3] - 0.000291983711137922, 9) == 0\n",
         "hidden": false,
         "locked": false
        },
        {
         "code": ">>> assert round(q4_abs_err[4] - 4.016102805870503e-08, 10) == 0\n",
         "hidden": false,
         "locked": false
        },
        {
         "code": ">>> assert round(q4_abs_err[5] - 2.7688962234151404e-13, 15) == 0\n",
         "hidden": false,
         "locked": false
        }
       ],
       "scored": true,
       "setup": "",
       "teardown": "",
       "type": "doctest"
      }
     ]
    },
    "q5": {
     "name": "q5",
     "points": null,
     "suites": [
      {
       "cases": [
        {
         "code": ">>> assert ϵ == 0.01\n",
         "hidden": false,
         "locked": false
        }
       ],
       "scored": true,
       "setup": "",
       "teardown": "",
       "type": "doctest"
      }
     ]
    },
    "q6": {
     "name": "q6",
     "points": null,
     "suites": [
      {
       "cases": [
        {
         "code": ">>> assert round(η - 0.0010015025045085166, 9) == 0\n",
         "hidden": false,
         "locked": false
        }
       ],
       "scored": true,
       "setup": "",
       "teardown": "",
       "type": "doctest"
      }
     ]
    },
    "q7": {
     "name": "q7",
     "points": null,
     "suites": [
      {
       "cases": [
        {
         "code": ">>> assert q7_rel_err[0] < 1e-5/4\n",
         "hidden": false,
         "locked": false
        },
        {
         "code": ">>> assert q7_rel_err[0] < 1e-5/math.sqrt(math.sqrt(2))\n",
         "hidden": false,
         "locked": false
        }
       ],
       "scored": true,
       "setup": "",
       "teardown": "",
       "type": "doctest"
      }
     ]
    }
   }
  },
  "varInspector": {
   "cols": {
    "lenName": 16,
    "lenType": 16,
    "lenVar": 40
   },
   "kernels_config": {
    "python": {
     "delete_cmd_postfix": "",
     "delete_cmd_prefix": "del ",
     "library": "var_list.py",
     "varRefreshCmd": "print(var_dic_list())"
    },
    "r": {
     "delete_cmd_postfix": ") ",
     "delete_cmd_prefix": "rm(",
     "library": "var_list.r",
     "varRefreshCmd": "cat(var_dic_list()) "
    }
   },
   "types_to_exclude": [
    "module",
    "function",
    "builtin_function_or_method",
    "instance",
    "_Feature"
   ],
   "window_display": false
  },
  "vscode": {
   "interpreter": {
    "hash": "a15fe14c9164b2c84764451972c480ab7caecb14ffdaafbc4f746bd44fda90e1"
   }
  }
 },
 "nbformat": 4,
 "nbformat_minor": 4
}
