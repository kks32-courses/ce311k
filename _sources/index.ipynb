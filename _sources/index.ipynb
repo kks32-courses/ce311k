{
 "cells": [
  {
   "attachments": {},
   "cell_type": "markdown",
   "metadata": {},
   "source": [
    "# CE311K Introduction to Computer Methods"
   ]
  },
  {
   "attachments": {},
   "cell_type": "markdown",
   "metadata": {},
   "source": [
    "These notebooks are in support of the course Introduction to Computer Methods (CE311K) at the Department of Civil, Architecture and Environmental Engineering, the University of Texas at Austin.\n",
    "\n",
    "Please report any errors to  Krishna Kumar <krishnak@utexas.edu>, or register an issue on GitHub at https://github.com/kks32-courses/ce311k/issues/.\n",
    "\n",
    "\n",
    "## Introduction to simulation\n",
    "1. [Variables, assignment,and order precedence](notebooks/lectures/00_intro/variables_assignment_operator-precedence.ipynb)\n",
    "1. [Force on a sliding block](notebooks/lectures/00_intro/friction_sliding_block.ipynb)"
   ]
  }
 ],
 "metadata": {
  "kernelspec": {
   "display_name": "Python 3",
   "language": "python",
   "name": "python3"
  },
  "language_info": {
   "codemirror_mode": {
    "name": "ipython",
    "version": 3
   },
   "file_extension": ".py",
   "mimetype": "text/x-python",
   "name": "python",
   "nbconvert_exporter": "python",
   "pygments_lexer": "ipython3",
   "version": "3.7.4"
  }
 },
 "nbformat": 4,
 "nbformat_minor": 1
}
