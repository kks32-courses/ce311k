{
 "cells": [
  {
   "attachments": {},
   "cell_type": "markdown",
   "metadata": {},
   "source": [
    "# CE311K Introduction to Computer Methods"
   ]
  },
  {
   "attachments": {},
   "cell_type": "markdown",
   "metadata": {},
   "source": [
    "These notebooks are in support of the course Introduction to Computer Methods (CE311K) at the Department of Civil, Architecture and Environmental Engineering, the University of Texas at Austin.\n",
    "\n",
    "Please report any errors to  Krishna Kumar <krishnak@utexas.edu>, or register an issue on GitHub at https://github.com/kks32-courses/ce311k/issues/.\n",
    "\n",
    "\n",
    "[![License](https://img.shields.io/badge/license-CC--By--SA--4.0-brightgreen.svg)](https://raw.githubusercontent.com/kks32-courses/ce311k/master/LICENSE.md)\n",
    "\n",
    "## Video lectures\n",
    "[![IMAGE_ALT](https://img.youtube.com/vi/eVKPCWBlY8A/0.jpg)](https://www.youtube.com/watch?v=eVKPCWBlY8A&list=PLF6FCo2wh5eXt-r324VAXFdP2z1IJUbqs)\n",
    "\n",
    "## Course outline\n",
    "* Lecture 00: Variables and assignment operator [![Open in Colab](https://colab.research.google.com/assets/colab-badge.svg)](https://colab.research.google.com/github/kks32-courses/ce311k/blob/main/notebooks/lectures/00_intro/00-variables_assignment_operator-precedence_solution.ipynb)\n",
    "\n",
    "* Lecture 01: Control flow [![Open in Colab](https://colab.research.google.com/assets/colab-badge.svg)](https://colab.research.google.com/github/kks32-courses/ce311k/blob/main/notebooks/lectures/01_control_flow/01_control_statements_solution.ipynb)\n",
    "\n",
    "* Lecture 02: Errors [![Open in Colab](https://colab.research.google.com/assets/colab-badge.svg)](https://colab.research.google.com/github/kks32-courses/ce311k/blob/main/notebooks/lectures/02_errors/02_errors_solutions.ipynb)\n",
    "\n",
    "* Lecture 03: Functions [![Open in Colab](https://colab.research.google.com/assets/colab-badge.svg)](https://colab.research.google.com/github/kks32-courses/ce311k/blob/main/notebooks/lectures/03_functions/03_functions_solutions.ipynb)\n",
    "\n",
    "* Lecture 04: Data structures [![Open in Colab](https://colab.research.google.com/assets/colab-badge.svg)](https://colab.research.google.com/github/kks32-courses/ce311k/blob/main/notebooks/lectures/04_data_structures/04_data_structures_solution.ipynb)\n",
    "\n",
    "* Lecture 05: Numerical differentiation and Taylor series [![Open in Colab](https://colab.research.google.com/assets/colab-badge.svg)](https://colab.research.google.com/github/kks32-courses/ce311k/blob/main/notebooks/lectures/05_numerical_diff_taylor_series_newton_raphson/05_finite_difference_taylor_series_solution.ipynb)\n",
    "\n",
    "* Lecture 06: Exceptions [![Open in Colab](https://colab.research.google.com/assets/colab-badge.svg)](https://colab.research.google.com/github/kks32-courses/ce311k/blob/main/notebooks/lectures/06_exceptions/06_error_handling_testing_solution.ipynb)\n",
    "\n",
    "* Lecture 07: Vectors [![Open in Colab](https://colab.research.google.com/assets/colab-badge.svg)](https://colab.research.google.com/github/kks32-courses/ce311k/blob/main/notebooks/lectures/07_vectors/07_vectors_solution.ipynb)\n",
    "\n",
    "* Lecture 08: Matrices [![Open in Colab](https://colab.research.google.com/assets/colab-badge.svg)](https://colab.research.google.com/github/kks32-courses/ce311k/blob/main/notebooks/lectures/08_matrices/08_matrices_solution.ipynb)\n",
    "\n",
    "* Lecture 09: Linear Algebra [![Open in Colab](https://colab.research.google.com/assets/colab-badge.svg)](https://colab.research.google.com/github/kks32-courses/ce311k/blob/main/notebooks/lectures/09_linear_algebra/09_linear_algebra_solution.ipynb)\n",
    "\n",
    "* Lecture 10: Useful libraries [![Open in Colab](https://colab.research.google.com/assets/colab-badge.svg)](https://colab.research.google.com/github/kks32-courses/ce311k/blob/main/notebooks/lectures/10_useful_libs/10_useful_libs_solution.ipynb)\n",
    "\n",
    "## Homework \n",
    "\n",
    "[Homework notebooks](https://github.com/kks32-courses/ce311k/tree/main/notebooks/hw)\n",
    "\n",
    "## Lab\n",
    "\n",
    "[Lab notebooks](https://github.com/kks32-courses/ce311k/tree/main/notebooks/lab)"
   ]
  }
 ],
 "metadata": {
  "kernelspec": {
   "display_name": "Python 3",
   "language": "python",
   "name": "python3"
  },
  "language_info": {
   "codemirror_mode": {
    "name": "ipython",
    "version": 3
   },
   "file_extension": ".py",
   "mimetype": "text/x-python",
   "name": "python",
   "nbconvert_exporter": "python",
   "pygments_lexer": "ipython3",
   "version": "3.7.4"
  }
 },
 "nbformat": 4,
 "nbformat_minor": 1
}
